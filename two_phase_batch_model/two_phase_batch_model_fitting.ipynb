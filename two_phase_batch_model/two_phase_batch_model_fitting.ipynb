{
 "cells": [
  {
   "cell_type": "markdown",
   "metadata": {},
   "source": [
    "---\n",
    "\n",
    "# Virtual Engineering\n",
    "\n",
    "The first step is to select \"Cell\" > \"Run All\" from the toolbar.  This will launch all the widgets and allow you to interact with the two phase batch model options via the graphical user interface (GUI).\n"
   ]
  },
  {
   "cell_type": "markdown",
   "metadata": {},
   "source": [
    "---\n",
    "\n",
    "## Set Model Options\n",
    "\n",
    "Create your two phase batch model by specifying the options below.\n"
   ]
  },
  {
   "cell_type": "code",
   "execution_count": 22,
   "metadata": {
    "scrolled": true
   },
   "outputs": [
    {
     "data": {
      "application/vnd.jupyter.widget-view+json": {
       "model_id": "4f14a892e8da4902a39a80f050618b65",
       "version_major": 2,
       "version_minor": 0
      },
      "text/plain": [
       "HBox(children=(FloatText(value=0.03, description='lambda_e', description_tooltip='Ratio of the enzyme mass to …"
      ]
     },
     "metadata": {},
     "output_type": "display_data"
    },
    {
     "data": {
      "application/vnd.jupyter.widget-view+json": {
       "model_id": "5405c1235127435bb1f19ef826c090b3",
       "version_major": 2,
       "version_minor": 0
      },
      "text/plain": [
       "HBox(children=(FloatText(value=0.05, description='fis_0', description_tooltip='The initial fraction of insolub…"
      ]
     },
     "metadata": {},
     "output_type": "display_data"
    },
    {
     "data": {
      "application/vnd.jupyter.widget-view+json": {
       "model_id": "3e474d2784294affbd6cfc1e18b49422",
       "version_major": 2,
       "version_minor": 0
      },
      "text/plain": [
       "HBox(children=(FloatText(value=100.0, description='t_final', description_tooltip='The total time of the simula…"
      ]
     },
     "metadata": {},
     "output_type": "display_data"
    }
   ],
   "source": [
    "%reset -f\n",
    "from ipywidgets import *\n",
    "from IPython.display import HTML, clear_output\n",
    "import yaml\n",
    "\n",
    "#================================================================\n",
    "\n",
    "def display_all_widgets(widget_collection):\n",
    "    # Define display options\n",
    "    style = {'description_width': '100px'}\n",
    "\n",
    "    layout = {'width': '300px'}\n",
    "\n",
    "    info_layout = {'margin': '0px 0px 0px 10px', 'width':'400px', 'display': 'flex'}\n",
    "\n",
    "    box_layout = {'padding': '10px'}\n",
    "    \n",
    "    \n",
    "    # For every widget\n",
    "    for item in widget_collection.__dict__.items():\n",
    "        # Extract the first object\n",
    "        w = item[1]\n",
    "\n",
    "        # Get this widget's style and layout\n",
    "        w.style = style\n",
    "        w.layout = layout\n",
    "\n",
    "        # Organize this widget with the correct layout\n",
    "        w.box = HBox([w, Label('%s' % (w.description_tooltip), layout = info_layout)], layout = box_layout)\n",
    "\n",
    "        display(w.box)\n",
    "\n",
    "#================================================================\n",
    "\n",
    "class blank_object:\n",
    "    pass\n",
    "\n",
    "#================================================================\n",
    "\n",
    "model_options = blank_object()\n",
    "\n",
    "model_options.lambda_e = widgets.FloatText(\n",
    "    value = 0.03,\n",
    "    description = 'lambda_e',\n",
    "    description_tooltip = 'Ratio of the enzyme mass to the total bio mass (kg/kg)'\n",
    ")\n",
    "\n",
    "model_options.fis_0 = widgets.FloatText(\n",
    "    value = 0.05,\n",
    "    description = 'fis_0',\n",
    "    description_tooltip = 'The initial fraction of insoluble solids (kg/kg)'\n",
    ")\n",
    "\n",
    "model_options.t_final = widgets.FloatText(\n",
    "    value = 100.0,\n",
    "    description = 't_final',\n",
    "    description_tooltip = 'The total time of the simulation (h)'\n",
    ")\n",
    "\n",
    "#================================================================\n",
    "\n",
    "display_all_widgets(model_options)\n"
   ]
  },
  {
   "cell_type": "markdown",
   "metadata": {},
   "source": [
    "---\n",
    "\n",
    "## Run Model\n",
    "\n",
    "When finished setting options, press the button below to run the two phase batch model fitting script.\n"
   ]
  },
  {
   "cell_type": "code",
   "execution_count": 23,
   "metadata": {
    "scrolled": false
   },
   "outputs": [
    {
     "data": {
      "application/vnd.jupyter.widget-view+json": {
       "model_id": "8352620063ff4ee3a3813fed48a848d6",
       "version_major": 2,
       "version_minor": 0
      },
      "text/plain": [
       "Button(description='Run Simulation.', style=ButtonStyle(), tooltip='Execute the two phase batch model with the…"
      ]
     },
     "metadata": {},
     "output_type": "display_data"
    },
    {
     "data": {
      "application/vnd.jupyter.widget-view+json": {
       "model_id": "806fc7834b13487c9850fa037a8f76b3",
       "version_major": 2,
       "version_minor": 0
      },
      "text/plain": [
       "Output()"
      ]
     },
     "metadata": {},
     "output_type": "display_data"
    }
   ],
   "source": [
    "run_button = widgets.Button(\n",
    "    description = 'Run Simulation.',\n",
    "    tooltip = 'Execute the two phase batch model with the properties specified above.'\n",
    ")\n",
    "\n",
    "#================================================================\n",
    "\n",
    "run_button_output = widgets.Output()\n",
    "\n",
    "display(run_button, run_button_output)\n",
    "\n",
    "#================================================================\n",
    "\n",
    "def export_widgets_to_yaml(widget_collection, yaml_filename):\n",
    "    \n",
    "        #Start with a blank dictionary\n",
    "        widget_dict = {}\n",
    "\n",
    "        for item in widget_collection.__dict__.items():\n",
    "            # Get the name and current state of each widget\n",
    "            widgetName = item[0]\n",
    "            widgetValue = item[1].value\n",
    "            \n",
    "            # Create a dictionary with name : value pairs\n",
    "            widget_dict['%s' % (widgetName)] = widgetValue\n",
    "            \n",
    "        # Dump the new dictionary into a yaml file\n",
    "        with open(yaml_filename, 'w') as fp:\n",
    "            yaml.dump(widget_dict, fp)\n",
    "            \n",
    "#================================================================\n",
    "\n",
    "# Define a function to be executed each time the run button is pressed\n",
    "def run_button_action(b):\n",
    "    with run_button_output:\n",
    "        clear_output()\n",
    "        \n",
    "        print('| Starting simulation...')\n",
    "        \n",
    "        print('|-- Saving widget states into yaml file')\n",
    "        yaml_filename = 'model_options.yaml'\n",
    "        export_widgets_to_yaml(model_options, yaml_filename)\n",
    "\n",
    "        print('|-- Running main script')\n",
    "        %run two_phase_batch_model_fitting.py $yaml_filename\n",
    "        \n",
    "        print('| Finished\\n')\n",
    "        \n",
    "run_button.on_click(run_button_action)\n"
   ]
  },
  {
   "cell_type": "markdown",
   "metadata": {},
   "source": [
    "---"
   ]
  },
  {
   "cell_type": "code",
   "execution_count": 24,
   "metadata": {
    "scrolled": true
   },
   "outputs": [
    {
     "data": {
      "text/html": [
       "<script>\n",
       "code_show=true; \n",
       "function code_toggle() {\n",
       " if (code_show){\n",
       " $('div.input').hide();\n",
       " } else {\n",
       " $('div.input').show();\n",
       " }\n",
       " code_show = !code_show\n",
       "} \n",
       "$( document ).ready(code_toggle);\n",
       "</script>\n",
       "<form action=\"javascript:code_toggle()\"><input type=\"submit\" value=\"Toggle notebook code visibility (hidden by default).\"></form>"
      ],
      "text/plain": [
       "<IPython.core.display.HTML object>"
      ]
     },
     "metadata": {},
     "output_type": "display_data"
    }
   ],
   "source": [
    "a = HTML('''<script>\n",
    "code_show=true; \n",
    "function code_toggle() {\n",
    " if (code_show){\n",
    " $('div.input').hide();\n",
    " } else {\n",
    " $('div.input').show();\n",
    " }\n",
    " code_show = !code_show\n",
    "} \n",
    "$( document ).ready(code_toggle);\n",
    "</script>\n",
    "<form action=\"javascript:code_toggle()\"><input type=\"submit\" \\\n",
    "value=\"Toggle notebook code visibility (hidden by default).\"></form>''')\n",
    "\n",
    "display(a)"
   ]
  }
 ],
 "metadata": {
  "kernelspec": {
   "display_name": "Python 3",
   "language": "python",
   "name": "python3"
  },
  "language_info": {
   "codemirror_mode": {
    "name": "ipython",
    "version": 3
   },
   "file_extension": ".py",
   "mimetype": "text/x-python",
   "name": "python",
   "nbconvert_exporter": "python",
   "pygments_lexer": "ipython3",
   "version": "3.7.5"
  }
 },
 "nbformat": 4,
 "nbformat_minor": 2
}
