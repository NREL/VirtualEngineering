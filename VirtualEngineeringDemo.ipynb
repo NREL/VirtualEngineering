{
 "cells": [
  {
   "cell_type": "markdown",
   "metadata": {},
   "source": [
    "___\n",
    "\n",
    "# Set Mesh Options\n",
    "\n",
    "Create your x-mesh by specifying the options below.  By default, endpoint values are saved and the file extension is CSV.\n"
   ]
  },
  {
   "cell_type": "code",
   "execution_count": 1,
   "metadata": {},
   "outputs": [
    {
     "data": {
      "application/vnd.jupyter.widget-view+json": {
       "model_id": "220952ddc4684a54b4889091fcc6f133",
       "version_major": 2,
       "version_minor": 0
      },
      "text/plain": [
       "HBox(children=(FloatText(value=0.0, description='x0', description_tooltip='The starting point for the x-values…"
      ]
     },
     "metadata": {},
     "output_type": "display_data"
    },
    {
     "data": {
      "application/vnd.jupyter.widget-view+json": {
       "model_id": "fb17a071c23f484985c326a623d311fd",
       "version_major": 2,
       "version_minor": 0
      },
      "text/plain": [
       "HBox(children=(FloatText(value=5.0, description='x1', description_tooltip='The ending point for the x-values (…"
      ]
     },
     "metadata": {},
     "output_type": "display_data"
    },
    {
     "data": {
      "application/vnd.jupyter.widget-view+json": {
       "model_id": "6ba957b35fb3447f898e550deccd2135",
       "version_major": 2,
       "version_minor": 0
      },
      "text/plain": [
       "HBox(children=(BoundedIntText(value=12, description='nx', description_tooltip='The number of values in the x d…"
      ]
     },
     "metadata": {},
     "output_type": "display_data"
    },
    {
     "data": {
      "application/vnd.jupyter.widget-view+json": {
       "model_id": "79ed4c260011477b833df952883f89db",
       "version_major": 2,
       "version_minor": 0
      },
      "text/plain": [
       "HBox(children=(Checkbox(value=True, description='Include Endpoints?', description_tooltip='If disabled, x0 and…"
      ]
     },
     "metadata": {},
     "output_type": "display_data"
    },
    {
     "data": {
      "application/vnd.jupyter.widget-view+json": {
       "model_id": "3c96a48690ee4bebbc136bfe02b0f5cd",
       "version_major": 2,
       "version_minor": 0
      },
      "text/plain": [
       "HBox(children=(RadioButtons(description='Filetype', description_tooltip='The filetype used to save the x-mesh'…"
      ]
     },
     "metadata": {},
     "output_type": "display_data"
    }
   ],
   "source": [
    "%reset -f\n",
    "from ipywidgets import *\n",
    "from IPython.display import HTML, clear_output\n",
    "import yaml\n",
    "\n",
    "#================================================================\n",
    "\n",
    "class blank_object:\n",
    "    pass\n",
    "\n",
    "#================================================================\n",
    "\n",
    "style = {'description_width': '100px'}\n",
    "\n",
    "layout = {'width': '300px'}\n",
    "\n",
    "info_layout = {'margin': '0px 0px 0px 10px', 'width':'400px', 'display': 'flex'}\n",
    "\n",
    "box_layout = {'padding': '10px'}\n",
    "\n",
    "#================================================================\n",
    "\n",
    "mesh_options = blank_object()\n",
    "\n",
    "mesh_options.x0 = widgets.FloatText(\n",
    "    value = 0.0,\n",
    "    description = 'x0',\n",
    "    description_tooltip = 'The starting point for the x-values (float)'\n",
    ")\n",
    "\n",
    "mesh_options.x1 = widgets.FloatText(\n",
    "    value = 5.0,\n",
    "    description = 'x1',\n",
    "    description_tooltip = 'The ending point for the x-values (float)'\n",
    ")\n",
    "\n",
    "mesh_options.nx = widgets.BoundedIntText(\n",
    "    value = 12,\n",
    "    min = 2,\n",
    "    max = 100,\n",
    "    step = 1,\n",
    "    description = 'nx',\n",
    "    description_tooltip = 'The number of values in the x direction (int [2, 100])'\n",
    ")\n",
    "\n",
    "\n",
    "mesh_options.include_endpoints = widgets.Checkbox(\n",
    "    value = True,\n",
    "    description = 'Include Endpoints?',\n",
    "    description_tooltip = 'If disabled, x0 and x1 will NOT be included in mesh'\n",
    ")\n",
    "\n",
    "mesh_options.include_endpoints = widgets.Checkbox(\n",
    "    value = True,\n",
    "    description = 'Include Endpoints?',\n",
    "    description_tooltip = 'If disabled, x0 and x1 will NOT be included in mesh'\n",
    ")\n",
    "\n",
    "mesh_options.filetype = widgets.RadioButtons(\n",
    "    options = ['.csv', '.txt'],\n",
    "    value = '.csv',\n",
    "    description = 'Filetype',\n",
    "    description_tooltip = 'The filetype used to save the x-mesh'\n",
    ")\n",
    "#================================================================\n",
    "\n",
    "for item in mesh_options.__dict__.items():\n",
    "    w = item[1]\n",
    "        \n",
    "    w.style = style\n",
    "    w.layout = layout\n",
    "        \n",
    "    w.box = HBox([w, Label('%s' % (w.description_tooltip), layout = info_layout)], layout = box_layout)\n",
    "    \n",
    "    display(w.box)\n"
   ]
  },
  {
   "cell_type": "markdown",
   "metadata": {},
   "source": [
    "___\n",
    "\n",
    "# Generate Mesh\n",
    "\n",
    "When finished setting options, press the button below to save your mesh.\n"
   ]
  },
  {
   "cell_type": "code",
   "execution_count": 2,
   "metadata": {
    "scrolled": false
   },
   "outputs": [
    {
     "data": {
      "application/vnd.jupyter.widget-view+json": {
       "model_id": "e564b6e355074c5e9617b2794deba6f8",
       "version_major": 2,
       "version_minor": 0
      },
      "text/plain": [
       "Button(description='Generate Mesh.', style=ButtonStyle(), tooltip='Generate a mesh with the properties specifi…"
      ]
     },
     "metadata": {},
     "output_type": "display_data"
    },
    {
     "data": {
      "application/vnd.jupyter.widget-view+json": {
       "model_id": "0b142316a709473c8cdf9fc9fd55a76c",
       "version_major": 2,
       "version_minor": 0
      },
      "text/plain": [
       "Output()"
      ]
     },
     "metadata": {},
     "output_type": "display_data"
    }
   ],
   "source": [
    "run_button = widgets.Button(\n",
    "    description = 'Generate Mesh.',\n",
    "    tooltip = 'Generate a mesh with the properties specified above.'\n",
    ")\n",
    "\n",
    "#================================================================\n",
    "\n",
    "run_button_output = widgets.Output()\n",
    "\n",
    "display(run_button, run_button_output)\n",
    "\n",
    "#================================================================\n",
    "\n",
    "# Define a function to be executed each time the run button is pressed\n",
    "def run_button_action(b):\n",
    "    with run_button_output:\n",
    "        clear_output()\n",
    "        \n",
    "        print('| Generating mesh file...')\n",
    "        \n",
    "        # Reset to blank dictionary on each button press\n",
    "        mesh_dict = {}\n",
    "        \n",
    "        print('|-- Saving widget states into dictionary')\n",
    "        for item in mesh_options.__dict__.items():\n",
    "            # Get the name and value of each widget\n",
    "            widgetName = item[0]\n",
    "            widgetValue = item[1].value\n",
    "            \n",
    "            # Create a dictionary with name : value pairs\n",
    "            mesh_dict['%s' % (widgetName)] = widgetValue\n",
    "            \n",
    "        print('|-- Dumping dictionary to yaml file')\n",
    "        # Dump that dictionary into a yaml file\n",
    "        with open('mesh_options.yaml', 'w') as fp:\n",
    "            yaml.dump(mesh_dict, fp)\n",
    "            \n",
    "        print('|-- Running main script')\n",
    "        # Run the main script which reads values from the yaml file\n",
    "        %run mainDemo.py\n",
    "        \n",
    "        print('| Finished\\n')\n",
    "        \n",
    "        fp = open('mesh_files/xmesh%s' % (mesh_dict['filetype']), 'r')\n",
    "\n",
    "        # Write all values to the file\n",
    "        print(fp.read())\n",
    "\n",
    "        # Close the mesh file when finished\n",
    "        fp.close()\n",
    "        \n",
    "run_button.on_click(run_button_action)\n"
   ]
  },
  {
   "cell_type": "markdown",
   "metadata": {},
   "source": [
    "___"
   ]
  },
  {
   "cell_type": "code",
   "execution_count": 3,
   "metadata": {},
   "outputs": [
    {
     "data": {
      "text/html": [
       "<script>\n",
       "code_show=true; \n",
       "function code_toggle() {\n",
       " if (code_show){\n",
       " $('div.input').hide();\n",
       " } else {\n",
       " $('div.input').show();\n",
       " }\n",
       " code_show = !code_show\n",
       "} \n",
       "$( document ).ready(code_toggle);\n",
       "</script>\n",
       "<form action=\"javascript:code_toggle()\"><input type=\"submit\" value=\"Toggle notebook code visibility (hidden by default).\"></form>"
      ],
      "text/plain": [
       "<IPython.core.display.HTML object>"
      ]
     },
     "metadata": {},
     "output_type": "display_data"
    }
   ],
   "source": [
    "a = HTML('''<script>\n",
    "code_show=true; \n",
    "function code_toggle() {\n",
    " if (code_show){\n",
    " $('div.input').hide();\n",
    " } else {\n",
    " $('div.input').show();\n",
    " }\n",
    " code_show = !code_show\n",
    "} \n",
    "$( document ).ready(code_toggle);\n",
    "</script>\n",
    "<form action=\"javascript:code_toggle()\"><input type=\"submit\" \\\n",
    "value=\"Toggle notebook code visibility (hidden by default).\"></form>''')\n",
    "\n",
    "display(a)"
   ]
  }
 ],
 "metadata": {
  "kernelspec": {
   "display_name": "Python 3",
   "language": "python",
   "name": "python3"
  },
  "language_info": {
   "codemirror_mode": {
    "name": "ipython",
    "version": 3
   },
   "file_extension": ".py",
   "mimetype": "text/x-python",
   "name": "python",
   "nbconvert_exporter": "python",
   "pygments_lexer": "ipython3",
   "version": "3.7.5"
  }
 },
 "nbformat": 4,
 "nbformat_minor": 2
}
