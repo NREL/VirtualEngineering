{
 "cells": [
  {
   "cell_type": "markdown",
   "id": "d2f02adc",
   "metadata": {},
   "source": [
    "# Bioconversion GUI using Widgets\n",
    "\n",
    "The first step is to select \"Cell\" > \"Run All\" from the toolbar.  This will initialize all the widgets and allow you to interact with the unit operation options via the GUI controls."
   ]
  },
  {
   "cell_type": "code",
   "execution_count": 15,
   "id": "97091f4a",
   "metadata": {},
   "outputs": [
    {
     "name": "stdout",
     "output_type": "stream",
     "text": [
      "It looks like you're running this notebook on a laptop.\n",
      "Operations requiring HPC resources will be disabled.\n",
      "It looks like you're running this notebook on a laptop.\n",
      "Operations requiring HPC resources will be disabled.\n"
     ]
    }
   ],
   "source": [
    "from ipywidgets import *\n",
    "\n",
    "from virteng.WidgetFunctions import WidgetCollection\n",
    "from virteng.Utilities import get_host_computer\n",
    "from Models_classes import make_models_list\n",
    "\n",
    "hpc_run = get_host_computer()   # See if we're running on HPC or on a laptop\n",
    "\n",
    "from IPython.display import Image, HTML, clear_output\n",
    "Image(os.path.join(os.path.dirname(\"__file__\"), 'figures', 'three_unit_flow.png'), width=800)"
   ]
  },
  {
   "cell_type": "markdown",
   "id": "a6c2868e",
   "metadata": {},
   "source": [
    "---\n",
    "\n",
    "## Set Virtual Engineering Options\n",
    "\n",
    "\n",
    "### 0. Feedstock properties\n",
    "\n",
    "Set the feedstock properties.\n"
   ]
  },
  {
   "cell_type": "code",
   "execution_count": 16,
   "id": "08d383e5",
   "metadata": {},
   "outputs": [],
   "source": [
    "#================================================================\n",
    "# Create the collection of widgets for feedstock options\n",
    "fs_options = WidgetCollection()\n",
    "\n",
    "fs_options.xylan_solid_fraction = widgets.BoundedFloatText(\n",
    "    value = 0.263,\n",
    "    max = 1,\n",
    "    min = 0,\n",
    "    description = r'Initial $X_X$',\n",
    "    tooltip = 'The initial fraction of solids that is xylan (kg/kg).  Must be in the range [0, 1]'\n",
    ")\n",
    "\n",
    "fs_options.glucan_solid_fraction = widgets.BoundedFloatText(\n",
    "    value = 0.40,\n",
    "    max = 1,\n",
    "    min = 0,\n",
    "    description = r'Initial $X_G$',\n",
    "    tooltip = 'The initial fraction of solids that is glucan (kg/kg).  Must be in the range [0, 1]'\n",
    ")\n",
    "\n",
    "fs_options.initial_porosity = widgets.BoundedFloatText(\n",
    "    value = 0.8,\n",
    "    max = 1,\n",
    "    min = 0,\n",
    "    description = r'Initial Porosity',\n",
    "    tooltip = 'The initial porous fraction of the biomass particles.  Must be in the range [0, 1]'\n",
    ")\n",
    "\n",
    "#================================================================\n",
    "# Display the widgets\n",
    "fs_options.display_all_widgets()\n",
    "#================================================================"
   ]
  },
  {
   "cell_type": "markdown",
   "id": "1132ecc0",
   "metadata": {},
   "source": [
    "---\n",
    "\n",
    "### 1. Pretreatment Operation\n",
    "\n",
    "Set the options for the pretreatment operation below."
   ]
  },
  {
   "cell_type": "code",
   "execution_count": 17,
   "id": "5ed9ca03",
   "metadata": {},
   "outputs": [],
   "source": [
    "#================================================================\n",
    "# Create the collection of widgets for pretreatment options\n",
    "pt_options = WidgetCollection()\n",
    "\n",
    "#### this needs to be changed to g acid / g bone-dry biomass (then converted in the run function) ####\n",
    "pt_options.initial_acid_conc = widgets.BoundedFloatText(\n",
    "    value = 0.0001,\n",
    "    max = 1.0,\n",
    "    min = 0.0,\n",
    "    description = 'Acid Loading',\n",
    "    tooltip = 'The initial concentration of acid (mol/mL).  Must be in the range [0, 1]'\n",
    ")\n",
    "\n",
    "pt_options.steam_temperature = widgets.BoundedFloatText(\n",
    "    value = 150.0,\n",
    "    max = 250.3,\n",
    "    min = 3.8,\n",
    "    description = 'Steam Temperature',\n",
    "    tooltip = r'The fixed temperature of the steam ($^\\circ$C).',\n",
    ")\n",
    "\n",
    "pt_options.initial_solid_fraction = widgets.BoundedFloatText(\n",
    "    value = 0.745,\n",
    "    max = 1,\n",
    "    min = 0,\n",
    "    description = r'Initial FIS$_0$',\n",
    "    tooltip = 'The initial fraction of insoluble solids (kg/kg).  Must be in the range [0, 1]'\n",
    ")\n",
    "\n",
    "pt_options.final_time = widgets.BoundedFloatText(\n",
    "    value = 8.3,\n",
    "    max = 1440,\n",
    "    min = 1,\n",
    "    description = 'Final Time',\n",
    "    tooltip = r'Total simulation time (min).  Must be $\\geq$ 1'\n",
    ")\n",
    "\n",
    "pt_options.show_plots = widgets.Checkbox(\n",
    "    value = False,\n",
    "    tooltip = 'Show Plots'\n",
    ")\n",
    "\n",
    "#================================================================\n",
    "# Display the widgets\n",
    "pt_options.display_all_widgets()\n",
    "#================================================================"
   ]
  },
  {
   "cell_type": "markdown",
   "id": "755788e4",
   "metadata": {},
   "source": [
    "---\n",
    "\n",
    "### 2. Enzymatic Hydrolysis Operation\n",
    "\n",
    "Set the options for the enzymatic hydrolysis operation using either a two-phase reaction rate model or high-fidelity CFD below.\n"
   ]
  },
  {
   "cell_type": "code",
   "execution_count": 18,
   "id": "06218c2d",
   "metadata": {},
   "outputs": [],
   "source": [
    "#================================================================\n",
    "# Create the collection of widgets\n",
    "eh_options = WidgetCollection()\n",
    "\n",
    "eh_options.model_type = widgets.RadioButtons(\n",
    "    options = ['Lignocellulose Model', 'CFD Surrogate', 'CFD Simulation'],\n",
    "    value = 'CFD Surrogate',\n",
    "    description = 'Model Type',\n",
    "    disabled = False,\n",
    "    tooltip = 'Specifies the solver to use for the EH step, \"CFD Simulation\" requires HPC resources.'\n",
    ")\n",
    "\n",
    "eh_options.lambda_e = widgets.BoundedFloatText(\n",
    "    value = 30.0,\n",
    "    max = 1000.0,\n",
    "    min = 0.0,\n",
    "    description = 'Enzymatic Load',\n",
    "    tooltip = 'Ratio of the enzyme mass to the total solution mass (mg/g).  Must be in the range [0, 1000]'\n",
    ")\n",
    "\n",
    "eh_options.fis_0 = widgets.BoundedFloatText(\n",
    "    value = 0.05,\n",
    "    max = 1.0,\n",
    "    min = 0.0,\n",
    "    description = r'FIS$_0$ Target',\n",
    "    tooltip = 'The target value for initial fraction of insoluble solids *after* dilution (kg/kg).  Must be in the range [0, 1]'\n",
    ")\n",
    "\n",
    "eh_options.t_final = widgets.BoundedFloatText(\n",
    "    value = 24.0,\n",
    "    min = 1.0,\n",
    "    max = 24.0,\n",
    "    description = 'Final Time',\n",
    "    tooltip = r'The total time of the simulation (h).  Must be $\\geq$ 1'\n",
    ")\n",
    "\n",
    "eh_options.show_plots = widgets.Checkbox(\n",
    "    value = False,\n",
    "    tooltip = 'Show Plots',\n",
    "    disabled = True,\n",
    ")\n",
    "\n",
    "#================================================================\n",
    "# Display the widgets\n",
    "eh_options.display_all_widgets()\n",
    "#================================================================\n",
    "\n",
    "def model_type_action(change):\n",
    "        \n",
    "    if eh_options.model_type.value == 'Lignocellulose Model':\n",
    "        # Lignocellulose Model\n",
    "        eh_options.show_plots.value = False\n",
    "        eh_options.show_plots.disabled = False\n",
    "        eh_options.show_plots.description_tooltip = 'Show Plots'\n",
    "\n",
    "    else:\n",
    "        # Surrogate Model, CFD Simulation\n",
    "        eh_options.show_plots.value = False\n",
    "        eh_options.show_plots.disabled = True\n",
    "        eh_options.show_plots.description_tooltip = 'Show Plots (Only available for lignocellulose model)'\n",
    "\n",
    "eh_options.model_type.observe(model_type_action, names='value')"
   ]
  },
  {
   "cell_type": "markdown",
   "id": "0a2744d7",
   "metadata": {},
   "source": [
    "---\n",
    "\n",
    "### 3. Bioreaction Operation\n",
    "\n",
    "Set the options for the bubble column bioreaction operation below.\n"
   ]
  },
  {
   "cell_type": "code",
   "execution_count": 19,
   "id": "3f87239c",
   "metadata": {},
   "outputs": [],
   "source": [
    "#================================================================\n",
    "# Create the collection of widgets\n",
    "br_options = WidgetCollection()\n",
    "\n",
    "br_options.model_type = widgets.RadioButtons(\n",
    "    options = ['CFD Surrogate', 'CFD Simulation'],\n",
    "    value = 'CFD Surrogate',\n",
    "    description = 'Model Type',\n",
    "    disabled = False,\n",
    "    tooltip = 'Specifies the solver to use for the bioreaction step, \"CFD Simulation\" requires HPC resources.'\n",
    ")\n",
    "\n",
    "br_options.gas_velocity = widgets.BoundedFloatText(\n",
    "    value = 0.08, \n",
    "    min = 0.01,\n",
    "    max = 0.1,\n",
    "    description = 'Gas velocity',\n",
    "    tooltip = r'Gas velocity in the simulation (m/s).  Must be in $[0.01, 0.1]$'\n",
    ")\n",
    "\n",
    "br_options.column_height = widgets.BoundedFloatText(\n",
    "    value = 40., \n",
    "    min = 10.,\n",
    "    max = 50.,\n",
    "    description = 'Column height',\n",
    "    tooltip = r'Column height (m).  Must be in $[10, 50]$'\n",
    ")\n",
    "\n",
    "br_options.column_diameter = widgets.BoundedFloatText(\n",
    "    value = 5.0, \n",
    "    min = 1.,\n",
    "    max = 6.,\n",
    "    description = 'Column diameter',\n",
    "    tooltip = r'Column diameter (m).  Must be in $[1, 6]$'\n",
    ")\n",
    "\n",
    "br_options.bubble_diameter = widgets.BoundedFloatText(\n",
    "    value = 0.006,\n",
    "    min = 0.003,\n",
    "    max = 0.008,\n",
    "    description = 'Bubble diameter',\n",
    "    tooltip = r'Bubble diameter (m).  For surragate model must be in $[0.003, 0.008]$, for cfd must be $>=0$'\n",
    ")\n",
    "\n",
    "br_options.t_final = widgets.BoundedFloatText(\n",
    "    value = 100.0, # default 500\n",
    "    min = 1.0,\n",
    "    max = 1e16,\n",
    "    description = 'Final Time',\n",
    "    tooltip = r'The total time of the simulation (h).  Must be $\\geq 1$'\n",
    ")\n",
    "\n",
    "#================================================================\n",
    "# Display the widgets\n",
    "br_options.display_all_widgets()\n",
    "#================================================================"
   ]
  },
  {
   "cell_type": "markdown",
   "id": "afc60fb0",
   "metadata": {},
   "source": [
    "---\n",
    "\n",
    "## Run Model\n",
    "\n",
    "When finished setting options for all unit operations, press the button below to run the complete model.\n"
   ]
  },
  {
   "cell_type": "code",
   "execution_count": 20,
   "id": "c6faffab",
   "metadata": {},
   "outputs": [],
   "source": [
    "#================================================================\n",
    "run_button = widgets.Button(\n",
    "    description = 'Run All.',\n",
    "    tooltip = 'Execute the model start-to-finish with the properties specified above.',\n",
    "    layout =  {'width': '200px', 'margin': '25px 0px 100px 170px'}, \n",
    "    button_style = 'success'\n",
    ")\n",
    "#================================================================\n",
    "\n",
    "# run_button_output = widgets.Output()\n",
    "display(run_button)\n",
    "\n",
    "#================================================================\n",
    "# Define a function to be executed each time the run button is pressed\n",
    "def run_button_action(b):\n",
    "    clear_output()\n",
    "    display(run_button)\n",
    "    verbose = True\n",
    "    # Initialize models\n",
    "    models_list = make_models_list([fs_options, pt_options, eh_options, br_options], n_models=4, hpc_run=hpc_run)\n",
    "    for model in models_list:\n",
    "        model.run(verbose=verbose)\n",
    "    \n",
    "run_button.on_click(run_button_action)\n",
    "#================================================================"
   ]
  },
  {
   "cell_type": "markdown",
   "id": "f1b17bcb",
   "metadata": {},
   "source": [
    "---"
   ]
  },
  {
   "cell_type": "code",
   "execution_count": 21,
   "id": "130891c9",
   "metadata": {},
   "outputs": [],
   "source": [
    "a = HTML('''<script>\n",
    "code_show=true; \n",
    "function code_toggle() {\n",
    " if (code_show){\n",
    " $('div.input').hide();\n",
    " } else {\n",
    " $('div.input').show();\n",
    " }\n",
    " code_show = !code_show\n",
    "} \n",
    "$( document ).ready(code_toggle);\n",
    "</script>\n",
    "<form action=\"javascript:code_toggle()\"><input type=\"submit\" \\\n",
    "value=\"Toggle code visibility (hidden by default).\"></form>''')\n",
    "\n",
    "display(a)"
   ]
  }
 ],
 "metadata": {
  "jupytext": {
   "formats": "ipynb,md"
  },
  "kernelspec": {
   "display_name": "Python 3 (ipykernel)",
   "language": "python",
   "name": "python3"
  },
  "language_info": {
   "codemirror_mode": {
    "name": "ipython",
    "version": 3
   },
   "file_extension": ".py",
   "mimetype": "text/x-python",
   "name": "python",
   "nbconvert_exporter": "python",
   "pygments_lexer": "ipython3",
   "version": "3.10.9"
  },
  "widgets": {
   "application/vnd.jupyter.widget-state+json": {
    "state": {
     "00b6b278ceec464da38b672d16af2be6": {
      "model_module": "@jupyter-widgets/controls",
      "model_module_version": "2.0.0",
      "model_name": "DescriptionStyleModel",
      "state": {
       "description_width": "125px"
      }
     },
     "00e7e95a202442839faaa416196767dd": {
      "model_module": "@jupyter-widgets/controls",
      "model_module_version": "2.0.0",
      "model_name": "HTMLMathModel",
      "state": {
       "layout": "IPY_MODEL_c75b8a52c193498dbd3f1ef4bffd2ad1",
       "style": "IPY_MODEL_c12801e4a0844e70b135115612f554fe",
       "value": "Bubble diameter (m).  For surragate model must be in $[0.003, 0.008]$, for cfd must be $>=0$"
      }
     },
     "010591ab06ca45ada823ad35347e771f": {
      "model_module": "@jupyter-widgets/controls",
      "model_module_version": "2.0.0",
      "model_name": "BoundedFloatTextModel",
      "state": {
       "description": "Column diameter",
       "layout": "IPY_MODEL_97ab4cf862d146248f8fd036da3da0ec",
       "max": 6,
       "min": 1,
       "step": null,
       "style": "IPY_MODEL_d4881557f94949fc92445c26a04e9dd2",
       "tooltip": "Column diameter (m).  Must be in $[1, 6]$",
       "value": 5
      }
     },
     "015ec62cc37c4d9397716a448f05a71a": {
      "model_module": "@jupyter-widgets/base",
      "model_module_version": "2.0.0",
      "model_name": "LayoutModel",
      "state": {
       "height": "48px",
       "width": "220px"
      }
     },
     "0193845d71a94b78a09d0bca549e8d60": {
      "model_module": "@jupyter-widgets/base",
      "model_module_version": "2.0.0",
      "model_name": "LayoutModel",
      "state": {
       "width": "350px"
      }
     },
     "022041026d3f4e4692fe3091bcd2e74c": {
      "model_module": "@jupyter-widgets/base",
      "model_module_version": "2.0.0",
      "model_name": "LayoutModel",
      "state": {
       "align_items": "center",
       "padding": "0px 5px 0px 5px"
      }
     },
     "0221a9b080d84051a8b13b2d7f06b1d0": {
      "model_module": "@jupyter-widgets/base",
      "model_module_version": "2.0.0",
      "model_name": "LayoutModel",
      "state": {}
     },
     "02bc66724c424fc3bccebd8d41c14020": {
      "model_module": "@jupyter-widgets/base",
      "model_module_version": "2.0.0",
      "model_name": "LayoutModel",
      "state": {
       "width": "350px"
      }
     },
     "02db31982e424044838cfd63b0387e9b": {
      "model_module": "@jupyter-widgets/base",
      "model_module_version": "2.0.0",
      "model_name": "LayoutModel",
      "state": {
       "margin": "0px 0px 0px 10px",
       "width": "350px"
      }
     },
     "02dd361951c34703bed407fe58f4f9cf": {
      "model_module": "@jupyter-widgets/base",
      "model_module_version": "2.0.0",
      "model_name": "LayoutModel",
      "state": {
       "align_items": "center",
       "padding": "0px 5px 0px 5px"
      }
     },
     "02f02c31870a40e7b26a981645dba6b4": {
      "model_module": "@jupyter-widgets/controls",
      "model_module_version": "2.0.0",
      "model_name": "HBoxModel",
      "state": {
       "children": [
        "IPY_MODEL_86ce80c29014470e9138b6d5b08706be",
        "IPY_MODEL_0a58c0c0355c4194915e5f7dab3d44db",
        "IPY_MODEL_7bc62fb9e19d4281968dee922233d63f"
       ],
       "layout": "IPY_MODEL_d12dd8e70cf34bdb8ad17453ed4ce957"
      }
     },
     "03565bf2aadd4d3ab957f1c7dfb746d9": {
      "model_module": "@jupyter-widgets/controls",
      "model_module_version": "2.0.0",
      "model_name": "DescriptionStyleModel",
      "state": {
       "description_width": ""
      }
     },
     "03614fd14e314c7bac60d3bcf3274d15": {
      "model_module": "@jupyter-widgets/controls",
      "model_module_version": "2.0.0",
      "model_name": "RadioButtonsModel",
      "state": {
       "_options_labels": [
        "CFD Surrogate",
        "CFD Simulation"
       ],
       "index": 0,
       "layout": "IPY_MODEL_48ee253177894aa787ed257b6ee98674",
       "style": "IPY_MODEL_741a5422a4fb4b4e85e686fe8f12a7ff",
       "tooltip": "Specifies the solver to use for the bioreaction step, \"CFD Simulation\" requires HPC resources."
      }
     },
     "0372a1507fbe42e9b25cc4e2b638b161": {
      "model_module": "@jupyter-widgets/controls",
      "model_module_version": "2.0.0",
      "model_name": "DescriptionStyleModel",
      "state": {
       "description_width": ""
      }
     },
     "03add4df0f68430ca317fe97732bfbfe": {
      "model_module": "@jupyter-widgets/controls",
      "model_module_version": "2.0.0",
      "model_name": "BoundedFloatTextModel",
      "state": {
       "description": "Steam Temperature",
       "layout": "IPY_MODEL_6b6697c8ee0e44a69e2bfcd6beeb6b0a",
       "max": 250.3,
       "min": 3.8,
       "step": null,
       "style": "IPY_MODEL_5ff6e9164a6a46b58f6d7014c05eb0b2",
       "tooltip": "The fixed temperature of the steam ($^\\circ$C).",
       "value": 150
      }
     },
     "044b622200fd4f30bde9d73932d7dbcd": {
      "model_module": "@jupyter-widgets/base",
      "model_module_version": "2.0.0",
      "model_name": "LayoutModel",
      "state": {
       "width": "350px"
      }
     },
     "04b1781b068f42bcb4973d72d2ed4497": {
      "model_module": "@jupyter-widgets/controls",
      "model_module_version": "2.0.0",
      "model_name": "DescriptionStyleModel",
      "state": {
       "description_width": ""
      }
     },
     "04f0f29c0b1947a5a3fd8576c5790a2e": {
      "model_module": "@jupyter-widgets/controls",
      "model_module_version": "2.0.0",
      "model_name": "HTMLMathModel",
      "state": {
       "layout": "IPY_MODEL_27de6afe923f4a89b29f9a0492e9b27a",
       "style": "IPY_MODEL_5a81fc795b034cc99995db4edeef6f2d",
       "value": "Column height (m).  Must be in $[10, 50]$"
      }
     },
     "04f9f065fff94ba78e6673d2bb822137": {
      "model_module": "@jupyter-widgets/controls",
      "model_module_version": "2.0.0",
      "model_name": "DescriptionStyleModel",
      "state": {
       "description_width": "125px"
      }
     },
     "0512d8a4a05645e59fa8ec261519ff5a": {
      "model_module": "@jupyter-widgets/base",
      "model_module_version": "2.0.0",
      "model_name": "LayoutModel",
      "state": {
       "padding": "0px 0px 0px 203px ",
       "width": "350px"
      }
     },
     "05243a6927ce43578795b6e2598489a4": {
      "model_module": "@jupyter-widgets/controls",
      "model_module_version": "2.0.0",
      "model_name": "DescriptionStyleModel",
      "state": {
       "description_width": "125px"
      }
     },
     "05335b695aac4aaab8c33920dec261e4": {
      "model_module": "@jupyter-widgets/base",
      "model_module_version": "2.0.0",
      "model_name": "LayoutModel",
      "state": {
       "margin": "0px 0px 0px 10px",
       "width": "350px"
      }
     },
     "05d8a4e864ac4981958324259b15b983": {
      "model_module": "@jupyter-widgets/controls",
      "model_module_version": "2.0.0",
      "model_name": "HBoxModel",
      "state": {
       "children": [
        "IPY_MODEL_8480e636d1be4f8791e318a43f7d99fb",
        "IPY_MODEL_81e6945e0bb04efaac5e2df005dfd221"
       ],
       "layout": "IPY_MODEL_0d9fa2bdf3f34595a5859af6b6c61463"
      }
     },
     "05ee5e1c3e3f474c9791ba6ef593d01a": {
      "model_module": "@jupyter-widgets/controls",
      "model_module_version": "2.0.0",
      "model_name": "HTMLMathModel",
      "state": {
       "layout": "IPY_MODEL_70ab9160988240499992453ccbf652da",
       "style": "IPY_MODEL_8630857cbfe3402daaf0410f73644f90",
       "value": "Ratio of the enzyme mass to the total solution mass (mg/g).  Must be in the range [0, 1000]"
      }
     },
     "063a142230ed4f8fa22999357d572b83": {
      "model_module": "@jupyter-widgets/controls",
      "model_module_version": "2.0.0",
      "model_name": "DescriptionStyleModel",
      "state": {
       "description_width": ""
      }
     },
     "064655ce4c12442f98f9730d5200bb6c": {
      "model_module": "@jupyter-widgets/base",
      "model_module_version": "2.0.0",
      "model_name": "LayoutModel",
      "state": {
       "align_items": "center",
       "padding": "0px 5px 0px 5px"
      }
     },
     "06b2eafe081d40abbcf98a9f0d5a1bc2": {
      "model_module": "@jupyter-widgets/base",
      "model_module_version": "2.0.0",
      "model_name": "LayoutModel",
      "state": {
       "width": "350px"
      }
     },
     "07bc038adf64409cb088476cd796c61e": {
      "model_module": "@jupyter-widgets/base",
      "model_module_version": "2.0.0",
      "model_name": "LayoutModel",
      "state": {
       "width": "350px"
      }
     },
     "082f9a2aca964bb0b7b725f0e47bbade": {
      "model_module": "@jupyter-widgets/controls",
      "model_module_version": "2.0.0",
      "model_name": "HBoxModel",
      "state": {
       "children": [
        "IPY_MODEL_e9ed555ec3704e12ba39cb9691740f10",
        "IPY_MODEL_bcd21ed8e376447db6e9ebb55ed48dd4"
       ],
       "layout": "IPY_MODEL_5a9c0fa276994647b548e5bf466c57e5"
      }
     },
     "0874177bae994cf9a66300bbd92281c8": {
      "model_module": "@jupyter-widgets/controls",
      "model_module_version": "2.0.0",
      "model_name": "DescriptionStyleModel",
      "state": {
       "description_width": ""
      }
     },
     "0883d65fe4b64c41b4dfbbe3f7bfb86e": {
      "model_module": "@jupyter-widgets/controls",
      "model_module_version": "2.0.0",
      "model_name": "DescriptionStyleModel",
      "state": {
       "description_width": ""
      }
     },
     "089f9747bece4dd58b8e093a4084aa95": {
      "model_module": "@jupyter-widgets/controls",
      "model_module_version": "2.0.0",
      "model_name": "HTMLMathModel",
      "state": {
       "layout": "IPY_MODEL_a1554d5388f24f3c9d28c66adb66416b",
       "style": "IPY_MODEL_3fbdd099cdb345c09cfe12db9ee4048d",
       "value": "The initial porous fraction of the biomass particles.  Must be in the range [0, 1]"
      }
     },
     "08ae82de313949098c93c60a6030ee7f": {
      "model_module": "@jupyter-widgets/controls",
      "model_module_version": "2.0.0",
      "model_name": "CheckboxModel",
      "state": {
       "disabled": true,
       "layout": "IPY_MODEL_9fe0e0f8cbf04043982ca5bf3606942d",
       "style": "IPY_MODEL_579fca4410d04243b04fe09a80327c76",
       "tooltip": "Show Plots",
       "value": false
      }
     },
     "08b1d103f0124d87919f5c9c34c5adc5": {
      "model_module": "@jupyter-widgets/base",
      "model_module_version": "2.0.0",
      "model_name": "LayoutModel",
      "state": {
       "margin": "0px 0px 0px 10px",
       "width": "350px"
      }
     },
     "08bfe821d4314819b756752348bb6754": {
      "model_module": "@jupyter-widgets/controls",
      "model_module_version": "2.0.0",
      "model_name": "DescriptionStyleModel",
      "state": {
       "description_width": "125px"
      }
     },
     "08fcc29619364730baf6e4e4821ad488": {
      "model_module": "@jupyter-widgets/controls",
      "model_module_version": "2.0.0",
      "model_name": "HTMLMathModel",
      "state": {
       "layout": "IPY_MODEL_54c072a5e2c94ea7826b72a6dc7878e9",
       "style": "IPY_MODEL_36f1b2f5996b4a659e38a762870c87a2",
       "value": "Ratio of the enzyme mass to the total solution mass (mg/g).  Must be in the range [0, 1000]"
      }
     },
     "098e5744278b4872a3ef4ca3086f66a0": {
      "model_module": "@jupyter-widgets/base",
      "model_module_version": "2.0.0",
      "model_name": "LayoutModel",
      "state": {}
     },
     "0a24139e80c149b7a955865cf5787f6a": {
      "model_module": "@jupyter-widgets/controls",
      "model_module_version": "2.0.0",
      "model_name": "HBoxModel",
      "state": {
       "children": [
        "IPY_MODEL_6062eff2036e4e97993228ec9eaf4150",
        "IPY_MODEL_30d2290b4dc541bf820399a56bd69bff"
       ],
       "layout": "IPY_MODEL_35191bca02c24d669e0bcf64f4df593c"
      }
     },
     "0a308c41a2d54afbbddd5b68b18b020b": {
      "model_module": "@jupyter-widgets/controls",
      "model_module_version": "2.0.0",
      "model_name": "HBoxModel",
      "state": {
       "children": [
        "IPY_MODEL_9702854b884c44a68a968af765a74302",
        "IPY_MODEL_3e1f8db8f2034b498d07ce429033f4af"
       ],
       "layout": "IPY_MODEL_17db1df7270f49eba5edc45d7958ef05"
      }
     },
     "0a58c0c0355c4194915e5f7dab3d44db": {
      "model_module": "@jupyter-widgets/controls",
      "model_module_version": "2.0.0",
      "model_name": "RadioButtonsModel",
      "state": {
       "_options_labels": [
        "CFD Surrogate",
        "CFD Simulation"
       ],
       "index": 0,
       "layout": "IPY_MODEL_72ae2c3d4dd3417499598d874b5c908a",
       "style": "IPY_MODEL_bbd3aeeeee6f47a4a5220d1fd20c5161",
       "tooltip": "Specifies the solver to use for the bioreaction step, \"CFD Simulation\" requires HPC resources."
      }
     },
     "0a6d659787a7467e8947426f93d82219": {
      "model_module": "@jupyter-widgets/controls",
      "model_module_version": "2.0.0",
      "model_name": "DescriptionStyleModel",
      "state": {
       "description_width": ""
      }
     },
     "0b009d3ffd48491481d5b129bf15ace0": {
      "model_module": "@jupyter-widgets/base",
      "model_module_version": "2.0.0",
      "model_name": "LayoutModel",
      "state": {}
     },
     "0c113d078a854409b03c8e5fdd02daf9": {
      "model_module": "@jupyter-widgets/base",
      "model_module_version": "2.0.0",
      "model_name": "LayoutModel",
      "state": {
       "width": "350px"
      }
     },
     "0cca43a4b48c4f03ae3d38f08f8d5d1d": {
      "model_module": "@jupyter-widgets/controls",
      "model_module_version": "2.0.0",
      "model_name": "DescriptionStyleModel",
      "state": {
       "description_width": ""
      }
     },
     "0d754af64c6149a8bf7fc588efaac2ef": {
      "model_module": "@jupyter-widgets/base",
      "model_module_version": "2.0.0",
      "model_name": "LayoutModel",
      "state": {
       "width": "350px"
      }
     },
     "0d9fa2bdf3f34595a5859af6b6c61463": {
      "model_module": "@jupyter-widgets/base",
      "model_module_version": "2.0.0",
      "model_name": "LayoutModel",
      "state": {
       "align_items": "center",
       "padding": "0px 5px 0px 5px"
      }
     },
     "0dcf22f974eb47bd92f8292f96c7b653": {
      "model_module": "@jupyter-widgets/base",
      "model_module_version": "2.0.0",
      "model_name": "LayoutModel",
      "state": {
       "width": "350px"
      }
     },
     "0e962b373b284d1a81a6c7130651026d": {
      "model_module": "@jupyter-widgets/base",
      "model_module_version": "2.0.0",
      "model_name": "LayoutModel",
      "state": {
       "align_items": "center",
       "padding": "0px 5px 0px 5px"
      }
     },
     "0e973e9911904a0cb99ad891b7ae92c8": {
      "model_module": "@jupyter-widgets/controls",
      "model_module_version": "2.0.0",
      "model_name": "CheckboxStyleModel",
      "state": {
       "description_width": "125px"
      }
     },
     "0e9ae7ea1539438191d39d6891d7c290": {
      "model_module": "@jupyter-widgets/base",
      "model_module_version": "2.0.0",
      "model_name": "LayoutModel",
      "state": {
       "align_items": "center",
       "padding": "0px 5px 0px 5px"
      }
     },
     "0e9d0891d0a342a2b02792c82239b524": {
      "model_module": "@jupyter-widgets/base",
      "model_module_version": "2.0.0",
      "model_name": "LayoutModel",
      "state": {
       "margin": "0px 0px 0px 10px",
       "width": "350px"
      }
     },
     "0f16a3d6e1f04a1b947426ae128267b1": {
      "model_module": "@jupyter-widgets/controls",
      "model_module_version": "2.0.0",
      "model_name": "BoundedFloatTextModel",
      "state": {
       "description": "Final Time",
       "layout": "IPY_MODEL_4d52b85ec9d64fcb9d6538e03c4e3142",
       "max": 10000000000000000,
       "min": 1,
       "step": null,
       "style": "IPY_MODEL_e4dbde2db4d3474ea0360265ebced2f7",
       "tooltip": "The total time of the simulation (h).  Must be $\\geq 1$",
       "value": 100
      }
     },
     "0f2562551b7c43d4895eef2724f06112": {
      "model_module": "@jupyter-widgets/base",
      "model_module_version": "2.0.0",
      "model_name": "LayoutModel",
      "state": {
       "align_items": "center",
       "padding": "0px 5px 0px 5px"
      }
     },
     "0f6c219607364b3bac796b8a86c4cb2e": {
      "model_module": "@jupyter-widgets/base",
      "model_module_version": "2.0.0",
      "model_name": "LayoutModel",
      "state": {
       "align_items": "center",
       "padding": "0px 5px 0px 5px"
      }
     },
     "0f6ec1fa186747c38ee24ed82e28d78f": {
      "model_module": "@jupyter-widgets/controls",
      "model_module_version": "2.0.0",
      "model_name": "HTMLMathModel",
      "state": {
       "layout": "IPY_MODEL_0e9d0891d0a342a2b02792c82239b524",
       "style": "IPY_MODEL_5219c38680d9473d8d805f7d7c40164e",
       "value": "Total simulation time (min).  Must be $\\geq$ 1"
      }
     },
     "0fa88d91a1194f07a7ff897cbf6aba88": {
      "model_module": "@jupyter-widgets/base",
      "model_module_version": "2.0.0",
      "model_name": "LayoutModel",
      "state": {}
     },
     "0fb80acb24f347b5a3041987e13de500": {
      "model_module": "@jupyter-widgets/controls",
      "model_module_version": "2.0.0",
      "model_name": "HTMLMathStyleModel",
      "state": {
       "description_width": "",
       "font_size": null,
       "text_color": null
      }
     },
     "1073dd1fe6234c9ca8fceb43a6b111fe": {
      "model_module": "@jupyter-widgets/controls",
      "model_module_version": "2.0.0",
      "model_name": "BoundedFloatTextModel",
      "state": {
       "description": "Initial $X_X$",
       "layout": "IPY_MODEL_740d268f83664bd3a9ba1a223e6abb0a",
       "max": 1,
       "step": null,
       "style": "IPY_MODEL_9e3a93889f82419fabbe588a4aa8057c",
       "tooltip": "The initial fraction of solids that is xylan (kg/kg).  Must be in the range [0, 1]",
       "value": 0.263
      }
     },
     "1084ef55c2e54d2fa6738edc20c4a007": {
      "model_module": "@jupyter-widgets/base",
      "model_module_version": "2.0.0",
      "model_name": "LayoutModel",
      "state": {}
     },
     "10eacddd207745ef9a1efba7fb7f9a32": {
      "model_module": "@jupyter-widgets/base",
      "model_module_version": "2.0.0",
      "model_name": "LayoutModel",
      "state": {
       "align_items": "center",
       "padding": "0px 5px 0px 5px"
      }
     },
     "11433b705192454a8881f18021cf9330": {
      "model_module": "@jupyter-widgets/controls",
      "model_module_version": "2.0.0",
      "model_name": "HTMLMathModel",
      "state": {
       "layout": "IPY_MODEL_2a68b3bfec2c413390f8ea4dace97aec",
       "style": "IPY_MODEL_c0039da1fc894808a224532420e9ba46",
       "value": "Model Type"
      }
     },
     "1163ec66c0d4402c97e8766b3befedf1": {
      "model_module": "@jupyter-widgets/base",
      "model_module_version": "2.0.0",
      "model_name": "LayoutModel",
      "state": {
       "margin": "0px 0px 0px 10px",
       "width": "350px"
      }
     },
     "11a176cb625f4320821c033d9c36e1e2": {
      "model_module": "@jupyter-widgets/base",
      "model_module_version": "2.0.0",
      "model_name": "LayoutModel",
      "state": {
       "align_items": "center",
       "padding": "0px 5px 0px 5px"
      }
     },
     "12ba6aded3f548ceb9cf7497713a8b2a": {
      "model_module": "@jupyter-widgets/controls",
      "model_module_version": "2.0.0",
      "model_name": "BoundedFloatTextModel",
      "state": {
       "description": "Acid Loading",
       "layout": "IPY_MODEL_f6d06f9de48b4f8080b81e4dc95e3be1",
       "max": 1,
       "step": null,
       "style": "IPY_MODEL_13b28103af3c4f96864b5cb844b0633f",
       "tooltip": "The initial concentration of acid (mol/mL).  Must be in the range [0, 1]",
       "value": 0.0001
      }
     },
     "12f1285fbd114514a3d5c953eca031f1": {
      "model_module": "@jupyter-widgets/controls",
      "model_module_version": "2.0.0",
      "model_name": "DescriptionStyleModel",
      "state": {
       "description_width": "125px"
      }
     },
     "1381a865cad04183aa43499e480bd1a9": {
      "model_module": "@jupyter-widgets/base",
      "model_module_version": "2.0.0",
      "model_name": "LayoutModel",
      "state": {
       "width": "350px"
      }
     },
     "13b28103af3c4f96864b5cb844b0633f": {
      "model_module": "@jupyter-widgets/controls",
      "model_module_version": "2.0.0",
      "model_name": "DescriptionStyleModel",
      "state": {
       "description_width": "125px"
      }
     },
     "13ee37e5a9fd40e0b573fc38882ccf30": {
      "model_module": "@jupyter-widgets/base",
      "model_module_version": "2.0.0",
      "model_name": "LayoutModel",
      "state": {
       "margin": "0px 0px 0px 10px",
       "width": "350px"
      }
     },
     "146f96458b5044a28e2d18ec4e552ca0": {
      "model_module": "@jupyter-widgets/base",
      "model_module_version": "2.0.0",
      "model_name": "LayoutModel",
      "state": {
       "align_items": "center",
       "padding": "0px 5px 0px 5px"
      }
     },
     "14c52e7738df4a68b79c2c7f0cb0e312": {
      "model_module": "@jupyter-widgets/controls",
      "model_module_version": "2.0.0",
      "model_name": "HTMLMathStyleModel",
      "state": {
       "description_width": "",
       "font_size": null,
       "text_color": null
      }
     },
     "14c77f0be8004f84b4bea249c359ea8c": {
      "model_module": "@jupyter-widgets/controls",
      "model_module_version": "2.0.0",
      "model_name": "HTMLMathModel",
      "state": {
       "layout": "IPY_MODEL_28fc226adb52465da77d56806c346ede",
       "style": "IPY_MODEL_650bc1e4eff94a6bb71b34cfd734058d",
       "value": "Gas velocity in the simulation (m/s).  Must be in $[0.01, 0.1]$"
      }
     },
     "14dfbd3fe013474a951c017883aa819f": {
      "model_module": "@jupyter-widgets/controls",
      "model_module_version": "2.0.0",
      "model_name": "DescriptionStyleModel",
      "state": {
       "description_width": ""
      }
     },
     "15d020e9a15b4d93b604e9ef1e356157": {
      "model_module": "@jupyter-widgets/controls",
      "model_module_version": "2.0.0",
      "model_name": "DescriptionStyleModel",
      "state": {
       "description_width": "125px"
      }
     },
     "168a9429bf4142faa4f9722031cd39df": {
      "model_module": "@jupyter-widgets/base",
      "model_module_version": "2.0.0",
      "model_name": "LayoutModel",
      "state": {
       "display": "flex",
       "justify_content": "flex-end",
       "padding": "0px 5px 0px 0px",
       "width": "130px"
      }
     },
     "17b5558d5c5845619929b32c62ae0310": {
      "model_module": "@jupyter-widgets/controls",
      "model_module_version": "2.0.0",
      "model_name": "HBoxModel",
      "state": {
       "children": [
        "IPY_MODEL_ce6abee58ac543b0b5f76a7cb83791ba",
        "IPY_MODEL_5b7382602e904504a76c909dc1563b70"
       ],
       "layout": "IPY_MODEL_def0c4b716e748c2a88de7f5a00a04e9"
      }
     },
     "17db1df7270f49eba5edc45d7958ef05": {
      "model_module": "@jupyter-widgets/base",
      "model_module_version": "2.0.0",
      "model_name": "LayoutModel",
      "state": {
       "align_items": "center",
       "padding": "0px 5px 0px 5px"
      }
     },
     "17f3faf2f61349bdb824592ad8b8177b": {
      "model_module": "@jupyter-widgets/controls",
      "model_module_version": "2.0.0",
      "model_name": "HTMLMathStyleModel",
      "state": {
       "description_width": "",
       "font_size": null,
       "text_color": null
      }
     },
     "17fc28bc82674e50b5cbc0a3101f494e": {
      "model_module": "@jupyter-widgets/base",
      "model_module_version": "2.0.0",
      "model_name": "LayoutModel",
      "state": {
       "align_items": "center",
       "padding": "0px 5px 0px 5px"
      }
     },
     "186685999a454f1fa1bdf1cdced2c0e6": {
      "model_module": "@jupyter-widgets/base",
      "model_module_version": "2.0.0",
      "model_name": "LayoutModel",
      "state": {
       "padding": "0px 0px 0px 203px ",
       "width": "350px"
      }
     },
     "1a01697893be447e875e83c885684f3c": {
      "model_module": "@jupyter-widgets/base",
      "model_module_version": "2.0.0",
      "model_name": "LayoutModel",
      "state": {}
     },
     "1a8d463ec980408b9ef88aaefaa18870": {
      "model_module": "@jupyter-widgets/controls",
      "model_module_version": "2.0.0",
      "model_name": "BoundedFloatTextModel",
      "state": {
       "description": "Initial FIS$_0$",
       "layout": "IPY_MODEL_1f84b077930042829b34ee1e94d5d3cb",
       "max": 1,
       "step": null,
       "style": "IPY_MODEL_25104db6d87e41d3b3aeb9c0998f10a3",
       "tooltip": "The initial fraction of insoluble solids (kg/kg).  Must be in the range [0, 1]",
       "value": 0.745
      }
     },
     "1ad2c9d3f5db46579092fe86e0db1826": {
      "model_module": "@jupyter-widgets/controls",
      "model_module_version": "2.0.0",
      "model_name": "HTMLMathModel",
      "state": {
       "layout": "IPY_MODEL_259dce06149d441fb3c96fef25d0dacb",
       "style": "IPY_MODEL_636fee8113a142048195d606fe4be62e",
       "value": "The target value for initial fraction of insoluble solids *after* dilution (kg/kg).  Must be in the range [0, 1]"
      }
     },
     "1af55ca47f6a4b50a49188770bf26278": {
      "model_module": "@jupyter-widgets/controls",
      "model_module_version": "2.0.0",
      "model_name": "HTMLMathStyleModel",
      "state": {
       "description_width": "",
       "font_size": null,
       "text_color": null
      }
     },
     "1b12f03f8c604dab91ea545ebb473f37": {
      "model_module": "@jupyter-widgets/base",
      "model_module_version": "2.0.0",
      "model_name": "LayoutModel",
      "state": {
       "align_items": "center",
       "padding": "0px 5px 0px 5px"
      }
     },
     "1b14275435c64e3b991a355438492c51": {
      "model_module": "@jupyter-widgets/controls",
      "model_module_version": "2.0.0",
      "model_name": "HTMLMathModel",
      "state": {
       "layout": "IPY_MODEL_02db31982e424044838cfd63b0387e9b",
       "style": "IPY_MODEL_567b6c6bedb54e6f9a3db1b02013cfcf",
       "value": "Show Plots"
      }
     },
     "1b33c144776646d18e5786339e7e475c": {
      "model_module": "@jupyter-widgets/controls",
      "model_module_version": "2.0.0",
      "model_name": "DescriptionStyleModel",
      "state": {
       "description_width": ""
      }
     },
     "1bc303d1cd4f4ecbb909567cc8138708": {
      "model_module": "@jupyter-widgets/base",
      "model_module_version": "2.0.0",
      "model_name": "LayoutModel",
      "state": {}
     },
     "1be856382bef484680b8704ac8ffca43": {
      "model_module": "@jupyter-widgets/controls",
      "model_module_version": "2.0.0",
      "model_name": "CheckboxModel",
      "state": {
       "disabled": false,
       "layout": "IPY_MODEL_8238c05ef2af41358f178bed5492e23e",
       "style": "IPY_MODEL_3875b7f844524b1abe7dc8609a1a3982",
       "tooltip": "Show Plots",
       "value": false
      }
     },
     "1cdd12baee73415c94bd2abc40ee95bf": {
      "model_module": "@jupyter-widgets/controls",
      "model_module_version": "2.0.0",
      "model_name": "HTMLMathModel",
      "state": {
       "layout": "IPY_MODEL_797d4d8a2aa6403e93df4db04e86930a",
       "style": "IPY_MODEL_a7ef9d038efd4270a3d108b60b34c5a6",
       "value": "The target value for initial fraction of insoluble solids *after* dilution (kg/kg).  Must be in the range [0, 1]"
      }
     },
     "1d6f3f159eb249758c8960a738c6b48b": {
      "model_module": "@jupyter-widgets/controls",
      "model_module_version": "2.0.0",
      "model_name": "DescriptionStyleModel",
      "state": {
       "description_width": ""
      }
     },
     "1d94c00deabf4ff5bd9cff82b5546ad5": {
      "model_module": "@jupyter-widgets/controls",
      "model_module_version": "2.0.0",
      "model_name": "BoundedFloatTextModel",
      "state": {
       "description": "Steam Temperature",
       "layout": "IPY_MODEL_da295ec02d054c5a97ed3f439eed4cf6",
       "max": 250.3,
       "min": 3.8,
       "step": null,
       "style": "IPY_MODEL_6daba09f3c2d4e7e854f8f4ee32e45cd",
       "tooltip": "The fixed temperature of the steam ($^\\circ$C).",
       "value": 150
      }
     },
     "1df3fa4530d2441aa2e21da62b4a50ba": {
      "model_module": "@jupyter-widgets/controls",
      "model_module_version": "2.0.0",
      "model_name": "DescriptionStyleModel",
      "state": {
       "description_width": ""
      }
     },
     "1e2d96eae4db49db819f29ea80a70258": {
      "model_module": "@jupyter-widgets/controls",
      "model_module_version": "2.0.0",
      "model_name": "CheckboxStyleModel",
      "state": {
       "description_width": "125px"
      }
     },
     "1e901e8689bb4785b2e02ca3fab08f1a": {
      "model_module": "@jupyter-widgets/controls",
      "model_module_version": "2.0.0",
      "model_name": "DescriptionStyleModel",
      "state": {
       "description_width": "125px"
      }
     },
     "1ec6a74d56f848768a13d704c181eac9": {
      "model_module": "@jupyter-widgets/controls",
      "model_module_version": "2.0.0",
      "model_name": "DescriptionStyleModel",
      "state": {
       "description_width": "125px"
      }
     },
     "1f06183ee1534539b961bdeaecdddb9d": {
      "model_module": "@jupyter-widgets/base",
      "model_module_version": "2.0.0",
      "model_name": "LayoutModel",
      "state": {
       "align_items": "center",
       "padding": "0px 5px 0px 5px"
      }
     },
     "1f33938ad9704cb3b907390db31ea7dc": {
      "model_module": "@jupyter-widgets/base",
      "model_module_version": "2.0.0",
      "model_name": "LayoutModel",
      "state": {
       "width": "350px"
      }
     },
     "1f84b077930042829b34ee1e94d5d3cb": {
      "model_module": "@jupyter-widgets/base",
      "model_module_version": "2.0.0",
      "model_name": "LayoutModel",
      "state": {
       "width": "350px"
      }
     },
     "1fb81033ab604d228e371917b863d636": {
      "model_module": "@jupyter-widgets/base",
      "model_module_version": "2.0.0",
      "model_name": "LayoutModel",
      "state": {}
     },
     "212ebc81a50944749f739f99b1a5b3e5": {
      "model_module": "@jupyter-widgets/controls",
      "model_module_version": "2.0.0",
      "model_name": "DescriptionStyleModel",
      "state": {
       "description_width": ""
      }
     },
     "215c8abfe167402aa66442fc44918730": {
      "model_module": "@jupyter-widgets/controls",
      "model_module_version": "2.0.0",
      "model_name": "HTMLMathModel",
      "state": {
       "layout": "IPY_MODEL_607093f6124d403cba2fb20a6c73fb76",
       "style": "IPY_MODEL_c4f90878e28a46cca9f3b46416915e47",
       "value": "Show Plots"
      }
     },
     "21c1d10ff1fa4d5f8e1f9df96f7fc2ed": {
      "model_module": "@jupyter-widgets/base",
      "model_module_version": "2.0.0",
      "model_name": "LayoutModel",
      "state": {
       "width": "350px"
      }
     },
     "21db7782f5b04268ac58376342e2234c": {
      "model_module": "@jupyter-widgets/base",
      "model_module_version": "2.0.0",
      "model_name": "LayoutModel",
      "state": {}
     },
     "22193cf548d04b0bb55168088258fef4": {
      "model_module": "@jupyter-widgets/controls",
      "model_module_version": "2.0.0",
      "model_name": "HBoxModel",
      "state": {
       "children": [
        "IPY_MODEL_47bbcd3c6b5f46a6b8bb3051ab2297f2",
        "IPY_MODEL_53181c84c78b4519995b0badbd409ee4"
       ],
       "layout": "IPY_MODEL_bf5b80ab524d42df990857a44a7d8bd8"
      }
     },
     "222a0abb275e485d89fe0b1e086eb775": {
      "model_module": "@jupyter-widgets/base",
      "model_module_version": "2.0.0",
      "model_name": "LayoutModel",
      "state": {
       "align_items": "center",
       "padding": "0px 5px 0px 5px"
      }
     },
     "2379cc5dc89544ebaa3462d67b3d029a": {
      "model_module": "@jupyter-widgets/controls",
      "model_module_version": "2.0.0",
      "model_name": "HTMLMathStyleModel",
      "state": {
       "description_width": "",
       "font_size": null,
       "text_color": null
      }
     },
     "23be437c200a4a56ba2c6317875df86e": {
      "model_module": "@jupyter-widgets/controls",
      "model_module_version": "2.0.0",
      "model_name": "HTMLMathStyleModel",
      "state": {
       "description_width": "",
       "font_size": null,
       "text_color": null
      }
     },
     "247aecc0c3a24573a7b9e14bd153d530": {
      "model_module": "@jupyter-widgets/controls",
      "model_module_version": "2.0.0",
      "model_name": "HBoxModel",
      "state": {
       "children": [
        "IPY_MODEL_849412fbc08947809b76f9ca6cc1c58a",
        "IPY_MODEL_fbf9476744a647f59ff48777c57f7a41",
        "IPY_MODEL_c9a37c5714404c90a191f4912a66d216"
       ],
       "layout": "IPY_MODEL_9c291cbf81e14b1cae7756aa8dc43f9b"
      }
     },
     "2502fb754a3444a7aab8bdbef4056144": {
      "model_module": "@jupyter-widgets/controls",
      "model_module_version": "2.0.0",
      "model_name": "HBoxModel",
      "state": {
       "children": [
        "IPY_MODEL_66a88a93ca47423b8be369cb8daaa812",
        "IPY_MODEL_0f6ec1fa186747c38ee24ed82e28d78f"
       ],
       "layout": "IPY_MODEL_d05d5014551e409dba0ddbd9e4da0056"
      }
     },
     "25104db6d87e41d3b3aeb9c0998f10a3": {
      "model_module": "@jupyter-widgets/controls",
      "model_module_version": "2.0.0",
      "model_name": "DescriptionStyleModel",
      "state": {
       "description_width": "125px"
      }
     },
     "25561a52cf494ded977e723b7a9a4208": {
      "model_module": "@jupyter-widgets/controls",
      "model_module_version": "2.0.0",
      "model_name": "HBoxModel",
      "state": {
       "children": [
        "IPY_MODEL_83fe600b01e2410fa69052b6119bc37f",
        "IPY_MODEL_215c8abfe167402aa66442fc44918730"
       ],
       "layout": "IPY_MODEL_dff1ed6fd14e496196ee7fcff42ea61c"
      }
     },
     "257cb129a6394591b0b5fd4a49918478": {
      "model_module": "@jupyter-widgets/controls",
      "model_module_version": "2.0.0",
      "model_name": "DescriptionStyleModel",
      "state": {
       "description_width": ""
      }
     },
     "259dce06149d441fb3c96fef25d0dacb": {
      "model_module": "@jupyter-widgets/base",
      "model_module_version": "2.0.0",
      "model_name": "LayoutModel",
      "state": {
       "margin": "0px 0px 0px 10px",
       "width": "350px"
      }
     },
     "25bb3580eba6487a85ab8e71ea5d184f": {
      "model_module": "@jupyter-widgets/base",
      "model_module_version": "2.0.0",
      "model_name": "LayoutModel",
      "state": {
       "align_items": "center",
       "padding": "0px 5px 0px 5px"
      }
     },
     "25e55ee9594249f888e119d7337c13bb": {
      "model_module": "@jupyter-widgets/controls",
      "model_module_version": "2.0.0",
      "model_name": "HTMLMathModel",
      "state": {
       "layout": "IPY_MODEL_fb47287d9cec41dfbd98d8cfbdc585f1",
       "style": "IPY_MODEL_d405238740154110957f55ea24e29b54",
       "value": "The initial fraction of solids that is xylan (kg/kg).  Must be in the range [0, 1]"
      }
     },
     "26b0bb57ddb246d79cd43388ee4bb0bf": {
      "model_module": "@jupyter-widgets/controls",
      "model_module_version": "2.0.0",
      "model_name": "DescriptionStyleModel",
      "state": {
       "description_width": "125px"
      }
     },
     "270c490a68514501a851664e17d0cf1f": {
      "model_module": "@jupyter-widgets/base",
      "model_module_version": "2.0.0",
      "model_name": "LayoutModel",
      "state": {
       "margin": "0px 0px 0px 10px",
       "width": "350px"
      }
     },
     "273110ed5ff942a8958df4aa047fc99b": {
      "model_module": "@jupyter-widgets/controls",
      "model_module_version": "2.0.0",
      "model_name": "HTMLMathStyleModel",
      "state": {
       "description_width": "",
       "font_size": null,
       "text_color": null
      }
     },
     "27d01277b2dc4087a07cccead3e6a77e": {
      "model_module": "@jupyter-widgets/controls",
      "model_module_version": "2.0.0",
      "model_name": "RadioButtonsModel",
      "state": {
       "_options_labels": [
        "Lignocellulose Model",
        "CFD Surrogate",
        "CFD Simulation"
       ],
       "index": 1,
       "layout": "IPY_MODEL_530c8bb360004f7d95dd855ec1581dcf",
       "style": "IPY_MODEL_fd86262f049c438293f0cfef0e2a1237",
       "tooltip": "Specifies the solver to use for the EH step, \"CFD Simulation\" requires HPC resources."
      }
     },
     "27de6afe923f4a89b29f9a0492e9b27a": {
      "model_module": "@jupyter-widgets/base",
      "model_module_version": "2.0.0",
      "model_name": "LayoutModel",
      "state": {
       "margin": "0px 0px 0px 10px",
       "width": "350px"
      }
     },
     "286a31dd396d40cfbb881765497342f9": {
      "model_module": "@jupyter-widgets/controls",
      "model_module_version": "2.0.0",
      "model_name": "BoundedFloatTextModel",
      "state": {
       "description": "Gas velocity",
       "layout": "IPY_MODEL_06b2eafe081d40abbcf98a9f0d5a1bc2",
       "max": 0.1,
       "min": 0.01,
       "step": null,
       "style": "IPY_MODEL_05243a6927ce43578795b6e2598489a4",
       "tooltip": "Gas velocity in the simulation (m/s).  Must be in $[0.01, 0.1]$",
       "value": 0.08
      }
     },
     "289d940a528546dfb1b339ec96c0801f": {
      "model_module": "@jupyter-widgets/controls",
      "model_module_version": "2.0.0",
      "model_name": "HBoxModel",
      "state": {
       "children": [
        "IPY_MODEL_ccba300d038a475aad9c9645b13b18fa",
        "IPY_MODEL_b50684a6c5b14016b4541fac79e48770"
       ],
       "layout": "IPY_MODEL_726ed819dbb84f209be5222b5b3eb6eb"
      }
     },
     "28fc226adb52465da77d56806c346ede": {
      "model_module": "@jupyter-widgets/base",
      "model_module_version": "2.0.0",
      "model_name": "LayoutModel",
      "state": {
       "margin": "0px 0px 0px 10px",
       "width": "350px"
      }
     },
     "292eb4074e6b45f8bb619ef77c1a732b": {
      "model_module": "@jupyter-widgets/base",
      "model_module_version": "2.0.0",
      "model_name": "LayoutModel",
      "state": {
       "display": "flex",
       "justify_content": "flex-end",
       "padding": "0px 5px 0px 0px",
       "width": "130px"
      }
     },
     "29fb8d4e35e24f41abaa95038e79f172": {
      "model_module": "@jupyter-widgets/controls",
      "model_module_version": "2.0.0",
      "model_name": "HBoxModel",
      "state": {
       "children": [
        "IPY_MODEL_0f16a3d6e1f04a1b947426ae128267b1",
        "IPY_MODEL_a59da45bd7ee42ca9e1e0be55c9f1cf7"
       ],
       "layout": "IPY_MODEL_e768ac1ce710466d864725cec99b8f09"
      }
     },
     "2a0e2ec41c314cc9aa596cee942b2eb5": {
      "model_module": "@jupyter-widgets/controls",
      "model_module_version": "2.0.0",
      "model_name": "DescriptionStyleModel",
      "state": {
       "description_width": "125px"
      }
     },
     "2a2892da4e7e4257bad71e3f6e3a9385": {
      "model_module": "@jupyter-widgets/base",
      "model_module_version": "2.0.0",
      "model_name": "LayoutModel",
      "state": {
       "width": "350px"
      }
     },
     "2a30e5b7a4ab4203a0065f88b5c8baeb": {
      "model_module": "@jupyter-widgets/base",
      "model_module_version": "2.0.0",
      "model_name": "LayoutModel",
      "state": {}
     },
     "2a68b3bfec2c413390f8ea4dace97aec": {
      "model_module": "@jupyter-widgets/base",
      "model_module_version": "2.0.0",
      "model_name": "LayoutModel",
      "state": {
       "display": "flex",
       "justify_content": "flex-end",
       "padding": "0px 5px 0px 0px",
       "width": "130px"
      }
     },
     "2b0910e212474f7c91ae3e68f7c64380": {
      "model_module": "@jupyter-widgets/base",
      "model_module_version": "2.0.0",
      "model_name": "LayoutModel",
      "state": {
       "width": "350px"
      }
     },
     "2b8c1417cbfb4267825698024ac04644": {
      "model_module": "@jupyter-widgets/base",
      "model_module_version": "2.0.0",
      "model_name": "LayoutModel",
      "state": {}
     },
     "2bc61454df7d4315b925fe06d39e7b64": {
      "model_module": "@jupyter-widgets/controls",
      "model_module_version": "2.0.0",
      "model_name": "HTMLMathModel",
      "state": {
       "layout": "IPY_MODEL_4a3524827dde4a79bc58b28695960fb0",
       "style": "IPY_MODEL_539343594bd940039c51f5d81fe41ac5",
       "value": "The initial fraction of solids that is glucan (kg/kg).  Must be in the range [0, 1]"
      }
     },
     "2c44afa219f547ff977585171c0ea90a": {
      "model_module": "@jupyter-widgets/controls",
      "model_module_version": "2.0.0",
      "model_name": "HBoxModel",
      "state": {
       "children": [
        "IPY_MODEL_54a0c1a16fe7414c80754af443131cce",
        "IPY_MODEL_08fcc29619364730baf6e4e4821ad488"
       ],
       "layout": "IPY_MODEL_649dc41ae00d4720bc1183ba97c1f874"
      }
     },
     "2ccfe3d52277452b817094e48ec36017": {
      "model_module": "@jupyter-widgets/controls",
      "model_module_version": "2.0.0",
      "model_name": "DescriptionStyleModel",
      "state": {
       "description_width": "125px"
      }
     },
     "2d74f146227645f0be8b17bf9fdecb8f": {
      "model_module": "@jupyter-widgets/controls",
      "model_module_version": "2.0.0",
      "model_name": "HBoxModel",
      "state": {
       "children": [
        "IPY_MODEL_a8978b3d7cc5477a82cdde470a849945",
        "IPY_MODEL_00e7e95a202442839faaa416196767dd"
       ],
       "layout": "IPY_MODEL_c08006e34a15435f9eef679c5abc7711"
      }
     },
     "2e00f4fbc7a74d70b43097aa63c78262": {
      "model_module": "@jupyter-widgets/base",
      "model_module_version": "2.0.0",
      "model_name": "LayoutModel",
      "state": {
       "margin": "0px 0px 0px 10px",
       "width": "350px"
      }
     },
     "2e0a9527af4246d8b769adc2c9872dac": {
      "model_module": "@jupyter-widgets/controls",
      "model_module_version": "2.0.0",
      "model_name": "HBoxModel",
      "state": {
       "children": [
        "IPY_MODEL_4e2f7dc789894ad9ac50ebadcb3f537c",
        "IPY_MODEL_6cd7d6dd60cc4e0bae0e3643606ea060"
       ],
       "layout": "IPY_MODEL_222a0abb275e485d89fe0b1e086eb775"
      }
     },
     "2e770d6cbb214458be1ceef2317bc3ba": {
      "model_module": "@jupyter-widgets/controls",
      "model_module_version": "2.0.0",
      "model_name": "HTMLMathModel",
      "state": {
       "layout": "IPY_MODEL_13ee37e5a9fd40e0b573fc38882ccf30",
       "style": "IPY_MODEL_b2cb61cf2048450295ba8bed30d89e28",
       "value": "The initial concentration of acid (mol/mL).  Must be in the range [0, 1]"
      }
     },
     "2e8427b5a83e4dac8fa494421fbe0d5b": {
      "model_module": "@jupyter-widgets/controls",
      "model_module_version": "2.0.0",
      "model_name": "HTMLMathStyleModel",
      "state": {
       "description_width": "",
       "font_size": null,
       "text_color": null
      }
     },
     "2e95fa4b810843d991b262a96cc4ad30": {
      "model_module": "@jupyter-widgets/controls",
      "model_module_version": "2.0.0",
      "model_name": "DescriptionStyleModel",
      "state": {
       "description_width": "125px"
      }
     },
     "2ec3b18cd914410783dd4c6b9f363a39": {
      "model_module": "@jupyter-widgets/controls",
      "model_module_version": "2.0.0",
      "model_name": "ButtonModel",
      "state": {
       "button_style": "success",
       "description": "Run All.",
       "layout": "IPY_MODEL_f5c99ca3ce824e0d86937756648d1aae",
       "style": "IPY_MODEL_64e71b729bd74affab01f1d82992ff64",
       "tooltip": "Execute the model start-to-finish with the properties specified above."
      }
     },
     "2ed346be592b458aa08de6bb4629bc5f": {
      "model_module": "@jupyter-widgets/controls",
      "model_module_version": "2.0.0",
      "model_name": "RadioButtonsModel",
      "state": {
       "_options_labels": [
        "Lignocellulose Model",
        "CFD Surrogate",
        "CFD Simulation"
       ],
       "index": 1,
       "layout": "IPY_MODEL_59b4bc18d5ed431bb52ea7197277046f",
       "style": "IPY_MODEL_73091d7cb1f94f62a37fa0e776a4216e",
       "tooltip": "Specifies the solver to use for the EH step, \"CFD Simulation\" requires HPC resources."
      }
     },
     "2f329d3d337d47b9a34acdac8c403fb6": {
      "model_module": "@jupyter-widgets/base",
      "model_module_version": "2.0.0",
      "model_name": "LayoutModel",
      "state": {}
     },
     "2f5237ffcf6c4e80aac342db3545acce": {
      "model_module": "@jupyter-widgets/base",
      "model_module_version": "2.0.0",
      "model_name": "LayoutModel",
      "state": {
       "align_items": "center",
       "padding": "0px 5px 0px 5px"
      }
     },
     "300c4ac672b64bb1928365ab7e11f3ea": {
      "model_module": "@jupyter-widgets/base",
      "model_module_version": "2.0.0",
      "model_name": "LayoutModel",
      "state": {
       "width": "350px"
      }
     },
     "305ecc46bac544e596ba75ca7c0bb95f": {
      "model_module": "@jupyter-widgets/base",
      "model_module_version": "2.0.0",
      "model_name": "LayoutModel",
      "state": {}
     },
     "30c519b8fec84dd38c80cd733f584495": {
      "model_module": "@jupyter-widgets/base",
      "model_module_version": "2.0.0",
      "model_name": "LayoutModel",
      "state": {
       "margin": "0px 0px 0px 10px",
       "width": "350px"
      }
     },
     "30d2290b4dc541bf820399a56bd69bff": {
      "model_module": "@jupyter-widgets/controls",
      "model_module_version": "2.0.0",
      "model_name": "HTMLMathModel",
      "state": {
       "layout": "IPY_MODEL_d689c9189f2a4cfaa38366de520dfa5f",
       "style": "IPY_MODEL_a6ef985d6b684789b91d9776c790fb6b",
       "value": "The total time of the simulation (h).  Must be $\\geq$ 1"
      }
     },
     "30f754f5b70249e59018d349560f0696": {
      "model_module": "@jupyter-widgets/controls",
      "model_module_version": "2.0.0",
      "model_name": "HBoxModel",
      "state": {
       "children": [
        "IPY_MODEL_1be856382bef484680b8704ac8ffca43",
        "IPY_MODEL_1b14275435c64e3b991a355438492c51"
       ],
       "layout": "IPY_MODEL_961960bf316349e19fd53cf29abd5f03"
      }
     },
     "31052229908846d6a94f82601df16b67": {
      "model_module": "@jupyter-widgets/controls",
      "model_module_version": "2.0.0",
      "model_name": "HTMLMathModel",
      "state": {
       "layout": "IPY_MODEL_31c38559f53f40bf8b03f56f556f4fb0",
       "style": "IPY_MODEL_cd148208540544278f546752d3c86ada",
       "value": "Ratio of the enzyme mass to the total solution mass (mg/g).  Must be in the range [0, 1000]"
      }
     },
     "31351104e18d4e9d8733e989b11e34fa": {
      "model_module": "@jupyter-widgets/base",
      "model_module_version": "2.0.0",
      "model_name": "LayoutModel",
      "state": {
       "margin": "0px 0px 0px 10px",
       "width": "350px"
      }
     },
     "315c095170e74770a60172616af0b6c8": {
      "model_module": "@jupyter-widgets/controls",
      "model_module_version": "2.0.0",
      "model_name": "HBoxModel",
      "state": {
       "children": [
        "IPY_MODEL_08ae82de313949098c93c60a6030ee7f",
        "IPY_MODEL_c676601b015d453fbb7a67c3a84bb4c1"
       ],
       "layout": "IPY_MODEL_b97afdc8403343f096f07b107ceadeef"
      }
     },
     "31bb98658609428381b8259bb4f352e2": {
      "model_module": "@jupyter-widgets/controls",
      "model_module_version": "2.0.0",
      "model_name": "ButtonStyleModel",
      "state": {
       "font_family": null,
       "font_size": null,
       "font_style": null,
       "font_variant": null,
       "font_weight": null,
       "text_color": null,
       "text_decoration": null
      }
     },
     "31c38559f53f40bf8b03f56f556f4fb0": {
      "model_module": "@jupyter-widgets/base",
      "model_module_version": "2.0.0",
      "model_name": "LayoutModel",
      "state": {
       "margin": "0px 0px 0px 10px",
       "width": "350px"
      }
     },
     "31d2d745641c4f89bb2741d3936a643a": {
      "model_module": "@jupyter-widgets/controls",
      "model_module_version": "2.0.0",
      "model_name": "HTMLMathModel",
      "state": {
       "layout": "IPY_MODEL_ae5ae44c5547436182546ca9dcab6d36",
       "style": "IPY_MODEL_43a161595fb346d5b063c4a99a717359",
       "value": "The initial fraction of solids that is glucan (kg/kg).  Must be in the range [0, 1]"
      }
     },
     "33d0872ad55045d0baaa57ca0a4903b9": {
      "model_module": "@jupyter-widgets/controls",
      "model_module_version": "2.0.0",
      "model_name": "DescriptionStyleModel",
      "state": {
       "description_width": "125px"
      }
     },
     "340ec2bcb90a432dbbfbe0220e701b7f": {
      "model_module": "@jupyter-widgets/base",
      "model_module_version": "2.0.0",
      "model_name": "LayoutModel",
      "state": {
       "width": "350px"
      }
     },
     "345d2553ad104b6ab47e05bf76e0a2eb": {
      "model_module": "@jupyter-widgets/base",
      "model_module_version": "2.0.0",
      "model_name": "LayoutModel",
      "state": {
       "align_items": "center",
       "padding": "0px 5px 0px 5px"
      }
     },
     "348c59b957c944b8961aef7ff15faaed": {
      "model_module": "@jupyter-widgets/base",
      "model_module_version": "2.0.0",
      "model_name": "LayoutModel",
      "state": {}
     },
     "34d1f3ec63ba47f0b74e10dfb745eabe": {
      "model_module": "@jupyter-widgets/controls",
      "model_module_version": "2.0.0",
      "model_name": "BoundedFloatTextModel",
      "state": {
       "description": "Enzymatic Load",
       "layout": "IPY_MODEL_b029d8d8aab546ceba76f7a4fc5ca8d3",
       "max": 1000,
       "step": null,
       "style": "IPY_MODEL_ce9df395cf0642beb1a38d1510a9574c",
       "tooltip": "Ratio of the enzyme mass to the total solution mass (mg/g).  Must be in the range [0, 1000]",
       "value": 30
      }
     },
     "34d9479fbb0842ce83aee650d58ae2f6": {
      "model_module": "@jupyter-widgets/base",
      "model_module_version": "2.0.0",
      "model_name": "LayoutModel",
      "state": {}
     },
     "35191bca02c24d669e0bcf64f4df593c": {
      "model_module": "@jupyter-widgets/base",
      "model_module_version": "2.0.0",
      "model_name": "LayoutModel",
      "state": {
       "align_items": "center",
       "padding": "0px 5px 0px 5px"
      }
     },
     "3533fd201de441df918608efa2efa240": {
      "model_module": "@jupyter-widgets/controls",
      "model_module_version": "2.0.0",
      "model_name": "HBoxModel",
      "state": {
       "children": [
        "IPY_MODEL_f64f766797f145b29fc245dec725fbb7",
        "IPY_MODEL_5f9fcbde3264404da183ca64bb658470"
       ],
       "layout": "IPY_MODEL_5e7ad3f63f5745159f8b738b8ae26de1"
      }
     },
     "3674a8aec1f9450592263ea7797cc9a6": {
      "model_module": "@jupyter-widgets/base",
      "model_module_version": "2.0.0",
      "model_name": "LayoutModel",
      "state": {
       "align_items": "center",
       "padding": "0px 5px 0px 5px"
      }
     },
     "36f1b2f5996b4a659e38a762870c87a2": {
      "model_module": "@jupyter-widgets/controls",
      "model_module_version": "2.0.0",
      "model_name": "HTMLMathStyleModel",
      "state": {
       "description_width": "",
       "font_size": null,
       "text_color": null
      }
     },
     "377bcb2f08824d5bb26eaaee562f0419": {
      "model_module": "@jupyter-widgets/controls",
      "model_module_version": "2.0.0",
      "model_name": "HTMLMathModel",
      "state": {
       "layout": "IPY_MODEL_3aba994e821740a4822c92cb5e16d02a",
       "style": "IPY_MODEL_aa76ed273fcd43e684f2e4d227fafe62",
       "value": "Gas velocity in the simulation (m/s).  Must be in $[0.01, 0.1]$"
      }
     },
     "384206d68d43470fba744bd4e4afbb75": {
      "model_module": "@jupyter-widgets/controls",
      "model_module_version": "2.0.0",
      "model_name": "HTMLMathModel",
      "state": {
       "layout": "IPY_MODEL_c0b4a64be9c24597bba7303016bed4eb",
       "style": "IPY_MODEL_703e8b6696d34fd08f59718d5655c6d8",
       "value": "Specifies the solver to use for the bioreaction step, \"CFD Simulation\" requires HPC resources."
      }
     },
     "3875b7f844524b1abe7dc8609a1a3982": {
      "model_module": "@jupyter-widgets/controls",
      "model_module_version": "2.0.0",
      "model_name": "CheckboxStyleModel",
      "state": {
       "description_width": "125px"
      }
     },
     "38c3e7a83ed4426790b9d7bf7ebe24bf": {
      "model_module": "@jupyter-widgets/controls",
      "model_module_version": "2.0.0",
      "model_name": "HBoxModel",
      "state": {
       "children": [
        "IPY_MODEL_be99bb55abd440eeb21d736f3b4a48fb",
        "IPY_MODEL_3fa48dc0a43d4c87aea2bfc26ca4fe45",
        "IPY_MODEL_91ed7e1d513c4a64830673b5a458bcde"
       ],
       "layout": "IPY_MODEL_c6a6f9342a774d56bf767d2c85bba21b"
      }
     },
     "38feb9e3de27427bb68e5dc7051cd043": {
      "model_module": "@jupyter-widgets/controls",
      "model_module_version": "2.0.0",
      "model_name": "BoundedFloatTextModel",
      "state": {
       "description": "Acid Loading",
       "layout": "IPY_MODEL_58a1948f810f4125baedc7f61ea4c339",
       "max": 1,
       "step": null,
       "style": "IPY_MODEL_7e89c8b3bfae41319048f59409bc9086",
       "tooltip": "The initial concentration of acid (mol/mL).  Must be in the range [0, 1]",
       "value": 0.0001
      }
     },
     "39704115270d487eb82a7437134b3706": {
      "model_module": "@jupyter-widgets/controls",
      "model_module_version": "2.0.0",
      "model_name": "CheckboxModel",
      "state": {
       "disabled": true,
       "layout": "IPY_MODEL_f9a086bce4454c2b9e4d70c23cd0122f",
       "style": "IPY_MODEL_642908912ecc40c990f1fd981bdfd94e",
       "tooltip": "Show Plots",
       "value": false
      }
     },
     "39d9f6e866af4e32bb244bea0657d65b": {
      "model_module": "@jupyter-widgets/controls",
      "model_module_version": "2.0.0",
      "model_name": "HTMLMathStyleModel",
      "state": {
       "description_width": "",
       "font_size": null,
       "text_color": null
      }
     },
     "3a6ee53212cd45c9a15d49fd54a9f147": {
      "model_module": "@jupyter-widgets/base",
      "model_module_version": "2.0.0",
      "model_name": "LayoutModel",
      "state": {}
     },
     "3a8164bbe62b44c09230394270eee775": {
      "model_module": "@jupyter-widgets/controls",
      "model_module_version": "2.0.0",
      "model_name": "DescriptionStyleModel",
      "state": {
       "description_width": ""
      }
     },
     "3aba994e821740a4822c92cb5e16d02a": {
      "model_module": "@jupyter-widgets/base",
      "model_module_version": "2.0.0",
      "model_name": "LayoutModel",
      "state": {
       "margin": "0px 0px 0px 10px",
       "width": "350px"
      }
     },
     "3b3b1f35a07a4ab3a2cb4bb00ef68344": {
      "model_module": "@jupyter-widgets/base",
      "model_module_version": "2.0.0",
      "model_name": "LayoutModel",
      "state": {}
     },
     "3b4411890da54603a93e379d77f0dc50": {
      "model_module": "@jupyter-widgets/base",
      "model_module_version": "2.0.0",
      "model_name": "LayoutModel",
      "state": {
       "align_items": "center",
       "padding": "0px 5px 0px 5px"
      }
     },
     "3b74b12605494df584f7807c8c63179a": {
      "model_module": "@jupyter-widgets/base",
      "model_module_version": "2.0.0",
      "model_name": "LayoutModel",
      "state": {
       "margin": "0px 0px 0px 10px",
       "width": "350px"
      }
     },
     "3bcb40a97d7a40a595f8ccbf07acd2a0": {
      "model_module": "@jupyter-widgets/controls",
      "model_module_version": "2.0.0",
      "model_name": "HTMLMathStyleModel",
      "state": {
       "description_width": "",
       "font_size": null,
       "text_color": null
      }
     },
     "3c1dd184cf6d46e79512adc435cbfae0": {
      "model_module": "@jupyter-widgets/controls",
      "model_module_version": "2.0.0",
      "model_name": "HTMLMathModel",
      "state": {
       "layout": "IPY_MODEL_f2fcef6ee2024f67a9d3fc608276085b",
       "style": "IPY_MODEL_f8fbee2aa2c34523989bf127938dc6f6",
       "value": "Total simulation time (min).  Must be $\\geq$ 1"
      }
     },
     "3c7bd1d8ad6f48679cd9c4c1da0a9cef": {
      "model_module": "@jupyter-widgets/controls",
      "model_module_version": "2.0.0",
      "model_name": "CheckboxStyleModel",
      "state": {
       "description_width": ""
      }
     },
     "3c81f92a43444cc18191eb43f44f355e": {
      "model_module": "@jupyter-widgets/base",
      "model_module_version": "2.0.0",
      "model_name": "LayoutModel",
      "state": {}
     },
     "3cccd1baa5e84524abfe7b3812a2f52d": {
      "model_module": "@jupyter-widgets/controls",
      "model_module_version": "2.0.0",
      "model_name": "CheckboxStyleModel",
      "state": {
       "description_width": ""
      }
     },
     "3d84e97467454d8fa7aef3a5453729ea": {
      "model_module": "@jupyter-widgets/base",
      "model_module_version": "2.0.0",
      "model_name": "LayoutModel",
      "state": {
       "display": "flex",
       "justify_content": "flex-end",
       "padding": "0px 5px 0px 0px",
       "width": "130px"
      }
     },
     "3dc558bd01144e9fbd5b070dc4573488": {
      "model_module": "@jupyter-widgets/controls",
      "model_module_version": "2.0.0",
      "model_name": "DescriptionStyleModel",
      "state": {
       "description_width": ""
      }
     },
     "3ddb3c6d81fb4e86ab55c88db536fb14": {
      "model_module": "@jupyter-widgets/controls",
      "model_module_version": "2.0.0",
      "model_name": "DescriptionStyleModel",
      "state": {
       "description_width": ""
      }
     },
     "3dff73757c574f45bac19f2ee91ae0a4": {
      "model_module": "@jupyter-widgets/controls",
      "model_module_version": "2.0.0",
      "model_name": "HBoxModel",
      "state": {
       "children": [
        "IPY_MODEL_4fcb69315e7a4d8ebdf3ab6ffb42528e",
        "IPY_MODEL_14c77f0be8004f84b4bea249c359ea8c"
       ],
       "layout": "IPY_MODEL_3b4411890da54603a93e379d77f0dc50"
      }
     },
     "3e1f8db8f2034b498d07ce429033f4af": {
      "model_module": "@jupyter-widgets/controls",
      "model_module_version": "2.0.0",
      "model_name": "HTMLMathModel",
      "state": {
       "layout": "IPY_MODEL_ec505f761b6d47cf8489adb4e1384e7c",
       "style": "IPY_MODEL_f91d8d30138e4abf9e7733d6fadfb783",
       "value": "Bubble diameter (m).  For surragate model must be in $[0.003, 0.008]$, for cfd must be $>=0$"
      }
     },
     "3e2b935c93514411a080f6e07e77bc2c": {
      "model_module": "@jupyter-widgets/controls",
      "model_module_version": "2.0.0",
      "model_name": "DescriptionStyleModel",
      "state": {
       "description_width": "125px"
      }
     },
     "3e45e367c6984254868e7f466d7aa2f6": {
      "model_module": "@jupyter-widgets/controls",
      "model_module_version": "2.0.0",
      "model_name": "DescriptionStyleModel",
      "state": {
       "description_width": ""
      }
     },
     "3e8ac499e4b64328ba54952c35b0afe1": {
      "model_module": "@jupyter-widgets/controls",
      "model_module_version": "2.0.0",
      "model_name": "HTMLMathModel",
      "state": {
       "layout": "IPY_MODEL_95f52238ecf949b8ac0e05d449345f3d",
       "style": "IPY_MODEL_5afc43b762ee4b0da284bef738a46153",
       "value": "Model Type"
      }
     },
     "3ed1c90b01bf4b7ba60f40c76f2b567b": {
      "model_module": "@jupyter-widgets/base",
      "model_module_version": "2.0.0",
      "model_name": "LayoutModel",
      "state": {
       "align_items": "center",
       "padding": "0px 5px 0px 5px"
      }
     },
     "3f2a1423629f49589ff275f3b7d35d90": {
      "model_module": "@jupyter-widgets/base",
      "model_module_version": "2.0.0",
      "model_name": "LayoutModel",
      "state": {
       "width": "350px"
      }
     },
     "3f4b05e8249e415db360c9955141cad6": {
      "model_module": "@jupyter-widgets/base",
      "model_module_version": "2.0.0",
      "model_name": "LayoutModel",
      "state": {}
     },
     "3fa0e76e67794b31b96f4a23c5fd7360": {
      "model_module": "@jupyter-widgets/controls",
      "model_module_version": "2.0.0",
      "model_name": "HBoxModel",
      "state": {
       "children": [
        "IPY_MODEL_b9c1c0d94be140338e199f4bacb6aca8",
        "IPY_MODEL_a52ae81836f04a588412c71df0e30a1f"
       ],
       "layout": "IPY_MODEL_e78fe53ac4d64b8ba3d0723e4f91f549"
      }
     },
     "3fa48dc0a43d4c87aea2bfc26ca4fe45": {
      "model_module": "@jupyter-widgets/controls",
      "model_module_version": "2.0.0",
      "model_name": "RadioButtonsModel",
      "state": {
       "_options_labels": [
        "CFD Surrogate",
        "CFD Simulation"
       ],
       "index": 0,
       "layout": "IPY_MODEL_c3c9b5c624084aecb95570d4f66a0815",
       "style": "IPY_MODEL_04f9f065fff94ba78e6673d2bb822137",
       "tooltip": "Specifies the solver to use for the bioreaction step, \"CFD Simulation\" requires HPC resources."
      }
     },
     "3fbdd099cdb345c09cfe12db9ee4048d": {
      "model_module": "@jupyter-widgets/controls",
      "model_module_version": "2.0.0",
      "model_name": "HTMLMathStyleModel",
      "state": {
       "description_width": "",
       "font_size": null,
       "text_color": null
      }
     },
     "402c6b1a27fe4a6da9f96a68be4b0ea0": {
      "model_module": "@jupyter-widgets/base",
      "model_module_version": "2.0.0",
      "model_name": "LayoutModel",
      "state": {
       "width": "350px"
      }
     },
     "4054250155324837b6b74abd960a3b80": {
      "model_module": "@jupyter-widgets/controls",
      "model_module_version": "2.0.0",
      "model_name": "HTMLMathModel",
      "state": {
       "layout": "IPY_MODEL_d4465d440e9445a4aca25ff1b55d290c",
       "style": "IPY_MODEL_ba03c3c116114f05adec8b679a5cb5c2",
       "value": "Show Plots"
      }
     },
     "40b638a355274b34a238b91a39709035": {
      "model_module": "@jupyter-widgets/controls",
      "model_module_version": "2.0.0",
      "model_name": "BoundedFloatTextModel",
      "state": {
       "description": "Steam Temperature",
       "layout": "IPY_MODEL_cbd946f230114189bfab8837ec33e2b0",
       "max": 250.3,
       "min": 3.8,
       "step": null,
       "style": "IPY_MODEL_977b364363294a909f5c877df69332d1",
       "tooltip": "The fixed temperature of the steam ($^\\circ$C).",
       "value": 150
      }
     },
     "40e7b58d0717472f862e742640ee3a50": {
      "model_module": "@jupyter-widgets/controls",
      "model_module_version": "2.0.0",
      "model_name": "CheckboxStyleModel",
      "state": {
       "description_width": ""
      }
     },
     "40e848ee259c4a45a30cd5e6c82bde8f": {
      "model_module": "@jupyter-widgets/controls",
      "model_module_version": "2.0.0",
      "model_name": "HBoxModel",
      "state": {
       "children": [
        "IPY_MODEL_d9813d2159d94a62aedbc841e580b5b3",
        "IPY_MODEL_815aee81824e4e4b9692ed8eb05949f2",
        "IPY_MODEL_d8a3a601362a4e17882eca2db3c7fd23"
       ],
       "layout": "IPY_MODEL_c2e8def1ede248e5ad76c233e9ae531b"
      }
     },
     "4117365c123e48438f733b6194416a95": {
      "model_module": "@jupyter-widgets/controls",
      "model_module_version": "2.0.0",
      "model_name": "BoundedFloatTextModel",
      "state": {
       "description": "Initial FIS$_0$",
       "layout": "IPY_MODEL_2b0910e212474f7c91ae3e68f7c64380",
       "max": 1,
       "step": null,
       "style": "IPY_MODEL_4a370934ebfb453b9d4417c56ea4a72c",
       "tooltip": "The initial fraction of insoluble solids (kg/kg).  Must be in the range [0, 1]",
       "value": 0.745
      }
     },
     "420fd72047f0438696c8bc4e142aad6a": {
      "model_module": "@jupyter-widgets/base",
      "model_module_version": "2.0.0",
      "model_name": "LayoutModel",
      "state": {}
     },
     "42833217cab748269062a6b1a3e62afa": {
      "model_module": "@jupyter-widgets/controls",
      "model_module_version": "2.0.0",
      "model_name": "HBoxModel",
      "state": {
       "children": [
        "IPY_MODEL_cf41a30cc5e34f5a993105a6cb317e2b",
        "IPY_MODEL_8d650750536f4782bc9dd3100a8b04b2"
       ],
       "layout": "IPY_MODEL_146f96458b5044a28e2d18ec4e552ca0"
      }
     },
     "42c53e0bcf39412690f859e6f0eaaee2": {
      "model_module": "@jupyter-widgets/base",
      "model_module_version": "2.0.0",
      "model_name": "LayoutModel",
      "state": {}
     },
     "433eb228a78b4ff2bb281302b2cdaee3": {
      "model_module": "@jupyter-widgets/controls",
      "model_module_version": "2.0.0",
      "model_name": "HBoxModel",
      "state": {
       "children": [
        "IPY_MODEL_cd993c8c8a4848948a10562d0a9eb1d3",
        "IPY_MODEL_dc2d42056b6b4044a199a3464b8518e3"
       ],
       "layout": "IPY_MODEL_ac5feb29bb994590b101fcfd34933d54"
      }
     },
     "43669ba904304eb5b50a92376b5de8ed": {
      "model_module": "@jupyter-widgets/controls",
      "model_module_version": "2.0.0",
      "model_name": "BoundedFloatTextModel",
      "state": {
       "description": "Initial Porosity",
       "layout": "IPY_MODEL_53280339e05547edaea09e09356cc6a5",
       "max": 1,
       "step": null,
       "style": "IPY_MODEL_2a0e2ec41c314cc9aa596cee942b2eb5",
       "tooltip": "The initial porous fraction of the biomass particles.  Must be in the range [0, 1]",
       "value": 0.8
      }
     },
     "43a161595fb346d5b063c4a99a717359": {
      "model_module": "@jupyter-widgets/controls",
      "model_module_version": "2.0.0",
      "model_name": "HTMLMathStyleModel",
      "state": {
       "description_width": "",
       "font_size": null,
       "text_color": null
      }
     },
     "441c9b3ed5f54316b5c556bf15140204": {
      "model_module": "@jupyter-widgets/controls",
      "model_module_version": "2.0.0",
      "model_name": "HTMLMathStyleModel",
      "state": {
       "description_width": "",
       "font_size": null,
       "text_color": null
      }
     },
     "443efd9e98564896baab20859f70a485": {
      "model_module": "@jupyter-widgets/controls",
      "model_module_version": "2.0.0",
      "model_name": "HBoxModel",
      "state": {
       "children": [
        "IPY_MODEL_6971e57ebbf149e5b6f67a245c2498ee",
        "IPY_MODEL_2bc61454df7d4315b925fe06d39e7b64"
       ],
       "layout": "IPY_MODEL_d026e94e7e394396b2511f0ad2009632"
      }
     },
     "44bbd122a43842628a6bddbe4721fba3": {
      "model_module": "@jupyter-widgets/controls",
      "model_module_version": "2.0.0",
      "model_name": "BoundedFloatTextModel",
      "state": {
       "description": "Column height",
       "layout": "IPY_MODEL_1381a865cad04183aa43499e480bd1a9",
       "max": 50,
       "min": 10,
       "step": null,
       "style": "IPY_MODEL_fd14a38fd84b4cb79483d4a33ef7fedb",
       "tooltip": "Column height (m).  Must be in $[10, 50]$",
       "value": 40
      }
     },
     "44c1ba0370a24c7fb82ac6ebe62d7d68": {
      "model_module": "@jupyter-widgets/controls",
      "model_module_version": "2.0.0",
      "model_name": "HBoxModel",
      "state": {
       "children": [
        "IPY_MODEL_1a8d463ec980408b9ef88aaefaa18870",
        "IPY_MODEL_6c0e28d60a88417d85f880e89a1eb410"
       ],
       "layout": "IPY_MODEL_82eee809c976465a8ad9a729d0001fd8"
      }
     },
     "44fa31db506442beb4b7bfb59f9b6a25": {
      "model_module": "@jupyter-widgets/controls",
      "model_module_version": "2.0.0",
      "model_name": "HBoxModel",
      "state": {
       "children": [
        "IPY_MODEL_9b0d97cd77b549f1bcbfad56045de673",
        "IPY_MODEL_aa14044f7f6f432595dcd102caad8f76"
       ],
       "layout": "IPY_MODEL_665b9dae97fc49749064af46931b7891"
      }
     },
     "451bd81bc14440db8f2fddfffbf4d538": {
      "model_module": "@jupyter-widgets/controls",
      "model_module_version": "2.0.0",
      "model_name": "DescriptionStyleModel",
      "state": {
       "description_width": ""
      }
     },
     "4553feffc5ba48108bfb80a32fb53714": {
      "model_module": "@jupyter-widgets/base",
      "model_module_version": "2.0.0",
      "model_name": "LayoutModel",
      "state": {
       "display": "flex",
       "justify_content": "flex-end",
       "padding": "0px 5px 0px 0px",
       "width": "130px"
      }
     },
     "46e238e466664dc5bcaa5ed1c5989210": {
      "model_module": "@jupyter-widgets/controls",
      "model_module_version": "2.0.0",
      "model_name": "HTMLMathStyleModel",
      "state": {
       "description_width": "",
       "font_size": null,
       "text_color": null
      }
     },
     "47a907bbccb249eba4d800a7e60c3916": {
      "model_module": "@jupyter-widgets/base",
      "model_module_version": "2.0.0",
      "model_name": "LayoutModel",
      "state": {}
     },
     "47aa6f0a784e441a88e97c424866b4b6": {
      "model_module": "@jupyter-widgets/controls",
      "model_module_version": "2.0.0",
      "model_name": "HTMLMathStyleModel",
      "state": {
       "description_width": "",
       "font_size": null,
       "text_color": null
      }
     },
     "47bbcd3c6b5f46a6b8bb3051ab2297f2": {
      "model_module": "@jupyter-widgets/controls",
      "model_module_version": "2.0.0",
      "model_name": "BoundedFloatTextModel",
      "state": {
       "description": "Column diameter",
       "layout": "IPY_MODEL_1f33938ad9704cb3b907390db31ea7dc",
       "max": 6,
       "min": 1,
       "step": null,
       "style": "IPY_MODEL_54c73717b54b41ff8d2120b0b3982b58",
       "tooltip": "Column diameter (m).  Must be in $[1, 6]$",
       "value": 5
      }
     },
     "47e22dee12d34f188d34d8dfd733403b": {
      "model_module": "@jupyter-widgets/controls",
      "model_module_version": "2.0.0",
      "model_name": "DescriptionStyleModel",
      "state": {
       "description_width": ""
      }
     },
     "48ee253177894aa787ed257b6ee98674": {
      "model_module": "@jupyter-widgets/base",
      "model_module_version": "2.0.0",
      "model_name": "LayoutModel",
      "state": {
       "height": "48px",
       "width": "220px"
      }
     },
     "49601ac1bb4140049dad5b99a6448816": {
      "model_module": "@jupyter-widgets/controls",
      "model_module_version": "2.0.0",
      "model_name": "HTMLMathStyleModel",
      "state": {
       "description_width": "",
       "font_size": null,
       "text_color": null
      }
     },
     "49c8f77e97f24e7d8f1fada36c78bce2": {
      "model_module": "@jupyter-widgets/controls",
      "model_module_version": "2.0.0",
      "model_name": "BoundedFloatTextModel",
      "state": {
       "description": "Final Time",
       "layout": "IPY_MODEL_4fff001291974d309c8b77d0be191086",
       "max": 24,
       "min": 1,
       "step": null,
       "style": "IPY_MODEL_9c58b35209ba49b9a92690166a249320",
       "tooltip": "The total time of the simulation (h).  Must be $\\geq$ 1",
       "value": 24
      }
     },
     "49dd810538814402976230d910c43c0f": {
      "model_module": "@jupyter-widgets/controls",
      "model_module_version": "2.0.0",
      "model_name": "HTMLMathStyleModel",
      "state": {
       "description_width": "",
       "font_size": null,
       "text_color": null
      }
     },
     "49e4550b43704c948e59026333e1b403": {
      "model_module": "@jupyter-widgets/controls",
      "model_module_version": "2.0.0",
      "model_name": "BoundedFloatTextModel",
      "state": {
       "description": "Acid Loading",
       "layout": "IPY_MODEL_6199b6020e314a0f9b274e3802cff6d5",
       "max": 1,
       "step": null,
       "style": "IPY_MODEL_2ccfe3d52277452b817094e48ec36017",
       "tooltip": "The initial concentration of acid (mol/mL).  Must be in the range [0, 1]",
       "value": 0.0001
      }
     },
     "4a1be9873b09417ca96e3f69b1fe56d4": {
      "model_module": "@jupyter-widgets/base",
      "model_module_version": "2.0.0",
      "model_name": "LayoutModel",
      "state": {}
     },
     "4a2a71935e7d49cabb0eca77b00ec249": {
      "model_module": "@jupyter-widgets/controls",
      "model_module_version": "2.0.0",
      "model_name": "DescriptionStyleModel",
      "state": {
       "description_width": ""
      }
     },
     "4a3524827dde4a79bc58b28695960fb0": {
      "model_module": "@jupyter-widgets/base",
      "model_module_version": "2.0.0",
      "model_name": "LayoutModel",
      "state": {
       "margin": "0px 0px 0px 10px",
       "width": "350px"
      }
     },
     "4a370934ebfb453b9d4417c56ea4a72c": {
      "model_module": "@jupyter-widgets/controls",
      "model_module_version": "2.0.0",
      "model_name": "DescriptionStyleModel",
      "state": {
       "description_width": "125px"
      }
     },
     "4a68001bdc634f1794b793f5acddf230": {
      "model_module": "@jupyter-widgets/controls",
      "model_module_version": "2.0.0",
      "model_name": "ButtonModel",
      "state": {
       "button_style": "success",
       "description": "Run All.",
       "layout": "IPY_MODEL_8323cc24d1da49b8be68b30017e5f5fa",
       "style": "IPY_MODEL_e6b27aabc3bb41d9a753a2f8fb07f816",
       "tooltip": "Execute the model start-to-finish with the properties specified above."
      }
     },
     "4ab94adae7a8476c95ad2cc573f5479c": {
      "model_module": "@jupyter-widgets/controls",
      "model_module_version": "2.0.0",
      "model_name": "BoundedFloatTextModel",
      "state": {
       "description": "Column diameter",
       "layout": "IPY_MODEL_6b5e88cacd3e4bf791c77901c170d6cc",
       "max": 6,
       "min": 1,
       "step": null,
       "style": "IPY_MODEL_7cac12ee7de7440eae81a0eb6426dfd6",
       "tooltip": "Column diameter (m).  Must be in $[1, 6]$",
       "value": 5
      }
     },
     "4be1a9a22b0f44c1b8bd400ed78dfa87": {
      "model_module": "@jupyter-widgets/controls",
      "model_module_version": "2.0.0",
      "model_name": "HBoxModel",
      "state": {
       "children": [
        "IPY_MODEL_f64d469eb832467c8f0e8780f75ed52e",
        "IPY_MODEL_90be7541c2e744ad84357fa3e669da06"
       ],
       "layout": "IPY_MODEL_f2e46fed2b81438f8da70a33c583c818"
      }
     },
     "4c1c3f1ec2c34e1da1c188f25fa7b860": {
      "model_module": "@jupyter-widgets/base",
      "model_module_version": "2.0.0",
      "model_name": "LayoutModel",
      "state": {
       "margin": "0px 0px 0px 10px",
       "width": "350px"
      }
     },
     "4c5740e1cc844e53a0708f7169cda49a": {
      "model_module": "@jupyter-widgets/controls",
      "model_module_version": "2.0.0",
      "model_name": "DescriptionStyleModel",
      "state": {
       "description_width": ""
      }
     },
     "4cb6ed2bce1d49cc887b1e63f854cb7a": {
      "model_module": "@jupyter-widgets/controls",
      "model_module_version": "2.0.0",
      "model_name": "HBoxModel",
      "state": {
       "children": [
        "IPY_MODEL_d48ef214a1e748bb973749611a747d1f",
        "IPY_MODEL_9034a95a06a847cd834feee85619dbf4"
       ],
       "layout": "IPY_MODEL_345d2553ad104b6ab47e05bf76e0a2eb"
      }
     },
     "4d041ed4c5be4508898171da7f44ffa8": {
      "model_module": "@jupyter-widgets/controls",
      "model_module_version": "2.0.0",
      "model_name": "HBoxModel",
      "state": {
       "children": [
        "IPY_MODEL_7ba7ac03eb7646e2a50917b0f9cbd273",
        "IPY_MODEL_b9a8ba34e23e4a8ea15df5668622506f"
       ],
       "layout": "IPY_MODEL_0f2562551b7c43d4895eef2724f06112"
      }
     },
     "4d1b305f61ab4378ba86673312591785": {
      "model_module": "@jupyter-widgets/controls",
      "model_module_version": "2.0.0",
      "model_name": "DescriptionStyleModel",
      "state": {
       "description_width": ""
      }
     },
     "4d2c154b4869499cbdf918fc9dad1af5": {
      "model_module": "@jupyter-widgets/controls",
      "model_module_version": "2.0.0",
      "model_name": "HTMLMathStyleModel",
      "state": {
       "description_width": "",
       "font_size": null,
       "text_color": null
      }
     },
     "4d33ec64ef9c415989d51ef54515d82e": {
      "model_module": "@jupyter-widgets/controls",
      "model_module_version": "2.0.0",
      "model_name": "HBoxModel",
      "state": {
       "children": [
        "IPY_MODEL_88066682c35d430a8544b422956b49ff",
        "IPY_MODEL_f0f6dfaa50414dd8a0bb7464bd895f86"
       ],
       "layout": "IPY_MODEL_17fc28bc82674e50b5cbc0a3101f494e"
      }
     },
     "4d52b85ec9d64fcb9d6538e03c4e3142": {
      "model_module": "@jupyter-widgets/base",
      "model_module_version": "2.0.0",
      "model_name": "LayoutModel",
      "state": {
       "width": "350px"
      }
     },
     "4de6fe53d64047ac839b1ad192a7475c": {
      "model_module": "@jupyter-widgets/base",
      "model_module_version": "2.0.0",
      "model_name": "LayoutModel",
      "state": {
       "margin": "0px 0px 0px 10px",
       "width": "350px"
      }
     },
     "4e2f7dc789894ad9ac50ebadcb3f537c": {
      "model_module": "@jupyter-widgets/controls",
      "model_module_version": "2.0.0",
      "model_name": "BoundedFloatTextModel",
      "state": {
       "description": "Gas velocity",
       "layout": "IPY_MODEL_8838aac9198a4ae49b3e7e9cb5497f87",
       "max": 0.1,
       "min": 0.01,
       "step": null,
       "style": "IPY_MODEL_8171958fdb8048d89b558d33c3e209dc",
       "tooltip": "Gas velocity in the simulation (m/s).  Must be in $[0.01, 0.1]$",
       "value": 0.08
      }
     },
     "4e78c816f0784f2093295b75c62f7d2a": {
      "model_module": "@jupyter-widgets/controls",
      "model_module_version": "2.0.0",
      "model_name": "BoundedFloatTextModel",
      "state": {
       "description": "FIS$_0$ Target",
       "layout": "IPY_MODEL_80ea8ff63c514682b682a6bd961e5560",
       "max": 1,
       "step": null,
       "style": "IPY_MODEL_6981aab272dd49848c69f9646ea3626c",
       "tooltip": "The target value for initial fraction of insoluble solids *after* dilution (kg/kg).  Must be in the range [0, 1]",
       "value": 0.05
      }
     },
     "4ee6b11870ae457cbb592ff781406164": {
      "model_module": "@jupyter-widgets/base",
      "model_module_version": "2.0.0",
      "model_name": "LayoutModel",
      "state": {}
     },
     "4f1e68aae6544d14a51c10d015d34afc": {
      "model_module": "@jupyter-widgets/controls",
      "model_module_version": "2.0.0",
      "model_name": "RadioButtonsModel",
      "state": {
       "_options_labels": [
        "CFD Surrogate",
        "CFD Simulation"
       ],
       "index": 0,
       "layout": "IPY_MODEL_015ec62cc37c4d9397716a448f05a71a",
       "style": "IPY_MODEL_8afdc19f70b14e07911664ca37087da1",
       "tooltip": "Specifies the solver to use for the bioreaction step, \"CFD Simulation\" requires HPC resources."
      }
     },
     "4f4a0114eac7409aa8644a5b66f0c6f7": {
      "model_module": "@jupyter-widgets/controls",
      "model_module_version": "2.0.0",
      "model_name": "ButtonModel",
      "state": {
       "button_style": "success",
       "description": "Run All.",
       "layout": "IPY_MODEL_8e8f49be98c147279978b1e4ffb834bb",
       "style": "IPY_MODEL_31bb98658609428381b8259bb4f352e2",
       "tooltip": "Execute the model start-to-finish with the properties specified above."
      }
     },
     "4fbe571fb2704021912d996d7dccac18": {
      "model_module": "@jupyter-widgets/controls",
      "model_module_version": "2.0.0",
      "model_name": "HTMLMathStyleModel",
      "state": {
       "description_width": "",
       "font_size": null,
       "text_color": null
      }
     },
     "4fc2e67b2f274aa8ac41fab06ff1d245": {
      "model_module": "@jupyter-widgets/base",
      "model_module_version": "2.0.0",
      "model_name": "LayoutModel",
      "state": {
       "margin": "0px 0px 0px 10px",
       "width": "350px"
      }
     },
     "4fcb69315e7a4d8ebdf3ab6ffb42528e": {
      "model_module": "@jupyter-widgets/controls",
      "model_module_version": "2.0.0",
      "model_name": "BoundedFloatTextModel",
      "state": {
       "description": "Gas velocity",
       "layout": "IPY_MODEL_3f2a1423629f49589ff275f3b7d35d90",
       "max": 0.1,
       "min": 0.01,
       "step": null,
       "style": "IPY_MODEL_fd23872ba9e64cdda2ba8f012a454657",
       "tooltip": "Gas velocity in the simulation (m/s).  Must be in $[0.01, 0.1]$",
       "value": 0.08
      }
     },
     "4fff001291974d309c8b77d0be191086": {
      "model_module": "@jupyter-widgets/base",
      "model_module_version": "2.0.0",
      "model_name": "LayoutModel",
      "state": {
       "width": "350px"
      }
     },
     "502a49f5ccc541a582e0f36782caf9da": {
      "model_module": "@jupyter-widgets/base",
      "model_module_version": "2.0.0",
      "model_name": "LayoutModel",
      "state": {}
     },
     "5030a94bcd6b440fa524ada8e4f8a495": {
      "model_module": "@jupyter-widgets/base",
      "model_module_version": "2.0.0",
      "model_name": "LayoutModel",
      "state": {
       "width": "350px"
      }
     },
     "50510e9863324f409e32cc30cf8a2269": {
      "model_module": "@jupyter-widgets/controls",
      "model_module_version": "2.0.0",
      "model_name": "HTMLMathStyleModel",
      "state": {
       "description_width": "",
       "font_size": null,
       "text_color": null
      }
     },
     "5219c38680d9473d8d805f7d7c40164e": {
      "model_module": "@jupyter-widgets/controls",
      "model_module_version": "2.0.0",
      "model_name": "HTMLMathStyleModel",
      "state": {
       "description_width": "",
       "font_size": null,
       "text_color": null
      }
     },
     "530c8bb360004f7d95dd855ec1581dcf": {
      "model_module": "@jupyter-widgets/base",
      "model_module_version": "2.0.0",
      "model_name": "LayoutModel",
      "state": {
       "height": "68px",
       "width": "220px"
      }
     },
     "53181c84c78b4519995b0badbd409ee4": {
      "model_module": "@jupyter-widgets/controls",
      "model_module_version": "2.0.0",
      "model_name": "HTMLMathModel",
      "state": {
       "layout": "IPY_MODEL_b48c921fb98f42cb940b625a617a7a74",
       "style": "IPY_MODEL_b0b01d98b6c84015ae2158fee9d4aabc",
       "value": "Column diameter (m).  Must be in $[1, 6]$"
      }
     },
     "53280339e05547edaea09e09356cc6a5": {
      "model_module": "@jupyter-widgets/base",
      "model_module_version": "2.0.0",
      "model_name": "LayoutModel",
      "state": {
       "width": "350px"
      }
     },
     "53375547a1254b0ba628553624954417": {
      "model_module": "@jupyter-widgets/base",
      "model_module_version": "2.0.0",
      "model_name": "LayoutModel",
      "state": {
       "padding": "0px 0px 0px 203px ",
       "width": "350px"
      }
     },
     "5375380d241244c1b89ebb1caebaed50": {
      "model_module": "@jupyter-widgets/base",
      "model_module_version": "2.0.0",
      "model_name": "LayoutModel",
      "state": {
       "align_items": "center",
       "padding": "0px 5px 0px 5px"
      }
     },
     "539343594bd940039c51f5d81fe41ac5": {
      "model_module": "@jupyter-widgets/controls",
      "model_module_version": "2.0.0",
      "model_name": "HTMLMathStyleModel",
      "state": {
       "description_width": "",
       "font_size": null,
       "text_color": null
      }
     },
     "547b6237792b4a8591ad1d8ab686ed6c": {
      "model_module": "@jupyter-widgets/base",
      "model_module_version": "2.0.0",
      "model_name": "LayoutModel",
      "state": {
       "width": "350px"
      }
     },
     "547c6f16d5f14205b1ff42f9445d9de5": {
      "model_module": "@jupyter-widgets/controls",
      "model_module_version": "2.0.0",
      "model_name": "HBoxModel",
      "state": {
       "children": [
        "IPY_MODEL_e8f50dd457844a428a11262b00c9c863",
        "IPY_MODEL_ea155d6795b94c8489237005d765407c"
       ],
       "layout": "IPY_MODEL_02dd361951c34703bed407fe58f4f9cf"
      }
     },
     "54934478ef3647f586272dc9d65ea34e": {
      "model_module": "@jupyter-widgets/controls",
      "model_module_version": "2.0.0",
      "model_name": "HBoxModel",
      "state": {
       "children": [
        "IPY_MODEL_49c8f77e97f24e7d8f1fada36c78bce2",
        "IPY_MODEL_fb9c9cd54a9f4cbfa687256fdd0e7eba"
       ],
       "layout": "IPY_MODEL_f2486f6c64b5424ebbf803f75d0b3503"
      }
     },
     "54a0c1a16fe7414c80754af443131cce": {
      "model_module": "@jupyter-widgets/controls",
      "model_module_version": "2.0.0",
      "model_name": "BoundedFloatTextModel",
      "state": {
       "description": "Enzymatic Load",
       "layout": "IPY_MODEL_2a2892da4e7e4257bad71e3f6e3a9385",
       "max": 1000,
       "step": null,
       "style": "IPY_MODEL_e2d931350bde495e920c786be100af15",
       "tooltip": "Ratio of the enzyme mass to the total solution mass (mg/g).  Must be in the range [0, 1000]",
       "value": 30
      }
     },
     "54a0f5c842b74af88a414b371be675a0": {
      "model_module": "@jupyter-widgets/controls",
      "model_module_version": "2.0.0",
      "model_name": "HBoxModel",
      "state": {
       "children": [
        "IPY_MODEL_f4154f4fe7de4f38baae4971fe9b5750",
        "IPY_MODEL_31d2d745641c4f89bb2741d3936a643a"
       ],
       "layout": "IPY_MODEL_d58e111fcf8a4e8c87df16647d2fdc0c"
      }
     },
     "54c072a5e2c94ea7826b72a6dc7878e9": {
      "model_module": "@jupyter-widgets/base",
      "model_module_version": "2.0.0",
      "model_name": "LayoutModel",
      "state": {
       "margin": "0px 0px 0px 10px",
       "width": "350px"
      }
     },
     "54c73717b54b41ff8d2120b0b3982b58": {
      "model_module": "@jupyter-widgets/controls",
      "model_module_version": "2.0.0",
      "model_name": "DescriptionStyleModel",
      "state": {
       "description_width": "125px"
      }
     },
     "551649dd679f4f11aeb93facb0204d28": {
      "model_module": "@jupyter-widgets/controls",
      "model_module_version": "2.0.0",
      "model_name": "DescriptionStyleModel",
      "state": {
       "description_width": ""
      }
     },
     "55587b94a69a4119b537a448224d0a0e": {
      "model_module": "@jupyter-widgets/base",
      "model_module_version": "2.0.0",
      "model_name": "LayoutModel",
      "state": {
       "margin": "0px 0px 0px 10px",
       "width": "350px"
      }
     },
     "557eeaae66cc4ce5875af56f6e1f1a94": {
      "model_module": "@jupyter-widgets/controls",
      "model_module_version": "2.0.0",
      "model_name": "HTMLMathModel",
      "state": {
       "layout": "IPY_MODEL_6ab4ee63fb4b46ce94004e381713790b",
       "style": "IPY_MODEL_2379cc5dc89544ebaa3462d67b3d029a",
       "value": "The target value for initial fraction of insoluble solids *after* dilution (kg/kg).  Must be in the range [0, 1]"
      }
     },
     "55b5f2c4b4544727ba87ff8d1b08b702": {
      "model_module": "@jupyter-widgets/controls",
      "model_module_version": "2.0.0",
      "model_name": "DescriptionStyleModel",
      "state": {
       "description_width": "125px"
      }
     },
     "567b6c6bedb54e6f9a3db1b02013cfcf": {
      "model_module": "@jupyter-widgets/controls",
      "model_module_version": "2.0.0",
      "model_name": "HTMLMathStyleModel",
      "state": {
       "description_width": "",
       "font_size": null,
       "text_color": null
      }
     },
     "579fca4410d04243b04fe09a80327c76": {
      "model_module": "@jupyter-widgets/controls",
      "model_module_version": "2.0.0",
      "model_name": "CheckboxStyleModel",
      "state": {
       "description_width": "125px"
      }
     },
     "580f11a18519475f87a3abbf757e7e15": {
      "model_module": "@jupyter-widgets/controls",
      "model_module_version": "2.0.0",
      "model_name": "HTMLMathModel",
      "state": {
       "layout": "IPY_MODEL_b8f15e312e194ac892d1fb0f531f3b3a",
       "style": "IPY_MODEL_755f71104be44af7a9da5c5daab42d19",
       "value": "The initial fraction of solids that is glucan (kg/kg).  Must be in the range [0, 1]"
      }
     },
     "586621640333415eaa92fb3081ea3859": {
      "model_module": "@jupyter-widgets/base",
      "model_module_version": "2.0.0",
      "model_name": "LayoutModel",
      "state": {
       "margin": "25px 0px 100px 170px",
       "width": "200px"
      }
     },
     "58a1948f810f4125baedc7f61ea4c339": {
      "model_module": "@jupyter-widgets/base",
      "model_module_version": "2.0.0",
      "model_name": "LayoutModel",
      "state": {
       "width": "350px"
      }
     },
     "59541430348d409892bc0f8d09149822": {
      "model_module": "@jupyter-widgets/controls",
      "model_module_version": "2.0.0",
      "model_name": "HTMLMathModel",
      "state": {
       "layout": "IPY_MODEL_85076efdce2b4a498a55dccb0c4ad090",
       "style": "IPY_MODEL_b8b705d361904c798f2188f0679bd3de",
       "value": "The initial concentration of acid (mol/mL).  Must be in the range [0, 1]"
      }
     },
     "595fb4a1155443de984f56cb70c327ae": {
      "model_module": "@jupyter-widgets/controls",
      "model_module_version": "2.0.0",
      "model_name": "HTMLMathStyleModel",
      "state": {
       "description_width": "",
       "font_size": null,
       "text_color": null
      }
     },
     "596b3ee886ab4ed2be63a3678c402079": {
      "model_module": "@jupyter-widgets/controls",
      "model_module_version": "2.0.0",
      "model_name": "BoundedFloatTextModel",
      "state": {
       "description": "Column diameter",
       "layout": "IPY_MODEL_a7174a0d50e14ceb8fc17e16406eded9",
       "max": 6,
       "min": 1,
       "step": null,
       "style": "IPY_MODEL_8b80bfb4fafd45ea86409baa8ad95964",
       "tooltip": "Column diameter (m).  Must be in $[1, 6]$",
       "value": 5
      }
     },
     "59b4bc18d5ed431bb52ea7197277046f": {
      "model_module": "@jupyter-widgets/base",
      "model_module_version": "2.0.0",
      "model_name": "LayoutModel",
      "state": {
       "height": "68px",
       "width": "220px"
      }
     },
     "59b9502c7aec498e908d14de584a94fc": {
      "model_module": "@jupyter-widgets/controls",
      "model_module_version": "2.0.0",
      "model_name": "HTMLMathModel",
      "state": {
       "layout": "IPY_MODEL_baac45567ef54e439a37d29e6c1e7762",
       "style": "IPY_MODEL_8d9954bdf7f74b90805fd5ca4d127217",
       "value": "Ratio of the enzyme mass to the total solution mass (mg/g).  Must be in the range [0, 1000]"
      }
     },
     "5a81fc795b034cc99995db4edeef6f2d": {
      "model_module": "@jupyter-widgets/controls",
      "model_module_version": "2.0.0",
      "model_name": "HTMLMathStyleModel",
      "state": {
       "description_width": "",
       "font_size": null,
       "text_color": null
      }
     },
     "5a9c0fa276994647b548e5bf466c57e5": {
      "model_module": "@jupyter-widgets/base",
      "model_module_version": "2.0.0",
      "model_name": "LayoutModel",
      "state": {
       "align_items": "center",
       "padding": "0px 5px 0px 5px"
      }
     },
     "5afc43b762ee4b0da284bef738a46153": {
      "model_module": "@jupyter-widgets/controls",
      "model_module_version": "2.0.0",
      "model_name": "HTMLMathStyleModel",
      "state": {
       "description_width": "",
       "font_size": null,
       "text_color": null
      }
     },
     "5b30531f46a042f1973ee0e202bc1218": {
      "model_module": "@jupyter-widgets/controls",
      "model_module_version": "2.0.0",
      "model_name": "BoundedFloatTextModel",
      "state": {
       "description": "Final Time",
       "layout": "IPY_MODEL_5030a94bcd6b440fa524ada8e4f8a495",
       "max": 10000000000000000,
       "min": 1,
       "step": null,
       "style": "IPY_MODEL_dbd37fadc3ea4d68b03a3657d83825e6",
       "tooltip": "The total time of the simulation (h).  Must be $\\geq 1$",
       "value": 100
      }
     },
     "5b7382602e904504a76c909dc1563b70": {
      "model_module": "@jupyter-widgets/controls",
      "model_module_version": "2.0.0",
      "model_name": "HTMLMathModel",
      "state": {
       "layout": "IPY_MODEL_db1cfb2fe3b94dd6b5e90bd2bae508a1",
       "style": "IPY_MODEL_84c54a265537457f9c9ce80b0ed03845",
       "value": "Total simulation time (min).  Must be $\\geq$ 1"
      }
     },
     "5c4b9dbb73604f1086c20a30d538ccb4": {
      "model_module": "@jupyter-widgets/controls",
      "model_module_version": "2.0.0",
      "model_name": "DescriptionStyleModel",
      "state": {
       "description_width": ""
      }
     },
     "5cb42dba06724d25bed64b1d60caf011": {
      "model_module": "@jupyter-widgets/controls",
      "model_module_version": "2.0.0",
      "model_name": "HBoxModel",
      "state": {
       "children": [
        "IPY_MODEL_3e8ac499e4b64328ba54952c35b0afe1",
        "IPY_MODEL_4f1e68aae6544d14a51c10d015d34afc",
        "IPY_MODEL_384206d68d43470fba744bd4e4afbb75"
       ],
       "layout": "IPY_MODEL_064655ce4c12442f98f9730d5200bb6c"
      }
     },
     "5d2f9f8906c64521975c70fbeaf7c358": {
      "model_module": "@jupyter-widgets/controls",
      "model_module_version": "2.0.0",
      "model_name": "DescriptionStyleModel",
      "state": {
       "description_width": "125px"
      }
     },
     "5e7ad3f63f5745159f8b738b8ae26de1": {
      "model_module": "@jupyter-widgets/base",
      "model_module_version": "2.0.0",
      "model_name": "LayoutModel",
      "state": {
       "align_items": "center",
       "padding": "0px 5px 0px 5px"
      }
     },
     "5ea654c439bd46848c9e79e868152ba8": {
      "model_module": "@jupyter-widgets/controls",
      "model_module_version": "2.0.0",
      "model_name": "BoundedFloatTextModel",
      "state": {
       "description": "Initial $X_X$",
       "layout": "IPY_MODEL_8cebb2aed9304cc4ad9254b06d2e9664",
       "max": 1,
       "step": null,
       "style": "IPY_MODEL_e208d1068d8646f4a06dc00801ebd7ca",
       "tooltip": "The initial fraction of solids that is xylan (kg/kg).  Must be in the range [0, 1]",
       "value": 0.263
      }
     },
     "5f352419e97f4587805a4a7eaf45e5f1": {
      "model_module": "@jupyter-widgets/controls",
      "model_module_version": "2.0.0",
      "model_name": "HTMLMathModel",
      "state": {
       "layout": "IPY_MODEL_d82b4031f2d7464283fa0a24a61fd3c6",
       "style": "IPY_MODEL_8fd38f44cc4c4a338d86f342fd5b0716",
       "value": "Column height (m).  Must be in $[10, 50]$"
      }
     },
     "5f9fcbde3264404da183ca64bb658470": {
      "model_module": "@jupyter-widgets/controls",
      "model_module_version": "2.0.0",
      "model_name": "HTMLMathModel",
      "state": {
       "layout": "IPY_MODEL_da22938d1e24433384d1facaa8f3160d",
       "style": "IPY_MODEL_ca4c3dfd6fbe4790b242f3bee8317a88",
       "value": "Show Plots"
      }
     },
     "5fb1c676949e4f10937a75e058186b6f": {
      "model_module": "@jupyter-widgets/controls",
      "model_module_version": "2.0.0",
      "model_name": "DescriptionStyleModel",
      "state": {
       "description_width": "125px"
      }
     },
     "5ff6e9164a6a46b58f6d7014c05eb0b2": {
      "model_module": "@jupyter-widgets/controls",
      "model_module_version": "2.0.0",
      "model_name": "DescriptionStyleModel",
      "state": {
       "description_width": "125px"
      }
     },
     "6062eff2036e4e97993228ec9eaf4150": {
      "model_module": "@jupyter-widgets/controls",
      "model_module_version": "2.0.0",
      "model_name": "BoundedFloatTextModel",
      "state": {
       "description": "Final Time",
       "layout": "IPY_MODEL_0c113d078a854409b03c8e5fdd02daf9",
       "max": 24,
       "min": 1,
       "step": null,
       "style": "IPY_MODEL_e26babe309d148b98c3723294388cf8f",
       "tooltip": "The total time of the simulation (h).  Must be $\\geq$ 1",
       "value": 24
      }
     },
     "607093f6124d403cba2fb20a6c73fb76": {
      "model_module": "@jupyter-widgets/base",
      "model_module_version": "2.0.0",
      "model_name": "LayoutModel",
      "state": {
       "margin": "0px 0px 0px 10px",
       "width": "350px"
      }
     },
     "6075eec0df2242fd84379921aa9badab": {
      "model_module": "@jupyter-widgets/controls",
      "model_module_version": "2.0.0",
      "model_name": "DescriptionStyleModel",
      "state": {
       "description_width": "125px"
      }
     },
     "60779a0863624c0db28e8f9e596ee30a": {
      "model_module": "@jupyter-widgets/controls",
      "model_module_version": "2.0.0",
      "model_name": "HTMLMathStyleModel",
      "state": {
       "description_width": "",
       "font_size": null,
       "text_color": null
      }
     },
     "61255d07664d42838d4c16c23edfe8de": {
      "model_module": "@jupyter-widgets/base",
      "model_module_version": "2.0.0",
      "model_name": "LayoutModel",
      "state": {}
     },
     "61520a05777d4c35b8832d519cd5b804": {
      "model_module": "@jupyter-widgets/controls",
      "model_module_version": "2.0.0",
      "model_name": "HBoxModel",
      "state": {
       "children": [
        "IPY_MODEL_b24d407da4a745c090e94f219ded9606",
        "IPY_MODEL_3c1dd184cf6d46e79512adc435cbfae0"
       ],
       "layout": "IPY_MODEL_c60e6f0b4a164b769f6f005f5699d476"
      }
     },
     "6199b6020e314a0f9b274e3802cff6d5": {
      "model_module": "@jupyter-widgets/base",
      "model_module_version": "2.0.0",
      "model_name": "LayoutModel",
      "state": {
       "width": "350px"
      }
     },
     "621d0797d2e54cb3bcba61a6256769cd": {
      "model_module": "@jupyter-widgets/base",
      "model_module_version": "2.0.0",
      "model_name": "LayoutModel",
      "state": {
       "margin": "0px 0px 0px 10px",
       "width": "350px"
      }
     },
     "62a0e4b20e7e482c8522e1d00e263c07": {
      "model_module": "@jupyter-widgets/base",
      "model_module_version": "2.0.0",
      "model_name": "LayoutModel",
      "state": {
       "margin": "0px 0px 0px 10px",
       "width": "350px"
      }
     },
     "6354b4ef01884932a0121920ad0acd31": {
      "model_module": "@jupyter-widgets/controls",
      "model_module_version": "2.0.0",
      "model_name": "DescriptionStyleModel",
      "state": {
       "description_width": ""
      }
     },
     "636fee8113a142048195d606fe4be62e": {
      "model_module": "@jupyter-widgets/controls",
      "model_module_version": "2.0.0",
      "model_name": "HTMLMathStyleModel",
      "state": {
       "description_width": "",
       "font_size": null,
       "text_color": null
      }
     },
     "63ca0ebb084743ada63c98df5a1f9c0d": {
      "model_module": "@jupyter-widgets/controls",
      "model_module_version": "2.0.0",
      "model_name": "HTMLMathStyleModel",
      "state": {
       "description_width": "",
       "font_size": null,
       "text_color": null
      }
     },
     "642908912ecc40c990f1fd981bdfd94e": {
      "model_module": "@jupyter-widgets/controls",
      "model_module_version": "2.0.0",
      "model_name": "CheckboxStyleModel",
      "state": {
       "description_width": "125px"
      }
     },
     "649dc41ae00d4720bc1183ba97c1f874": {
      "model_module": "@jupyter-widgets/base",
      "model_module_version": "2.0.0",
      "model_name": "LayoutModel",
      "state": {
       "align_items": "center",
       "padding": "0px 5px 0px 5px"
      }
     },
     "64e71b729bd74affab01f1d82992ff64": {
      "model_module": "@jupyter-widgets/controls",
      "model_module_version": "2.0.0",
      "model_name": "ButtonStyleModel",
      "state": {
       "font_family": null,
       "font_size": null,
       "font_style": null,
       "font_variant": null,
       "font_weight": null,
       "text_color": null,
       "text_decoration": null
      }
     },
     "64f5122106244b51a0409b3fb7b94c9b": {
      "model_module": "@jupyter-widgets/base",
      "model_module_version": "2.0.0",
      "model_name": "LayoutModel",
      "state": {
       "width": "350px"
      }
     },
     "650bc1e4eff94a6bb71b34cfd734058d": {
      "model_module": "@jupyter-widgets/controls",
      "model_module_version": "2.0.0",
      "model_name": "HTMLMathStyleModel",
      "state": {
       "description_width": "",
       "font_size": null,
       "text_color": null
      }
     },
     "6519d547a8414f10a475a472e005afc6": {
      "model_module": "@jupyter-widgets/base",
      "model_module_version": "2.0.0",
      "model_name": "LayoutModel",
      "state": {
       "display": "flex",
       "justify_content": "flex-end",
       "padding": "0px 5px 0px 0px",
       "width": "130px"
      }
     },
     "6571251673c54ef2a45b3697918f6c2b": {
      "model_module": "@jupyter-widgets/controls",
      "model_module_version": "2.0.0",
      "model_name": "DescriptionStyleModel",
      "state": {
       "description_width": "125px"
      }
     },
     "6580037ea33f4b6896b638d4c7f25f95": {
      "model_module": "@jupyter-widgets/base",
      "model_module_version": "2.0.0",
      "model_name": "LayoutModel",
      "state": {}
     },
     "6583fae58f1345bb8dfbe36b14c5ee24": {
      "model_module": "@jupyter-widgets/base",
      "model_module_version": "2.0.0",
      "model_name": "LayoutModel",
      "state": {}
     },
     "65bd963310734f30b585846fc0b8cb7c": {
      "model_module": "@jupyter-widgets/controls",
      "model_module_version": "2.0.0",
      "model_name": "HBoxModel",
      "state": {
       "children": [
        "IPY_MODEL_b1fb00f829e2447ab010bce27410cad4",
        "IPY_MODEL_b7d06b566b4d439b8e3fb4b94d0922d8"
       ],
       "layout": "IPY_MODEL_c7db4e6289bd41b59cd180947f787501"
      }
     },
     "661b3c6442b049f9bddd01c0ce17cb96": {
      "model_module": "@jupyter-widgets/controls",
      "model_module_version": "2.0.0",
      "model_name": "BoundedFloatTextModel",
      "state": {
       "description": "Initial $X_G$",
       "layout": "IPY_MODEL_f6f4b2409bd547c59596cbc734d07387",
       "max": 1,
       "step": null,
       "style": "IPY_MODEL_e738d7c7ee9842cdad58938287fbd77a",
       "tooltip": "The initial fraction of solids that is glucan (kg/kg).  Must be in the range [0, 1]",
       "value": 0.4
      }
     },
     "665b9dae97fc49749064af46931b7891": {
      "model_module": "@jupyter-widgets/base",
      "model_module_version": "2.0.0",
      "model_name": "LayoutModel",
      "state": {
       "align_items": "center",
       "padding": "0px 5px 0px 5px"
      }
     },
     "66a88a93ca47423b8be369cb8daaa812": {
      "model_module": "@jupyter-widgets/controls",
      "model_module_version": "2.0.0",
      "model_name": "BoundedFloatTextModel",
      "state": {
       "description": "Final Time",
       "layout": "IPY_MODEL_f46225d2834d4c8bb5c74223b0c5f261",
       "max": 1440,
       "min": 1,
       "step": null,
       "style": "IPY_MODEL_d1c05a2fcc2148508bb551fdbdc96c66",
       "tooltip": "Total simulation time (min).  Must be $\\geq$ 1",
       "value": 8.3
      }
     },
     "66e852b1be0544d0b8929d373c1ce395": {
      "model_module": "@jupyter-widgets/controls",
      "model_module_version": "2.0.0",
      "model_name": "DescriptionStyleModel",
      "state": {
       "description_width": "125px"
      }
     },
     "67087ec72b774ebc9dc9ff6d75bc9b3e": {
      "model_module": "@jupyter-widgets/controls",
      "model_module_version": "2.0.0",
      "model_name": "DescriptionStyleModel",
      "state": {
       "description_width": ""
      }
     },
     "675b76f89c2b4450afa7c4c4641bae16": {
      "model_module": "@jupyter-widgets/controls",
      "model_module_version": "2.0.0",
      "model_name": "DescriptionStyleModel",
      "state": {
       "description_width": "125px"
      }
     },
     "6782ef66fd15429ebe5a63149714a038": {
      "model_module": "@jupyter-widgets/controls",
      "model_module_version": "2.0.0",
      "model_name": "HTMLMathStyleModel",
      "state": {
       "description_width": "",
       "font_size": null,
       "text_color": null
      }
     },
     "67dbaa695de547afb3e189c256482896": {
      "model_module": "@jupyter-widgets/base",
      "model_module_version": "2.0.0",
      "model_name": "LayoutModel",
      "state": {
       "align_items": "center",
       "padding": "0px 5px 0px 5px"
      }
     },
     "67e80366e5dd4c56a7bd9a9ddef7e5b4": {
      "model_module": "@jupyter-widgets/controls",
      "model_module_version": "2.0.0",
      "model_name": "HTMLMathModel",
      "state": {
       "layout": "IPY_MODEL_98a7bd6bd98e4bb48ad092b9130ed854",
       "style": "IPY_MODEL_14c52e7738df4a68b79c2c7f0cb0e312",
       "value": "The total time of the simulation (h).  Must be $\\geq$ 1"
      }
     },
     "684b358616ee420cab0037ffe581bc30": {
      "model_module": "@jupyter-widgets/base",
      "model_module_version": "2.0.0",
      "model_name": "LayoutModel",
      "state": {
       "align_items": "center",
       "padding": "0px 5px 0px 5px"
      }
     },
     "686391f73b844e80bebc6c811c0b7852": {
      "model_module": "@jupyter-widgets/controls",
      "model_module_version": "2.0.0",
      "model_name": "HTMLMathModel",
      "state": {
       "layout": "IPY_MODEL_cb777b0ecc0e4329be6cc6df076b190b",
       "style": "IPY_MODEL_6782ef66fd15429ebe5a63149714a038",
       "value": "The fixed temperature of the steam ($^\\circ$C)."
      }
     },
     "6971e57ebbf149e5b6f67a245c2498ee": {
      "model_module": "@jupyter-widgets/controls",
      "model_module_version": "2.0.0",
      "model_name": "BoundedFloatTextModel",
      "state": {
       "description": "Initial $X_G$",
       "layout": "IPY_MODEL_c79313c8ec8043389e82be152e1d1085",
       "max": 1,
       "step": null,
       "style": "IPY_MODEL_d454361209cd43b4bc4f8e33e0325acb",
       "tooltip": "The initial fraction of solids that is glucan (kg/kg).  Must be in the range [0, 1]",
       "value": 0.4
      }
     },
     "6981aab272dd49848c69f9646ea3626c": {
      "model_module": "@jupyter-widgets/controls",
      "model_module_version": "2.0.0",
      "model_name": "DescriptionStyleModel",
      "state": {
       "description_width": "125px"
      }
     },
     "6a747a08c37645a09958b1f774c15152": {
      "model_module": "@jupyter-widgets/base",
      "model_module_version": "2.0.0",
      "model_name": "LayoutModel",
      "state": {}
     },
     "6aa66af922824586a33d6dbd6e8f7fea": {
      "model_module": "@jupyter-widgets/base",
      "model_module_version": "2.0.0",
      "model_name": "LayoutModel",
      "state": {
       "align_items": "center",
       "padding": "0px 5px 0px 5px"
      }
     },
     "6aacaa2212034f728883dce6df6a3dc3": {
      "model_module": "@jupyter-widgets/base",
      "model_module_version": "2.0.0",
      "model_name": "LayoutModel",
      "state": {}
     },
     "6ab4ee63fb4b46ce94004e381713790b": {
      "model_module": "@jupyter-widgets/base",
      "model_module_version": "2.0.0",
      "model_name": "LayoutModel",
      "state": {
       "margin": "0px 0px 0px 10px",
       "width": "350px"
      }
     },
     "6b5e88cacd3e4bf791c77901c170d6cc": {
      "model_module": "@jupyter-widgets/base",
      "model_module_version": "2.0.0",
      "model_name": "LayoutModel",
      "state": {
       "width": "350px"
      }
     },
     "6b6032e4311c4fac84ff524a8611d0c5": {
      "model_module": "@jupyter-widgets/base",
      "model_module_version": "2.0.0",
      "model_name": "LayoutModel",
      "state": {}
     },
     "6b61b3f1d3874f6cafca1d88f5f42ab5": {
      "model_module": "@jupyter-widgets/base",
      "model_module_version": "2.0.0",
      "model_name": "LayoutModel",
      "state": {
       "margin": "0px 0px 0px 10px",
       "width": "350px"
      }
     },
     "6b667cde401645ffa76a1df9eb9948a8": {
      "model_module": "@jupyter-widgets/controls",
      "model_module_version": "2.0.0",
      "model_name": "DescriptionStyleModel",
      "state": {
       "description_width": ""
      }
     },
     "6b6697c8ee0e44a69e2bfcd6beeb6b0a": {
      "model_module": "@jupyter-widgets/base",
      "model_module_version": "2.0.0",
      "model_name": "LayoutModel",
      "state": {
       "width": "350px"
      }
     },
     "6b7a05e24e2f42bda231d76f6bf168a8": {
      "model_module": "@jupyter-widgets/base",
      "model_module_version": "2.0.0",
      "model_name": "LayoutModel",
      "state": {
       "align_items": "center",
       "padding": "0px 5px 0px 5px"
      }
     },
     "6b9ec77d05a249059931747d1e244664": {
      "model_module": "@jupyter-widgets/controls",
      "model_module_version": "2.0.0",
      "model_name": "HBoxModel",
      "state": {
       "children": [
        "IPY_MODEL_7c569c1e82be4bc3b69c6c83f0466802",
        "IPY_MODEL_4054250155324837b6b74abd960a3b80"
       ],
       "layout": "IPY_MODEL_e47aef97059e4cbbb35eba8c7246a732"
      }
     },
     "6c0e28d60a88417d85f880e89a1eb410": {
      "model_module": "@jupyter-widgets/controls",
      "model_module_version": "2.0.0",
      "model_name": "HTMLMathModel",
      "state": {
       "layout": "IPY_MODEL_9a5adbb9b7a64da9b09e8046af3e327a",
       "style": "IPY_MODEL_c8eb6d2a40af47ba8224dcce063aef3b",
       "value": "The initial fraction of insoluble solids (kg/kg).  Must be in the range [0, 1]"
      }
     },
     "6c9f3fe129864df4acb80abdbf374749": {
      "model_module": "@jupyter-widgets/base",
      "model_module_version": "2.0.0",
      "model_name": "LayoutModel",
      "state": {
       "width": "350px"
      }
     },
     "6ca6c10bfd3045789a0bb6e3f2756e0d": {
      "model_module": "@jupyter-widgets/base",
      "model_module_version": "2.0.0",
      "model_name": "LayoutModel",
      "state": {
       "align_items": "center",
       "padding": "0px 5px 0px 5px"
      }
     },
     "6cd7d6dd60cc4e0bae0e3643606ea060": {
      "model_module": "@jupyter-widgets/controls",
      "model_module_version": "2.0.0",
      "model_name": "HTMLMathModel",
      "state": {
       "layout": "IPY_MODEL_6eec7e7e21a94c5580d5f1817b4e8e55",
       "style": "IPY_MODEL_d96b9f8479e74a0c9738d6824daca306",
       "value": "Gas velocity in the simulation (m/s).  Must be in $[0.01, 0.1]$"
      }
     },
     "6daba09f3c2d4e7e854f8f4ee32e45cd": {
      "model_module": "@jupyter-widgets/controls",
      "model_module_version": "2.0.0",
      "model_name": "DescriptionStyleModel",
      "state": {
       "description_width": "125px"
      }
     },
     "6de4ff6dd06c4731a58733d17d81f559": {
      "model_module": "@jupyter-widgets/base",
      "model_module_version": "2.0.0",
      "model_name": "LayoutModel",
      "state": {
       "align_items": "center",
       "padding": "0px 5px 0px 5px"
      }
     },
     "6e26b609fc3940cfac49fafa92e849a9": {
      "model_module": "@jupyter-widgets/controls",
      "model_module_version": "2.0.0",
      "model_name": "DescriptionStyleModel",
      "state": {
       "description_width": ""
      }
     },
     "6e3c485983d2416289f0e0de605e059d": {
      "model_module": "@jupyter-widgets/base",
      "model_module_version": "2.0.0",
      "model_name": "LayoutModel",
      "state": {
       "align_items": "center",
       "padding": "0px 5px 0px 5px"
      }
     },
     "6eec7e7e21a94c5580d5f1817b4e8e55": {
      "model_module": "@jupyter-widgets/base",
      "model_module_version": "2.0.0",
      "model_name": "LayoutModel",
      "state": {
       "margin": "0px 0px 0px 10px",
       "width": "350px"
      }
     },
     "6efd91f12c5c41c784264f9fe882f827": {
      "model_module": "@jupyter-widgets/base",
      "model_module_version": "2.0.0",
      "model_name": "LayoutModel",
      "state": {
       "align_items": "center",
       "padding": "0px 5px 0px 5px"
      }
     },
     "6f1800ea76e14dadaf8f6258f6cba5be": {
      "model_module": "@jupyter-widgets/controls",
      "model_module_version": "2.0.0",
      "model_name": "HTMLMathStyleModel",
      "state": {
       "description_width": "",
       "font_size": null,
       "text_color": null
      }
     },
     "6f5a8129a2e8427e8c13cc8b629a1a51": {
      "model_module": "@jupyter-widgets/base",
      "model_module_version": "2.0.0",
      "model_name": "LayoutModel",
      "state": {}
     },
     "703e8b6696d34fd08f59718d5655c6d8": {
      "model_module": "@jupyter-widgets/controls",
      "model_module_version": "2.0.0",
      "model_name": "HTMLMathStyleModel",
      "state": {
       "description_width": "",
       "font_size": null,
       "text_color": null
      }
     },
     "7042f63cadcf4b119d370db5d3024bf8": {
      "model_module": "@jupyter-widgets/controls",
      "model_module_version": "2.0.0",
      "model_name": "DescriptionStyleModel",
      "state": {
       "description_width": ""
      }
     },
     "7067d7d09f034e07bd9675c79c00ec30": {
      "model_module": "@jupyter-widgets/controls",
      "model_module_version": "2.0.0",
      "model_name": "DescriptionStyleModel",
      "state": {
       "description_width": ""
      }
     },
     "709d908e72f6454b95367ba0817cb882": {
      "model_module": "@jupyter-widgets/controls",
      "model_module_version": "2.0.0",
      "model_name": "DescriptionStyleModel",
      "state": {
       "description_width": ""
      }
     },
     "70ab9160988240499992453ccbf652da": {
      "model_module": "@jupyter-widgets/base",
      "model_module_version": "2.0.0",
      "model_name": "LayoutModel",
      "state": {
       "margin": "0px 0px 0px 10px",
       "width": "350px"
      }
     },
     "70ecd277e0c547c9a886d47c21e88133": {
      "model_module": "@jupyter-widgets/base",
      "model_module_version": "2.0.0",
      "model_name": "LayoutModel",
      "state": {
       "margin": "0px 0px 0px 10px",
       "width": "350px"
      }
     },
     "723520a9dfbb47c5a777c8fc7fc717d8": {
      "model_module": "@jupyter-widgets/controls",
      "model_module_version": "2.0.0",
      "model_name": "CheckboxStyleModel",
      "state": {
       "description_width": ""
      }
     },
     "726ed819dbb84f209be5222b5b3eb6eb": {
      "model_module": "@jupyter-widgets/base",
      "model_module_version": "2.0.0",
      "model_name": "LayoutModel",
      "state": {
       "align_items": "center",
       "padding": "0px 5px 0px 5px"
      }
     },
     "72ae2c3d4dd3417499598d874b5c908a": {
      "model_module": "@jupyter-widgets/base",
      "model_module_version": "2.0.0",
      "model_name": "LayoutModel",
      "state": {
       "height": "48px",
       "width": "220px"
      }
     },
     "72c498336e36447e85f0010ada4fac83": {
      "model_module": "@jupyter-widgets/base",
      "model_module_version": "2.0.0",
      "model_name": "LayoutModel",
      "state": {
       "margin": "0px 0px 0px 10px",
       "width": "350px"
      }
     },
     "72f4493fe3b74dc1a6177aa946257db0": {
      "model_module": "@jupyter-widgets/base",
      "model_module_version": "2.0.0",
      "model_name": "LayoutModel",
      "state": {
       "display": "flex",
       "justify_content": "flex-end",
       "padding": "0px 5px 0px 0px",
       "width": "130px"
      }
     },
     "73091d7cb1f94f62a37fa0e776a4216e": {
      "model_module": "@jupyter-widgets/controls",
      "model_module_version": "2.0.0",
      "model_name": "DescriptionStyleModel",
      "state": {
       "description_width": "125px"
      }
     },
     "7372b014745f43aab813ffcdec4743e7": {
      "model_module": "@jupyter-widgets/base",
      "model_module_version": "2.0.0",
      "model_name": "LayoutModel",
      "state": {
       "margin": "0px 0px 0px 10px",
       "width": "350px"
      }
     },
     "740d268f83664bd3a9ba1a223e6abb0a": {
      "model_module": "@jupyter-widgets/base",
      "model_module_version": "2.0.0",
      "model_name": "LayoutModel",
      "state": {
       "width": "350px"
      }
     },
     "741a5422a4fb4b4e85e686fe8f12a7ff": {
      "model_module": "@jupyter-widgets/controls",
      "model_module_version": "2.0.0",
      "model_name": "DescriptionStyleModel",
      "state": {
       "description_width": "125px"
      }
     },
     "74d49cfb54e74327b6eb717886bcc8b2": {
      "model_module": "@jupyter-widgets/base",
      "model_module_version": "2.0.0",
      "model_name": "LayoutModel",
      "state": {
       "width": "350px"
      }
     },
     "75476917b54147678e4e5a17c5415740": {
      "model_module": "@jupyter-widgets/controls",
      "model_module_version": "2.0.0",
      "model_name": "BoundedFloatTextModel",
      "state": {
       "description": "Enzymatic Load",
       "layout": "IPY_MODEL_b2bb510721be4394a7b96e9dc8f07354",
       "max": 1000,
       "step": null,
       "style": "IPY_MODEL_1e901e8689bb4785b2e02ca3fab08f1a",
       "tooltip": "Ratio of the enzyme mass to the total solution mass (mg/g).  Must be in the range [0, 1000]",
       "value": 30
      }
     },
     "755f71104be44af7a9da5c5daab42d19": {
      "model_module": "@jupyter-widgets/controls",
      "model_module_version": "2.0.0",
      "model_name": "HTMLMathStyleModel",
      "state": {
       "description_width": "",
       "font_size": null,
       "text_color": null
      }
     },
     "75773d5c88a54522bd4f888c53830ab4": {
      "model_module": "@jupyter-widgets/base",
      "model_module_version": "2.0.0",
      "model_name": "LayoutModel",
      "state": {
       "align_items": "center",
       "padding": "0px 5px 0px 5px"
      }
     },
     "763cce7a12454f5fa33fb11f048c031a": {
      "model_module": "@jupyter-widgets/base",
      "model_module_version": "2.0.0",
      "model_name": "LayoutModel",
      "state": {}
     },
     "763cf6cc85c34716948eb450f0b7dead": {
      "model_module": "@jupyter-widgets/controls",
      "model_module_version": "2.0.0",
      "model_name": "HTMLMathStyleModel",
      "state": {
       "description_width": "",
       "font_size": null,
       "text_color": null
      }
     },
     "76d062378d8c4e5f8f4c1e74d6c7c7ce": {
      "model_module": "@jupyter-widgets/controls",
      "model_module_version": "2.0.0",
      "model_name": "HTMLMathStyleModel",
      "state": {
       "description_width": "",
       "font_size": null,
       "text_color": null
      }
     },
     "77128d7e0477447fb937c63ea63de8cb": {
      "model_module": "@jupyter-widgets/controls",
      "model_module_version": "2.0.0",
      "model_name": "HTMLMathStyleModel",
      "state": {
       "description_width": "",
       "font_size": null,
       "text_color": null
      }
     },
     "77244212284d45169bcfcad36b053c48": {
      "model_module": "@jupyter-widgets/controls",
      "model_module_version": "2.0.0",
      "model_name": "HBoxModel",
      "state": {
       "children": [
        "IPY_MODEL_661b3c6442b049f9bddd01c0ce17cb96",
        "IPY_MODEL_580f11a18519475f87a3abbf757e7e15"
       ],
       "layout": "IPY_MODEL_6efd91f12c5c41c784264f9fe882f827"
      }
     },
     "77324a6bffb74a01948f388cf1b72629": {
      "model_module": "@jupyter-widgets/base",
      "model_module_version": "2.0.0",
      "model_name": "LayoutModel",
      "state": {
       "align_items": "center",
       "padding": "0px 5px 0px 5px"
      }
     },
     "77a0c5833f45423487f1a47454e6b0b9": {
      "model_module": "@jupyter-widgets/base",
      "model_module_version": "2.0.0",
      "model_name": "LayoutModel",
      "state": {
       "height": "68px",
       "width": "220px"
      }
     },
     "77ba3128cca44b30908cebe34e2738a9": {
      "model_module": "@jupyter-widgets/controls",
      "model_module_version": "2.0.0",
      "model_name": "HBoxModel",
      "state": {
       "children": [
        "IPY_MODEL_af0ad5dd4e8f47738b693e9309d5fdcc",
        "IPY_MODEL_557eeaae66cc4ce5875af56f6e1f1a94"
       ],
       "layout": "IPY_MODEL_b3eef6414d94480895040b498d7c4982"
      }
     },
     "77eff065c8ad42b1a3cdc8cd0ce4055d": {
      "model_module": "@jupyter-widgets/controls",
      "model_module_version": "2.0.0",
      "model_name": "BoundedFloatTextModel",
      "state": {
       "description": "Column height",
       "layout": "IPY_MODEL_85d754f5991b41d6b9ad54e20995bde1",
       "max": 50,
       "min": 10,
       "step": null,
       "style": "IPY_MODEL_9b7d39c0a71c4d1bac8d03e8adc32a3e",
       "tooltip": "Column height (m).  Must be in $[10, 50]$",
       "value": 40
      }
     },
     "797d4d8a2aa6403e93df4db04e86930a": {
      "model_module": "@jupyter-widgets/base",
      "model_module_version": "2.0.0",
      "model_name": "LayoutModel",
      "state": {
       "margin": "0px 0px 0px 10px",
       "width": "350px"
      }
     },
     "79c0a6c3a9034365adafe42a7b204ea8": {
      "model_module": "@jupyter-widgets/base",
      "model_module_version": "2.0.0",
      "model_name": "LayoutModel",
      "state": {}
     },
     "7a27f868dedf453abb3f7f3efadb7943": {
      "model_module": "@jupyter-widgets/controls",
      "model_module_version": "2.0.0",
      "model_name": "HBoxModel",
      "state": {
       "children": [
        "IPY_MODEL_eb46c36db2b9462390726ddbc6f6b2b9",
        "IPY_MODEL_05ee5e1c3e3f474c9791ba6ef593d01a"
       ],
       "layout": "IPY_MODEL_a8a9fb075fc8418a9d0cd17635c702e5"
      }
     },
     "7b98c5dfc3ea48f0a2649b1b021b38ae": {
      "model_module": "@jupyter-widgets/base",
      "model_module_version": "2.0.0",
      "model_name": "LayoutModel",
      "state": {
       "align_items": "center",
       "padding": "0px 5px 0px 5px"
      }
     },
     "7ba7ac03eb7646e2a50917b0f9cbd273": {
      "model_module": "@jupyter-widgets/controls",
      "model_module_version": "2.0.0",
      "model_name": "BoundedFloatTextModel",
      "state": {
       "description": "Steam Temperature",
       "layout": "IPY_MODEL_91bfe3696e244b51a44f521c9cd9026b",
       "max": 250.3,
       "min": 3.8,
       "step": null,
       "style": "IPY_MODEL_d3a203521b7e43518481bc6079409b13",
       "tooltip": "The fixed temperature of the steam ($^\\circ$C).",
       "value": 150
      }
     },
     "7bc62fb9e19d4281968dee922233d63f": {
      "model_module": "@jupyter-widgets/controls",
      "model_module_version": "2.0.0",
      "model_name": "HTMLMathModel",
      "state": {
       "layout": "IPY_MODEL_b0dc207482904707a90c7a48ab44d198",
       "style": "IPY_MODEL_1af55ca47f6a4b50a49188770bf26278",
       "value": "Specifies the solver to use for the bioreaction step, \"CFD Simulation\" requires HPC resources."
      }
     },
     "7c569c1e82be4bc3b69c6c83f0466802": {
      "model_module": "@jupyter-widgets/controls",
      "model_module_version": "2.0.0",
      "model_name": "CheckboxModel",
      "state": {
       "disabled": false,
       "layout": "IPY_MODEL_53375547a1254b0ba628553624954417",
       "style": "IPY_MODEL_1e2d96eae4db49db819f29ea80a70258",
       "tooltip": "Show Plots",
       "value": false
      }
     },
     "7c8a2faaca0543e280f361fd77658d45": {
      "model_module": "@jupyter-widgets/base",
      "model_module_version": "2.0.0",
      "model_name": "LayoutModel",
      "state": {
       "width": "350px"
      }
     },
     "7cac12ee7de7440eae81a0eb6426dfd6": {
      "model_module": "@jupyter-widgets/controls",
      "model_module_version": "2.0.0",
      "model_name": "DescriptionStyleModel",
      "state": {
       "description_width": "125px"
      }
     },
     "7d5149462745413b9568ed51b2995632": {
      "model_module": "@jupyter-widgets/base",
      "model_module_version": "2.0.0",
      "model_name": "LayoutModel",
      "state": {
       "margin": "0px 0px 0px 10px",
       "width": "350px"
      }
     },
     "7d6e37075d754dc6bfb6d18cb5345f07": {
      "model_module": "@jupyter-widgets/base",
      "model_module_version": "2.0.0",
      "model_name": "LayoutModel",
      "state": {
       "width": "350px"
      }
     },
     "7d8831479999451399ddc6ddb12993c2": {
      "model_module": "@jupyter-widgets/controls",
      "model_module_version": "2.0.0",
      "model_name": "HTMLMathModel",
      "state": {
       "layout": "IPY_MODEL_621d0797d2e54cb3bcba61a6256769cd",
       "style": "IPY_MODEL_cf141e774f2e44e4b1b1152a0c8ff865",
       "value": "Show Plots"
      }
     },
     "7e89c8b3bfae41319048f59409bc9086": {
      "model_module": "@jupyter-widgets/controls",
      "model_module_version": "2.0.0",
      "model_name": "DescriptionStyleModel",
      "state": {
       "description_width": "125px"
      }
     },
     "7e8b1874cdd743f4b8bc1d607e24b541": {
      "model_module": "@jupyter-widgets/controls",
      "model_module_version": "2.0.0",
      "model_name": "HTMLMathModel",
      "state": {
       "layout": "IPY_MODEL_c676184af82d4e82a70226675d68d4a4",
       "style": "IPY_MODEL_46e238e466664dc5bcaa5ed1c5989210",
       "value": "The total time of the simulation (h).  Must be $\\geq 1$"
      }
     },
     "7ee3dfcc5e2c41c882083de2aad58abc": {
      "model_module": "@jupyter-widgets/controls",
      "model_module_version": "2.0.0",
      "model_name": "DescriptionStyleModel",
      "state": {
       "description_width": ""
      }
     },
     "7f1425ccd71945faaa819c70e974eb53": {
      "model_module": "@jupyter-widgets/controls",
      "model_module_version": "2.0.0",
      "model_name": "HBoxModel",
      "state": {
       "children": [
        "IPY_MODEL_abc97b3356b247c9a4c82cbd7598f5bb",
        "IPY_MODEL_d0266a350dc9478ba5fb5640f20993af"
       ],
       "layout": "IPY_MODEL_6e3c485983d2416289f0e0de605e059d"
      }
     },
     "7f3a649eb2464880a876f3a490b47a61": {
      "model_module": "@jupyter-widgets/controls",
      "model_module_version": "2.0.0",
      "model_name": "HBoxModel",
      "state": {
       "children": [
        "IPY_MODEL_da4ef10a890b47a2a496b63ea4db5139",
        "IPY_MODEL_af14955bdb8841b5b91da59a7c4d083f"
       ],
       "layout": "IPY_MODEL_1f06183ee1534539b961bdeaecdddb9d"
      }
     },
     "7fa8f7e3411043caba54d050c0f5fb6c": {
      "model_module": "@jupyter-widgets/base",
      "model_module_version": "2.0.0",
      "model_name": "LayoutModel",
      "state": {}
     },
     "803d1b272db64d04b011af8a5a098efa": {
      "model_module": "@jupyter-widgets/base",
      "model_module_version": "2.0.0",
      "model_name": "LayoutModel",
      "state": {}
     },
     "8055e425ed024813b32efbcc6d8480aa": {
      "model_module": "@jupyter-widgets/base",
      "model_module_version": "2.0.0",
      "model_name": "LayoutModel",
      "state": {
       "margin": "0px 0px 0px 10px",
       "width": "350px"
      }
     },
     "80a9c7dae84549cfb5500b3820b34da6": {
      "model_module": "@jupyter-widgets/controls",
      "model_module_version": "2.0.0",
      "model_name": "DescriptionStyleModel",
      "state": {
       "description_width": ""
      }
     },
     "80bd28087f0f47099ced4519fab3ce73": {
      "model_module": "@jupyter-widgets/base",
      "model_module_version": "2.0.0",
      "model_name": "LayoutModel",
      "state": {}
     },
     "80c1c87212cd43e084ae0a885629d45f": {
      "model_module": "@jupyter-widgets/controls",
      "model_module_version": "2.0.0",
      "model_name": "HBoxModel",
      "state": {
       "children": [
        "IPY_MODEL_49e4550b43704c948e59026333e1b403",
        "IPY_MODEL_2e770d6cbb214458be1ceef2317bc3ba"
       ],
       "layout": "IPY_MODEL_2f5237ffcf6c4e80aac342db3545acce"
      }
     },
     "80d4287a3e77495ba9c60cb1b520c8db": {
      "model_module": "@jupyter-widgets/base",
      "model_module_version": "2.0.0",
      "model_name": "LayoutModel",
      "state": {}
     },
     "80ea8ff63c514682b682a6bd961e5560": {
      "model_module": "@jupyter-widgets/base",
      "model_module_version": "2.0.0",
      "model_name": "LayoutModel",
      "state": {
       "width": "350px"
      }
     },
     "813469f1ec074539a09c92715f06f61b": {
      "model_module": "@jupyter-widgets/controls",
      "model_module_version": "2.0.0",
      "model_name": "HTMLMathStyleModel",
      "state": {
       "description_width": "",
       "font_size": null,
       "text_color": null
      }
     },
     "815aee81824e4e4b9692ed8eb05949f2": {
      "model_module": "@jupyter-widgets/controls",
      "model_module_version": "2.0.0",
      "model_name": "RadioButtonsModel",
      "state": {
       "_options_labels": [
        "Lignocellulose Model",
        "CFD Surrogate",
        "CFD Simulation"
       ],
       "index": 1,
       "layout": "IPY_MODEL_77a0c5833f45423487f1a47454e6b0b9",
       "style": "IPY_MODEL_55b5f2c4b4544727ba87ff8d1b08b702",
       "tooltip": "Specifies the solver to use for the EH step, \"CFD Simulation\" requires HPC resources."
      }
     },
     "8171958fdb8048d89b558d33c3e209dc": {
      "model_module": "@jupyter-widgets/controls",
      "model_module_version": "2.0.0",
      "model_name": "DescriptionStyleModel",
      "state": {
       "description_width": "125px"
      }
     },
     "81c76bfdb3c24a8c9b26db4c97fff790": {
      "model_module": "@jupyter-widgets/base",
      "model_module_version": "2.0.0",
      "model_name": "LayoutModel",
      "state": {}
     },
     "81e6945e0bb04efaac5e2df005dfd221": {
      "model_module": "@jupyter-widgets/controls",
      "model_module_version": "2.0.0",
      "model_name": "HTMLMathModel",
      "state": {
       "layout": "IPY_MODEL_4c1c3f1ec2c34e1da1c188f25fa7b860",
       "style": "IPY_MODEL_8e3ef2a20e504adb94a1d34f29dc3851",
       "value": "The initial porous fraction of the biomass particles.  Must be in the range [0, 1]"
      }
     },
     "8238c05ef2af41358f178bed5492e23e": {
      "model_module": "@jupyter-widgets/base",
      "model_module_version": "2.0.0",
      "model_name": "LayoutModel",
      "state": {
       "padding": "0px 0px 0px 203px ",
       "width": "350px"
      }
     },
     "82eee809c976465a8ad9a729d0001fd8": {
      "model_module": "@jupyter-widgets/base",
      "model_module_version": "2.0.0",
      "model_name": "LayoutModel",
      "state": {
       "align_items": "center",
       "padding": "0px 5px 0px 5px"
      }
     },
     "8323cc24d1da49b8be68b30017e5f5fa": {
      "model_module": "@jupyter-widgets/base",
      "model_module_version": "2.0.0",
      "model_name": "LayoutModel",
      "state": {
       "margin": "25px 0px 100px 170px",
       "width": "200px"
      }
     },
     "838f751cce8c4e4cacee4c4be771bac6": {
      "model_module": "@jupyter-widgets/base",
      "model_module_version": "2.0.0",
      "model_name": "LayoutModel",
      "state": {}
     },
     "83ce67781014452080ec7baf45f40fd4": {
      "model_module": "@jupyter-widgets/base",
      "model_module_version": "2.0.0",
      "model_name": "LayoutModel",
      "state": {
       "margin": "0px 0px 0px 10px",
       "width": "350px"
      }
     },
     "83d4cc0bbfea4a6f8da1c4fdaade702c": {
      "model_module": "@jupyter-widgets/base",
      "model_module_version": "2.0.0",
      "model_name": "LayoutModel",
      "state": {
       "align_items": "center",
       "padding": "0px 5px 0px 5px"
      }
     },
     "83fe600b01e2410fa69052b6119bc37f": {
      "model_module": "@jupyter-widgets/controls",
      "model_module_version": "2.0.0",
      "model_name": "CheckboxModel",
      "state": {
       "disabled": true,
       "layout": "IPY_MODEL_8da4a87c4cf24e2e8fed94b19a69b7c5",
       "style": "IPY_MODEL_d8bf5558fb814538a6aedf168bdeea0f",
       "tooltip": "Show Plots",
       "value": false
      }
     },
     "843195c3393a4f71923d9dc81a941666": {
      "model_module": "@jupyter-widgets/controls",
      "model_module_version": "2.0.0",
      "model_name": "DescriptionStyleModel",
      "state": {
       "description_width": ""
      }
     },
     "845c848c249e4dcfb8f4f82897d1168f": {
      "model_module": "@jupyter-widgets/controls",
      "model_module_version": "2.0.0",
      "model_name": "HBoxModel",
      "state": {
       "children": [
        "IPY_MODEL_286a31dd396d40cfbb881765497342f9",
        "IPY_MODEL_377bcb2f08824d5bb26eaaee562f0419"
       ],
       "layout": "IPY_MODEL_11a176cb625f4320821c033d9c36e1e2"
      }
     },
     "8478a60c56d344c9962eabed29887f86": {
      "model_module": "@jupyter-widgets/base",
      "model_module_version": "2.0.0",
      "model_name": "LayoutModel",
      "state": {
       "width": "350px"
      }
     },
     "8480e636d1be4f8791e318a43f7d99fb": {
      "model_module": "@jupyter-widgets/controls",
      "model_module_version": "2.0.0",
      "model_name": "BoundedFloatTextModel",
      "state": {
       "description": "Initial Porosity",
       "layout": "IPY_MODEL_300c4ac672b64bb1928365ab7e11f3ea",
       "max": 1,
       "step": null,
       "style": "IPY_MODEL_fbd7d622a16e4894bb84d91e46d2aa42",
       "tooltip": "The initial porous fraction of the biomass particles.  Must be in the range [0, 1]",
       "value": 0.8
      }
     },
     "849412fbc08947809b76f9ca6cc1c58a": {
      "model_module": "@jupyter-widgets/controls",
      "model_module_version": "2.0.0",
      "model_name": "HTMLMathModel",
      "state": {
       "layout": "IPY_MODEL_4553feffc5ba48108bfb80a32fb53714",
       "style": "IPY_MODEL_b987431bc0ef4f739846f66a6d725a62",
       "value": "Model Type"
      }
     },
     "84a6255efa0e4af088b685e13b2d531c": {
      "model_module": "@jupyter-widgets/base",
      "model_module_version": "2.0.0",
      "model_name": "LayoutModel",
      "state": {}
     },
     "84c54a265537457f9c9ce80b0ed03845": {
      "model_module": "@jupyter-widgets/controls",
      "model_module_version": "2.0.0",
      "model_name": "HTMLMathStyleModel",
      "state": {
       "description_width": "",
       "font_size": null,
       "text_color": null
      }
     },
     "84c7efeb23514dcfb1a82df366c4bad6": {
      "model_module": "@jupyter-widgets/controls",
      "model_module_version": "2.0.0",
      "model_name": "HBoxModel",
      "state": {
       "children": [
        "IPY_MODEL_12ba6aded3f548ceb9cf7497713a8b2a",
        "IPY_MODEL_8d90351d30f3448da550eda1dd2e81cd"
       ],
       "layout": "IPY_MODEL_eb207a53d92e4c3b8790f56332cbbebc"
      }
     },
     "84c9cca1296747be939823ee6b80d108": {
      "model_module": "@jupyter-widgets/controls",
      "model_module_version": "2.0.0",
      "model_name": "DescriptionStyleModel",
      "state": {
       "description_width": ""
      }
     },
     "85076efdce2b4a498a55dccb0c4ad090": {
      "model_module": "@jupyter-widgets/base",
      "model_module_version": "2.0.0",
      "model_name": "LayoutModel",
      "state": {
       "margin": "0px 0px 0px 10px",
       "width": "350px"
      }
     },
     "85d754f5991b41d6b9ad54e20995bde1": {
      "model_module": "@jupyter-widgets/base",
      "model_module_version": "2.0.0",
      "model_name": "LayoutModel",
      "state": {
       "width": "350px"
      }
     },
     "8630857cbfe3402daaf0410f73644f90": {
      "model_module": "@jupyter-widgets/controls",
      "model_module_version": "2.0.0",
      "model_name": "HTMLMathStyleModel",
      "state": {
       "description_width": "",
       "font_size": null,
       "text_color": null
      }
     },
     "86af721ec6b049459d692e0e0827031d": {
      "model_module": "@jupyter-widgets/base",
      "model_module_version": "2.0.0",
      "model_name": "LayoutModel",
      "state": {
       "width": "350px"
      }
     },
     "86ce80c29014470e9138b6d5b08706be": {
      "model_module": "@jupyter-widgets/controls",
      "model_module_version": "2.0.0",
      "model_name": "HTMLMathModel",
      "state": {
       "layout": "IPY_MODEL_3d84e97467454d8fa7aef3a5453729ea",
       "style": "IPY_MODEL_c90ff32836374374963c0287296e9374",
       "value": "Model Type"
      }
     },
     "87066ff29c684ff9967096404d4d2221": {
      "model_module": "@jupyter-widgets/controls",
      "model_module_version": "2.0.0",
      "model_name": "CheckboxStyleModel",
      "state": {
       "description_width": ""
      }
     },
     "87333fe6aec84c57a2e11f48024a467d": {
      "model_module": "@jupyter-widgets/controls",
      "model_module_version": "2.0.0",
      "model_name": "HTMLMathModel",
      "state": {
       "layout": "IPY_MODEL_9c71005922c24e2bbb6fd5f68adba3a6",
       "style": "IPY_MODEL_23be437c200a4a56ba2c6317875df86e",
       "value": "Column diameter (m).  Must be in $[1, 6]$"
      }
     },
     "87fc03fcd4e34a57a28d57b7c0f98d4c": {
      "model_module": "@jupyter-widgets/controls",
      "model_module_version": "2.0.0",
      "model_name": "HTMLMathStyleModel",
      "state": {
       "description_width": "",
       "font_size": null,
       "text_color": null
      }
     },
     "88066682c35d430a8544b422956b49ff": {
      "model_module": "@jupyter-widgets/controls",
      "model_module_version": "2.0.0",
      "model_name": "BoundedFloatTextModel",
      "state": {
       "description": "Column height",
       "layout": "IPY_MODEL_936655fb739740c495a6c232be2ef2b6",
       "max": 50,
       "min": 10,
       "step": null,
       "style": "IPY_MODEL_8d6f801acf0d4e7f92c6c663be841e1a",
       "tooltip": "Column height (m).  Must be in $[10, 50]$",
       "value": 40
      }
     },
     "8813e938bb1c4859863bfaae07ed3b79": {
      "model_module": "@jupyter-widgets/controls",
      "model_module_version": "2.0.0",
      "model_name": "HTMLMathStyleModel",
      "state": {
       "description_width": "",
       "font_size": null,
       "text_color": null
      }
     },
     "8838aac9198a4ae49b3e7e9cb5497f87": {
      "model_module": "@jupyter-widgets/base",
      "model_module_version": "2.0.0",
      "model_name": "LayoutModel",
      "state": {
       "width": "350px"
      }
     },
     "88888659f54b4f609a8c700a58b15ba5": {
      "model_module": "@jupyter-widgets/controls",
      "model_module_version": "2.0.0",
      "model_name": "DescriptionStyleModel",
      "state": {
       "description_width": ""
      }
     },
     "89fe28ee21c94beaaea7dcec90fe31d2": {
      "model_module": "@jupyter-widgets/base",
      "model_module_version": "2.0.0",
      "model_name": "LayoutModel",
      "state": {
       "align_items": "center",
       "padding": "0px 5px 0px 5px"
      }
     },
     "8a48b39cc1bf40ecb6f37a1d56cc6337": {
      "model_module": "@jupyter-widgets/base",
      "model_module_version": "2.0.0",
      "model_name": "LayoutModel",
      "state": {}
     },
     "8a63a85c9ba94b5b86bfea1e3d86bc7a": {
      "model_module": "@jupyter-widgets/controls",
      "model_module_version": "2.0.0",
      "model_name": "DescriptionStyleModel",
      "state": {
       "description_width": "125px"
      }
     },
     "8afc33afff3f449085f20de8a23f536c": {
      "model_module": "@jupyter-widgets/controls",
      "model_module_version": "2.0.0",
      "model_name": "DescriptionStyleModel",
      "state": {
       "description_width": ""
      }
     },
     "8afdc19f70b14e07911664ca37087da1": {
      "model_module": "@jupyter-widgets/controls",
      "model_module_version": "2.0.0",
      "model_name": "DescriptionStyleModel",
      "state": {
       "description_width": "125px"
      }
     },
     "8b80bfb4fafd45ea86409baa8ad95964": {
      "model_module": "@jupyter-widgets/controls",
      "model_module_version": "2.0.0",
      "model_name": "DescriptionStyleModel",
      "state": {
       "description_width": "125px"
      }
     },
     "8b89e55cd8b7459e9425cd8ae8178d71": {
      "model_module": "@jupyter-widgets/base",
      "model_module_version": "2.0.0",
      "model_name": "LayoutModel",
      "state": {
       "align_items": "center",
       "padding": "0px 5px 0px 5px"
      }
     },
     "8b9d672706f647c39822cc5e81b43597": {
      "model_module": "@jupyter-widgets/base",
      "model_module_version": "2.0.0",
      "model_name": "LayoutModel",
      "state": {}
     },
     "8baba5e6452d45a181a79d9143b2abc4": {
      "model_module": "@jupyter-widgets/base",
      "model_module_version": "2.0.0",
      "model_name": "LayoutModel",
      "state": {
       "width": "350px"
      }
     },
     "8bac0a2abe9342138dc966e3fa028358": {
      "model_module": "@jupyter-widgets/controls",
      "model_module_version": "2.0.0",
      "model_name": "HBoxModel",
      "state": {
       "children": [
        "IPY_MODEL_d52362488de44fa3ae9477a42baa63b5",
        "IPY_MODEL_67e80366e5dd4c56a7bd9a9ddef7e5b4"
       ],
       "layout": "IPY_MODEL_8d737e9592424bf5919a3326a5f01d46"
      }
     },
     "8c31a73d71384eafb136b006f5e6441e": {
      "model_module": "@jupyter-widgets/controls",
      "model_module_version": "2.0.0",
      "model_name": "HBoxModel",
      "state": {
       "children": [
        "IPY_MODEL_9b6e1b0ad6434ccf823b3fb9dbe64044",
        "IPY_MODEL_04f0f29c0b1947a5a3fd8576c5790a2e"
       ],
       "layout": "IPY_MODEL_684b358616ee420cab0037ffe581bc30"
      }
     },
     "8c46ec37a2c044b7a8fa3cce8b3c71ce": {
      "model_module": "@jupyter-widgets/controls",
      "model_module_version": "2.0.0",
      "model_name": "DescriptionStyleModel",
      "state": {
       "description_width": ""
      }
     },
     "8cebb2aed9304cc4ad9254b06d2e9664": {
      "model_module": "@jupyter-widgets/base",
      "model_module_version": "2.0.0",
      "model_name": "LayoutModel",
      "state": {
       "width": "350px"
      }
     },
     "8d650750536f4782bc9dd3100a8b04b2": {
      "model_module": "@jupyter-widgets/controls",
      "model_module_version": "2.0.0",
      "model_name": "HTMLMathModel",
      "state": {
       "layout": "IPY_MODEL_e2c6478ee7fc4c01bc365221a8151a31",
       "style": "IPY_MODEL_77128d7e0477447fb937c63ea63de8cb",
       "value": "The initial porous fraction of the biomass particles.  Must be in the range [0, 1]"
      }
     },
     "8d6f801acf0d4e7f92c6c663be841e1a": {
      "model_module": "@jupyter-widgets/controls",
      "model_module_version": "2.0.0",
      "model_name": "DescriptionStyleModel",
      "state": {
       "description_width": "125px"
      }
     },
     "8d737e9592424bf5919a3326a5f01d46": {
      "model_module": "@jupyter-widgets/base",
      "model_module_version": "2.0.0",
      "model_name": "LayoutModel",
      "state": {
       "align_items": "center",
       "padding": "0px 5px 0px 5px"
      }
     },
     "8d90351d30f3448da550eda1dd2e81cd": {
      "model_module": "@jupyter-widgets/controls",
      "model_module_version": "2.0.0",
      "model_name": "HTMLMathModel",
      "state": {
       "layout": "IPY_MODEL_fdae93ee22b240759d330feb6da750ad",
       "style": "IPY_MODEL_49601ac1bb4140049dad5b99a6448816",
       "value": "The initial concentration of acid (mol/mL).  Must be in the range [0, 1]"
      }
     },
     "8d9954bdf7f74b90805fd5ca4d127217": {
      "model_module": "@jupyter-widgets/controls",
      "model_module_version": "2.0.0",
      "model_name": "HTMLMathStyleModel",
      "state": {
       "description_width": "",
       "font_size": null,
       "text_color": null
      }
     },
     "8da4a87c4cf24e2e8fed94b19a69b7c5": {
      "model_module": "@jupyter-widgets/base",
      "model_module_version": "2.0.0",
      "model_name": "LayoutModel",
      "state": {
       "padding": "0px 0px 0px 203px ",
       "width": "350px"
      }
     },
     "8dc642f2ba3e48ad848027df664621fa": {
      "model_module": "@jupyter-widgets/controls",
      "model_module_version": "2.0.0",
      "model_name": "BoundedFloatTextModel",
      "state": {
       "description": "Initial Porosity",
       "layout": "IPY_MODEL_8baba5e6452d45a181a79d9143b2abc4",
       "max": 1,
       "step": null,
       "style": "IPY_MODEL_f7b1c19817e2453982243de07e1d023f",
       "tooltip": "The initial porous fraction of the biomass particles.  Must be in the range [0, 1]",
       "value": 0.8
      }
     },
     "8e3ef2a20e504adb94a1d34f29dc3851": {
      "model_module": "@jupyter-widgets/controls",
      "model_module_version": "2.0.0",
      "model_name": "HTMLMathStyleModel",
      "state": {
       "description_width": "",
       "font_size": null,
       "text_color": null
      }
     },
     "8e66895f13244e288cc5fdb2087ab897": {
      "model_module": "@jupyter-widgets/controls",
      "model_module_version": "2.0.0",
      "model_name": "HTMLMathModel",
      "state": {
       "layout": "IPY_MODEL_f71c671024f34504a6f64710ca5ec688",
       "style": "IPY_MODEL_f81748e63d4c4cda91c420f88fb56321",
       "value": "The initial porous fraction of the biomass particles.  Must be in the range [0, 1]"
      }
     },
     "8e86aeba472f460faf38f486296946ed": {
      "model_module": "@jupyter-widgets/controls",
      "model_module_version": "2.0.0",
      "model_name": "HBoxModel",
      "state": {
       "children": [
        "IPY_MODEL_5ea654c439bd46848c9e79e868152ba8",
        "IPY_MODEL_25e55ee9594249f888e119d7337c13bb"
       ],
       "layout": "IPY_MODEL_75773d5c88a54522bd4f888c53830ab4"
      }
     },
     "8e8f49be98c147279978b1e4ffb834bb": {
      "model_module": "@jupyter-widgets/base",
      "model_module_version": "2.0.0",
      "model_name": "LayoutModel",
      "state": {
       "margin": "25px 0px 100px 170px",
       "width": "200px"
      }
     },
     "8fd38f44cc4c4a338d86f342fd5b0716": {
      "model_module": "@jupyter-widgets/controls",
      "model_module_version": "2.0.0",
      "model_name": "HTMLMathStyleModel",
      "state": {
       "description_width": "",
       "font_size": null,
       "text_color": null
      }
     },
     "9034a95a06a847cd834feee85619dbf4": {
      "model_module": "@jupyter-widgets/controls",
      "model_module_version": "2.0.0",
      "model_name": "HTMLMathModel",
      "state": {
       "layout": "IPY_MODEL_c9fb46b4e815493bb65e0c17d26baf84",
       "style": "IPY_MODEL_49dd810538814402976230d910c43c0f",
       "value": "The target value for initial fraction of insoluble solids *after* dilution (kg/kg).  Must be in the range [0, 1]"
      }
     },
     "903a4751a14f418c9cdca6ef4e0c4796": {
      "model_module": "@jupyter-widgets/controls",
      "model_module_version": "2.0.0",
      "model_name": "HTMLMathModel",
      "state": {
       "layout": "IPY_MODEL_83ce67781014452080ec7baf45f40fd4",
       "style": "IPY_MODEL_273110ed5ff942a8958df4aa047fc99b",
       "value": "Specifies the solver to use for the bioreaction step, \"CFD Simulation\" requires HPC resources."
      }
     },
     "903b327d59044a1580a3a2e4189cf84f": {
      "model_module": "@jupyter-widgets/base",
      "model_module_version": "2.0.0",
      "model_name": "LayoutModel",
      "state": {
       "margin": "0px 0px 0px 10px",
       "width": "350px"
      }
     },
     "9066478d513f4c0786d52a14cc8e7263": {
      "model_module": "@jupyter-widgets/base",
      "model_module_version": "2.0.0",
      "model_name": "LayoutModel",
      "state": {}
     },
     "90be7541c2e744ad84357fa3e669da06": {
      "model_module": "@jupyter-widgets/controls",
      "model_module_version": "2.0.0",
      "model_name": "HTMLMathModel",
      "state": {
       "layout": "IPY_MODEL_921f93116e914b6a87005e69b8a392f8",
       "style": "IPY_MODEL_60779a0863624c0db28e8f9e596ee30a",
       "value": "Show Plots"
      }
     },
     "91171bd30a674aedb048557788a41197": {
      "model_module": "@jupyter-widgets/controls",
      "model_module_version": "2.0.0",
      "model_name": "DescriptionStyleModel",
      "state": {
       "description_width": ""
      }
     },
     "9153383488824ffaa05453646a8ef674": {
      "model_module": "@jupyter-widgets/base",
      "model_module_version": "2.0.0",
      "model_name": "LayoutModel",
      "state": {}
     },
     "91bfe3696e244b51a44f521c9cd9026b": {
      "model_module": "@jupyter-widgets/base",
      "model_module_version": "2.0.0",
      "model_name": "LayoutModel",
      "state": {
       "width": "350px"
      }
     },
     "91ed7e1d513c4a64830673b5a458bcde": {
      "model_module": "@jupyter-widgets/controls",
      "model_module_version": "2.0.0",
      "model_name": "HTMLMathModel",
      "state": {
       "layout": "IPY_MODEL_a53e215d742c4a089566aac29df8a3a2",
       "style": "IPY_MODEL_813469f1ec074539a09c92715f06f61b",
       "value": "Specifies the solver to use for the bioreaction step, \"CFD Simulation\" requires HPC resources."
      }
     },
     "921f93116e914b6a87005e69b8a392f8": {
      "model_module": "@jupyter-widgets/base",
      "model_module_version": "2.0.0",
      "model_name": "LayoutModel",
      "state": {
       "margin": "0px 0px 0px 10px",
       "width": "350px"
      }
     },
     "9295122d82aa4ce9bf82a44337c7a2fd": {
      "model_module": "@jupyter-widgets/controls",
      "model_module_version": "2.0.0",
      "model_name": "HTMLMathModel",
      "state": {
       "layout": "IPY_MODEL_55587b94a69a4119b537a448224d0a0e",
       "style": "IPY_MODEL_63ca0ebb084743ada63c98df5a1f9c0d",
       "value": "Column height (m).  Must be in $[10, 50]$"
      }
     },
     "929df132d6bd4c44b38e9d9d96e2e053": {
      "model_module": "@jupyter-widgets/controls",
      "model_module_version": "2.0.0",
      "model_name": "DescriptionStyleModel",
      "state": {
       "description_width": ""
      }
     },
     "93187120478e48aebcc072922c0c703e": {
      "model_module": "@jupyter-widgets/controls",
      "model_module_version": "2.0.0",
      "model_name": "DescriptionStyleModel",
      "state": {
       "description_width": ""
      }
     },
     "936655fb739740c495a6c232be2ef2b6": {
      "model_module": "@jupyter-widgets/base",
      "model_module_version": "2.0.0",
      "model_name": "LayoutModel",
      "state": {
       "width": "350px"
      }
     },
     "93f706ff6d8e492b8e2ffd1633bc4a5a": {
      "model_module": "@jupyter-widgets/controls",
      "model_module_version": "2.0.0",
      "model_name": "HTMLMathModel",
      "state": {
       "layout": "IPY_MODEL_999b93850e034d36ab155bd45da4c372",
       "style": "IPY_MODEL_edcf3373bf024026af611e6bcd72aec3",
       "value": "The initial fraction of solids that is xylan (kg/kg).  Must be in the range [0, 1]"
      }
     },
     "941613e32ecd42b59e78166008611bd4": {
      "model_module": "@jupyter-widgets/controls",
      "model_module_version": "2.0.0",
      "model_name": "HTMLMathModel",
      "state": {
       "layout": "IPY_MODEL_7d5149462745413b9568ed51b2995632",
       "style": "IPY_MODEL_17f3faf2f61349bdb824592ad8b8177b",
       "value": "Column diameter (m).  Must be in $[1, 6]$"
      }
     },
     "94ba7bd39c7a4a459cfa012ae922b839": {
      "model_module": "@jupyter-widgets/base",
      "model_module_version": "2.0.0",
      "model_name": "LayoutModel",
      "state": {}
     },
     "95f52238ecf949b8ac0e05d449345f3d": {
      "model_module": "@jupyter-widgets/base",
      "model_module_version": "2.0.0",
      "model_name": "LayoutModel",
      "state": {
       "display": "flex",
       "justify_content": "flex-end",
       "padding": "0px 5px 0px 0px",
       "width": "130px"
      }
     },
     "961960bf316349e19fd53cf29abd5f03": {
      "model_module": "@jupyter-widgets/base",
      "model_module_version": "2.0.0",
      "model_name": "LayoutModel",
      "state": {
       "align_items": "center",
       "padding": "0px 5px 0px 5px"
      }
     },
     "96586d5d2fec40aaa9dc6c603ff23e4c": {
      "model_module": "@jupyter-widgets/controls",
      "model_module_version": "2.0.0",
      "model_name": "BoundedFloatTextModel",
      "state": {
       "description": "Initial $X_X$",
       "layout": "IPY_MODEL_9ae20ad7816c4cb397ca69b3a86a7e11",
       "max": 1,
       "step": null,
       "style": "IPY_MODEL_3e2b935c93514411a080f6e07e77bc2c",
       "tooltip": "The initial fraction of solids that is xylan (kg/kg).  Must be in the range [0, 1]",
       "value": 0.263
      }
     },
     "9685c6ffcdf5457daf5fdf375df10f7d": {
      "model_module": "@jupyter-widgets/controls",
      "model_module_version": "2.0.0",
      "model_name": "DescriptionStyleModel",
      "state": {
       "description_width": ""
      }
     },
     "9702854b884c44a68a968af765a74302": {
      "model_module": "@jupyter-widgets/controls",
      "model_module_version": "2.0.0",
      "model_name": "BoundedFloatTextModel",
      "state": {
       "description": "Bubble diameter",
       "layout": "IPY_MODEL_c6459bf44d8c4109a671b0fefee6d2c8",
       "max": 0.008,
       "min": 0.003,
       "step": null,
       "style": "IPY_MODEL_6075eec0df2242fd84379921aa9badab",
       "tooltip": "Bubble diameter (m).  For surragate model must be in $[0.003, 0.008]$, for cfd must be $>=0$",
       "value": 0.006
      }
     },
     "977b364363294a909f5c877df69332d1": {
      "model_module": "@jupyter-widgets/controls",
      "model_module_version": "2.0.0",
      "model_name": "DescriptionStyleModel",
      "state": {
       "description_width": "125px"
      }
     },
     "97ab4cf862d146248f8fd036da3da0ec": {
      "model_module": "@jupyter-widgets/base",
      "model_module_version": "2.0.0",
      "model_name": "LayoutModel",
      "state": {
       "width": "350px"
      }
     },
     "97f0462c04ed44729f6533594cf71fda": {
      "model_module": "@jupyter-widgets/controls",
      "model_module_version": "2.0.0",
      "model_name": "HTMLMathModel",
      "state": {
       "layout": "IPY_MODEL_b46e613f325c4d2f95f9e5c9531fa686",
       "style": "IPY_MODEL_d2640cf5b0034bbba03536b3cbcd1334",
       "value": "Specifies the solver to use for the EH step, \"CFD Simulation\" requires HPC resources."
      }
     },
     "987e784fbd704334af0e124a49482811": {
      "model_module": "@jupyter-widgets/controls",
      "model_module_version": "2.0.0",
      "model_name": "HBoxModel",
      "state": {
       "children": [
        "IPY_MODEL_39704115270d487eb82a7437134b3706",
        "IPY_MODEL_7d8831479999451399ddc6ddb12993c2"
       ],
       "layout": "IPY_MODEL_6ca6c10bfd3045789a0bb6e3f2756e0d"
      }
     },
     "98a7bd6bd98e4bb48ad092b9130ed854": {
      "model_module": "@jupyter-widgets/base",
      "model_module_version": "2.0.0",
      "model_name": "LayoutModel",
      "state": {
       "margin": "0px 0px 0px 10px",
       "width": "350px"
      }
     },
     "999b93850e034d36ab155bd45da4c372": {
      "model_module": "@jupyter-widgets/base",
      "model_module_version": "2.0.0",
      "model_name": "LayoutModel",
      "state": {
       "margin": "0px 0px 0px 10px",
       "width": "350px"
      }
     },
     "99dd74bb53cd42a5893df0cc6edca030": {
      "model_module": "@jupyter-widgets/controls",
      "model_module_version": "2.0.0",
      "model_name": "BoundedFloatTextModel",
      "state": {
       "description": "Initial $X_X$",
       "layout": "IPY_MODEL_a094c33c42d04d7db791452cbee89c64",
       "max": 1,
       "step": null,
       "style": "IPY_MODEL_a3846efe50734ad5982b8016cc492390",
       "tooltip": "The initial fraction of solids that is xylan (kg/kg).  Must be in the range [0, 1]",
       "value": 0.263
      }
     },
     "9a4d798f1e8e4644b84c7d6a20787528": {
      "model_module": "@jupyter-widgets/controls",
      "model_module_version": "2.0.0",
      "model_name": "HTMLMathStyleModel",
      "state": {
       "description_width": "",
       "font_size": null,
       "text_color": null
      }
     },
     "9a5adbb9b7a64da9b09e8046af3e327a": {
      "model_module": "@jupyter-widgets/base",
      "model_module_version": "2.0.0",
      "model_name": "LayoutModel",
      "state": {
       "margin": "0px 0px 0px 10px",
       "width": "350px"
      }
     },
     "9a7de75ca4ee42638cd5e8ea31147bbc": {
      "model_module": "@jupyter-widgets/controls",
      "model_module_version": "2.0.0",
      "model_name": "HBoxModel",
      "state": {
       "children": [
        "IPY_MODEL_38feb9e3de27427bb68e5dc7051cd043",
        "IPY_MODEL_59541430348d409892bc0f8d09149822"
       ],
       "layout": "IPY_MODEL_77324a6bffb74a01948f388cf1b72629"
      }
     },
     "9a9dce6b67454420b8562eed9f4ca999": {
      "model_module": "@jupyter-widgets/base",
      "model_module_version": "2.0.0",
      "model_name": "LayoutModel",
      "state": {}
     },
     "9ae20ad7816c4cb397ca69b3a86a7e11": {
      "model_module": "@jupyter-widgets/base",
      "model_module_version": "2.0.0",
      "model_name": "LayoutModel",
      "state": {
       "width": "350px"
      }
     },
     "9af3448413c54b358e4b360f236f749a": {
      "model_module": "@jupyter-widgets/controls",
      "model_module_version": "2.0.0",
      "model_name": "CheckboxStyleModel",
      "state": {
       "description_width": "125px"
      }
     },
     "9b0d97cd77b549f1bcbfad56045de673": {
      "model_module": "@jupyter-widgets/controls",
      "model_module_version": "2.0.0",
      "model_name": "BoundedFloatTextModel",
      "state": {
       "description": "Final Time",
       "layout": "IPY_MODEL_02bc66724c424fc3bccebd8d41c14020",
       "max": 10000000000000000,
       "min": 1,
       "step": null,
       "style": "IPY_MODEL_d31824e05833441684662e28922cd15f",
       "tooltip": "The total time of the simulation (h).  Must be $\\geq 1$",
       "value": 100
      }
     },
     "9b5c642dd0ef451483d9c2518d755586": {
      "model_module": "@jupyter-widgets/controls",
      "model_module_version": "2.0.0",
      "model_name": "HBoxModel",
      "state": {
       "children": [
        "IPY_MODEL_34d1f3ec63ba47f0b74e10dfb745eabe",
        "IPY_MODEL_59b9502c7aec498e908d14de584a94fc"
       ],
       "layout": "IPY_MODEL_a93c6bd8a4ba44278e00220f6c17304e"
      }
     },
     "9b6e1b0ad6434ccf823b3fb9dbe64044": {
      "model_module": "@jupyter-widgets/controls",
      "model_module_version": "2.0.0",
      "model_name": "BoundedFloatTextModel",
      "state": {
       "description": "Column height",
       "layout": "IPY_MODEL_0dcf22f974eb47bd92f8292f96c7b653",
       "max": 50,
       "min": 10,
       "step": null,
       "style": "IPY_MODEL_66e852b1be0544d0b8929d373c1ce395",
       "tooltip": "Column height (m).  Must be in $[10, 50]$",
       "value": 40
      }
     },
     "9b7d39c0a71c4d1bac8d03e8adc32a3e": {
      "model_module": "@jupyter-widgets/controls",
      "model_module_version": "2.0.0",
      "model_name": "DescriptionStyleModel",
      "state": {
       "description_width": "125px"
      }
     },
     "9c171186b9f74ca997634ab26846a459": {
      "model_module": "@jupyter-widgets/base",
      "model_module_version": "2.0.0",
      "model_name": "LayoutModel",
      "state": {}
     },
     "9c291cbf81e14b1cae7756aa8dc43f9b": {
      "model_module": "@jupyter-widgets/base",
      "model_module_version": "2.0.0",
      "model_name": "LayoutModel",
      "state": {
       "align_items": "center",
       "padding": "0px 5px 0px 5px"
      }
     },
     "9c58b35209ba49b9a92690166a249320": {
      "model_module": "@jupyter-widgets/controls",
      "model_module_version": "2.0.0",
      "model_name": "DescriptionStyleModel",
      "state": {
       "description_width": "125px"
      }
     },
     "9c71005922c24e2bbb6fd5f68adba3a6": {
      "model_module": "@jupyter-widgets/base",
      "model_module_version": "2.0.0",
      "model_name": "LayoutModel",
      "state": {
       "margin": "0px 0px 0px 10px",
       "width": "350px"
      }
     },
     "9c9383413e0e4a3fb61f44b5f22414e0": {
      "model_module": "@jupyter-widgets/controls",
      "model_module_version": "2.0.0",
      "model_name": "DescriptionStyleModel",
      "state": {
       "description_width": ""
      }
     },
     "9c9ba2180b994db6ba7524cf894493ae": {
      "model_module": "@jupyter-widgets/controls",
      "model_module_version": "2.0.0",
      "model_name": "DescriptionStyleModel",
      "state": {
       "description_width": ""
      }
     },
     "9cd5ce4b26b84f9bb2f65aeb3a1472c4": {
      "model_module": "@jupyter-widgets/base",
      "model_module_version": "2.0.0",
      "model_name": "LayoutModel",
      "state": {}
     },
     "9cda048e95be4cac95daaed171ee036b": {
      "model_module": "@jupyter-widgets/base",
      "model_module_version": "2.0.0",
      "model_name": "LayoutModel",
      "state": {}
     },
     "9d1c448a7a0c4121baaccc983df53cd6": {
      "model_module": "@jupyter-widgets/controls",
      "model_module_version": "2.0.0",
      "model_name": "HTMLMathStyleModel",
      "state": {
       "description_width": "",
       "font_size": null,
       "text_color": null
      }
     },
     "9d4375b42d0c4a91bc087615e53f1183": {
      "model_module": "@jupyter-widgets/controls",
      "model_module_version": "2.0.0",
      "model_name": "HBoxModel",
      "state": {
       "children": [
        "IPY_MODEL_010591ab06ca45ada823ad35347e771f",
        "IPY_MODEL_87333fe6aec84c57a2e11f48024a467d"
       ],
       "layout": "IPY_MODEL_10eacddd207745ef9a1efba7fb7f9a32"
      }
     },
     "9e3a93889f82419fabbe588a4aa8057c": {
      "model_module": "@jupyter-widgets/controls",
      "model_module_version": "2.0.0",
      "model_name": "DescriptionStyleModel",
      "state": {
       "description_width": "125px"
      }
     },
     "9f334eee81ae45d8acf7b01f8f135085": {
      "model_module": "@jupyter-widgets/controls",
      "model_module_version": "2.0.0",
      "model_name": "DescriptionStyleModel",
      "state": {
       "description_width": ""
      }
     },
     "9f5ccd7249af4fda918c6a35239642f7": {
      "model_module": "@jupyter-widgets/base",
      "model_module_version": "2.0.0",
      "model_name": "LayoutModel",
      "state": {}
     },
     "9f8bb407d96d4e52a20665cd337b4286": {
      "model_module": "@jupyter-widgets/controls",
      "model_module_version": "2.0.0",
      "model_name": "HBoxModel",
      "state": {
       "children": [
        "IPY_MODEL_1d94c00deabf4ff5bd9cff82b5546ad5",
        "IPY_MODEL_b8e6a6eca080413bb764bee951f1de13"
       ],
       "layout": "IPY_MODEL_5375380d241244c1b89ebb1caebaed50"
      }
     },
     "9fe0e0f8cbf04043982ca5bf3606942d": {
      "model_module": "@jupyter-widgets/base",
      "model_module_version": "2.0.0",
      "model_name": "LayoutModel",
      "state": {
       "padding": "0px 0px 0px 203px ",
       "width": "350px"
      }
     },
     "a0234657c89744ab8652173391d72ab5": {
      "model_module": "@jupyter-widgets/base",
      "model_module_version": "2.0.0",
      "model_name": "LayoutModel",
      "state": {}
     },
     "a094c33c42d04d7db791452cbee89c64": {
      "model_module": "@jupyter-widgets/base",
      "model_module_version": "2.0.0",
      "model_name": "LayoutModel",
      "state": {
       "width": "350px"
      }
     },
     "a0d599e15c0742be9f89afbc2462685e": {
      "model_module": "@jupyter-widgets/base",
      "model_module_version": "2.0.0",
      "model_name": "LayoutModel",
      "state": {
       "width": "350px"
      }
     },
     "a1554d5388f24f3c9d28c66adb66416b": {
      "model_module": "@jupyter-widgets/base",
      "model_module_version": "2.0.0",
      "model_name": "LayoutModel",
      "state": {
       "margin": "0px 0px 0px 10px",
       "width": "350px"
      }
     },
     "a3846efe50734ad5982b8016cc492390": {
      "model_module": "@jupyter-widgets/controls",
      "model_module_version": "2.0.0",
      "model_name": "DescriptionStyleModel",
      "state": {
       "description_width": "125px"
      }
     },
     "a424fd5aeca7438288df073898d2b0cf": {
      "model_module": "@jupyter-widgets/base",
      "model_module_version": "2.0.0",
      "model_name": "LayoutModel",
      "state": {
       "margin": "0px 0px 0px 10px",
       "width": "350px"
      }
     },
     "a4ab82a132ee4b6e948c9722508a96ab": {
      "model_module": "@jupyter-widgets/controls",
      "model_module_version": "2.0.0",
      "model_name": "DescriptionStyleModel",
      "state": {
       "description_width": ""
      }
     },
     "a4b9f0a2fff44f72b9879d6010eea1e8": {
      "model_module": "@jupyter-widgets/controls",
      "model_module_version": "2.0.0",
      "model_name": "HTMLMathStyleModel",
      "state": {
       "description_width": "",
       "font_size": null,
       "text_color": null
      }
     },
     "a52ae81836f04a588412c71df0e30a1f": {
      "model_module": "@jupyter-widgets/controls",
      "model_module_version": "2.0.0",
      "model_name": "HTMLMathModel",
      "state": {
       "layout": "IPY_MODEL_4fc2e67b2f274aa8ac41fab06ff1d245",
       "style": "IPY_MODEL_d4f852b5195449c28a2ec0e718ea93e1",
       "value": "Bubble diameter (m).  For surragate model must be in $[0.003, 0.008]$, for cfd must be $>=0$"
      }
     },
     "a5366075424643a1a7fba763f398abd7": {
      "model_module": "@jupyter-widgets/controls",
      "model_module_version": "2.0.0",
      "model_name": "HBoxModel",
      "state": {
       "children": [
        "IPY_MODEL_4117365c123e48438f733b6194416a95",
        "IPY_MODEL_f444500fad8442fa86413051a74f845e"
       ],
       "layout": "IPY_MODEL_3674a8aec1f9450592263ea7797cc9a6"
      }
     },
     "a53e215d742c4a089566aac29df8a3a2": {
      "model_module": "@jupyter-widgets/base",
      "model_module_version": "2.0.0",
      "model_name": "LayoutModel",
      "state": {
       "margin": "0px 0px 0px 10px",
       "width": "350px"
      }
     },
     "a59da45bd7ee42ca9e1e0be55c9f1cf7": {
      "model_module": "@jupyter-widgets/controls",
      "model_module_version": "2.0.0",
      "model_name": "HTMLMathModel",
      "state": {
       "layout": "IPY_MODEL_efe3802c6de446bdb5954cf108fd619d",
       "style": "IPY_MODEL_595fb4a1155443de984f56cb70c327ae",
       "value": "The total time of the simulation (h).  Must be $\\geq 1$"
      }
     },
     "a5cdea7a4cdf49b987136d6770e43759": {
      "model_module": "@jupyter-widgets/base",
      "model_module_version": "2.0.0",
      "model_name": "LayoutModel",
      "state": {}
     },
     "a626fc3cf994421097cbf6953091936b": {
      "model_module": "@jupyter-widgets/base",
      "model_module_version": "2.0.0",
      "model_name": "LayoutModel",
      "state": {}
     },
     "a6d01a3f580d4aafaf50d67e230cb6b5": {
      "model_module": "@jupyter-widgets/base",
      "model_module_version": "2.0.0",
      "model_name": "LayoutModel",
      "state": {}
     },
     "a6d2a3c62e934e59ade04eeaf5bc16bf": {
      "model_module": "@jupyter-widgets/controls",
      "model_module_version": "2.0.0",
      "model_name": "DescriptionStyleModel",
      "state": {
       "description_width": ""
      }
     },
     "a6e12737c7734c0abb7153757b07393a": {
      "model_module": "@jupyter-widgets/controls",
      "model_module_version": "2.0.0",
      "model_name": "HBoxModel",
      "state": {
       "children": [
        "IPY_MODEL_99dd74bb53cd42a5893df0cc6edca030",
        "IPY_MODEL_ba182440fcae4e3f90fc4784defaf74d"
       ],
       "layout": "IPY_MODEL_0f6c219607364b3bac796b8a86c4cb2e"
      }
     },
     "a6ef985d6b684789b91d9776c790fb6b": {
      "model_module": "@jupyter-widgets/controls",
      "model_module_version": "2.0.0",
      "model_name": "HTMLMathStyleModel",
      "state": {
       "description_width": "",
       "font_size": null,
       "text_color": null
      }
     },
     "a7174a0d50e14ceb8fc17e16406eded9": {
      "model_module": "@jupyter-widgets/base",
      "model_module_version": "2.0.0",
      "model_name": "LayoutModel",
      "state": {
       "width": "350px"
      }
     },
     "a76ae156591543c4b536c6b6630ce59a": {
      "model_module": "@jupyter-widgets/controls",
      "model_module_version": "2.0.0",
      "model_name": "CheckboxStyleModel",
      "state": {
       "description_width": "125px"
      }
     },
     "a7ef9d038efd4270a3d108b60b34c5a6": {
      "model_module": "@jupyter-widgets/controls",
      "model_module_version": "2.0.0",
      "model_name": "HTMLMathStyleModel",
      "state": {
       "description_width": "",
       "font_size": null,
       "text_color": null
      }
     },
     "a8978b3d7cc5477a82cdde470a849945": {
      "model_module": "@jupyter-widgets/controls",
      "model_module_version": "2.0.0",
      "model_name": "BoundedFloatTextModel",
      "state": {
       "description": "Bubble diameter",
       "layout": "IPY_MODEL_7d6e37075d754dc6bfb6d18cb5345f07",
       "max": 0.008,
       "min": 0.003,
       "step": null,
       "style": "IPY_MODEL_e3f403ea88834c35947a42dc132907fd",
       "tooltip": "Bubble diameter (m).  For surragate model must be in $[0.003, 0.008]$, for cfd must be $>=0$",
       "value": 0.006
      }
     },
     "a8a9fb075fc8418a9d0cd17635c702e5": {
      "model_module": "@jupyter-widgets/base",
      "model_module_version": "2.0.0",
      "model_name": "LayoutModel",
      "state": {
       "align_items": "center",
       "padding": "0px 5px 0px 5px"
      }
     },
     "a9250ea55bbf43d4acc291d5d7e1177e": {
      "model_module": "@jupyter-widgets/base",
      "model_module_version": "2.0.0",
      "model_name": "LayoutModel",
      "state": {}
     },
     "a93c6bd8a4ba44278e00220f6c17304e": {
      "model_module": "@jupyter-widgets/base",
      "model_module_version": "2.0.0",
      "model_name": "LayoutModel",
      "state": {
       "align_items": "center",
       "padding": "0px 5px 0px 5px"
      }
     },
     "aa14044f7f6f432595dcd102caad8f76": {
      "model_module": "@jupyter-widgets/controls",
      "model_module_version": "2.0.0",
      "model_name": "HTMLMathModel",
      "state": {
       "layout": "IPY_MODEL_2e00f4fbc7a74d70b43097aa63c78262",
       "style": "IPY_MODEL_d45bdfbc45a34de3a351be01bf73b0b4",
       "value": "The total time of the simulation (h).  Must be $\\geq 1$"
      }
     },
     "aa720a49c4e743468c628e7c62fcdb78": {
      "model_module": "@jupyter-widgets/controls",
      "model_module_version": "2.0.0",
      "model_name": "HBoxModel",
      "state": {
       "children": [
        "IPY_MODEL_96586d5d2fec40aaa9dc6c603ff23e4c",
        "IPY_MODEL_f191a318fbf049729250d2c0b95c5573"
       ],
       "layout": "IPY_MODEL_6de4ff6dd06c4731a58733d17d81f559"
      }
     },
     "aa76ed273fcd43e684f2e4d227fafe62": {
      "model_module": "@jupyter-widgets/controls",
      "model_module_version": "2.0.0",
      "model_name": "HTMLMathStyleModel",
      "state": {
       "description_width": "",
       "font_size": null,
       "text_color": null
      }
     },
     "ab4bd75981074d329a39a278512c1395": {
      "model_module": "@jupyter-widgets/base",
      "model_module_version": "2.0.0",
      "model_name": "LayoutModel",
      "state": {}
     },
     "abbcd8088c4b4ae4a045eb381e661d97": {
      "model_module": "@jupyter-widgets/controls",
      "model_module_version": "2.0.0",
      "model_name": "HTMLMathStyleModel",
      "state": {
       "description_width": "",
       "font_size": null,
       "text_color": null
      }
     },
     "abc97b3356b247c9a4c82cbd7598f5bb": {
      "model_module": "@jupyter-widgets/controls",
      "model_module_version": "2.0.0",
      "model_name": "BoundedFloatTextModel",
      "state": {
       "description": "Final Time",
       "layout": "IPY_MODEL_8478a60c56d344c9962eabed29887f86",
       "max": 1440,
       "min": 1,
       "step": null,
       "style": "IPY_MODEL_afa4a4cb6fc341d5a10b13043e2a9871",
       "tooltip": "Total simulation time (min).  Must be $\\geq$ 1",
       "value": 8.3
      }
     },
     "ac5feb29bb994590b101fcfd34933d54": {
      "model_module": "@jupyter-widgets/base",
      "model_module_version": "2.0.0",
      "model_name": "LayoutModel",
      "state": {
       "align_items": "center",
       "padding": "0px 5px 0px 5px"
      }
     },
     "ae5ae44c5547436182546ca9dcab6d36": {
      "model_module": "@jupyter-widgets/base",
      "model_module_version": "2.0.0",
      "model_name": "LayoutModel",
      "state": {
       "margin": "0px 0px 0px 10px",
       "width": "350px"
      }
     },
     "aef2cceb6f904f6c91965bb2bc714011": {
      "model_module": "@jupyter-widgets/controls",
      "model_module_version": "2.0.0",
      "model_name": "DescriptionStyleModel",
      "state": {
       "description_width": ""
      }
     },
     "af0ad5dd4e8f47738b693e9309d5fdcc": {
      "model_module": "@jupyter-widgets/controls",
      "model_module_version": "2.0.0",
      "model_name": "BoundedFloatTextModel",
      "state": {
       "description": "FIS$_0$ Target",
       "layout": "IPY_MODEL_86af721ec6b049459d692e0e0827031d",
       "max": 1,
       "step": null,
       "style": "IPY_MODEL_00b6b278ceec464da38b672d16af2be6",
       "tooltip": "The target value for initial fraction of insoluble solids *after* dilution (kg/kg).  Must be in the range [0, 1]",
       "value": 0.05
      }
     },
     "af14955bdb8841b5b91da59a7c4d083f": {
      "model_module": "@jupyter-widgets/controls",
      "model_module_version": "2.0.0",
      "model_name": "HTMLMathModel",
      "state": {
       "layout": "IPY_MODEL_f75fc43f7d26439bbb05834d11c8220e",
       "style": "IPY_MODEL_abbcd8088c4b4ae4a045eb381e661d97",
       "value": "The total time of the simulation (h).  Must be $\\geq$ 1"
      }
     },
     "af2f0b6a898a4fdaa554a2db173ed208": {
      "model_module": "@jupyter-widgets/base",
      "model_module_version": "2.0.0",
      "model_name": "LayoutModel",
      "state": {
       "align_items": "center",
       "padding": "0px 5px 0px 5px"
      }
     },
     "afa4a4cb6fc341d5a10b13043e2a9871": {
      "model_module": "@jupyter-widgets/controls",
      "model_module_version": "2.0.0",
      "model_name": "DescriptionStyleModel",
      "state": {
       "description_width": "125px"
      }
     },
     "afba97fcc9ca4cbcb0b22c5f5f8eb53c": {
      "model_module": "@jupyter-widgets/controls",
      "model_module_version": "2.0.0",
      "model_name": "DescriptionStyleModel",
      "state": {
       "description_width": "125px"
      }
     },
     "afd3ba0a9b13467c9a3910c3c6c38c09": {
      "model_module": "@jupyter-widgets/base",
      "model_module_version": "2.0.0",
      "model_name": "LayoutModel",
      "state": {
       "align_items": "center",
       "padding": "0px 5px 0px 5px"
      }
     },
     "b029d8d8aab546ceba76f7a4fc5ca8d3": {
      "model_module": "@jupyter-widgets/base",
      "model_module_version": "2.0.0",
      "model_name": "LayoutModel",
      "state": {
       "width": "350px"
      }
     },
     "b0b01d98b6c84015ae2158fee9d4aabc": {
      "model_module": "@jupyter-widgets/controls",
      "model_module_version": "2.0.0",
      "model_name": "HTMLMathStyleModel",
      "state": {
       "description_width": "",
       "font_size": null,
       "text_color": null
      }
     },
     "b0dc207482904707a90c7a48ab44d198": {
      "model_module": "@jupyter-widgets/base",
      "model_module_version": "2.0.0",
      "model_name": "LayoutModel",
      "state": {
       "margin": "0px 0px 0px 10px",
       "width": "350px"
      }
     },
     "b186efb4281046ea8f79bc0102e3a48a": {
      "model_module": "@jupyter-widgets/base",
      "model_module_version": "2.0.0",
      "model_name": "LayoutModel",
      "state": {}
     },
     "b1fb00f829e2447ab010bce27410cad4": {
      "model_module": "@jupyter-widgets/controls",
      "model_module_version": "2.0.0",
      "model_name": "BoundedFloatTextModel",
      "state": {
       "description": "Initial $X_G$",
       "layout": "IPY_MODEL_044b622200fd4f30bde9d73932d7dbcd",
       "max": 1,
       "step": null,
       "style": "IPY_MODEL_26b0bb57ddb246d79cd43388ee4bb0bf",
       "tooltip": "The initial fraction of solids that is glucan (kg/kg).  Must be in the range [0, 1]",
       "value": 0.4
      }
     },
     "b2498fc337064399b9cbfda3424981a2": {
      "model_module": "@jupyter-widgets/controls",
      "model_module_version": "2.0.0",
      "model_name": "HBoxModel",
      "state": {
       "children": [
        "IPY_MODEL_4e78c816f0784f2093295b75c62f7d2a",
        "IPY_MODEL_1ad2c9d3f5db46579092fe86e0db1826"
       ],
       "layout": "IPY_MODEL_89fe28ee21c94beaaea7dcec90fe31d2"
      }
     },
     "b24d407da4a745c090e94f219ded9606": {
      "model_module": "@jupyter-widgets/controls",
      "model_module_version": "2.0.0",
      "model_name": "BoundedFloatTextModel",
      "state": {
       "description": "Final Time",
       "layout": "IPY_MODEL_21c1d10ff1fa4d5f8e1f9df96f7fc2ed",
       "max": 1440,
       "min": 1,
       "step": null,
       "style": "IPY_MODEL_b8ad24946e2c4ebf86e994a4e29e4d37",
       "tooltip": "Total simulation time (min).  Must be $\\geq$ 1",
       "value": 8.3
      }
     },
     "b2bb510721be4394a7b96e9dc8f07354": {
      "model_module": "@jupyter-widgets/base",
      "model_module_version": "2.0.0",
      "model_name": "LayoutModel",
      "state": {
       "width": "350px"
      }
     },
     "b2cb61cf2048450295ba8bed30d89e28": {
      "model_module": "@jupyter-widgets/controls",
      "model_module_version": "2.0.0",
      "model_name": "HTMLMathStyleModel",
      "state": {
       "description_width": "",
       "font_size": null,
       "text_color": null
      }
     },
     "b2d4968435fa491e8e01f822142daa84": {
      "model_module": "@jupyter-widgets/controls",
      "model_module_version": "2.0.0",
      "model_name": "HBoxModel",
      "state": {
       "children": [
        "IPY_MODEL_44bbd122a43842628a6bddbe4721fba3",
        "IPY_MODEL_5f352419e97f4587805a4a7eaf45e5f1"
       ],
       "layout": "IPY_MODEL_1b12f03f8c604dab91ea545ebb473f37"
      }
     },
     "b32e6c8e9ede484f9a4d167b35be47a8": {
      "model_module": "@jupyter-widgets/controls",
      "model_module_version": "2.0.0",
      "model_name": "HBoxModel",
      "state": {
       "children": [
        "IPY_MODEL_cc2a596193ae400c85b3ff2cabb04c72",
        "IPY_MODEL_1cdd12baee73415c94bd2abc40ee95bf"
       ],
       "layout": "IPY_MODEL_af2f0b6a898a4fdaa554a2db173ed208"
      }
     },
     "b3eef6414d94480895040b498d7c4982": {
      "model_module": "@jupyter-widgets/base",
      "model_module_version": "2.0.0",
      "model_name": "LayoutModel",
      "state": {
       "align_items": "center",
       "padding": "0px 5px 0px 5px"
      }
     },
     "b46e613f325c4d2f95f9e5c9531fa686": {
      "model_module": "@jupyter-widgets/base",
      "model_module_version": "2.0.0",
      "model_name": "LayoutModel",
      "state": {
       "margin": "0px 0px 0px 10px",
       "width": "350px"
      }
     },
     "b46eddf3601d432ba09b766cbf0c7bcb": {
      "model_module": "@jupyter-widgets/base",
      "model_module_version": "2.0.0",
      "model_name": "LayoutModel",
      "state": {
       "align_items": "center",
       "padding": "0px 5px 0px 5px"
      }
     },
     "b47fdde8260149c3a42a030283a9ea3b": {
      "model_module": "@jupyter-widgets/controls",
      "model_module_version": "2.0.0",
      "model_name": "BoundedFloatTextModel",
      "state": {
       "description": "Initial FIS$_0$",
       "layout": "IPY_MODEL_6c9f3fe129864df4acb80abdbf374749",
       "max": 1,
       "step": null,
       "style": "IPY_MODEL_f849db715b6241b587f757acfe0f2790",
       "tooltip": "The initial fraction of insoluble solids (kg/kg).  Must be in the range [0, 1]",
       "value": 0.745
      }
     },
     "b48c921fb98f42cb940b625a617a7a74": {
      "model_module": "@jupyter-widgets/base",
      "model_module_version": "2.0.0",
      "model_name": "LayoutModel",
      "state": {
       "margin": "0px 0px 0px 10px",
       "width": "350px"
      }
     },
     "b4e6c50db19643bf9a5670dce8090250": {
      "model_module": "@jupyter-widgets/controls",
      "model_module_version": "2.0.0",
      "model_name": "DescriptionStyleModel",
      "state": {
       "description_width": ""
      }
     },
     "b50684a6c5b14016b4541fac79e48770": {
      "model_module": "@jupyter-widgets/controls",
      "model_module_version": "2.0.0",
      "model_name": "HTMLMathModel",
      "state": {
       "layout": "IPY_MODEL_e38400204ed942b8bd719f130c2b0718",
       "style": "IPY_MODEL_e0e3be0a02204731bb54bbf8db816f04",
       "value": "The initial concentration of acid (mol/mL).  Must be in the range [0, 1]"
      }
     },
     "b697b1b11d6242518d888b2e6a7c5c5e": {
      "model_module": "@jupyter-widgets/base",
      "model_module_version": "2.0.0",
      "model_name": "LayoutModel",
      "state": {
       "width": "350px"
      }
     },
     "b7d06b566b4d439b8e3fb4b94d0922d8": {
      "model_module": "@jupyter-widgets/controls",
      "model_module_version": "2.0.0",
      "model_name": "HTMLMathModel",
      "state": {
       "layout": "IPY_MODEL_6b61b3f1d3874f6cafca1d88f5f42ab5",
       "style": "IPY_MODEL_4fbe571fb2704021912d996d7dccac18",
       "value": "The initial fraction of solids that is glucan (kg/kg).  Must be in the range [0, 1]"
      }
     },
     "b8ad24946e2c4ebf86e994a4e29e4d37": {
      "model_module": "@jupyter-widgets/controls",
      "model_module_version": "2.0.0",
      "model_name": "DescriptionStyleModel",
      "state": {
       "description_width": "125px"
      }
     },
     "b8b705d361904c798f2188f0679bd3de": {
      "model_module": "@jupyter-widgets/controls",
      "model_module_version": "2.0.0",
      "model_name": "HTMLMathStyleModel",
      "state": {
       "description_width": "",
       "font_size": null,
       "text_color": null
      }
     },
     "b8cac5d2062a4b969f607ea6561c9a1c": {
      "model_module": "@jupyter-widgets/controls",
      "model_module_version": "2.0.0",
      "model_name": "HTMLMathModel",
      "state": {
       "layout": "IPY_MODEL_72f4493fe3b74dc1a6177aa946257db0",
       "style": "IPY_MODEL_ed496f79e9c942c79c772e6378bfd2a8",
       "value": "Model Type"
      }
     },
     "b8e6a6eca080413bb764bee951f1de13": {
      "model_module": "@jupyter-widgets/controls",
      "model_module_version": "2.0.0",
      "model_name": "HTMLMathModel",
      "state": {
       "layout": "IPY_MODEL_7372b014745f43aab813ffcdec4743e7",
       "style": "IPY_MODEL_8813e938bb1c4859863bfaae07ed3b79",
       "value": "The fixed temperature of the steam ($^\\circ$C)."
      }
     },
     "b8f15e312e194ac892d1fb0f531f3b3a": {
      "model_module": "@jupyter-widgets/base",
      "model_module_version": "2.0.0",
      "model_name": "LayoutModel",
      "state": {
       "margin": "0px 0px 0px 10px",
       "width": "350px"
      }
     },
     "b9684755931c4821afef2a366150dada": {
      "model_module": "@jupyter-widgets/base",
      "model_module_version": "2.0.0",
      "model_name": "LayoutModel",
      "state": {
       "width": "350px"
      }
     },
     "b969c44e676b448189cddb4080e0b9ef": {
      "model_module": "@jupyter-widgets/controls",
      "model_module_version": "2.0.0",
      "model_name": "HTMLMathStyleModel",
      "state": {
       "description_width": "",
       "font_size": null,
       "text_color": null
      }
     },
     "b97afdc8403343f096f07b107ceadeef": {
      "model_module": "@jupyter-widgets/base",
      "model_module_version": "2.0.0",
      "model_name": "LayoutModel",
      "state": {
       "align_items": "center",
       "padding": "0px 5px 0px 5px"
      }
     },
     "b987431bc0ef4f739846f66a6d725a62": {
      "model_module": "@jupyter-widgets/controls",
      "model_module_version": "2.0.0",
      "model_name": "HTMLMathStyleModel",
      "state": {
       "description_width": "",
       "font_size": null,
       "text_color": null
      }
     },
     "b9a8ba34e23e4a8ea15df5668622506f": {
      "model_module": "@jupyter-widgets/controls",
      "model_module_version": "2.0.0",
      "model_name": "HTMLMathModel",
      "state": {
       "layout": "IPY_MODEL_70ecd277e0c547c9a886d47c21e88133",
       "style": "IPY_MODEL_4d2c154b4869499cbdf918fc9dad1af5",
       "value": "The fixed temperature of the steam ($^\\circ$C)."
      }
     },
     "b9c1c0d94be140338e199f4bacb6aca8": {
      "model_module": "@jupyter-widgets/controls",
      "model_module_version": "2.0.0",
      "model_name": "BoundedFloatTextModel",
      "state": {
       "description": "Bubble diameter",
       "layout": "IPY_MODEL_0193845d71a94b78a09d0bca549e8d60",
       "max": 0.008,
       "min": 0.003,
       "step": null,
       "style": "IPY_MODEL_afba97fcc9ca4cbcb0b22c5f5f8eb53c",
       "tooltip": "Bubble diameter (m).  For surragate model must be in $[0.003, 0.008]$, for cfd must be $>=0$",
       "value": 0.006
      }
     },
     "ba03c3c116114f05adec8b679a5cb5c2": {
      "model_module": "@jupyter-widgets/controls",
      "model_module_version": "2.0.0",
      "model_name": "HTMLMathStyleModel",
      "state": {
       "description_width": "",
       "font_size": null,
       "text_color": null
      }
     },
     "ba182440fcae4e3f90fc4784defaf74d": {
      "model_module": "@jupyter-widgets/controls",
      "model_module_version": "2.0.0",
      "model_name": "HTMLMathModel",
      "state": {
       "layout": "IPY_MODEL_1163ec66c0d4402c97e8766b3befedf1",
       "style": "IPY_MODEL_2e8427b5a83e4dac8fa494421fbe0d5b",
       "value": "The initial fraction of solids that is xylan (kg/kg).  Must be in the range [0, 1]"
      }
     },
     "baac45567ef54e439a37d29e6c1e7762": {
      "model_module": "@jupyter-widgets/base",
      "model_module_version": "2.0.0",
      "model_name": "LayoutModel",
      "state": {
       "margin": "0px 0px 0px 10px",
       "width": "350px"
      }
     },
     "bb6e82aafcc943f2b053fff2e2b0269d": {
      "model_module": "@jupyter-widgets/base",
      "model_module_version": "2.0.0",
      "model_name": "LayoutModel",
      "state": {}
     },
     "bbd3aeeeee6f47a4a5220d1fd20c5161": {
      "model_module": "@jupyter-widgets/controls",
      "model_module_version": "2.0.0",
      "model_name": "DescriptionStyleModel",
      "state": {
       "description_width": "125px"
      }
     },
     "bc27b0564e424bcb8c2bd8cc59dbb198": {
      "model_module": "@jupyter-widgets/controls",
      "model_module_version": "2.0.0",
      "model_name": "CheckboxStyleModel",
      "state": {
       "description_width": ""
      }
     },
     "bc4f44f9952d4213b974683c23786988": {
      "model_module": "@jupyter-widgets/controls",
      "model_module_version": "2.0.0",
      "model_name": "HTMLMathStyleModel",
      "state": {
       "description_width": "",
       "font_size": null,
       "text_color": null
      }
     },
     "bcd21ed8e376447db6e9ebb55ed48dd4": {
      "model_module": "@jupyter-widgets/controls",
      "model_module_version": "2.0.0",
      "model_name": "HTMLMathModel",
      "state": {
       "layout": "IPY_MODEL_8055e425ed024813b32efbcc6d8480aa",
       "style": "IPY_MODEL_87fc03fcd4e34a57a28d57b7c0f98d4c",
       "value": "Bubble diameter (m).  For surragate model must be in $[0.003, 0.008]$, for cfd must be $>=0$"
      }
     },
     "be99bb55abd440eeb21d736f3b4a48fb": {
      "model_module": "@jupyter-widgets/controls",
      "model_module_version": "2.0.0",
      "model_name": "HTMLMathModel",
      "state": {
       "layout": "IPY_MODEL_292eb4074e6b45f8bb619ef77c1a732b",
       "style": "IPY_MODEL_e8bdfef5b4d341a8931a1db7b2810051",
       "value": "Model Type"
      }
     },
     "bf5b80ab524d42df990857a44a7d8bd8": {
      "model_module": "@jupyter-widgets/base",
      "model_module_version": "2.0.0",
      "model_name": "LayoutModel",
      "state": {
       "align_items": "center",
       "padding": "0px 5px 0px 5px"
      }
     },
     "bfd946c8606346418a727bc53bb7edfd": {
      "model_module": "@jupyter-widgets/controls",
      "model_module_version": "2.0.0",
      "model_name": "BoundedFloatTextModel",
      "state": {
       "description": "Final Time",
       "layout": "IPY_MODEL_0d754af64c6149a8bf7fc588efaac2ef",
       "max": 10000000000000000,
       "min": 1,
       "step": null,
       "style": "IPY_MODEL_33d0872ad55045d0baaa57ca0a4903b9",
       "tooltip": "The total time of the simulation (h).  Must be $\\geq 1$",
       "value": 100
      }
     },
     "c0039da1fc894808a224532420e9ba46": {
      "model_module": "@jupyter-widgets/controls",
      "model_module_version": "2.0.0",
      "model_name": "HTMLMathStyleModel",
      "state": {
       "description_width": "",
       "font_size": null,
       "text_color": null
      }
     },
     "c08006e34a15435f9eef679c5abc7711": {
      "model_module": "@jupyter-widgets/base",
      "model_module_version": "2.0.0",
      "model_name": "LayoutModel",
      "state": {
       "align_items": "center",
       "padding": "0px 5px 0px 5px"
      }
     },
     "c0b4a64be9c24597bba7303016bed4eb": {
      "model_module": "@jupyter-widgets/base",
      "model_module_version": "2.0.0",
      "model_name": "LayoutModel",
      "state": {
       "margin": "0px 0px 0px 10px",
       "width": "350px"
      }
     },
     "c1146bb4bed047a1afb9028656a6bce7": {
      "model_module": "@jupyter-widgets/controls",
      "model_module_version": "2.0.0",
      "model_name": "DescriptionStyleModel",
      "state": {
       "description_width": ""
      }
     },
     "c12801e4a0844e70b135115612f554fe": {
      "model_module": "@jupyter-widgets/controls",
      "model_module_version": "2.0.0",
      "model_name": "HTMLMathStyleModel",
      "state": {
       "description_width": "",
       "font_size": null,
       "text_color": null
      }
     },
     "c2e8def1ede248e5ad76c233e9ae531b": {
      "model_module": "@jupyter-widgets/base",
      "model_module_version": "2.0.0",
      "model_name": "LayoutModel",
      "state": {
       "align_items": "center",
       "padding": "0px 5px 0px 5px"
      }
     },
     "c30c80f3e47148e5b12d770173030e41": {
      "model_module": "@jupyter-widgets/controls",
      "model_module_version": "2.0.0",
      "model_name": "HTMLMathStyleModel",
      "state": {
       "description_width": "",
       "font_size": null,
       "text_color": null
      }
     },
     "c31ba64a419e444d8ed2f670b851dc18": {
      "model_module": "@jupyter-widgets/controls",
      "model_module_version": "2.0.0",
      "model_name": "HTMLMathModel",
      "state": {
       "layout": "IPY_MODEL_e9391db906cd46c69bfa6ecefc35b1e8",
       "style": "IPY_MODEL_6f1800ea76e14dadaf8f6258f6cba5be",
       "value": "The initial fraction of insoluble solids (kg/kg).  Must be in the range [0, 1]"
      }
     },
     "c325dc50db384ba7b1def5bc6ad1979d": {
      "model_module": "@jupyter-widgets/controls",
      "model_module_version": "2.0.0",
      "model_name": "HTMLMathModel",
      "state": {
       "layout": "IPY_MODEL_62a0e4b20e7e482c8522e1d00e263c07",
       "style": "IPY_MODEL_76d062378d8c4e5f8f4c1e74d6c7c7ce",
       "value": "The total time of the simulation (h).  Must be $\\geq 1$"
      }
     },
     "c3c9b5c624084aecb95570d4f66a0815": {
      "model_module": "@jupyter-widgets/base",
      "model_module_version": "2.0.0",
      "model_name": "LayoutModel",
      "state": {
       "height": "48px",
       "width": "220px"
      }
     },
     "c4a8b0796c774857bb9e9b289fd71434": {
      "model_module": "@jupyter-widgets/base",
      "model_module_version": "2.0.0",
      "model_name": "LayoutModel",
      "state": {}
     },
     "c4f90878e28a46cca9f3b46416915e47": {
      "model_module": "@jupyter-widgets/controls",
      "model_module_version": "2.0.0",
      "model_name": "HTMLMathStyleModel",
      "state": {
       "description_width": "",
       "font_size": null,
       "text_color": null
      }
     },
     "c5616441f9ad4270b8d6cf5a46d98650": {
      "model_module": "@jupyter-widgets/base",
      "model_module_version": "2.0.0",
      "model_name": "LayoutModel",
      "state": {}
     },
     "c60e6f0b4a164b769f6f005f5699d476": {
      "model_module": "@jupyter-widgets/base",
      "model_module_version": "2.0.0",
      "model_name": "LayoutModel",
      "state": {
       "align_items": "center",
       "padding": "0px 5px 0px 5px"
      }
     },
     "c6459bf44d8c4109a671b0fefee6d2c8": {
      "model_module": "@jupyter-widgets/base",
      "model_module_version": "2.0.0",
      "model_name": "LayoutModel",
      "state": {
       "width": "350px"
      }
     },
     "c64b18f888a44e57b3ffff23452c0be4": {
      "model_module": "@jupyter-widgets/controls",
      "model_module_version": "2.0.0",
      "model_name": "HTMLMathModel",
      "state": {
       "layout": "IPY_MODEL_168a9429bf4142faa4f9722031cd39df",
       "style": "IPY_MODEL_c30c80f3e47148e5b12d770173030e41",
       "value": "Model Type"
      }
     },
     "c676184af82d4e82a70226675d68d4a4": {
      "model_module": "@jupyter-widgets/base",
      "model_module_version": "2.0.0",
      "model_name": "LayoutModel",
      "state": {
       "margin": "0px 0px 0px 10px",
       "width": "350px"
      }
     },
     "c676601b015d453fbb7a67c3a84bb4c1": {
      "model_module": "@jupyter-widgets/controls",
      "model_module_version": "2.0.0",
      "model_name": "HTMLMathModel",
      "state": {
       "layout": "IPY_MODEL_30c519b8fec84dd38c80cd733f584495",
       "style": "IPY_MODEL_0fb80acb24f347b5a3041987e13de500",
       "value": "Show Plots"
      }
     },
     "c6a6f9342a774d56bf767d2c85bba21b": {
      "model_module": "@jupyter-widgets/base",
      "model_module_version": "2.0.0",
      "model_name": "LayoutModel",
      "state": {
       "align_items": "center",
       "padding": "0px 5px 0px 5px"
      }
     },
     "c7385fe393104b13972c9cdeef2259b3": {
      "model_module": "@jupyter-widgets/controls",
      "model_module_version": "2.0.0",
      "model_name": "DescriptionStyleModel",
      "state": {
       "description_width": ""
      }
     },
     "c75b8a52c193498dbd3f1ef4bffd2ad1": {
      "model_module": "@jupyter-widgets/base",
      "model_module_version": "2.0.0",
      "model_name": "LayoutModel",
      "state": {
       "margin": "0px 0px 0px 10px",
       "width": "350px"
      }
     },
     "c79313c8ec8043389e82be152e1d1085": {
      "model_module": "@jupyter-widgets/base",
      "model_module_version": "2.0.0",
      "model_name": "LayoutModel",
      "state": {
       "width": "350px"
      }
     },
     "c7db4e6289bd41b59cd180947f787501": {
      "model_module": "@jupyter-widgets/base",
      "model_module_version": "2.0.0",
      "model_name": "LayoutModel",
      "state": {
       "align_items": "center",
       "padding": "0px 5px 0px 5px"
      }
     },
     "c853a656b58a421e8b8434f0ac31dcb1": {
      "model_module": "@jupyter-widgets/controls",
      "model_module_version": "2.0.0",
      "model_name": "DescriptionStyleModel",
      "state": {
       "description_width": ""
      }
     },
     "c8db6cc206cc42088edc36fb7e062dbc": {
      "model_module": "@jupyter-widgets/base",
      "model_module_version": "2.0.0",
      "model_name": "LayoutModel",
      "state": {
       "margin": "0px 0px 0px 10px",
       "width": "350px"
      }
     },
     "c8eb6d2a40af47ba8224dcce063aef3b": {
      "model_module": "@jupyter-widgets/controls",
      "model_module_version": "2.0.0",
      "model_name": "HTMLMathStyleModel",
      "state": {
       "description_width": "",
       "font_size": null,
       "text_color": null
      }
     },
     "c8f60c6eed104cb4b95a89e1f07fe6c4": {
      "model_module": "@jupyter-widgets/controls",
      "model_module_version": "2.0.0",
      "model_name": "DescriptionStyleModel",
      "state": {
       "description_width": ""
      }
     },
     "c90ff32836374374963c0287296e9374": {
      "model_module": "@jupyter-widgets/controls",
      "model_module_version": "2.0.0",
      "model_name": "HTMLMathStyleModel",
      "state": {
       "description_width": "",
       "font_size": null,
       "text_color": null
      }
     },
     "c96f85c7071b4b72ae84f63dd4058d4a": {
      "model_module": "@jupyter-widgets/controls",
      "model_module_version": "2.0.0",
      "model_name": "HTMLMathModel",
      "state": {
       "layout": "IPY_MODEL_f71244df08d447a9b3573f3d0584cec3",
       "style": "IPY_MODEL_a4b9f0a2fff44f72b9879d6010eea1e8",
       "value": "The fixed temperature of the steam ($^\\circ$C)."
      }
     },
     "c9a37c5714404c90a191f4912a66d216": {
      "model_module": "@jupyter-widgets/controls",
      "model_module_version": "2.0.0",
      "model_name": "HTMLMathModel",
      "state": {
       "layout": "IPY_MODEL_05335b695aac4aaab8c33920dec261e4",
       "style": "IPY_MODEL_cb4bfa1cfd204c2cae88e352c4155fcc",
       "value": "Specifies the solver to use for the EH step, \"CFD Simulation\" requires HPC resources."
      }
     },
     "c9fb46b4e815493bb65e0c17d26baf84": {
      "model_module": "@jupyter-widgets/base",
      "model_module_version": "2.0.0",
      "model_name": "LayoutModel",
      "state": {
       "margin": "0px 0px 0px 10px",
       "width": "350px"
      }
     },
     "ca38bacd3cd3418e8f5cb362125dd1cc": {
      "model_module": "@jupyter-widgets/controls",
      "model_module_version": "2.0.0",
      "model_name": "ButtonModel",
      "state": {
       "button_style": "success",
       "description": "Run All.",
       "layout": "IPY_MODEL_586621640333415eaa92fb3081ea3859",
       "style": "IPY_MODEL_d249ae9fe67841e0b4637f1a8c8a2ea3",
       "tooltip": "Execute the model start-to-finish with the properties specified above."
      }
     },
     "ca4c3dfd6fbe4790b242f3bee8317a88": {
      "model_module": "@jupyter-widgets/controls",
      "model_module_version": "2.0.0",
      "model_name": "HTMLMathStyleModel",
      "state": {
       "description_width": "",
       "font_size": null,
       "text_color": null
      }
     },
     "ca9cab800fdb4e7ba7e083856434d325": {
      "model_module": "@jupyter-widgets/base",
      "model_module_version": "2.0.0",
      "model_name": "LayoutModel",
      "state": {
       "align_items": "center",
       "padding": "0px 5px 0px 5px"
      }
     },
     "cb4bfa1cfd204c2cae88e352c4155fcc": {
      "model_module": "@jupyter-widgets/controls",
      "model_module_version": "2.0.0",
      "model_name": "HTMLMathStyleModel",
      "state": {
       "description_width": "",
       "font_size": null,
       "text_color": null
      }
     },
     "cb777b0ecc0e4329be6cc6df076b190b": {
      "model_module": "@jupyter-widgets/base",
      "model_module_version": "2.0.0",
      "model_name": "LayoutModel",
      "state": {
       "margin": "0px 0px 0px 10px",
       "width": "350px"
      }
     },
     "cbd946f230114189bfab8837ec33e2b0": {
      "model_module": "@jupyter-widgets/base",
      "model_module_version": "2.0.0",
      "model_name": "LayoutModel",
      "state": {
       "width": "350px"
      }
     },
     "cc2a596193ae400c85b3ff2cabb04c72": {
      "model_module": "@jupyter-widgets/controls",
      "model_module_version": "2.0.0",
      "model_name": "BoundedFloatTextModel",
      "state": {
       "description": "FIS$_0$ Target",
       "layout": "IPY_MODEL_340ec2bcb90a432dbbfbe0220e701b7f",
       "max": 1,
       "step": null,
       "style": "IPY_MODEL_15d020e9a15b4d93b604e9ef1e356157",
       "tooltip": "The target value for initial fraction of insoluble solids *after* dilution (kg/kg).  Must be in the range [0, 1]",
       "value": 0.05
      }
     },
     "ccba300d038a475aad9c9645b13b18fa": {
      "model_module": "@jupyter-widgets/controls",
      "model_module_version": "2.0.0",
      "model_name": "BoundedFloatTextModel",
      "state": {
       "description": "Acid Loading",
       "layout": "IPY_MODEL_07bc038adf64409cb088476cd796c61e",
       "max": 1,
       "step": null,
       "style": "IPY_MODEL_5d2f9f8906c64521975c70fbeaf7c358",
       "tooltip": "The initial concentration of acid (mol/mL).  Must be in the range [0, 1]",
       "value": 0.0001
      }
     },
     "cd148208540544278f546752d3c86ada": {
      "model_module": "@jupyter-widgets/controls",
      "model_module_version": "2.0.0",
      "model_name": "HTMLMathStyleModel",
      "state": {
       "description_width": "",
       "font_size": null,
       "text_color": null
      }
     },
     "cd993c8c8a4848948a10562d0a9eb1d3": {
      "model_module": "@jupyter-widgets/controls",
      "model_module_version": "2.0.0",
      "model_name": "BoundedFloatTextModel",
      "state": {
       "description": "Gas velocity",
       "layout": "IPY_MODEL_64f5122106244b51a0409b3fb7b94c9b",
       "max": 0.1,
       "min": 0.01,
       "step": null,
       "style": "IPY_MODEL_e5cfef47c2214e5fb433b473f5ed2d95",
       "tooltip": "Gas velocity in the simulation (m/s).  Must be in $[0.01, 0.1]$",
       "value": 0.08
      }
     },
     "cdd40f8d28524d9988b9c8cb2b6e5b23": {
      "model_module": "@jupyter-widgets/controls",
      "model_module_version": "2.0.0",
      "model_name": "DescriptionStyleModel",
      "state": {
       "description_width": ""
      }
     },
     "ce6025c1a4184f93a14ea98788a45e38": {
      "model_module": "@jupyter-widgets/base",
      "model_module_version": "2.0.0",
      "model_name": "LayoutModel",
      "state": {}
     },
     "ce6abee58ac543b0b5f76a7cb83791ba": {
      "model_module": "@jupyter-widgets/controls",
      "model_module_version": "2.0.0",
      "model_name": "BoundedFloatTextModel",
      "state": {
       "description": "Final Time",
       "layout": "IPY_MODEL_b697b1b11d6242518d888b2e6a7c5c5e",
       "max": 1440,
       "min": 1,
       "step": null,
       "style": "IPY_MODEL_8a63a85c9ba94b5b86bfea1e3d86bc7a",
       "tooltip": "Total simulation time (min).  Must be $\\geq$ 1",
       "value": 8.3
      }
     },
     "ce9353c0888240debd3795490c5e7a72": {
      "model_module": "@jupyter-widgets/controls",
      "model_module_version": "2.0.0",
      "model_name": "DescriptionStyleModel",
      "state": {
       "description_width": ""
      }
     },
     "ce9df395cf0642beb1a38d1510a9574c": {
      "model_module": "@jupyter-widgets/controls",
      "model_module_version": "2.0.0",
      "model_name": "DescriptionStyleModel",
      "state": {
       "description_width": "125px"
      }
     },
     "ced6915361db484d9499b0d4cc96425d": {
      "model_module": "@jupyter-widgets/controls",
      "model_module_version": "2.0.0",
      "model_name": "DescriptionStyleModel",
      "state": {
       "description_width": ""
      }
     },
     "cedd539ee1654c6da70628c57f565209": {
      "model_module": "@jupyter-widgets/base",
      "model_module_version": "2.0.0",
      "model_name": "LayoutModel",
      "state": {}
     },
     "cee7f41e0b434011a4d6b70ee550dadd": {
      "model_module": "@jupyter-widgets/controls",
      "model_module_version": "2.0.0",
      "model_name": "HTMLMathStyleModel",
      "state": {
       "description_width": "",
       "font_size": null,
       "text_color": null
      }
     },
     "cf141e774f2e44e4b1b1152a0c8ff865": {
      "model_module": "@jupyter-widgets/controls",
      "model_module_version": "2.0.0",
      "model_name": "HTMLMathStyleModel",
      "state": {
       "description_width": "",
       "font_size": null,
       "text_color": null
      }
     },
     "cf41a30cc5e34f5a993105a6cb317e2b": {
      "model_module": "@jupyter-widgets/controls",
      "model_module_version": "2.0.0",
      "model_name": "BoundedFloatTextModel",
      "state": {
       "description": "Initial Porosity",
       "layout": "IPY_MODEL_7c8a2faaca0543e280f361fd77658d45",
       "max": 1,
       "step": null,
       "style": "IPY_MODEL_d1d1c7eaf7734d91ab1f5e0259a5272d",
       "tooltip": "The initial porous fraction of the biomass particles.  Must be in the range [0, 1]",
       "value": 0.8
      }
     },
     "cf8c0fa4b0de47fd8511d98d6191c3b9": {
      "model_module": "@jupyter-widgets/base",
      "model_module_version": "2.0.0",
      "model_name": "LayoutModel",
      "state": {}
     },
     "cfead51a57d348718437edaa8da63ca9": {
      "model_module": "@jupyter-widgets/controls",
      "model_module_version": "2.0.0",
      "model_name": "DescriptionStyleModel",
      "state": {
       "description_width": ""
      }
     },
     "d0266a350dc9478ba5fb5640f20993af": {
      "model_module": "@jupyter-widgets/controls",
      "model_module_version": "2.0.0",
      "model_name": "HTMLMathModel",
      "state": {
       "layout": "IPY_MODEL_4de6fe53d64047ac839b1ad192a7475c",
       "style": "IPY_MODEL_b969c44e676b448189cddb4080e0b9ef",
       "value": "Total simulation time (min).  Must be $\\geq$ 1"
      }
     },
     "d026e94e7e394396b2511f0ad2009632": {
      "model_module": "@jupyter-widgets/base",
      "model_module_version": "2.0.0",
      "model_name": "LayoutModel",
      "state": {
       "align_items": "center",
       "padding": "0px 5px 0px 5px"
      }
     },
     "d04b15d5daa844eb8a0cf77d8e3c9ba9": {
      "model_module": "@jupyter-widgets/controls",
      "model_module_version": "2.0.0",
      "model_name": "HTMLMathModel",
      "state": {
       "layout": "IPY_MODEL_a424fd5aeca7438288df073898d2b0cf",
       "style": "IPY_MODEL_bc4f44f9952d4213b974683c23786988",
       "value": "Specifies the solver to use for the EH step, \"CFD Simulation\" requires HPC resources."
      }
     },
     "d05d5014551e409dba0ddbd9e4da0056": {
      "model_module": "@jupyter-widgets/base",
      "model_module_version": "2.0.0",
      "model_name": "LayoutModel",
      "state": {
       "align_items": "center",
       "padding": "0px 5px 0px 5px"
      }
     },
     "d12dd8e70cf34bdb8ad17453ed4ce957": {
      "model_module": "@jupyter-widgets/base",
      "model_module_version": "2.0.0",
      "model_name": "LayoutModel",
      "state": {
       "align_items": "center",
       "padding": "0px 5px 0px 5px"
      }
     },
     "d130b13b9ca94d50800ce4dfe1a30a73": {
      "model_module": "@jupyter-widgets/base",
      "model_module_version": "2.0.0",
      "model_name": "LayoutModel",
      "state": {}
     },
     "d199b9cb85cd4b6a829afaf3bfa00990": {
      "model_module": "@jupyter-widgets/controls",
      "model_module_version": "2.0.0",
      "model_name": "HBoxModel",
      "state": {
       "children": [
        "IPY_MODEL_77eff065c8ad42b1a3cdc8cd0ce4055d",
        "IPY_MODEL_9295122d82aa4ce9bf82a44337c7a2fd"
       ],
       "layout": "IPY_MODEL_83d4cc0bbfea4a6f8da1c4fdaade702c"
      }
     },
     "d1c05a2fcc2148508bb551fdbdc96c66": {
      "model_module": "@jupyter-widgets/controls",
      "model_module_version": "2.0.0",
      "model_name": "DescriptionStyleModel",
      "state": {
       "description_width": "125px"
      }
     },
     "d1d1c7eaf7734d91ab1f5e0259a5272d": {
      "model_module": "@jupyter-widgets/controls",
      "model_module_version": "2.0.0",
      "model_name": "DescriptionStyleModel",
      "state": {
       "description_width": "125px"
      }
     },
     "d249ae9fe67841e0b4637f1a8c8a2ea3": {
      "model_module": "@jupyter-widgets/controls",
      "model_module_version": "2.0.0",
      "model_name": "ButtonStyleModel",
      "state": {
       "font_family": null,
       "font_size": null,
       "font_style": null,
       "font_variant": null,
       "font_weight": null,
       "text_color": null,
       "text_decoration": null
      }
     },
     "d2640cf5b0034bbba03536b3cbcd1334": {
      "model_module": "@jupyter-widgets/controls",
      "model_module_version": "2.0.0",
      "model_name": "HTMLMathStyleModel",
      "state": {
       "description_width": "",
       "font_size": null,
       "text_color": null
      }
     },
     "d31824e05833441684662e28922cd15f": {
      "model_module": "@jupyter-widgets/controls",
      "model_module_version": "2.0.0",
      "model_name": "DescriptionStyleModel",
      "state": {
       "description_width": "125px"
      }
     },
     "d3a203521b7e43518481bc6079409b13": {
      "model_module": "@jupyter-widgets/controls",
      "model_module_version": "2.0.0",
      "model_name": "DescriptionStyleModel",
      "state": {
       "description_width": "125px"
      }
     },
     "d405238740154110957f55ea24e29b54": {
      "model_module": "@jupyter-widgets/controls",
      "model_module_version": "2.0.0",
      "model_name": "HTMLMathStyleModel",
      "state": {
       "description_width": "",
       "font_size": null,
       "text_color": null
      }
     },
     "d42f880616684e2faf28feb52307cf64": {
      "model_module": "@jupyter-widgets/base",
      "model_module_version": "2.0.0",
      "model_name": "LayoutModel",
      "state": {}
     },
     "d4465d440e9445a4aca25ff1b55d290c": {
      "model_module": "@jupyter-widgets/base",
      "model_module_version": "2.0.0",
      "model_name": "LayoutModel",
      "state": {
       "margin": "0px 0px 0px 10px",
       "width": "350px"
      }
     },
     "d454361209cd43b4bc4f8e33e0325acb": {
      "model_module": "@jupyter-widgets/controls",
      "model_module_version": "2.0.0",
      "model_name": "DescriptionStyleModel",
      "state": {
       "description_width": "125px"
      }
     },
     "d45bdfbc45a34de3a351be01bf73b0b4": {
      "model_module": "@jupyter-widgets/controls",
      "model_module_version": "2.0.0",
      "model_name": "HTMLMathStyleModel",
      "state": {
       "description_width": "",
       "font_size": null,
       "text_color": null
      }
     },
     "d4881557f94949fc92445c26a04e9dd2": {
      "model_module": "@jupyter-widgets/controls",
      "model_module_version": "2.0.0",
      "model_name": "DescriptionStyleModel",
      "state": {
       "description_width": "125px"
      }
     },
     "d48ef214a1e748bb973749611a747d1f": {
      "model_module": "@jupyter-widgets/controls",
      "model_module_version": "2.0.0",
      "model_name": "BoundedFloatTextModel",
      "state": {
       "description": "FIS$_0$ Target",
       "layout": "IPY_MODEL_e318394507014656a9a8814644638a9e",
       "max": 1,
       "step": null,
       "style": "IPY_MODEL_12f1285fbd114514a3d5c953eca031f1",
       "tooltip": "The target value for initial fraction of insoluble solids *after* dilution (kg/kg).  Must be in the range [0, 1]",
       "value": 0.05
      }
     },
     "d4f852b5195449c28a2ec0e718ea93e1": {
      "model_module": "@jupyter-widgets/controls",
      "model_module_version": "2.0.0",
      "model_name": "HTMLMathStyleModel",
      "state": {
       "description_width": "",
       "font_size": null,
       "text_color": null
      }
     },
     "d52362488de44fa3ae9477a42baa63b5": {
      "model_module": "@jupyter-widgets/controls",
      "model_module_version": "2.0.0",
      "model_name": "BoundedFloatTextModel",
      "state": {
       "description": "Final Time",
       "layout": "IPY_MODEL_402c6b1a27fe4a6da9f96a68be4b0ea0",
       "max": 24,
       "min": 1,
       "step": null,
       "style": "IPY_MODEL_675b76f89c2b4450afa7c4c4641bae16",
       "tooltip": "The total time of the simulation (h).  Must be $\\geq$ 1",
       "value": 24
      }
     },
     "d58e111fcf8a4e8c87df16647d2fdc0c": {
      "model_module": "@jupyter-widgets/base",
      "model_module_version": "2.0.0",
      "model_name": "LayoutModel",
      "state": {
       "align_items": "center",
       "padding": "0px 5px 0px 5px"
      }
     },
     "d689c9189f2a4cfaa38366de520dfa5f": {
      "model_module": "@jupyter-widgets/base",
      "model_module_version": "2.0.0",
      "model_name": "LayoutModel",
      "state": {
       "margin": "0px 0px 0px 10px",
       "width": "350px"
      }
     },
     "d7bde9a2fac24ee7b507b5fe53be54c9": {
      "model_module": "@jupyter-widgets/controls",
      "model_module_version": "2.0.0",
      "model_name": "HBoxModel",
      "state": {
       "children": [
        "IPY_MODEL_8dc642f2ba3e48ad848027df664621fa",
        "IPY_MODEL_089f9747bece4dd58b8e093a4084aa95"
       ],
       "layout": "IPY_MODEL_6aa66af922824586a33d6dbd6e8f7fea"
      }
     },
     "d82b4031f2d7464283fa0a24a61fd3c6": {
      "model_module": "@jupyter-widgets/base",
      "model_module_version": "2.0.0",
      "model_name": "LayoutModel",
      "state": {
       "margin": "0px 0px 0px 10px",
       "width": "350px"
      }
     },
     "d82cace6311e47cbb2b3a57d5521d9d9": {
      "model_module": "@jupyter-widgets/controls",
      "model_module_version": "2.0.0",
      "model_name": "DescriptionStyleModel",
      "state": {
       "description_width": ""
      }
     },
     "d8a3a601362a4e17882eca2db3c7fd23": {
      "model_module": "@jupyter-widgets/controls",
      "model_module_version": "2.0.0",
      "model_name": "HTMLMathModel",
      "state": {
       "layout": "IPY_MODEL_08b1d103f0124d87919f5c9c34c5adc5",
       "style": "IPY_MODEL_9d1c448a7a0c4121baaccc983df53cd6",
       "value": "Specifies the solver to use for the EH step, \"CFD Simulation\" requires HPC resources."
      }
     },
     "d8b8181381be4d85a39d811be471994e": {
      "model_module": "@jupyter-widgets/base",
      "model_module_version": "2.0.0",
      "model_name": "LayoutModel",
      "state": {
       "height": "68px",
       "width": "220px"
      }
     },
     "d8bf5558fb814538a6aedf168bdeea0f": {
      "model_module": "@jupyter-widgets/controls",
      "model_module_version": "2.0.0",
      "model_name": "CheckboxStyleModel",
      "state": {
       "description_width": "125px"
      }
     },
     "d96b9f8479e74a0c9738d6824daca306": {
      "model_module": "@jupyter-widgets/controls",
      "model_module_version": "2.0.0",
      "model_name": "HTMLMathStyleModel",
      "state": {
       "description_width": "",
       "font_size": null,
       "text_color": null
      }
     },
     "d9813d2159d94a62aedbc841e580b5b3": {
      "model_module": "@jupyter-widgets/controls",
      "model_module_version": "2.0.0",
      "model_name": "HTMLMathModel",
      "state": {
       "layout": "IPY_MODEL_6519d547a8414f10a475a472e005afc6",
       "style": "IPY_MODEL_47aa6f0a784e441a88e97c424866b4b6",
       "value": "Model Type"
      }
     },
     "da22938d1e24433384d1facaa8f3160d": {
      "model_module": "@jupyter-widgets/base",
      "model_module_version": "2.0.0",
      "model_name": "LayoutModel",
      "state": {
       "margin": "0px 0px 0px 10px",
       "width": "350px"
      }
     },
     "da295ec02d054c5a97ed3f439eed4cf6": {
      "model_module": "@jupyter-widgets/base",
      "model_module_version": "2.0.0",
      "model_name": "LayoutModel",
      "state": {
       "width": "350px"
      }
     },
     "da4ef10a890b47a2a496b63ea4db5139": {
      "model_module": "@jupyter-widgets/controls",
      "model_module_version": "2.0.0",
      "model_name": "BoundedFloatTextModel",
      "state": {
       "description": "Final Time",
       "layout": "IPY_MODEL_74d49cfb54e74327b6eb717886bcc8b2",
       "max": 24,
       "min": 1,
       "step": null,
       "style": "IPY_MODEL_08bfe821d4314819b756752348bb6754",
       "tooltip": "The total time of the simulation (h).  Must be $\\geq$ 1",
       "value": 24
      }
     },
     "da8d8d26989640988cbf04138469a5b4": {
      "model_module": "@jupyter-widgets/base",
      "model_module_version": "2.0.0",
      "model_name": "LayoutModel",
      "state": {}
     },
     "daa4d2281ed84088b5b692d8038a8111": {
      "model_module": "@jupyter-widgets/controls",
      "model_module_version": "2.0.0",
      "model_name": "HBoxModel",
      "state": {
       "children": [
        "IPY_MODEL_b8cac5d2062a4b969f607ea6561c9a1c",
        "IPY_MODEL_03614fd14e314c7bac60d3bcf3274d15",
        "IPY_MODEL_903a4751a14f418c9cdca6ef4e0c4796"
       ],
       "layout": "IPY_MODEL_67dbaa695de547afb3e189c256482896"
      }
     },
     "daada6f3ead54f8bbff679970b2d5292": {
      "model_module": "@jupyter-widgets/controls",
      "model_module_version": "2.0.0",
      "model_name": "HBoxModel",
      "state": {
       "children": [
        "IPY_MODEL_b47fdde8260149c3a42a030283a9ea3b",
        "IPY_MODEL_c31ba64a419e444d8ed2f670b851dc18"
       ],
       "layout": "IPY_MODEL_ca9cab800fdb4e7ba7e083856434d325"
      }
     },
     "db1cfb2fe3b94dd6b5e90bd2bae508a1": {
      "model_module": "@jupyter-widgets/base",
      "model_module_version": "2.0.0",
      "model_name": "LayoutModel",
      "state": {
       "margin": "0px 0px 0px 10px",
       "width": "350px"
      }
     },
     "db6eb742c72e4fbbb0689b7ec9dcd247": {
      "model_module": "@jupyter-widgets/controls",
      "model_module_version": "2.0.0",
      "model_name": "HBoxModel",
      "state": {
       "children": [
        "IPY_MODEL_5b30531f46a042f1973ee0e202bc1218",
        "IPY_MODEL_c325dc50db384ba7b1def5bc6ad1979d"
       ],
       "layout": "IPY_MODEL_3ed1c90b01bf4b7ba60f40c76f2b567b"
      }
     },
     "db84fdd0684f4b6abfed5520117e99cf": {
      "model_module": "@jupyter-widgets/controls",
      "model_module_version": "2.0.0",
      "model_name": "DescriptionStyleModel",
      "state": {
       "description_width": ""
      }
     },
     "dbd37fadc3ea4d68b03a3657d83825e6": {
      "model_module": "@jupyter-widgets/controls",
      "model_module_version": "2.0.0",
      "model_name": "DescriptionStyleModel",
      "state": {
       "description_width": "125px"
      }
     },
     "dc2d42056b6b4044a199a3464b8518e3": {
      "model_module": "@jupyter-widgets/controls",
      "model_module_version": "2.0.0",
      "model_name": "HTMLMathModel",
      "state": {
       "layout": "IPY_MODEL_3b74b12605494df584f7807c8c63179a",
       "style": "IPY_MODEL_f87cb5afd9414f2ba619759676e69644",
       "value": "Gas velocity in the simulation (m/s).  Must be in $[0.01, 0.1]$"
      }
     },
     "de62a865f15c4c9b87a5dc1ee2c2e3e5": {
      "model_module": "@jupyter-widgets/controls",
      "model_module_version": "2.0.0",
      "model_name": "HBoxModel",
      "state": {
       "children": [
        "IPY_MODEL_03add4df0f68430ca317fe97732bfbfe",
        "IPY_MODEL_686391f73b844e80bebc6c811c0b7852"
       ],
       "layout": "IPY_MODEL_f6462b4e432f4cc7b63a781e6bb119d3"
      }
     },
     "de68a63da8fe4e45b2be6d7098dfe365": {
      "model_module": "@jupyter-widgets/controls",
      "model_module_version": "2.0.0",
      "model_name": "DescriptionStyleModel",
      "state": {
       "description_width": "125px"
      }
     },
     "def0c4b716e748c2a88de7f5a00a04e9": {
      "model_module": "@jupyter-widgets/base",
      "model_module_version": "2.0.0",
      "model_name": "LayoutModel",
      "state": {
       "align_items": "center",
       "padding": "0px 5px 0px 5px"
      }
     },
     "df08a9426ab9422a8743a24c7bdb54d0": {
      "model_module": "@jupyter-widgets/controls",
      "model_module_version": "2.0.0",
      "model_name": "HTMLMathModel",
      "state": {
       "layout": "IPY_MODEL_72c498336e36447e85f0010ada4fac83",
       "style": "IPY_MODEL_50510e9863324f409e32cc30cf8a2269",
       "value": "Column diameter (m).  Must be in $[1, 6]$"
      }
     },
     "dfa36c82ed714d32bc15a294650caaec": {
      "model_module": "@jupyter-widgets/controls",
      "model_module_version": "2.0.0",
      "model_name": "HTMLMathModel",
      "state": {
       "layout": "IPY_MODEL_c8db6cc206cc42088edc36fb7e062dbc",
       "style": "IPY_MODEL_9a4d798f1e8e4644b84c7d6a20787528",
       "value": "Show Plots"
      }
     },
     "dfc4519ce2564dda866638758822916a": {
      "model_module": "@jupyter-widgets/base",
      "model_module_version": "2.0.0",
      "model_name": "LayoutModel",
      "state": {}
     },
     "dff1ed6fd14e496196ee7fcff42ea61c": {
      "model_module": "@jupyter-widgets/base",
      "model_module_version": "2.0.0",
      "model_name": "LayoutModel",
      "state": {
       "align_items": "center",
       "padding": "0px 5px 0px 5px"
      }
     },
     "e0e3be0a02204731bb54bbf8db816f04": {
      "model_module": "@jupyter-widgets/controls",
      "model_module_version": "2.0.0",
      "model_name": "HTMLMathStyleModel",
      "state": {
       "description_width": "",
       "font_size": null,
       "text_color": null
      }
     },
     "e208d1068d8646f4a06dc00801ebd7ca": {
      "model_module": "@jupyter-widgets/controls",
      "model_module_version": "2.0.0",
      "model_name": "DescriptionStyleModel",
      "state": {
       "description_width": "125px"
      }
     },
     "e26babe309d148b98c3723294388cf8f": {
      "model_module": "@jupyter-widgets/controls",
      "model_module_version": "2.0.0",
      "model_name": "DescriptionStyleModel",
      "state": {
       "description_width": "125px"
      }
     },
     "e2c6478ee7fc4c01bc365221a8151a31": {
      "model_module": "@jupyter-widgets/base",
      "model_module_version": "2.0.0",
      "model_name": "LayoutModel",
      "state": {
       "margin": "0px 0px 0px 10px",
       "width": "350px"
      }
     },
     "e2d931350bde495e920c786be100af15": {
      "model_module": "@jupyter-widgets/controls",
      "model_module_version": "2.0.0",
      "model_name": "DescriptionStyleModel",
      "state": {
       "description_width": "125px"
      }
     },
     "e318394507014656a9a8814644638a9e": {
      "model_module": "@jupyter-widgets/base",
      "model_module_version": "2.0.0",
      "model_name": "LayoutModel",
      "state": {
       "width": "350px"
      }
     },
     "e32db8159a084faf89a89df06e07ef3a": {
      "model_module": "@jupyter-widgets/base",
      "model_module_version": "2.0.0",
      "model_name": "LayoutModel",
      "state": {
       "margin": "0px 0px 0px 10px",
       "width": "350px"
      }
     },
     "e37f42b1df1c4196bd5c2dd40fdb0886": {
      "model_module": "@jupyter-widgets/base",
      "model_module_version": "2.0.0",
      "model_name": "LayoutModel",
      "state": {}
     },
     "e38400204ed942b8bd719f130c2b0718": {
      "model_module": "@jupyter-widgets/base",
      "model_module_version": "2.0.0",
      "model_name": "LayoutModel",
      "state": {
       "margin": "0px 0px 0px 10px",
       "width": "350px"
      }
     },
     "e3f403ea88834c35947a42dc132907fd": {
      "model_module": "@jupyter-widgets/controls",
      "model_module_version": "2.0.0",
      "model_name": "DescriptionStyleModel",
      "state": {
       "description_width": "125px"
      }
     },
     "e3f72772090b4e7691a4a80da417c792": {
      "model_module": "@jupyter-widgets/controls",
      "model_module_version": "2.0.0",
      "model_name": "DescriptionStyleModel",
      "state": {
       "description_width": ""
      }
     },
     "e40803a0c08349c78c13fc2b32442a57": {
      "model_module": "@jupyter-widgets/controls",
      "model_module_version": "2.0.0",
      "model_name": "HBoxModel",
      "state": {
       "children": [
        "IPY_MODEL_bfd946c8606346418a727bc53bb7edfd",
        "IPY_MODEL_7e8b1874cdd743f4b8bc1d607e24b541"
       ],
       "layout": "IPY_MODEL_e51ae122d8f048528da6598220b0e4e4"
      }
     },
     "e4567c4128254f709efa9a87f3948d6c": {
      "model_module": "@jupyter-widgets/controls",
      "model_module_version": "2.0.0",
      "model_name": "HBoxModel",
      "state": {
       "children": [
        "IPY_MODEL_c64b18f888a44e57b3ffff23452c0be4",
        "IPY_MODEL_2ed346be592b458aa08de6bb4629bc5f",
        "IPY_MODEL_97f0462c04ed44729f6533594cf71fda"
       ],
       "layout": "IPY_MODEL_afd3ba0a9b13467c9a3910c3c6c38c09"
      }
     },
     "e478f47f98cd438cb26f36dfbe07d3ec": {
      "model_module": "@jupyter-widgets/base",
      "model_module_version": "2.0.0",
      "model_name": "LayoutModel",
      "state": {}
     },
     "e47aef97059e4cbbb35eba8c7246a732": {
      "model_module": "@jupyter-widgets/base",
      "model_module_version": "2.0.0",
      "model_name": "LayoutModel",
      "state": {
       "align_items": "center",
       "padding": "0px 5px 0px 5px"
      }
     },
     "e4dbde2db4d3474ea0360265ebced2f7": {
      "model_module": "@jupyter-widgets/controls",
      "model_module_version": "2.0.0",
      "model_name": "DescriptionStyleModel",
      "state": {
       "description_width": "125px"
      }
     },
     "e51ae122d8f048528da6598220b0e4e4": {
      "model_module": "@jupyter-widgets/base",
      "model_module_version": "2.0.0",
      "model_name": "LayoutModel",
      "state": {
       "align_items": "center",
       "padding": "0px 5px 0px 5px"
      }
     },
     "e5cfef47c2214e5fb433b473f5ed2d95": {
      "model_module": "@jupyter-widgets/controls",
      "model_module_version": "2.0.0",
      "model_name": "DescriptionStyleModel",
      "state": {
       "description_width": "125px"
      }
     },
     "e6b27aabc3bb41d9a753a2f8fb07f816": {
      "model_module": "@jupyter-widgets/controls",
      "model_module_version": "2.0.0",
      "model_name": "ButtonStyleModel",
      "state": {
       "font_family": null,
       "font_size": null,
       "font_style": null,
       "font_variant": null,
       "font_weight": null,
       "text_color": null,
       "text_decoration": null
      }
     },
     "e70121f61b57488f862621c101e97084": {
      "model_module": "@jupyter-widgets/base",
      "model_module_version": "2.0.0",
      "model_name": "LayoutModel",
      "state": {}
     },
     "e725a51dc8fb432593588a7e7a30c4ee": {
      "model_module": "@jupyter-widgets/controls",
      "model_module_version": "2.0.0",
      "model_name": "CheckboxStyleModel",
      "state": {
       "description_width": ""
      }
     },
     "e738d7c7ee9842cdad58938287fbd77a": {
      "model_module": "@jupyter-widgets/controls",
      "model_module_version": "2.0.0",
      "model_name": "DescriptionStyleModel",
      "state": {
       "description_width": "125px"
      }
     },
     "e768ac1ce710466d864725cec99b8f09": {
      "model_module": "@jupyter-widgets/base",
      "model_module_version": "2.0.0",
      "model_name": "LayoutModel",
      "state": {
       "align_items": "center",
       "padding": "0px 5px 0px 5px"
      }
     },
     "e78fe53ac4d64b8ba3d0723e4f91f549": {
      "model_module": "@jupyter-widgets/base",
      "model_module_version": "2.0.0",
      "model_name": "LayoutModel",
      "state": {
       "align_items": "center",
       "padding": "0px 5px 0px 5px"
      }
     },
     "e8bdfef5b4d341a8931a1db7b2810051": {
      "model_module": "@jupyter-widgets/controls",
      "model_module_version": "2.0.0",
      "model_name": "HTMLMathStyleModel",
      "state": {
       "description_width": "",
       "font_size": null,
       "text_color": null
      }
     },
     "e8f50dd457844a428a11262b00c9c863": {
      "model_module": "@jupyter-widgets/controls",
      "model_module_version": "2.0.0",
      "model_name": "BoundedFloatTextModel",
      "state": {
       "description": "Initial FIS$_0$",
       "layout": "IPY_MODEL_b9684755931c4821afef2a366150dada",
       "max": 1,
       "step": null,
       "style": "IPY_MODEL_1ec6a74d56f848768a13d704c181eac9",
       "tooltip": "The initial fraction of insoluble solids (kg/kg).  Must be in the range [0, 1]",
       "value": 0.745
      }
     },
     "e9391db906cd46c69bfa6ecefc35b1e8": {
      "model_module": "@jupyter-widgets/base",
      "model_module_version": "2.0.0",
      "model_name": "LayoutModel",
      "state": {
       "margin": "0px 0px 0px 10px",
       "width": "350px"
      }
     },
     "e9ed555ec3704e12ba39cb9691740f10": {
      "model_module": "@jupyter-widgets/controls",
      "model_module_version": "2.0.0",
      "model_name": "BoundedFloatTextModel",
      "state": {
       "description": "Bubble diameter",
       "layout": "IPY_MODEL_547b6237792b4a8591ad1d8ab686ed6c",
       "max": 0.008,
       "min": 0.003,
       "step": null,
       "style": "IPY_MODEL_2e95fa4b810843d991b262a96cc4ad30",
       "tooltip": "Bubble diameter (m).  For surragate model must be in $[0.003, 0.008]$, for cfd must be $>=0$",
       "value": 0.006
      }
     },
     "ea155d6795b94c8489237005d765407c": {
      "model_module": "@jupyter-widgets/controls",
      "model_module_version": "2.0.0",
      "model_name": "HTMLMathModel",
      "state": {
       "layout": "IPY_MODEL_f8e730ecc43a4ad69c8487c915db4a35",
       "style": "IPY_MODEL_763cf6cc85c34716948eb450f0b7dead",
       "value": "The initial fraction of insoluble solids (kg/kg).  Must be in the range [0, 1]"
      }
     },
     "eb207a53d92e4c3b8790f56332cbbebc": {
      "model_module": "@jupyter-widgets/base",
      "model_module_version": "2.0.0",
      "model_name": "LayoutModel",
      "state": {
       "align_items": "center",
       "padding": "0px 5px 0px 5px"
      }
     },
     "eb3fdf629eb846099a7a0420a534bbf4": {
      "model_module": "@jupyter-widgets/controls",
      "model_module_version": "2.0.0",
      "model_name": "HBoxModel",
      "state": {
       "children": [
        "IPY_MODEL_43669ba904304eb5b50a92376b5de8ed",
        "IPY_MODEL_8e66895f13244e288cc5fdb2087ab897"
       ],
       "layout": "IPY_MODEL_0e962b373b284d1a81a6c7130651026d"
      }
     },
     "eb46c36db2b9462390726ddbc6f6b2b9": {
      "model_module": "@jupyter-widgets/controls",
      "model_module_version": "2.0.0",
      "model_name": "BoundedFloatTextModel",
      "state": {
       "description": "Enzymatic Load",
       "layout": "IPY_MODEL_ecc60da314514ebea28b201ccc4722e0",
       "max": 1000,
       "step": null,
       "style": "IPY_MODEL_6571251673c54ef2a45b3697918f6c2b",
       "tooltip": "Ratio of the enzyme mass to the total solution mass (mg/g).  Must be in the range [0, 1000]",
       "value": 30
      }
     },
     "eb8bca7bfe2541c1b72efced053dab54": {
      "model_module": "@jupyter-widgets/base",
      "model_module_version": "2.0.0",
      "model_name": "LayoutModel",
      "state": {
       "padding": "0px 0px 0px 203px ",
       "width": "350px"
      }
     },
     "ec373985bc9b45fd8e624a0cb1c3b337": {
      "model_module": "@jupyter-widgets/controls",
      "model_module_version": "2.0.0",
      "model_name": "HBoxModel",
      "state": {
       "children": [
        "IPY_MODEL_4ab94adae7a8476c95ad2cc573f5479c",
        "IPY_MODEL_df08a9426ab9422a8743a24c7bdb54d0"
       ],
       "layout": "IPY_MODEL_0e9ae7ea1539438191d39d6891d7c290"
      }
     },
     "ec505f761b6d47cf8489adb4e1384e7c": {
      "model_module": "@jupyter-widgets/base",
      "model_module_version": "2.0.0",
      "model_name": "LayoutModel",
      "state": {
       "margin": "0px 0px 0px 10px",
       "width": "350px"
      }
     },
     "ecc60da314514ebea28b201ccc4722e0": {
      "model_module": "@jupyter-widgets/base",
      "model_module_version": "2.0.0",
      "model_name": "LayoutModel",
      "state": {
       "width": "350px"
      }
     },
     "ed496f79e9c942c79c772e6378bfd2a8": {
      "model_module": "@jupyter-widgets/controls",
      "model_module_version": "2.0.0",
      "model_name": "HTMLMathStyleModel",
      "state": {
       "description_width": "",
       "font_size": null,
       "text_color": null
      }
     },
     "ed4edabd19844b3ca25ef91c4a36dafc": {
      "model_module": "@jupyter-widgets/controls",
      "model_module_version": "2.0.0",
      "model_name": "HBoxModel",
      "state": {
       "children": [
        "IPY_MODEL_75476917b54147678e4e5a17c5415740",
        "IPY_MODEL_31052229908846d6a94f82601df16b67"
       ],
       "layout": "IPY_MODEL_022041026d3f4e4692fe3091bcd2e74c"
      }
     },
     "edcf3373bf024026af611e6bcd72aec3": {
      "model_module": "@jupyter-widgets/controls",
      "model_module_version": "2.0.0",
      "model_name": "HTMLMathStyleModel",
      "state": {
       "description_width": "",
       "font_size": null,
       "text_color": null
      }
     },
     "ee1d3b4de3384f0286772c7a88c4d485": {
      "model_module": "@jupyter-widgets/controls",
      "model_module_version": "2.0.0",
      "model_name": "DescriptionStyleModel",
      "state": {
       "description_width": ""
      }
     },
     "ee971de6632741ee99dce85828e252d6": {
      "model_module": "@jupyter-widgets/controls",
      "model_module_version": "2.0.0",
      "model_name": "DescriptionStyleModel",
      "state": {
       "description_width": ""
      }
     },
     "efa71453d1704205bb151067a4d5bf76": {
      "model_module": "@jupyter-widgets/controls",
      "model_module_version": "2.0.0",
      "model_name": "CheckboxStyleModel",
      "state": {
       "description_width": ""
      }
     },
     "efe3802c6de446bdb5954cf108fd619d": {
      "model_module": "@jupyter-widgets/base",
      "model_module_version": "2.0.0",
      "model_name": "LayoutModel",
      "state": {
       "margin": "0px 0px 0px 10px",
       "width": "350px"
      }
     },
     "f02080efc5444cc58b4c7218c270b1c1": {
      "model_module": "@jupyter-widgets/controls",
      "model_module_version": "2.0.0",
      "model_name": "CheckboxModel",
      "state": {
       "disabled": false,
       "layout": "IPY_MODEL_186685999a454f1fa1bdf1cdced2c0e6",
       "style": "IPY_MODEL_a76ae156591543c4b536c6b6630ce59a",
       "tooltip": "Show Plots",
       "value": false
      }
     },
     "f0f6dfaa50414dd8a0bb7464bd895f86": {
      "model_module": "@jupyter-widgets/controls",
      "model_module_version": "2.0.0",
      "model_name": "HTMLMathModel",
      "state": {
       "layout": "IPY_MODEL_e32db8159a084faf89a89df06e07ef3a",
       "style": "IPY_MODEL_441c9b3ed5f54316b5c556bf15140204",
       "value": "Column height (m).  Must be in $[10, 50]$"
      }
     },
     "f12721768be24aba9b12104ac04a53ba": {
      "model_module": "@jupyter-widgets/controls",
      "model_module_version": "2.0.0",
      "model_name": "HBoxModel",
      "state": {
       "children": [
        "IPY_MODEL_596b3ee886ab4ed2be63a3678c402079",
        "IPY_MODEL_941613e32ecd42b59e78166008611bd4"
       ],
       "layout": "IPY_MODEL_b46eddf3601d432ba09b766cbf0c7bcb"
      }
     },
     "f157d554061443219fa66506b9cd0f24": {
      "model_module": "@jupyter-widgets/controls",
      "model_module_version": "2.0.0",
      "model_name": "HBoxModel",
      "state": {
       "children": [
        "IPY_MODEL_f02080efc5444cc58b4c7218c270b1c1",
        "IPY_MODEL_dfa36c82ed714d32bc15a294650caaec"
       ],
       "layout": "IPY_MODEL_6b7a05e24e2f42bda231d76f6bf168a8"
      }
     },
     "f191a318fbf049729250d2c0b95c5573": {
      "model_module": "@jupyter-widgets/controls",
      "model_module_version": "2.0.0",
      "model_name": "HTMLMathModel",
      "state": {
       "layout": "IPY_MODEL_270c490a68514501a851664e17d0cf1f",
       "style": "IPY_MODEL_39d9f6e866af4e32bb244bea0657d65b",
       "value": "The initial fraction of solids that is xylan (kg/kg).  Must be in the range [0, 1]"
      }
     },
     "f22fccccb94f4c7a8f8ef4bff6d59d9f": {
      "model_module": "@jupyter-widgets/controls",
      "model_module_version": "2.0.0",
      "model_name": "DescriptionStyleModel",
      "state": {
       "description_width": ""
      }
     },
     "f2486f6c64b5424ebbf803f75d0b3503": {
      "model_module": "@jupyter-widgets/base",
      "model_module_version": "2.0.0",
      "model_name": "LayoutModel",
      "state": {
       "align_items": "center",
       "padding": "0px 5px 0px 5px"
      }
     },
     "f2e46fed2b81438f8da70a33c583c818": {
      "model_module": "@jupyter-widgets/base",
      "model_module_version": "2.0.0",
      "model_name": "LayoutModel",
      "state": {
       "align_items": "center",
       "padding": "0px 5px 0px 5px"
      }
     },
     "f2fcef6ee2024f67a9d3fc608276085b": {
      "model_module": "@jupyter-widgets/base",
      "model_module_version": "2.0.0",
      "model_name": "LayoutModel",
      "state": {
       "margin": "0px 0px 0px 10px",
       "width": "350px"
      }
     },
     "f3a0f0b9672645c990cf50c48d050567": {
      "model_module": "@jupyter-widgets/controls",
      "model_module_version": "2.0.0",
      "model_name": "HBoxModel",
      "state": {
       "children": [
        "IPY_MODEL_1073dd1fe6234c9ca8fceb43a6b111fe",
        "IPY_MODEL_93f706ff6d8e492b8e2ffd1633bc4a5a"
       ],
       "layout": "IPY_MODEL_7b98c5dfc3ea48f0a2649b1b021b38ae"
      }
     },
     "f4154f4fe7de4f38baae4971fe9b5750": {
      "model_module": "@jupyter-widgets/controls",
      "model_module_version": "2.0.0",
      "model_name": "BoundedFloatTextModel",
      "state": {
       "description": "Initial $X_G$",
       "layout": "IPY_MODEL_a0d599e15c0742be9f89afbc2462685e",
       "max": 1,
       "step": null,
       "style": "IPY_MODEL_de68a63da8fe4e45b2be6d7098dfe365",
       "tooltip": "The initial fraction of solids that is glucan (kg/kg).  Must be in the range [0, 1]",
       "value": 0.4
      }
     },
     "f444500fad8442fa86413051a74f845e": {
      "model_module": "@jupyter-widgets/controls",
      "model_module_version": "2.0.0",
      "model_name": "HTMLMathModel",
      "state": {
       "layout": "IPY_MODEL_903b327d59044a1580a3a2e4189cf84f",
       "style": "IPY_MODEL_3bcb40a97d7a40a595f8ccbf07acd2a0",
       "value": "The initial fraction of insoluble solids (kg/kg).  Must be in the range [0, 1]"
      }
     },
     "f46225d2834d4c8bb5c74223b0c5f261": {
      "model_module": "@jupyter-widgets/base",
      "model_module_version": "2.0.0",
      "model_name": "LayoutModel",
      "state": {
       "width": "350px"
      }
     },
     "f507c8dae07a46a7b3866217d0b767ad": {
      "model_module": "@jupyter-widgets/base",
      "model_module_version": "2.0.0",
      "model_name": "LayoutModel",
      "state": {}
     },
     "f58dc82de26e4c8eac1889fecd49e5ac": {
      "model_module": "@jupyter-widgets/controls",
      "model_module_version": "2.0.0",
      "model_name": "DescriptionStyleModel",
      "state": {
       "description_width": ""
      }
     },
     "f5c99ca3ce824e0d86937756648d1aae": {
      "model_module": "@jupyter-widgets/base",
      "model_module_version": "2.0.0",
      "model_name": "LayoutModel",
      "state": {
       "margin": "25px 0px 100px 170px",
       "width": "200px"
      }
     },
     "f6462b4e432f4cc7b63a781e6bb119d3": {
      "model_module": "@jupyter-widgets/base",
      "model_module_version": "2.0.0",
      "model_name": "LayoutModel",
      "state": {
       "align_items": "center",
       "padding": "0px 5px 0px 5px"
      }
     },
     "f64d469eb832467c8f0e8780f75ed52e": {
      "model_module": "@jupyter-widgets/controls",
      "model_module_version": "2.0.0",
      "model_name": "CheckboxModel",
      "state": {
       "disabled": true,
       "layout": "IPY_MODEL_eb8bca7bfe2541c1b72efced053dab54",
       "style": "IPY_MODEL_9af3448413c54b358e4b360f236f749a",
       "tooltip": "Show Plots",
       "value": false
      }
     },
     "f64f766797f145b29fc245dec725fbb7": {
      "model_module": "@jupyter-widgets/controls",
      "model_module_version": "2.0.0",
      "model_name": "CheckboxModel",
      "state": {
       "disabled": false,
       "layout": "IPY_MODEL_0512d8a4a05645e59fa8ec261519ff5a",
       "style": "IPY_MODEL_0e973e9911904a0cb99ad891b7ae92c8",
       "tooltip": "Show Plots",
       "value": false
      }
     },
     "f6d06f9de48b4f8080b81e4dc95e3be1": {
      "model_module": "@jupyter-widgets/base",
      "model_module_version": "2.0.0",
      "model_name": "LayoutModel",
      "state": {
       "width": "350px"
      }
     },
     "f6e17ddab8544656960066fabe86e900": {
      "model_module": "@jupyter-widgets/base",
      "model_module_version": "2.0.0",
      "model_name": "LayoutModel",
      "state": {}
     },
     "f6f4b2409bd547c59596cbc734d07387": {
      "model_module": "@jupyter-widgets/base",
      "model_module_version": "2.0.0",
      "model_name": "LayoutModel",
      "state": {
       "width": "350px"
      }
     },
     "f71244df08d447a9b3573f3d0584cec3": {
      "model_module": "@jupyter-widgets/base",
      "model_module_version": "2.0.0",
      "model_name": "LayoutModel",
      "state": {
       "margin": "0px 0px 0px 10px",
       "width": "350px"
      }
     },
     "f71c671024f34504a6f64710ca5ec688": {
      "model_module": "@jupyter-widgets/base",
      "model_module_version": "2.0.0",
      "model_name": "LayoutModel",
      "state": {
       "margin": "0px 0px 0px 10px",
       "width": "350px"
      }
     },
     "f75fc43f7d26439bbb05834d11c8220e": {
      "model_module": "@jupyter-widgets/base",
      "model_module_version": "2.0.0",
      "model_name": "LayoutModel",
      "state": {
       "margin": "0px 0px 0px 10px",
       "width": "350px"
      }
     },
     "f790443e0ee14870b18bf9690d592c31": {
      "model_module": "@jupyter-widgets/base",
      "model_module_version": "2.0.0",
      "model_name": "LayoutModel",
      "state": {}
     },
     "f7b1c19817e2453982243de07e1d023f": {
      "model_module": "@jupyter-widgets/controls",
      "model_module_version": "2.0.0",
      "model_name": "DescriptionStyleModel",
      "state": {
       "description_width": "125px"
      }
     },
     "f81748e63d4c4cda91c420f88fb56321": {
      "model_module": "@jupyter-widgets/controls",
      "model_module_version": "2.0.0",
      "model_name": "HTMLMathStyleModel",
      "state": {
       "description_width": "",
       "font_size": null,
       "text_color": null
      }
     },
     "f849db715b6241b587f757acfe0f2790": {
      "model_module": "@jupyter-widgets/controls",
      "model_module_version": "2.0.0",
      "model_name": "DescriptionStyleModel",
      "state": {
       "description_width": "125px"
      }
     },
     "f87cb5afd9414f2ba619759676e69644": {
      "model_module": "@jupyter-widgets/controls",
      "model_module_version": "2.0.0",
      "model_name": "HTMLMathStyleModel",
      "state": {
       "description_width": "",
       "font_size": null,
       "text_color": null
      }
     },
     "f8e730ecc43a4ad69c8487c915db4a35": {
      "model_module": "@jupyter-widgets/base",
      "model_module_version": "2.0.0",
      "model_name": "LayoutModel",
      "state": {
       "margin": "0px 0px 0px 10px",
       "width": "350px"
      }
     },
     "f8fbee2aa2c34523989bf127938dc6f6": {
      "model_module": "@jupyter-widgets/controls",
      "model_module_version": "2.0.0",
      "model_name": "HTMLMathStyleModel",
      "state": {
       "description_width": "",
       "font_size": null,
       "text_color": null
      }
     },
     "f906efa2d9b34b5093599d69358c8c99": {
      "model_module": "@jupyter-widgets/controls",
      "model_module_version": "2.0.0",
      "model_name": "DescriptionStyleModel",
      "state": {
       "description_width": ""
      }
     },
     "f91d8d30138e4abf9e7733d6fadfb783": {
      "model_module": "@jupyter-widgets/controls",
      "model_module_version": "2.0.0",
      "model_name": "HTMLMathStyleModel",
      "state": {
       "description_width": "",
       "font_size": null,
       "text_color": null
      }
     },
     "f99a5cebc64f4d6883de11a5636bf7a3": {
      "model_module": "@jupyter-widgets/base",
      "model_module_version": "2.0.0",
      "model_name": "LayoutModel",
      "state": {}
     },
     "f9a086bce4454c2b9e4d70c23cd0122f": {
      "model_module": "@jupyter-widgets/base",
      "model_module_version": "2.0.0",
      "model_name": "LayoutModel",
      "state": {
       "padding": "0px 0px 0px 203px ",
       "width": "350px"
      }
     },
     "fb27ad15d3634d0986bf110b7deb04ca": {
      "model_module": "@jupyter-widgets/controls",
      "model_module_version": "2.0.0",
      "model_name": "HBoxModel",
      "state": {
       "children": [
        "IPY_MODEL_40b638a355274b34a238b91a39709035",
        "IPY_MODEL_c96f85c7071b4b72ae84f63dd4058d4a"
       ],
       "layout": "IPY_MODEL_8b89e55cd8b7459e9425cd8ae8178d71"
      }
     },
     "fb47287d9cec41dfbd98d8cfbdc585f1": {
      "model_module": "@jupyter-widgets/base",
      "model_module_version": "2.0.0",
      "model_name": "LayoutModel",
      "state": {
       "margin": "0px 0px 0px 10px",
       "width": "350px"
      }
     },
     "fb9c9cd54a9f4cbfa687256fdd0e7eba": {
      "model_module": "@jupyter-widgets/controls",
      "model_module_version": "2.0.0",
      "model_name": "HTMLMathModel",
      "state": {
       "layout": "IPY_MODEL_31351104e18d4e9d8733e989b11e34fa",
       "style": "IPY_MODEL_cee7f41e0b434011a4d6b70ee550dadd",
       "value": "The total time of the simulation (h).  Must be $\\geq$ 1"
      }
     },
     "fbd7d622a16e4894bb84d91e46d2aa42": {
      "model_module": "@jupyter-widgets/controls",
      "model_module_version": "2.0.0",
      "model_name": "DescriptionStyleModel",
      "state": {
       "description_width": "125px"
      }
     },
     "fbf9476744a647f59ff48777c57f7a41": {
      "model_module": "@jupyter-widgets/controls",
      "model_module_version": "2.0.0",
      "model_name": "RadioButtonsModel",
      "state": {
       "_options_labels": [
        "Lignocellulose Model",
        "CFD Surrogate",
        "CFD Simulation"
       ],
       "index": 1,
       "layout": "IPY_MODEL_d8b8181381be4d85a39d811be471994e",
       "style": "IPY_MODEL_5fb1c676949e4f10937a75e058186b6f",
       "tooltip": "Specifies the solver to use for the EH step, \"CFD Simulation\" requires HPC resources."
      }
     },
     "fd14a38fd84b4cb79483d4a33ef7fedb": {
      "model_module": "@jupyter-widgets/controls",
      "model_module_version": "2.0.0",
      "model_name": "DescriptionStyleModel",
      "state": {
       "description_width": "125px"
      }
     },
     "fd23872ba9e64cdda2ba8f012a454657": {
      "model_module": "@jupyter-widgets/controls",
      "model_module_version": "2.0.0",
      "model_name": "DescriptionStyleModel",
      "state": {
       "description_width": "125px"
      }
     },
     "fd86262f049c438293f0cfef0e2a1237": {
      "model_module": "@jupyter-widgets/controls",
      "model_module_version": "2.0.0",
      "model_name": "DescriptionStyleModel",
      "state": {
       "description_width": "125px"
      }
     },
     "fd97b83ad1ea4c9fbd13931f04505993": {
      "model_module": "@jupyter-widgets/base",
      "model_module_version": "2.0.0",
      "model_name": "LayoutModel",
      "state": {}
     },
     "fdae93ee22b240759d330feb6da750ad": {
      "model_module": "@jupyter-widgets/base",
      "model_module_version": "2.0.0",
      "model_name": "LayoutModel",
      "state": {
       "margin": "0px 0px 0px 10px",
       "width": "350px"
      }
     },
     "fefeaa03017b4d84bb82dfa465127dff": {
      "model_module": "@jupyter-widgets/controls",
      "model_module_version": "2.0.0",
      "model_name": "HBoxModel",
      "state": {
       "children": [
        "IPY_MODEL_11433b705192454a8881f18021cf9330",
        "IPY_MODEL_27d01277b2dc4087a07cccead3e6a77e",
        "IPY_MODEL_d04b15d5daa844eb8a0cf77d8e3c9ba9"
       ],
       "layout": "IPY_MODEL_25bb3580eba6487a85ab8e71ea5d184f"
      }
     },
     "ffaddd36ad9e40c380802c2b065efecf": {
      "model_module": "@jupyter-widgets/controls",
      "model_module_version": "2.0.0",
      "model_name": "DescriptionStyleModel",
      "state": {
       "description_width": ""
      }
     },
     "ffb6efa2b04d4908b33f7bb6f7bcaa7b": {
      "model_module": "@jupyter-widgets/controls",
      "model_module_version": "2.0.0",
      "model_name": "DescriptionStyleModel",
      "state": {
       "description_width": ""
      }
     }
    },
    "version_major": 2,
    "version_minor": 0
   }
  }
 },
 "nbformat": 4,
 "nbformat_minor": 5
}
