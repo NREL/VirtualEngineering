{
 "cells": [
  {
   "cell_type": "markdown",
   "id": "d2f02adc",
   "metadata": {},
   "source": [
    "---\n",
    "\n",
    "# Virtual Engineering\n",
    "\n",
    "The first step is to select \"Cell\" > \"Run All\" from the toolbar.  This will initialize all the widgets and allow you to interact with the unit operation options via the GUI controls.\n",
    "\n",
    "<img src=\"figures/three_unit_flow.png\" alt=\"flowchart\" width=\"800\"/>"
   ]
  },
  {
   "cell_type": "code",
   "execution_count": 1,
   "id": "97091f4a",
   "metadata": {},
   "outputs": [
    {
     "name": "stdout",
     "output_type": "stream",
     "text": [
      "It looks like you're running this notebook on a laptop.\n",
      "Operations requiring HPC resources will be disabled.\n"
     ]
    }
   ],
   "source": [
    "from ipywidgets import *\n",
    "from IPython.display import HTML, clear_output\n",
    "# import os\n",
    "# import numpy as np\n",
    "\n",
    "from virteng.WidgetFunctions import WidgetCollection\n",
    "from virteng.Utilities import get_host_computer\n",
    "from Models_classes import make_models_list\n",
    "#================================================================\n",
    "# See if we're running on HPC or on a laptop\n",
    "hpc_run = get_host_computer()\n",
    "#================================================================"
   ]
  },
  {
   "cell_type": "markdown",
   "id": "ce020bbb",
   "metadata": {},
   "source": [
    "---\n",
    "\n",
    "## Set Virtual Engineering Options\n",
    "\n",
    "\n",
    "### 0. Feedstock properties\n",
    "\n",
    "Set the feedstock properties.\n"
   ]
  },
  {
   "cell_type": "code",
   "execution_count": 2,
   "id": "08d383e5",
   "metadata": {},
   "outputs": [
    {
     "data": {
      "application/vnd.jupyter.widget-view+json": {
       "model_id": "76746aef4fc54ad082932b37c621fbcf",
       "version_major": 2,
       "version_minor": 0
      },
      "text/plain": [
       "HBox(children=(BoundedFloatText(value=0.263, description='Initial $X_X$', layout=Layout(width='350px'), max=1.…"
      ]
     },
     "metadata": {},
     "output_type": "display_data"
    },
    {
     "data": {
      "application/vnd.jupyter.widget-view+json": {
       "model_id": "215f694f7a304b8183ac557bcb75fb3b",
       "version_major": 2,
       "version_minor": 0
      },
      "text/plain": [
       "HBox(children=(BoundedFloatText(value=0.4, description='Initial $X_G$', layout=Layout(width='350px'), max=1.0,…"
      ]
     },
     "metadata": {},
     "output_type": "display_data"
    },
    {
     "data": {
      "application/vnd.jupyter.widget-view+json": {
       "model_id": "27efdf88e4794c7896b9c9fdf481b785",
       "version_major": 2,
       "version_minor": 0
      },
      "text/plain": [
       "HBox(children=(BoundedFloatText(value=0.8, description='Initial Porosity', layout=Layout(width='350px'), max=1…"
      ]
     },
     "metadata": {},
     "output_type": "display_data"
    }
   ],
   "source": [
    "#================================================================\n",
    "# Create the collection of widgets for feedstock options\n",
    "fs_options = WidgetCollection()\n",
    "\n",
    "fs_options.xylan_solid_fraction = widgets.BoundedFloatText(\n",
    "    value = 0.263,\n",
    "    max = 1,\n",
    "    min = 0,\n",
    "    description = r'Initial $X_X$',\n",
    "    tooltip = 'The initial fraction of solids that is xylan (kg/kg).  Must be in the range [0, 1]'\n",
    ")\n",
    "\n",
    "fs_options.glucan_solid_fraction = widgets.BoundedFloatText(\n",
    "    value = 0.40,\n",
    "    max = 1,\n",
    "    min = 0,\n",
    "    description = r'Initial $X_G$',\n",
    "    tooltip = 'The initial fraction of solids that is glucan (kg/kg).  Must be in the range [0, 1]'\n",
    ")\n",
    "\n",
    "fs_options.initial_porosity = widgets.BoundedFloatText(\n",
    "    value = 0.8,\n",
    "    max = 1,\n",
    "    min = 0,\n",
    "    description = r'Initial Porosity',\n",
    "    tooltip = 'The initial porous fraction of the biomass particles.  Must be in the range [0, 1]'\n",
    ")\n",
    "\n",
    "#================================================================\n",
    "# Display the widgets\n",
    "fs_options.display_all_widgets()\n",
    "#================================================================"
   ]
  },
  {
   "cell_type": "markdown",
   "id": "1132ecc0",
   "metadata": {},
   "source": [
    "---\n",
    "\n",
    "### 1. Pretreatment Operation\n",
    "\n",
    "Set the options for the pretreatment operation below."
   ]
  },
  {
   "cell_type": "code",
   "execution_count": 3,
   "id": "5ed9ca03",
   "metadata": {},
   "outputs": [
    {
     "data": {
      "application/vnd.jupyter.widget-view+json": {
       "model_id": "888dc003f6a54282afd915f7d16349af",
       "version_major": 2,
       "version_minor": 0
      },
      "text/plain": [
       "HBox(children=(BoundedFloatText(value=0.0001, description='Acid Loading', layout=Layout(width='350px'), max=1.…"
      ]
     },
     "metadata": {},
     "output_type": "display_data"
    },
    {
     "data": {
      "application/vnd.jupyter.widget-view+json": {
       "model_id": "b5bb80abe9634bfcbf39793bcfc095f2",
       "version_major": 2,
       "version_minor": 0
      },
      "text/plain": [
       "HBox(children=(BoundedFloatText(value=150.0, description='Steam Temperature', layout=Layout(width='350px'), ma…"
      ]
     },
     "metadata": {},
     "output_type": "display_data"
    },
    {
     "data": {
      "application/vnd.jupyter.widget-view+json": {
       "model_id": "a06ebddab101416b8c34e7237da077c6",
       "version_major": 2,
       "version_minor": 0
      },
      "text/plain": [
       "HBox(children=(BoundedFloatText(value=0.745, description='Initial FIS$_0$', layout=Layout(width='350px'), max=…"
      ]
     },
     "metadata": {},
     "output_type": "display_data"
    },
    {
     "data": {
      "application/vnd.jupyter.widget-view+json": {
       "model_id": "fd79940825624785bda62607130cbf52",
       "version_major": 2,
       "version_minor": 0
      },
      "text/plain": [
       "HBox(children=(BoundedFloatText(value=8.3, description='Final Time', layout=Layout(width='350px'), max=1440.0,…"
      ]
     },
     "metadata": {},
     "output_type": "display_data"
    },
    {
     "data": {
      "application/vnd.jupyter.widget-view+json": {
       "model_id": "3375b477b8fe4237949abe4905ed3a1f",
       "version_major": 2,
       "version_minor": 0
      },
      "text/plain": [
       "HBox(children=(Checkbox(value=False, layout=Layout(padding='0px 0px 0px 203px ', width='350px'), style=Checkbo…"
      ]
     },
     "metadata": {},
     "output_type": "display_data"
    }
   ],
   "source": [
    "#================================================================\n",
    "# Create the collection of widgets for pretreatment options\n",
    "pt_options = WidgetCollection()\n",
    "\n",
    "#### this needs to be changed to g acid / g bone-dry biomass (then converted in the run function) ####\n",
    "pt_options.initial_acid_conc = widgets.BoundedFloatText(\n",
    "    value = 0.0001,\n",
    "    max = 1.0,\n",
    "    min = 0.0,\n",
    "    description = 'Acid Loading',\n",
    "    tooltip = 'The initial concentration of acid (mol/mL).  Must be in the range [0, 1]'\n",
    ")\n",
    "\n",
    "pt_options.steam_temperature = widgets.BoundedFloatText(\n",
    "    value = 150.0,\n",
    "    max = 250.3,\n",
    "    min = 3.8,\n",
    "    description = 'Steam Temperature',\n",
    "    tooltip = r'The fixed temperature of the steam ($^\\circ$C).',\n",
    ")\n",
    "\n",
    "pt_options.initial_solid_fraction = widgets.BoundedFloatText(\n",
    "    value = 0.745,\n",
    "    max = 1,\n",
    "    min = 0,\n",
    "    description = r'Initial FIS$_0$',\n",
    "    tooltip = 'The initial fraction of insoluble solids (kg/kg).  Must be in the range [0, 1]'\n",
    ")\n",
    "\n",
    "pt_options.final_time = widgets.BoundedFloatText(\n",
    "    value = 8.3,\n",
    "    max = 1440,\n",
    "    min = 1,\n",
    "    description = 'Final Time',\n",
    "    tooltip = r'Total simulation time (min).  Must be $\\geq$ 1'\n",
    ")\n",
    "\n",
    "pt_options.show_plots = widgets.Checkbox(\n",
    "    value = False,\n",
    "    tooltip = 'Show Plots'\n",
    ")\n",
    "\n",
    "#================================================================\n",
    "# Display the widgets\n",
    "pt_options.display_all_widgets()\n",
    "#================================================================"
   ]
  },
  {
   "cell_type": "markdown",
   "id": "755788e4",
   "metadata": {},
   "source": [
    "---\n",
    "\n",
    "### 2. Enzymatic Hydrolysis Operation\n",
    "\n",
    "Set the options for the enzymatic hydrolysis operation using either a two-phase reaction rate model or high-fidelity CFD below.\n"
   ]
  },
  {
   "cell_type": "code",
   "execution_count": 4,
   "id": "06218c2d",
   "metadata": {},
   "outputs": [
    {
     "data": {
      "application/vnd.jupyter.widget-view+json": {
       "model_id": "85b19067e3db40d5a9cf4bf676ee8e99",
       "version_major": 2,
       "version_minor": 0
      },
      "text/plain": [
       "HBox(children=(HTMLMath(value='Model Type', layout=Layout(display='flex', justify_content='flex-end', padding=…"
      ]
     },
     "metadata": {},
     "output_type": "display_data"
    },
    {
     "data": {
      "application/vnd.jupyter.widget-view+json": {
       "model_id": "b1f629ac536a45429d0af421eee97ff2",
       "version_major": 2,
       "version_minor": 0
      },
      "text/plain": [
       "HBox(children=(BoundedFloatText(value=30.0, description='Enzymatic Load', layout=Layout(width='350px'), max=10…"
      ]
     },
     "metadata": {},
     "output_type": "display_data"
    },
    {
     "data": {
      "application/vnd.jupyter.widget-view+json": {
       "model_id": "125f9829c34c4e61b7ccbb96e5ce2b27",
       "version_major": 2,
       "version_minor": 0
      },
      "text/plain": [
       "HBox(children=(BoundedFloatText(value=0.05, description='FIS$_0$ Target', layout=Layout(width='350px'), max=1.…"
      ]
     },
     "metadata": {},
     "output_type": "display_data"
    },
    {
     "data": {
      "application/vnd.jupyter.widget-view+json": {
       "model_id": "d6a640a2b7f341f4bf1961461a863b14",
       "version_major": 2,
       "version_minor": 0
      },
      "text/plain": [
       "HBox(children=(BoundedFloatText(value=24.0, description='Final Time', layout=Layout(width='350px'), max=24.0, …"
      ]
     },
     "metadata": {},
     "output_type": "display_data"
    },
    {
     "data": {
      "application/vnd.jupyter.widget-view+json": {
       "model_id": "6242664b3c2549e69be457b470e38b1c",
       "version_major": 2,
       "version_minor": 0
      },
      "text/plain": [
       "HBox(children=(Checkbox(value=False, disabled=True, layout=Layout(padding='0px 0px 0px 203px ', width='350px')…"
      ]
     },
     "metadata": {},
     "output_type": "display_data"
    }
   ],
   "source": [
    "#================================================================\n",
    "# Create the collection of widgets\n",
    "eh_options = WidgetCollection()\n",
    "\n",
    "eh_options.model_type = widgets.RadioButtons(\n",
    "    options = ['Lignocellulose Model', 'CFD Surrogate', 'CFD Simulation'],\n",
    "    value = 'CFD Surrogate',\n",
    "    description = 'Model Type',\n",
    "    disabled = False,\n",
    "    tooltip = 'Specifies the solver to use for the EH step, \"CFD Simulation\" requires HPC resources.'\n",
    ")\n",
    "\n",
    "eh_options.lambda_e = widgets.BoundedFloatText(\n",
    "    value = 30.0,\n",
    "    max = 1000.0,\n",
    "    min = 0.0,\n",
    "    description = 'Enzymatic Load',\n",
    "    tooltip = 'Ratio of the enzyme mass to the total solution mass (mg/g).  Must be in the range [0, 1000]'\n",
    ")\n",
    "\n",
    "eh_options.fis_0 = widgets.BoundedFloatText(\n",
    "    value = 0.05,\n",
    "    max = 1.0,\n",
    "    min = 0.0,\n",
    "    description = r'FIS$_0$ Target',\n",
    "    tooltip = 'The target value for initial fraction of insoluble solids *after* dilution (kg/kg).  Must be in the range [0, 1]'\n",
    ")\n",
    "\n",
    "eh_options.t_final = widgets.BoundedFloatText(\n",
    "    value = 24.0,\n",
    "    min = 1.0,\n",
    "    max = 24.0,\n",
    "    description = 'Final Time',\n",
    "    tooltip = r'The total time of the simulation (h).  Must be $\\geq$ 1'\n",
    ")\n",
    "\n",
    "eh_options.show_plots = widgets.Checkbox(\n",
    "    value = False,\n",
    "    tooltip = 'Show Plots',\n",
    "    disabled = True,\n",
    ")\n",
    "\n",
    "#================================================================\n",
    "# Display the widgets\n",
    "eh_options.display_all_widgets()\n",
    "#================================================================\n",
    "\n",
    "def model_type_action(change):\n",
    "        \n",
    "    if eh_options.model_type.value == 'Lignocellulose Model':\n",
    "        # Lignocellulose Model\n",
    "        eh_options.show_plots.value = False\n",
    "        eh_options.show_plots.disabled = False\n",
    "        eh_options.show_plots.description_tooltip = 'Show Plots'\n",
    "\n",
    "    else:\n",
    "        # Surrogate Model, CFD Simulation\n",
    "        eh_options.show_plots.value = False\n",
    "        eh_options.show_plots.disabled = True\n",
    "        eh_options.show_plots.description_tooltip = 'Show Plots (Only available for lignocellulose model)'\n",
    "\n",
    "eh_options.model_type.observe(model_type_action, names='value')"
   ]
  },
  {
   "cell_type": "markdown",
   "id": "0a2744d7",
   "metadata": {},
   "source": [
    "---\n",
    "\n",
    "### 3. Bioreaction Operation\n",
    "\n",
    "Set the options for the bubble column bioreaction operation below.\n"
   ]
  },
  {
   "cell_type": "code",
   "execution_count": 5,
   "id": "3f87239c",
   "metadata": {},
   "outputs": [
    {
     "data": {
      "application/vnd.jupyter.widget-view+json": {
       "model_id": "947fd927b9f54f26add72aa9f3bf919c",
       "version_major": 2,
       "version_minor": 0
      },
      "text/plain": [
       "HBox(children=(HTMLMath(value='Model Type', layout=Layout(display='flex', justify_content='flex-end', padding=…"
      ]
     },
     "metadata": {},
     "output_type": "display_data"
    },
    {
     "data": {
      "application/vnd.jupyter.widget-view+json": {
       "model_id": "fddeda95be7b4503b7cb1a63e1f6d770",
       "version_major": 2,
       "version_minor": 0
      },
      "text/plain": [
       "HBox(children=(BoundedFloatText(value=0.08, description='Gas velocity', layout=Layout(width='350px'), max=0.1,…"
      ]
     },
     "metadata": {},
     "output_type": "display_data"
    },
    {
     "data": {
      "application/vnd.jupyter.widget-view+json": {
       "model_id": "2007e5f7da60495082ae76febc1b52e1",
       "version_major": 2,
       "version_minor": 0
      },
      "text/plain": [
       "HBox(children=(BoundedFloatText(value=40.0, description='Column height', layout=Layout(width='350px'), max=50.…"
      ]
     },
     "metadata": {},
     "output_type": "display_data"
    },
    {
     "data": {
      "application/vnd.jupyter.widget-view+json": {
       "model_id": "8014af693d404536bcac1aca5cd65557",
       "version_major": 2,
       "version_minor": 0
      },
      "text/plain": [
       "HBox(children=(BoundedFloatText(value=5.0, description='Column diameter', layout=Layout(width='350px'), max=6.…"
      ]
     },
     "metadata": {},
     "output_type": "display_data"
    },
    {
     "data": {
      "application/vnd.jupyter.widget-view+json": {
       "model_id": "e83696412cf442b88a720eb4d628ca15",
       "version_major": 2,
       "version_minor": 0
      },
      "text/plain": [
       "HBox(children=(BoundedFloatText(value=0.006, description='Bubble diameter', layout=Layout(width='350px'), max=…"
      ]
     },
     "metadata": {},
     "output_type": "display_data"
    },
    {
     "data": {
      "application/vnd.jupyter.widget-view+json": {
       "model_id": "b49f189085e34cf6993cce641e398395",
       "version_major": 2,
       "version_minor": 0
      },
      "text/plain": [
       "HBox(children=(BoundedFloatText(value=100.0, description='Final Time', layout=Layout(width='350px'), max=1e+16…"
      ]
     },
     "metadata": {},
     "output_type": "display_data"
    }
   ],
   "source": [
    "#================================================================\n",
    "# Create the collection of widgets\n",
    "br_options = WidgetCollection()\n",
    "\n",
    "br_options.model_type = widgets.RadioButtons(\n",
    "    options = ['CFD Surrogate', 'CFD Simulation'],\n",
    "    value = 'CFD Surrogate',\n",
    "    description = 'Model Type',\n",
    "    disabled = False,\n",
    "    tooltip = 'Specifies the solver to use for the bioreaction step, \"CFD Simulation\" requires HPC resources.'\n",
    ")\n",
    "\n",
    "br_options.gas_velocity = widgets.BoundedFloatText(\n",
    "    value = 0.08, \n",
    "    min = 0.01,\n",
    "    max = 0.1,\n",
    "    description = 'Gas velocity',\n",
    "    tooltip = r'Gas velocity in the simulation (m/s).  Must be in $[0.01, 0.1]$'\n",
    ")\n",
    "\n",
    "br_options.column_height = widgets.BoundedFloatText(\n",
    "    value = 40., \n",
    "    min = 10.,\n",
    "    max = 50.,\n",
    "    description = 'Column height',\n",
    "    tooltip = r'Column height (m).  Must be in $[10, 50]$'\n",
    ")\n",
    "\n",
    "br_options.column_diameter = widgets.BoundedFloatText(\n",
    "    value = 5.0, \n",
    "    min = 1.,\n",
    "    max = 6.,\n",
    "    description = 'Column diameter',\n",
    "    tooltip = r'Column diameter (m).  Must be in $[1, 6]$'\n",
    ")\n",
    "\n",
    "br_options.bubble_diameter = widgets.BoundedFloatText(\n",
    "    value = 0.006,\n",
    "    min = 0.003,\n",
    "    max = 0.008,\n",
    "    description = 'Bubble diameter',\n",
    "    tooltip = r'Bubble diameter (m).  For surragate model must be in $[0.003, 0.008]$, for cfd must be $>=0$'\n",
    ")\n",
    "\n",
    "br_options.t_final = widgets.BoundedFloatText(\n",
    "    value = 100.0, # default 500\n",
    "    min = 1.0,\n",
    "    max = 1e16,\n",
    "    description = 'Final Time',\n",
    "    tooltip = r'The total time of the simulation (h).  Must be $\\geq 1$'\n",
    ")\n",
    "\n",
    "#================================================================\n",
    "# Display the widgets\n",
    "br_options.display_all_widgets()\n",
    "#================================================================"
   ]
  },
  {
   "cell_type": "markdown",
   "id": "10ef1117",
   "metadata": {},
   "source": [
    "---\n",
    "\n",
    "## Run Model\n",
    "\n",
    "When finished setting options for all unit operations, press the button below to run the complete model.\n"
   ]
  },
  {
   "cell_type": "code",
   "execution_count": 6,
   "id": "c6faffab",
   "metadata": {},
   "outputs": [
    {
     "data": {
      "application/vnd.jupyter.widget-view+json": {
       "model_id": "97d7a58288b042858dd1bb49b3813fec",
       "version_major": 2,
       "version_minor": 0
      },
      "text/plain": [
       "Button(button_style='success', description='Run All.', layout=Layout(margin='25px 0px 100px 170px', width='200…"
      ]
     },
     "metadata": {},
     "output_type": "display_data"
    },
    {
     "name": "stdout",
     "output_type": "stream",
     "text": [
      "Initializing Pretreatment Model\n",
      "Initializing Enzymatic Hydrolysis Model\n",
      "Initializing Bioreactor Model\n",
      "\n",
      "Running Pretreatment\n",
      "Mass of xylan initial (g): 0.1315\n",
      "Mass of xylan (g): 0.13149999999999984\n",
      "Unadjusted mass of xylog (g): 0.0\n",
      "Unadjusted mass of xylose (g): 0.0\n",
      "Unadjusted mass of furfural (g): 0.0\n",
      "Unadjusted mass of products (g): 0.0\n",
      "Unadjusted mass of products / initial xylan (g): 0.0\n",
      "Adjusted mass of xylog (g): nan\n",
      "Adjusted mass of xylose (g): nan\n",
      "Adjusted mass of furfural (g): nan\n",
      "Adjusted mass of products (g): nan\n",
      "Adjusted mass of products / initial xylan (g): nan\n",
      "Fractional conversion of xylog nan\n",
      "Fractional conversion of xylose nan\n",
      "Fractional conversion of furfural nan\n",
      "Time (s): 0\n",
      "Xylan (g/g): 0.2629999999999995\n",
      "Xylog (g/L): 0.0\n",
      "Xylose (g/L): 0.0\n",
      "Furfural (g/L): 0.0\n",
      "FIS (g/g): 0.4444444444444445\n",
      "rho_x (g/g): 0.0\n",
      "X_G (g/g): 0.40000000000000013\n",
      "conv: 1.2664140965305975e-15\n",
      "frac_conv_xylog: nan\n",
      "frac_conv_xylose: nan\n",
      "frac_conv_furfural: nan\n",
      "\n",
      "Mass of xylan initial (g): 0.1315\n",
      "Mass of xylan (g): 0.10591540188050036\n",
      "Unadjusted mass of xylog (g): 0.006914596220493513\n",
      "Unadjusted mass of xylose (g): 0.019020281681723535\n",
      "Unadjusted mass of furfural (g): 1.4157500890530782e-05\n",
      "Unadjusted mass of products (g): 0.025949035403107577\n",
      "Unadjusted mass of products / initial xylan (g): 0.1973310677042401\n",
      "Adjusted mass of xylog (g): 0.006817485224855481\n",
      "Adjusted mass of xylose (g): 0.018753154226623034\n",
      "Adjusted mass of furfural (g): 1.3958668021136184e-05\n",
      "Adjusted mass of products (g): 0.02558459811949965\n",
      "Adjusted mass of products / initial xylan (g): 0.1945596815171076\n",
      "Fractional conversion of xylog 0.015207571604240364\n",
      "Fractional conversion of xylose 0.12549639330363704\n",
      "Fractional conversion of furfural 0.00014595565421340117\n",
      "Time (s): 30.0\n",
      "Xylan (g/g): 0.22785431712490348\n",
      "Xylog (g/L): 9.106715375412543\n",
      "Xylose (g/L): 25.0502395385376\n",
      "Furfural (g/L): 0.018645822102394793\n",
      "FIS (g/g): 0.37973144421443683\n",
      "rho_x (g/g): 34.156954913950145\n",
      "X_G (g/g): 0.42157147345392815\n",
      "conv: 0.1945596815171076\n",
      "frac_conv_xylog: 0.015207571604240364\n",
      "frac_conv_xylose: 0.12549639330363704\n",
      "frac_conv_furfural: 0.00014595565421340117\n",
      "\n",
      "Mass of xylan initial (g): 0.1315\n",
      "Mass of xylan (g): 0.08785441459503089\n",
      "Unadjusted mass of xylog (g): 0.01168341512858848\n",
      "Unadjusted mass of xylose (g): 0.03250388936539956\n",
      "Unadjusted mass of furfural (g): 4.782120525736733e-05\n",
      "Unadjusted mass of products (g): 0.04423512569924541\n",
      "Unadjusted mass of products / initial xylan (g): 0.33638878858741755\n",
      "Adjusted mass of xylog (g): 0.011527705296544804\n",
      "Adjusted mass of xylose (g): 0.03207069623666546\n",
      "Adjusted mass of furfural (g): 4.7183871758831415e-05\n",
      "Adjusted mass of products (g): 0.043645585404969094\n",
      "Adjusted mass of products / initial xylan (g): 0.33190559243322504\n",
      "Fractional conversion of xylog 0.025714526390264707\n",
      "Fractional conversion of xylose 0.2146175869830084\n",
      "Fractional conversion of furfural 0.0004933674803680091\n",
      "Time (s): 60.0\n",
      "Xylan (g/g): 0.20003911824116213\n",
      "Xylog (g/L): 13.225758755178415\n",
      "Xylose (g/L): 36.794772300769935\n",
      "Furfural (g/L): 0.054134148034181984\n",
      "FIS (g/g): 0.3320703852424122\n",
      "rho_x (g/g): 50.020531055948354\n",
      "X_G (g/g): 0.43825586781598264\n",
      "conv: 0.3319055924332251\n",
      "frac_conv_xylog: 0.025714526390264707\n",
      "frac_conv_xylose: 0.2146175869830084\n",
      "frac_conv_furfural: 0.0004933674803680091\n",
      "\n",
      "Mass of xylan initial (g): 0.13149999999999998\n",
      "Mass of xylan (g): 0.07433432037902826\n",
      "Unadjusted mass of xylog (g): 0.015171345272917278\n",
      "Unadjusted mass of xylose (g): 0.04264473247027711\n",
      "Unadjusted mass of furfural (g): 9.168324919519883e-05\n",
      "Unadjusted mass of products (g): 0.05790776099238959\n",
      "Unadjusted mass of products / initial xylan (g): 0.44036320146303876\n",
      "Adjusted mass of xylog (g): 0.01497692620864263\n",
      "Adjusted mass of xylose (g): 0.042098245073545426\n",
      "Adjusted mass of furfural (g): 9.05083387836607e-05\n",
      "Adjusted mass of products (g): 0.05716567962097172\n",
      "Adjusted mass of products / initial xylan (g): 0.43471999711765574\n",
      "Fractional conversion of xylog 0.03340860599139548\n",
      "Fractional conversion of xylose 0.28172209630965767\n",
      "Fractional conversion of furfural 0.0009463799682702167\n",
      "Time (s): 90.0\n",
      "Xylan (g/g): 0.17722885291230994\n",
      "Xylog (g/L): 15.356746625854617\n",
      "Xylose (g/L): 43.16587222113059\n",
      "Furfural (g/L): 0.09280366390705863\n",
      "FIS (g/g): 0.29802452984780514\n",
      "rho_x (g/g): 58.52261884698521\n",
      "X_G (g/g): 0.451636178128238\n",
      "conv: 0.43471999711765574\n",
      "frac_conv_xylog: 0.03340860599139548\n",
      "frac_conv_xylose: 0.28172209630965767\n",
      "frac_conv_furfural: 0.0009463799682702167\n",
      "\n",
      "Mass of xylan initial (g): 0.1315\n",
      "Mass of xylan (g): 0.06377682690456683\n",
      "Unadjusted mass of xylog (g): 0.017828509732206916\n",
      "Unadjusted mass of xylose (g): 0.050605598714248815\n",
      "Unadjusted mass of furfural (g): 0.00014149444268878674\n",
      "Unadjusted mass of products (g): 0.06857560288914451\n",
      "Unadjusted mass of products / initial xylan (g): 0.5214874744421635\n",
      "Adjusted mass of xylog (g): 0.017606892243874028\n",
      "Adjusted mass of xylose (g): 0.04997654525711247\n",
      "Adjusted mass of furfural (g): 0.00013973559444668696\n",
      "Adjusted mass of products (g): 0.06772317309543319\n",
      "Adjusted mass of products / initial xylan (g): 0.51500511859645\n",
      "Fractional conversion of xylog 0.039275196893812786\n",
      "Fractional conversion of xylose 0.33444380096014426\n",
      "Fractional conversion of furfural 0.0014611136301459662\n",
      "Time (s): 120.0\n",
      "Xylan (g/g): 0.15801962686411836\n",
      "Xylog (g/L): 16.578350009723906\n",
      "Xylose (g/L): 47.05706424922819\n",
      "Furfural (g/L): 0.13157265697244322\n",
      "FIS (g/g): 0.2728857209704647\n",
      "rho_x (g/g): 63.635414258952096\n",
      "X_G (g/g): 0.462666484882276\n",
      "conv: 0.5150051185964499\n",
      "frac_conv_xylog: 0.039275196893812786\n",
      "frac_conv_xylose: 0.33444380096014426\n",
      "frac_conv_furfural: 0.0014611136301459662\n",
      "\n",
      "Mass of xylan initial (g): 0.13149999999999998\n",
      "Mass of xylan (g): 0.055286712236933135\n",
      "Unadjusted mass of xylog (g): 0.01990887545334024\n",
      "Unadjusted mass of xylose (g): 0.05704525083234631\n",
      "Unadjusted mass of furfural (g): 0.00019503281089425348\n",
      "Unadjusted mass of products (g): 0.0771491590965808\n",
      "Unadjusted mass of products / initial xylan (g): 0.5866856205063179\n",
      "Adjusted mass of xylog (g): 0.019667367366441257\n",
      "Adjusted mass of xylose (g): 0.05635325346526845\n",
      "Adjusted mass of furfural (g): 0.0001926669313571599\n",
      "Adjusted mass of products (g): 0.07621328776306688\n",
      "Adjusted mass of products / initial xylan (g): 0.5795687282362502\n",
      "Fractional conversion of xylog 0.04387144051322765\n",
      "Fractional conversion of xylose 0.37711682927327944\n",
      "Fractional conversion of furfural 0.0020145781795900754\n",
      "Time (s): 150.0\n",
      "Xylan (g/g): 0.141547967070928\n",
      "Xylog (g/L): 17.336543113583414\n",
      "Xylose (g/L): 49.67470175791504\n",
      "Furfural (g/L): 0.16983353693461886\n",
      "FIS (g/g): 0.2537984864324628\n",
      "rho_x (g/g): 67.01124487149845\n",
      "X_G (g/g): 0.47193551431641595\n",
      "conv: 0.5795687282362499\n",
      "frac_conv_xylog: 0.04387144051322765\n",
      "frac_conv_xylose: 0.37711682927327944\n",
      "frac_conv_furfural: 0.0020145781795900754\n",
      "\n",
      "Mass of xylan initial (g): 0.13149999999999998\n",
      "Mass of xylan (g): 0.04830884574050471\n",
      "Unadjusted mass of xylog (g): 0.021569208971308828\n",
      "Unadjusted mass of xylose (g): 0.06237194787744904\n",
      "Unadjusted mass of furfural (g): 0.0002510431697139226\n",
      "Unadjusted mass of products (g): 0.08419220001847179\n",
      "Unadjusted mass of products / initial xylan (g): 0.6402448670606221\n",
      "Adjusted mass of xylog (g): 0.021312750948351004\n",
      "Adjusted mass of xylose (g): 0.0616303450462114\n",
      "Adjusted mass of furfural (g): 0.00024805826493287387\n",
      "Adjusted mass of products (g): 0.08319115425949528\n",
      "Adjusted mass of products / initial xylan (g): 0.6326323517832342\n",
      "Fractional conversion of xylog 0.04754175116488944\n",
      "Fractional conversion of xylose 0.4124312063928977\n",
      "Fractional conversion of furfural 0.0025937651276251076\n",
      "Time (s): 180.0\n",
      "Xylan (g/g): 0.12723738796542813\n",
      "Xylog (g/L): 17.837554797023177\n",
      "Xylose (g/L): 51.58107743037736\n",
      "Furfural (g/L): 0.2076105944426184\n",
      "FIS (g/g): 0.23895802865596372\n",
      "rho_x (g/g): 69.41863222740054\n",
      "X_G (g/g): 0.47983626557799897\n",
      "conv: 0.6326323517832341\n",
      "frac_conv_xylog: 0.04754175116488944\n",
      "frac_conv_xylose: 0.4124312063928977\n",
      "frac_conv_furfural: 0.0025937651276251076\n",
      "\n",
      "Mass of xylan initial (g): 0.1315\n",
      "Mass of xylan (g): 0.04247716657880298\n",
      "Unadjusted mass of xylog (g): 0.022912470618381052\n",
      "Unadjusted mass of xylose (g): 0.06685481306264658\n",
      "Unadjusted mass of furfural (g): 0.0003087787904468668\n",
      "Unadjusted mass of products (g): 0.0900760624714745\n",
      "Unadjusted mass of products / initial xylan (g): 0.6849890682241406\n",
      "Adjusted mass of xylog (g): 0.022644562819052565\n",
      "Adjusted mass of xylose (g): 0.0660731022580613\n",
      "Adjusted mass of furfural (g): 0.0003051683440831487\n",
      "Adjusted mass of products (g): 0.08902283342119702\n",
      "Adjusted mass of products / initial xylan (g): 0.6769797218341979\n",
      "Fractional conversion of xylog 0.05051258626303234\n",
      "Fractional conversion of xylose 0.44216220522504907\n",
      "Fractional conversion of furfural 0.0031909237499188553\n",
      "Time (s): 210.0\n",
      "Xylan (g/g): 0.11468158892566835\n",
      "Xylog (g/L): 18.184685077778212\n",
      "Xylose (g/L): 53.05991404098797\n",
      "Furfural (g/L): 0.24506501967836639\n",
      "FIS (g/g): 0.22718160046140778\n",
      "rho_x (g/g): 71.24459911876619\n",
      "X_G (g/g): 0.48664504080581544\n",
      "conv: 0.6769797218341979\n",
      "frac_conv_xylog: 0.05051258626303234\n",
      "frac_conv_xylose: 0.44216220522504907\n",
      "frac_conv_furfural: 0.0031909237499188553\n",
      "\n",
      "Mass of xylan initial (g): 0.1315\n",
      "Mass of xylan (g): 0.03753886927614635\n",
      "Unadjusted mass of xylog (g): 0.024009519909941008\n",
      "Unadjusted mass of xylose (g): 0.07067966490454951\n",
      "Unadjusted mass of furfural (g): 0.00036777733448924724\n",
      "Unadjusted mass of products (g): 0.09505696214897975\n",
      "Unadjusted mass of products / initial xylan (g): 0.7228666323116331\n",
      "Adjusted mass of xylog (g): 0.02373273443495109\n",
      "Adjusted mass of xylose (g): 0.06986485874865324\n",
      "Adjusted mass of furfural (g): 0.00036353754024933885\n",
      "Adjusted mass of products (g): 0.09396113072385368\n",
      "Adjusted mass of products / initial xylan (g): 0.7145333134893815\n",
      "Fractional conversion of xylog 0.05293993993094286\n",
      "Fractional conversion of xylose 0.4675366973293905\n",
      "Fractional conversion of furfural 0.00380124804443225\n",
      "Time (s): 240.0\n",
      "Xylan (g/g): 0.10358245223431574\n",
      "Xylog (g/L): 18.434116863364274\n",
      "Xylose (g/L): 54.26669119587129\n",
      "Furfural (g/L): 0.28237342475408345\n",
      "FIS (g/g): 0.2176799071412333\n",
      "rho_x (g/g): 72.70080805923556\n",
      "X_G (g/g): 0.4925636808036236\n",
      "conv: 0.7145333134893813\n",
      "frac_conv_xylog: 0.05293993993094286\n",
      "frac_conv_xylose: 0.4675366973293905\n",
      "frac_conv_furfural: 0.00380124804443225\n",
      "\n",
      "Mass of xylan initial (g): 0.13149999999999998\n",
      "Mass of xylan (g): 0.03331283850552668\n",
      "Unadjusted mass of xylog (g): 0.024910982507703235\n",
      "Unadjusted mass of xylose (g): 0.07397959191434413\n",
      "Unadjusted mass of furfural (g): 0.00042774044806563415\n",
      "Unadjusted mass of products (g): 0.099318314870113\n",
      "Unadjusted mass of products / initial xylan (g): 0.755272356426715\n",
      "Adjusted mass of xylog (g): 0.024627267042021592\n",
      "Adjusted mass of xylose (g): 0.07313702561394125\n",
      "Adjusted mass of furfural (g): 0.0004228688385104394\n",
      "Adjusted mass of products (g): 0.09818716149447328\n",
      "Adjusted mass of products / initial xylan (g): 0.7466704296157665\n",
      "Fractional conversion of xylog 0.05493534853480103\n",
      "Fractional conversion of xylose 0.4894340877586944\n",
      "Fractional conversion of furfural 0.004421632341839197\n",
      "Time (s): 270.0\n",
      "Xylan (g/g): 0.09371405044340829\n",
      "Xylog (g/L): 18.611913645809494\n",
      "Xylose (g/L): 55.27288118147163\n",
      "Furfural (g/L): 0.3195806620535998\n",
      "FIS (g/g): 0.20985292969212352\n",
      "rho_x (g/g): 73.88479482728113\n",
      "X_G (g/g): 0.4977441754819617\n",
      "conv: 0.7466704296157666\n",
      "frac_conv_xylog: 0.05493534853480103\n",
      "frac_conv_xylose: 0.4894340877586944\n",
      "frac_conv_furfural: 0.004421632341839197\n",
      "\n",
      "Mass of xylan initial (g): 0.1315\n",
      "Mass of xylan (g): 0.029666959378235047\n",
      "Unadjusted mass of xylog (g): 0.025653835695860876\n",
      "Unadjusted mass of xylose (g): 0.07685154625654109\n",
      "Unadjusted mass of furfural (g): 0.0004884390651750931\n",
      "Unadjusted mass of products (g): 0.10299382101757706\n",
      "Unadjusted mass of products / initial xylan (g): 0.7832229735176963\n",
      "Adjusted mass of xylog (g): 0.025364706996110452\n",
      "Adjusted mass of xylose (g): 0.07598539945859663\n",
      "Adjusted mass of furfural (g): 0.0004829341670578819\n",
      "Adjusted mass of products (g): 0.10183304062176496\n",
      "Adjusted mass of products / initial xylan (g): 0.7743957461731176\n",
      "Fractional conversion of xylog 0.056580334997660825\n",
      "Fractional conversion of xylose 0.5084954488484033\n",
      "Fractional conversion of furfural 0.005049691860871388\n",
      "Time (s): 300.0\n",
      "Xylan (g/g): 0.08490444058911752\n",
      "Xylog (g/L): 18.7295902616478\n",
      "Xylose (g/L): 56.10848956171211\n",
      "Furfural (g/L): 0.3566041221659421\n",
      "FIS (g/g): 0.20325377269553718\n",
      "rho_x (g/g): 74.83807982335992\n",
      "X_G (g/g): 0.5023018492350889\n",
      "conv: 0.7743957461731176\n",
      "frac_conv_xylog: 0.056580334997660825\n",
      "frac_conv_xylose: 0.5084954488484033\n",
      "frac_conv_furfural: 0.005049691860871388\n",
      "\n",
      "Mass of xylan initial (g): 0.1315\n",
      "Mass of xylan (g): 0.026501313546173584\n",
      "Unadjusted mass of xylog (g): 0.026266102278982052\n",
      "Unadjusted mass of xylose (g): 0.07936874775784959\n",
      "Unadjusted mass of furfural (g): 0.0005496871649772514\n",
      "Unadjusted mass of products (g): 0.1061845372018089\n",
      "Unadjusted mass of products / initial xylan (g): 0.8074869749186988\n",
      "Adjusted mass of xylog (g): 0.025972766941701097\n",
      "Adjusted mass of xylose (g): 0.07848237115937934\n",
      "Adjusted mass of furfural (g): 0.0005435483527459962\n",
      "Adjusted mass of products (g): 0.10499868645382643\n",
      "Adjusted mass of products / initial xylan (g): 0.7984690985081857\n",
      "Fractional conversion of xylog 0.057936717132311695\n",
      "Fractional conversion of xylose 0.5252052214467972\n",
      "Fractional conversion of furfural 0.005683490380423914\n",
      "Time (s): 330.0\n",
      "Xylan (g/g): 0.07701720823606935\n",
      "Xylog (g/L): 18.793175947198833\n",
      "Xylose (g/L): 56.78767353752638\n",
      "Furfural (g/L): 0.393296557578727\n",
      "FIS (g/g): 0.19755917097495876\n",
      "rho_x (g/g): 75.5808494847252\n",
      "X_G (g/g): 0.506327430165928\n",
      "conv: 0.7984690985081857\n",
      "frac_conv_xylog: 0.057936717132311695\n",
      "frac_conv_xylose: 0.5252052214467972\n",
      "frac_conv_furfural: 0.005683490380423914\n",
      "\n",
      "Mass of xylan initial (g): 0.1315\n",
      "Mass of xylan (g): 0.02373847446231967\n",
      "Unadjusted mass of xylog (g): 0.026769569636844417\n",
      "Unadjusted mass of xylose (g): 0.08158784221355742\n",
      "Unadjusted mass of furfural (g): 0.0006113223934123473\n",
      "Unadjusted mass of products (g): 0.10896873424381417\n",
      "Unadjusted mass of products / initial xylan (g): 0.8286595759985869\n",
      "Adjusted mass of xylog (g): 0.02647300330752698\n",
      "Adjusted mass of xylose (g): 0.08068397236393152\n",
      "Adjusted mass of furfural (g): 0.0006045498662218347\n",
      "Adjusted mass of products (g): 0.10776152553768034\n",
      "Adjusted mass of products / initial xylan (g): 0.8194792816553638\n",
      "Fractional conversion of xylog 0.059052580255066524\n",
      "Fractional conversion of xylose 0.5399383701920892\n",
      "Fractional conversion of furfural 0.00632133890536139\n",
      "Time (s): 360.0\n",
      "Xylan (g/g): 0.06994138518348918\n",
      "Xylog (g/L): 18.807886554012235\n",
      "Xylose (g/L): 57.32235898283659\n",
      "Furfural (g/L): 0.4295056804873612\n",
      "FIS (g/g): 0.1925461694332083\n",
      "rho_x (g/g): 76.13024553684883\n",
      "X_G (g/g): 0.5098938860451155\n",
      "conv: 0.8194792816553637\n",
      "frac_conv_xylog: 0.059052580255066524\n",
      "frac_conv_xylose: 0.5399383701920892\n",
      "frac_conv_furfural: 0.00632133890536139\n",
      "\n",
      "Mass of xylan initial (g): 0.13149999999999998\n",
      "Mass of xylan (g): 0.021316683568877583\n",
      "Unadjusted mass of xylog (g): 0.027181638376733916\n",
      "Unadjusted mass of xylose (g): 0.08355397553098351\n",
      "Unadjusted mass of furfural (g): 0.0006732078868768905\n",
      "Unadjusted mass of products (g): 0.11140882179459431\n",
      "Unadjusted mass of products / initial xylan (g): 0.8472153748638352\n",
      "Adjusted mass of xylog (g): 0.02688263832375734\n",
      "Adjusted mass of xylose (g): 0.08263487555754147\n",
      "Adjusted mass of furfural (g): 0.0006658025498235976\n",
      "Adjusted mass of products (g): 0.1101833164311224\n",
      "Adjusted mass of products / initial xylan (g): 0.8378959424419956\n",
      "Fractional conversion of xylog 0.059966341508001175\n",
      "Fractional conversion of xylose 0.5529938440352586\n",
      "Fractional conversion of furfural 0.006961813733896935\n",
      "Time (s): 390.0\n",
      "Xylan (g/g): 0.06358338745891846\n",
      "Xylog (g/L): 18.781181650741765\n",
      "Xylose (g/L): 57.7317073511001\n",
      "Furfural (g/L): 0.4651536981291458\n",
      "FIS (g/g): 0.18807784918608297\n",
      "rho_x (g/g): 76.51288900184187\n",
      "X_G (g/g): 0.5130616734228657\n",
      "conv: 0.8378959424419956\n",
      "frac_conv_xylog: 0.059966341508001175\n",
      "frac_conv_xylose: 0.5529938440352586\n",
      "frac_conv_furfural: 0.006961813733896935\n",
      "\n",
      "Mass of xylan initial (g): 0.1315\n",
      "Mass of xylan (g): 0.019185634131302403\n",
      "Unadjusted mass of xylog (g): 0.02751647101149009\n",
      "Unadjusted mass of xylose (g): 0.08530391867090562\n",
      "Unadjusted mass of furfural (g): 0.0007352324277991894\n",
      "Unadjusted mass of products (g): 0.11355562211019489\n",
      "Unadjusted mass of products / initial xylan (g): 0.8635408525490106\n",
      "Adjusted mass of xylog (g): 0.027215693377126496\n",
      "Adjusted mass of xylose (g): 0.08437147675823935\n",
      "Adjusted mass of furfural (g): 0.0007271957333317737\n",
      "Adjusted mass of products (g): 0.11231436586869761\n",
      "Adjusted mass of products / initial xylan (g): 0.854101641587054\n",
      "Fractional conversion of xylog 0.06070927800220866\n",
      "Fractional conversion of xylose 0.5646152056825142\n",
      "Fractional conversion of furfural 0.007603757667917786\n",
      "Time (s): 420.0\n",
      "Xylan (g/g): 0.05786236361184584\n",
      "Xylog (g/L): 18.72006328549342\n",
      "Xylose (g/L): 58.034140909752544\n",
      "Furfural (g/L): 0.5001948677285147\n",
      "FIS (g/g): 0.18405770812534872\n",
      "rho_x (g/g): 76.75420419524596\n",
      "X_G (g/g): 0.5158818960319367\n",
      "conv: 0.854101641587054\n",
      "frac_conv_xylog: 0.06070927800220866\n",
      "frac_conv_xylose: 0.5646152056825142\n",
      "frac_conv_furfural: 0.007603757667917786\n",
      "\n",
      "Mass of xylan initial (g): 0.13149999999999998\n",
      "Mass of xylan (g): 0.017303818768587706\n",
      "Unadjusted mass of xylog (g): 0.027785728694856043\n",
      "Unadjusted mass of xylose (g): 0.08686802151280779\n",
      "Unadjusted mass of furfural (g): 0.000797307169358644\n",
      "Unadjusted mass of products (g): 0.11545105737702248\n",
      "Unadjusted mass of products / initial xylan (g): 0.8779548089507414\n",
      "Adjusted mass of xylog (g): 0.02748371631905158\n",
      "Adjusted mass of xylose (g): 0.08592382394121871\n",
      "Adjusted mass of furfural (g): 0.0007886409711419849\n",
      "Adjusted mass of products (g): 0.11419618123141227\n",
      "Adjusted mass of products / initial xylan (g): 0.8684120245734775\n",
      "Fractional conversion of xylog 0.06130714920346107\n",
      "Fractional conversion of xylose 0.5750035366408555\n",
      "Fractional conversion of furfural 0.008246245895971326\n",
      "Time (s): 450.0\n",
      "Xylan (g/g): 0.05270767279156585\n",
      "Xylog (g/L): 18.629690381630404\n",
      "Xylose (g/L): 58.24300534353154\n",
      "Furfural (g/L): 0.5345760720306583\n",
      "FIS (g/g): 0.18040591693815375\n",
      "rho_x (g/g): 76.87269572516195\n",
      "X_G (g/g): 0.5183981865144879\n",
      "conv: 0.8684120245734775\n",
      "frac_conv_xylog: 0.06130714920346107\n",
      "frac_conv_xylose: 0.5750035366408555\n",
      "frac_conv_furfural: 0.008246245895971326\n",
      "\n",
      "Mass of xylan initial (g): 0.1315\n",
      "Mass of xylan (g): 0.01563671957653142\n",
      "Unadjusted mass of xylog (g): 0.027999081828672372\n",
      "Unadjusted mass of xylose (g): 0.0882715396166711\n",
      "Unadjusted mass of furfural (g): 0.0008593613817024473\n",
      "Unadjusted mass of products (g): 0.11712998282704593\n",
      "Unadjusted mass of products / initial xylan (g): 0.8907223028672694\n",
      "Adjusted mass of xylog (g): 0.027696285709401122\n",
      "Adjusted mass of xylose (g): 0.0873169268975263\n",
      "Adjusted mass of furfural (g): 0.0008500678165411564\n",
      "Adjusted mass of products (g): 0.11586328042346858\n",
      "Adjusted mass of products / initial xylan (g): 0.8810895849693428\n",
      "Fractional conversion of xylog 0.06178132173453229\n",
      "Fractional conversion of xylose 0.5843262028123434\n",
      "Fractional conversion of furfural 0.008888541807939849\n",
      "Time (s): 480.0\n",
      "Xylan (g/g): 0.048057355336731736\n",
      "Xylog (g/L): 18.516292739334048\n",
      "Xylose (g/L): 58.37554524449582\n",
      "Furfural (g/L): 0.568311025691788\n",
      "FIS (g/g): 0.17707467608479585\n",
      "rho_x (g/g): 76.89183798382987\n",
      "X_G (g/g): 0.5206479615395219\n",
      "conv: 0.8810895849693429\n",
      "frac_conv_xylog: 0.06178132173453229\n",
      "frac_conv_xylose: 0.5843262028123434\n",
      "frac_conv_furfural: 0.008888541807939849\n",
      "\n",
      "Mass of xylan initial (g): 0.1315\n",
      "Mass of xylan (g): 0.01472728607909724\n",
      "Unadjusted mass of xylog (g): 0.02810367768774305\n",
      "Unadjusted mass of xylose (g): 0.08904553038173652\n",
      "Unadjusted mass of furfural (g): 0.0008965601979441652\n",
      "Unadjusted mass of products (g): 0.11804576826742373\n",
      "Unadjusted mass of products / initial xylan (g): 0.897686450702842\n",
      "Adjusted mass of xylog (g): 0.02780059601392519\n",
      "Adjusted mass of xylose (g): 0.0880852265847048\n",
      "Adjusted mass of furfural (g): 0.000886891322272783\n",
      "Adjusted mass of products (g): 0.11677271392090277\n",
      "Adjusted mass of products / initial xylan (g): 0.8880054290562948\n",
      "Fractional conversion of xylog 0.06201400378264681\n",
      "Fractional conversion of xylose 0.5894676760041082\n",
      "Fractional conversion of furfural 0.00927357846482948\n",
      "Time (s): 498.0\n",
      "Xylan (g/g): 0.045486271199255454\n",
      "Xylog (g/L): 18.438722060859284\n",
      "Xylose (g/L): 58.42245288013397\n",
      "Furfural (g/L): 0.5882299279261713\n",
      "FIS (g/g): 0.175208185131814\n",
      "rho_x (g/g): 76.86117494099325\n",
      "X_G (g/g): 0.5218835069033171\n",
      "conv: 0.8880054290562948\n",
      "frac_conv_xylog: 0.06201400378264681\n",
      "frac_conv_xylose: 0.5894676760041082\n",
      "frac_conv_furfural: 0.00927357846482948\n",
      "\n",
      "Pretreatment wallclock time: 0.19 s.\n",
      "Finished Pretreatment\n",
      "\n",
      "Running Enzymatic Hydrolysis Model\n",
      "\n",
      "FINAL OUTPUTS (at t =   24 hours)\n",
      "Conversion Rate = 0.4937\n",
      "rho_g = 24.53 g/L\n",
      "rho_x = 23.25 g/L\n",
      "rho_sL = 3.242 g/L\n",
      "rho_f = 0.1679 g/L\n",
      "Finished Enzymatic Hydrolysis\n",
      "\n",
      "Running Bioreactor\n",
      "\n",
      "INPUTS\n",
      "Gas velocity = 0.08 m/s\n",
      "Column height = 40.00 m\n",
      "Column diameter = 5.00 m\n",
      "Bubble diameter = 0.0060 m\n",
      "OUR_max = 87.69 mol/m^3/hr\n",
      "t_final = 100.0 s\n",
      "\n",
      "FINAL OUTPUTS (at t = 100.0 seconds)\n",
      "OUR = 68.3978 mol/m^3/hr\n",
      "Finished Bioreactor\n"
     ]
    }
   ],
   "source": [
    "#================================================================\n",
    "run_button = widgets.Button(\n",
    "    description = 'Run All.',\n",
    "    tooltip = 'Execute the model start-to-finish with the properties specified above.',\n",
    "    layout =  {'width': '200px', 'margin': '25px 0px 100px 170px'}, \n",
    "    button_style = 'success'\n",
    ")\n",
    "#================================================================\n",
    "\n",
    "# run_button_output = widgets.Output()\n",
    "display(run_button)\n",
    "\n",
    "#================================================================\n",
    "# Define a function to be executed each time the run button is pressed\n",
    "def run_button_action(b):\n",
    "    clear_output()\n",
    "    display(run_button)\n",
    "    verbose = True\n",
    "    # Initialize models\n",
    "    models_list = make_models_list([fs_options, pt_options, eh_options, br_options], n_models=4, hpc_run=hpc_run)\n",
    "    for model in models_list:\n",
    "        model.run(verbose=verbose)\n",
    "    \n",
    "run_button.on_click(run_button_action)\n",
    "#================================================================"
   ]
  },
  {
   "cell_type": "markdown",
   "id": "f1b17bcb",
   "metadata": {},
   "source": [
    "---"
   ]
  },
  {
   "cell_type": "code",
   "execution_count": 7,
   "id": "130891c9",
   "metadata": {},
   "outputs": [
    {
     "data": {
      "text/html": [
       "<script>\n",
       "code_show=true; \n",
       "function code_toggle() {\n",
       " if (code_show){\n",
       " $('div.input').hide();\n",
       " } else {\n",
       " $('div.input').show();\n",
       " }\n",
       " code_show = !code_show\n",
       "} \n",
       "$( document ).ready(code_toggle);\n",
       "</script>\n",
       "<form action=\"javascript:code_toggle()\"><input type=\"submit\" value=\"Toggle code visibility (hidden by default).\"></form>"
      ],
      "text/plain": [
       "<IPython.core.display.HTML object>"
      ]
     },
     "metadata": {},
     "output_type": "display_data"
    }
   ],
   "source": [
    "a = HTML('''<script>\n",
    "code_show=true; \n",
    "function code_toggle() {\n",
    " if (code_show){\n",
    " $('div.input').hide();\n",
    " } else {\n",
    " $('div.input').show();\n",
    " }\n",
    " code_show = !code_show\n",
    "} \n",
    "$( document ).ready(code_toggle);\n",
    "</script>\n",
    "<form action=\"javascript:code_toggle()\"><input type=\"submit\" \\\n",
    "value=\"Toggle code visibility (hidden by default).\"></form>''')\n",
    "\n",
    "display(a)"
   ]
  },
  {
   "cell_type": "code",
   "execution_count": 8,
   "id": "97474588",
   "metadata": {},
   "outputs": [],
   "source": [
    "# # reload \"run functions\" code if needed\n",
    "# if False:\n",
    "#     from importlib import reload\n",
    "#     import vebio.RunFunctions\n",
    "#     reload(vebio.RunFunctions)\n",
    "#     from vebio.RunFunctions import run_pretreatment, run_enzymatic_hydrolysis, run_bioreactor"
   ]
  }
 ],
 "metadata": {
  "jupytext": {
   "formats": "ipynb,md"
  },
  "kernelspec": {
   "display_name": "Python 3 (ipykernel)",
   "language": "python",
   "name": "python3"
  },
  "language_info": {
   "codemirror_mode": {
    "name": "ipython",
    "version": 3
   },
   "file_extension": ".py",
   "mimetype": "text/x-python",
   "name": "python",
   "nbconvert_exporter": "python",
   "pygments_lexer": "ipython3",
   "version": "3.12.4"
  }
 },
 "nbformat": 4,
 "nbformat_minor": 5
}
