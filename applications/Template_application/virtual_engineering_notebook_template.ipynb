{
 "cells": [
  {
   "cell_type": "markdown",
   "id": "d2f02adc",
   "metadata": {},
   "source": [
    "# Building a Basic VE Workflow\n",
    "\n",
    "The first step is to select \"Cell\" > \"Run All\" from the toolbar.  This will initialize all the widgets and allow you to interact with the unit operation options via the GUI controls."
   ]
  },
  {
   "cell_type": "code",
   "execution_count": 1,
   "id": "97091f4a",
   "metadata": {},
   "outputs": [
    {
     "name": "stdout",
     "output_type": "stream",
     "text": [
      "It looks like you're running this notebook on a laptop.\n",
      "Operations requiring HPC resources will be disabled.\n"
     ]
    }
   ],
   "source": [
    "from ipywidgets import *\n",
    "from IPython.display import HTML, clear_output\n",
    "\n",
    "from virteng.WidgetFunctions import WidgetCollection, OptimizationWidget\n",
    "from virteng.OptimizationFunctions import Optimization\n",
    "from virteng.Utilities import get_host_computer\n",
    "from Models_classes import make_models_list\n",
    "#================================================================\n",
    "# See if we're running on HPC or on a laptop\n",
    "hpc_run = get_host_computer()\n",
    "#================================================================"
   ]
  },
  {
   "cell_type": "markdown",
   "id": "1132ecc0",
   "metadata": {},
   "source": [
    "---\n",
    "### 1. Model 1  (Arrhenius equation)\n",
    "\n",
    "Set the options for the Model 1 below."
   ]
  },
  {
   "cell_type": "code",
   "execution_count": 5,
   "id": "5ed9ca03",
   "metadata": {},
   "outputs": [
    {
     "data": {
      "application/vnd.jupyter.widget-view+json": {
       "model_id": "697b627b0642441f8f2f578f0e76664c",
       "version_major": 2,
       "version_minor": 0
      },
      "text/plain": [
       "HBox(children=(BoundedFloatText(value=10.0, description='Frequancy factor', layout=Layout(width='350px'), max=…"
      ]
     },
     "metadata": {},
     "output_type": "display_data"
    },
    {
     "data": {
      "application/vnd.jupyter.widget-view+json": {
       "model_id": "4ef5072f260443d989cccaf0438d2c84",
       "version_major": 2,
       "version_minor": 0
      },
      "text/plain": [
       "HBox(children=(BoundedFloatText(value=800.0, description='Activation energy', layout=Layout(width='350px'), ma…"
      ]
     },
     "metadata": {},
     "output_type": "display_data"
    },
    {
     "data": {
      "application/vnd.jupyter.widget-view+json": {
       "model_id": "8d9dbed46da64b6faf34ad2fdf0bce03",
       "version_major": 2,
       "version_minor": 0
      },
      "text/plain": [
       "HBox(children=(BoundedFloatText(value=200.0, description='Temperature', layout=Layout(width='350px'), max=1000…"
      ]
     },
     "metadata": {},
     "output_type": "display_data"
    }
   ],
   "source": [
    "#================================================================\n",
    "# Create the collection of widgets for model1 options\n",
    "model1_options = WidgetCollection()\n",
    "\n",
    "options = {\n",
    "    'value': 10,\n",
    "    'max': 50,\n",
    "    'min': 1,\n",
    "    'description':'Frequancy factor',\n",
    "    'tooltip':'The frequancy factor (1/c).  Must be in the range [1, 100]'\n",
    "}\n",
    "model1_options.freq_factor = OptimizationWidget('BoundedFloatText', options, controlvalue=False)\n",
    "\n",
    "options = {\n",
    "    'value': 800,\n",
    "    'max': 10000,\n",
    "    'min':300,\n",
    "    'description':'Activation energy',\n",
    "    'tooltip':'The activation energy of the reaction (J/mol).',\n",
    "}\n",
    "model1_options.act_energy = OptimizationWidget('BoundedFloatText', options, controlvalue=True)\n",
    "\n",
    "options = {\n",
    "    'value':200,\n",
    "    'max':1000,\n",
    "    'min':100,\n",
    "    'description':'Temperature',\n",
    "    'tooltip':'The temperature of the reaction (K).'\n",
    "}\n",
    "model1_options.temp = OptimizationWidget('BoundedFloatText', options, controlvalue=True)\n",
    "\n",
    "#================================================================\n",
    "# Display the widgets\n",
    "model1_options.display_all_widgets()\n",
    "#================================================================"
   ]
  },
  {
   "cell_type": "markdown",
   "id": "755788e4",
   "metadata": {},
   "source": [
    "---\n",
    "\n",
    "### 2. Model 2 (concentration equation)\n",
    "\n",
    "Set the options for the model 2.\n"
   ]
  },
  {
   "cell_type": "code",
   "execution_count": 6,
   "id": "06218c2d",
   "metadata": {},
   "outputs": [
    {
     "data": {
      "application/vnd.jupyter.widget-view+json": {
       "model_id": "2f09943a8383463fa3c35696abe4f98f",
       "version_major": 2,
       "version_minor": 0
      },
      "text/plain": [
       "HBox(children=(BoundedFloatText(value=1.0, description='Time', layout=Layout(width='350px'), max=1000.0, style…"
      ]
     },
     "metadata": {},
     "output_type": "display_data"
    }
   ],
   "source": [
    "#================================================================\n",
    "# Create the collection of widgets\n",
    "model2_options = WidgetCollection()\n",
    "\n",
    "model2_options.time = widgets.BoundedFloatText(\n",
    "    value = 1.0,\n",
    "    max = 1000.0,\n",
    "    min = 0.0,\n",
    "    description = 'Time',\n",
    "    tooltip = 'Time of the reaction (s).'\n",
    ")\n",
    "\n",
    "#================================================================\n",
    "# Display the widgets\n",
    "model2_options.display_all_widgets()"
   ]
  },
  {
   "cell_type": "markdown",
   "id": "10ef1117",
   "metadata": {},
   "source": [
    "---\n",
    "\n",
    "## Run Model\n",
    "\n",
    "When finished setting options for all unit operations, press the button below to run the complete model.\n"
   ]
  },
  {
   "cell_type": "code",
   "execution_count": 7,
   "id": "c6faffab",
   "metadata": {},
   "outputs": [
    {
     "data": {
      "application/vnd.jupyter.widget-view+json": {
       "model_id": "883c9a8ecb5a492492bc6945993ce4fa",
       "version_major": 2,
       "version_minor": 0
      },
      "text/plain": [
       "Button(button_style='success', description='Run All.', layout=Layout(margin='25px 0px 100px 170px', width='200…"
      ]
     },
     "metadata": {},
     "output_type": "display_data"
    }
   ],
   "source": [
    "#================================================================\n",
    "run_button = widgets.Button(\n",
    "    description = 'Run All.',\n",
    "    tooltip = 'Execute the model start-to-finish with the properties specified above.',\n",
    "    layout =  {'width': '200px', 'margin': '25px 0px 100px 170px'}, \n",
    "    button_style = 'success'\n",
    ")\n",
    "#================================================================\n",
    "\n",
    "# run_button_output = widgets.Output()\n",
    "display(run_button)\n",
    "\n",
    "#================================================================\n",
    "# Define a function to be executed each time the run button is pressed\n",
    "def run_button_action(b):\n",
    "    clear_output()\n",
    "    display(run_button)\n",
    "    verbose = True\n",
    "    # Initialize models\n",
    "    models_list = make_models_list([model1_options, model2_options], hpc_run)\n",
    "    for model in models_list:\n",
    "        model.run(verbose=verbose)\n",
    "    \n",
    "    print(f'k = {model.ve.model1_out['k']}')\n",
    "    print(f\"Final concentration is {model.ve.model2_out['C']}\")\n",
    "run_button.on_click(run_button_action)\n",
    "#================================================================"
   ]
  },
  {
   "cell_type": "markdown",
   "id": "a9e97234",
   "metadata": {},
   "source": [
    "## Optimization example"
   ]
  },
  {
   "cell_type": "code",
   "execution_count": 5,
   "id": "987f50bb",
   "metadata": {},
   "outputs": [
    {
     "data": {
      "application/vnd.jupyter.widget-view+json": {
       "model_id": "5a6167b07fba44e0859cf44efdfe52c7",
       "version_major": 2,
       "version_minor": 0
      },
      "text/plain": [
       "Dropdown(description='Objective:', options=(('Model2:            C', ('model2_out', 'C')), ('Model1:          …"
      ]
     },
     "metadata": {},
     "output_type": "display_data"
    }
   ],
   "source": [
    "obj_widget = widgets.Dropdown(\n",
    "    options=[('Model2:            C',   ('model2_out', 'C')), \n",
    "             ('Model1:            k',   ('model1_out', 'k'))\n",
    "            ],\n",
    "    value=('model2_out', 'C'),\n",
    "    description='Objective:',\n",
    "    tooltip = 'Specifies the objective to use in optimization.'\n",
    ")\n",
    "\n",
    "display(obj_widget)\n"
   ]
  },
  {
   "cell_type": "code",
   "execution_count": 6,
   "id": "4d79dba8",
   "metadata": {},
   "outputs": [
    {
     "data": {
      "application/vnd.jupyter.widget-view+json": {
       "model_id": "402c90aba16a43c4954321ffaca3577e",
       "version_major": 2,
       "version_minor": 0
      },
      "text/plain": [
       "Button(button_style='primary', description='Run Sweep.', layout=Layout(margin='25px 0px 100px 170px', width='2…"
      ]
     },
     "metadata": {},
     "output_type": "display_data"
    },
    {
     "name": "stdout",
     "output_type": "stream",
     "text": [
      "Objective \"C\" is in model2_out.\n",
      "On each iteration running n=2 models\n",
      "\n",
      "Optimizing Activation energy.\n",
      "Optimizing Temperature.\n",
      "Finished 100 forward runs.\n",
      "\n",
      "Finished sweeps!\n"
     ]
    },
    {
     "data": {
      "image/png": "[encoded data removed]",
      "text/plain": [
       "<Figure size 640x480 with 2 Axes>"
      ]
     },
     "metadata": {},
     "output_type": "display_data"
    }
   ],
   "source": [
    "import matplotlib.pyplot as plt\n",
    "from matplotlib.colors import LogNorm\n",
    "import os\n",
    "import numpy as np\n",
    "\n",
    "\n",
    "# Parameter sweep\n",
    "#================================================================\n",
    "sweep_button = widgets.Button(\n",
    "    description = 'Run Sweep.',\n",
    "    tooltip = 'Execute the model start-to-finish with the properties specified above.',\n",
    "    layout =  {'width': '200px', 'margin': '25px 0px 100px 170px'}, \n",
    "    button_style = 'primary'\n",
    ")\n",
    "#================================================================\n",
    "# run_button_output = widgets.Output()\n",
    "display(sweep_button)\n",
    "#================================================================\n",
    "\n",
    "# Define a function to be executed each time the run button is pressed\n",
    "def sweep_button_action(b):\n",
    "    clear_output()\n",
    "    display(sweep_button)\n",
    "    Opt = Optimization(case_folder='./', options_list=[model1_options, model2_options], obj_widjet=obj_widget, hpc_run=hpc_run)\n",
    "    Opt.parameter_grid_sweep(nn=10, results_file='sweep_params.csv')\n",
    "\n",
    "\n",
    "\n",
    "    param_sweep_fn = 'sweep_params.csv'\n",
    "    if os.path.exists(param_sweep_fn):\n",
    "        with open(param_sweep_fn, 'r') as f:\n",
    "            firstline = f.readline().split(',')\n",
    "        sweeps = np.loadtxt(param_sweep_fn, delimiter=',', skiprows=1)\n",
    "        bounds = Opt.var_real_bounds\n",
    "        extent = bounds[0][0], bounds[0][1], bounds[1][0], bounds[1][1]\n",
    "        nn = int(np.sqrt(len(sweeps)))\n",
    "        C = sweeps[:, 3].reshape(nn, nn)\n",
    "        shw = plt.imshow(C.T, extent=extent, aspect='auto', origin='lower')\n",
    "        _cs2 = plt.contour(C.T, levels=np.arange(0, 1, 0.1), extent=extent, origin='lower', colors='blue')\n",
    "        bar = plt.colorbar(shw)\n",
    "        bar.add_lines(_cs2)\n",
    "        bar.set_label(firstline[-1])\n",
    "        plt.xlabel(firstline[1])\n",
    "        plt.ylabel(firstline[2])\n",
    "    \n",
    "sweep_button.on_click(sweep_button_action)\n",
    "#==============================================================="
   ]
  },
  {
   "cell_type": "code",
   "execution_count": 7,
   "id": "5d64e2a6",
   "metadata": {},
   "outputs": [
    {
     "data": {
      "application/vnd.jupyter.widget-view+json": {
       "model_id": "7715e75866ff4de0a8851524dffc2ba9",
       "version_major": 2,
       "version_minor": 0
      },
      "text/plain": [
       "Button(button_style='warning', description='Optimize.', layout=Layout(margin='25px 0px 25px 170px', width='200…"
      ]
     },
     "metadata": {},
     "output_type": "display_data"
    },
    {
     "name": "stdout",
     "output_type": "stream",
     "text": [
      "Objective \"C\" is in model2_out.\n",
      "On each iteration running n=2 models\n",
      "\n",
      "Optimizing Activation energy.\n",
      "Optimizing Temperature.\n",
      "\n",
      "Beginning Optimization\n",
      "objective scaling: 1.0\n",
      "Iter =   1: act_energy = 8.000000000e+02, temp = 2.000000000e+02, Objective = 2.068131354e-03\n",
      "Iter =   2: act_energy = 8.000001445e+02, temp = 2.000000000e+02, Objective = 2.068132465e-03\n",
      "Iter =   3: act_energy = 8.000000000e+02, temp = 2.000000134e+02, Objective = 2.068130941e-03\n",
      "Iter =   4: act_energy = 1.000000000e+04, temp = 1.000000000e+02, Objective = 9.999402073e-01\n",
      "Iter =   5: act_energy = 9.999999855e+03, temp = 1.000000000e+02, Objective = 9.999402072e-01\n",
      "Iter =   6: act_energy = 1.000000000e+04, temp = 1.000000134e+02, Objective = 9.999402072e-01\n",
      " message: Optimization terminated successfully\n",
      " success: True\n",
      "  status: 0\n",
      "     fun: -483.49937035268016\n",
      "       x: [ 1.000e+00  0.000e+00]\n",
      "     nit: 2\n",
      "     jac: [-3.373e-01  3.129e+00]\n",
      "    nfev: 6\n",
      "    njev: 2\n"
     ]
    },
    {
     "data": {
      "image/png": "[encoded data removed]",
      "text/plain": [
       "<Figure size 640x480 with 2 Axes>"
      ]
     },
     "metadata": {},
     "output_type": "display_data"
    }
   ],
   "source": [
    "opt_button = widgets.Button(\n",
    "    description = 'Optimize.',\n",
    "    tooltip = 'Optimize for OUR using the conditions above as an initial guess.',\n",
    "    layout =  {'width': '200px', 'margin': '25px 0px 25px 170px'}, \n",
    "    button_style = 'warning'\n",
    ")\n",
    "#================================================================\n",
    "\n",
    "display(opt_button)\n",
    "\n",
    "#================================================================\n",
    "# Define a function to be executed each time the run button is pressed\n",
    "def opt_button_action(b):\n",
    "    clear_output()\n",
    "    display(opt_button)\n",
    "    \n",
    "    params_filename = 'virteng_params_optimization.yaml'\n",
    "    opt_results_file = 'optimization_results.csv'\n",
    "    \n",
    "    Opt = Optimization(case_folder='./', options_list=[model1_options, model2_options], obj_widjet=obj_widget, hpc_run=hpc_run)\n",
    "    \n",
    "    opt_result = Opt.scipy_minimize(Opt.objective_function, opt_results_file=opt_results_file)\n",
    "    print(opt_result)\n",
    "\n",
    "\n",
    "    param_sweep_fn = 'sweep_params.csv'\n",
    "    if os.path.exists(param_sweep_fn):\n",
    "        with open(param_sweep_fn, 'r') as f:\n",
    "            firstline = f.readline().split(',')\n",
    "        sweeps = np.loadtxt(param_sweep_fn, delimiter=',', skiprows=1)\n",
    "        bounds = Opt.var_real_bounds\n",
    "        extent = bounds[0][0], bounds[0][1], bounds[1][0], bounds[1][1]\n",
    "        nn = int(np.sqrt(len(sweeps)))\n",
    "        C = sweeps[:, 3].reshape(nn, nn)\n",
    "        \n",
    "    opt_results = np.loadtxt('optimization_results.csv', delimiter=',', skiprows=1)\n",
    "    shw = plt.imshow(C.T, extent=extent, aspect='auto', origin='lower')\n",
    "    bar = plt.colorbar(shw)\n",
    "    bar.set_label('OUR')\n",
    "    plt.xlabel(firstline[1])\n",
    "    plt.ylabel(firstline[2])\n",
    "    plt.scatter(opt_results[:, 1], opt_results[:, 2], s=50, c='k', marker='o')\n",
    "    plt.plot(opt_results[:, 1], opt_results[:, 2], color='k')\n",
    "    plt.scatter(opt_results[-1, 1], opt_results[-1, 2], s=50, c='r', marker='o')\n",
    "    \n",
    "opt_button.on_click(opt_button_action)"
   ]
  },
  {
   "cell_type": "markdown",
   "id": "f1b17bcb",
   "metadata": {},
   "source": [
    "---"
   ]
  },
  {
   "cell_type": "code",
   "execution_count": 8,
   "id": "130891c9",
   "metadata": {},
   "outputs": [
    {
     "data": {
      "text/html": [
       "<script>\n",
       "code_show=true; \n",
       "function code_toggle() {\n",
       " if (code_show){\n",
       " $('div.input').hide();\n",
       " } else {\n",
       " $('div.input').show();\n",
       " }\n",
       " code_show = !code_show\n",
       "} \n",
       "$( document ).ready(code_toggle);\n",
       "</script>\n",
       "<form action=\"javascript:code_toggle()\"><input type=\"submit\" value=\"Toggle code visibility (hidden by default).\"></form>"
      ],
      "text/plain": [
       "<IPython.core.display.HTML object>"
      ]
     },
     "metadata": {},
     "output_type": "display_data"
    }
   ],
   "source": [
    "a = HTML('''<script>\n",
    "code_show=true; \n",
    "function code_toggle() {\n",
    " if (code_show){\n",
    " $('div.input').hide();\n",
    " } else {\n",
    " $('div.input').show();\n",
    " }\n",
    " code_show = !code_show\n",
    "} \n",
    "$( document ).ready(code_toggle);\n",
    "</script>\n",
    "<form action=\"javascript:code_toggle()\"><input type=\"submit\" \\\n",
    "value=\"Toggle code visibility (hidden by default).\"></form>''')\n",
    "\n",
    "display(a)"
   ]
  }
 ],
 "metadata": {
  "jupytext": {
   "formats": "ipynb,md"
  },
  "kernelspec": {
   "display_name": "Python 3 (ipykernel)",
   "language": "python",
   "name": "python3"
  },
  "language_info": {
   "codemirror_mode": {
    "name": "ipython",
    "version": 3
   },
   "file_extension": ".py",
   "mimetype": "text/x-python",
   "name": "python",
   "nbconvert_exporter": "python",
   "pygments_lexer": "ipython3",
   "version": "3.12.4"
  },
  "widgets": {
   "application/vnd.jupyter.widget-state+json": {
    "state": {
     "013c1ca9056146c5b8b104f3ce645267": {
      "model_module": "@jupyter-widgets/base",
      "model_module_version": "2.0.0",
      "model_name": "LayoutModel",
      "state": {
       "width": "100px"
      }
     },
     "03ea1dcb5b7849be9bd967396f78d644": {
      "model_module": "@jupyter-widgets/base",
      "model_module_version": "2.0.0",
      "model_name": "LayoutModel",
      "state": {}
     },
     "03f8acf000c1416b82b58f4680f4405d": {
      "model_module": "@jupyter-widgets/base",
      "model_module_version": "2.0.0",
      "model_name": "LayoutModel",
      "state": {
       "align_items": "center",
       "padding": "0px 5px 0px 5px"
      }
     },
     "091708029e2740a2bccdccb53358a638": {
      "model_module": "@jupyter-widgets/base",
      "model_module_version": "2.0.0",
      "model_name": "LayoutModel",
      "state": {
       "width": "100px"
      }
     },
     "09fdebbeff334a3bb115cc91294d212c": {
      "model_module": "@jupyter-widgets/controls",
      "model_module_version": "2.0.0",
      "model_name": "BoundedFloatTextModel",
      "state": {
       "description": "Temperature",
       "layout": "IPY_MODEL_4b0c59f919aa4bfab96a4159b6748693",
       "max": 1000,
       "min": 100,
       "step": null,
       "style": "IPY_MODEL_5233fe7018ba4156a398c42e8d0de1f9",
       "tooltip": "The temperature of the reaction (K).",
       "value": 200
      }
     },
     "11364b6467924fb594be91225fa7d5bd": {
      "model_module": "@jupyter-widgets/controls",
      "model_module_version": "2.0.0",
      "model_name": "DescriptionStyleModel",
      "state": {
       "description_width": ""
      }
     },
     "114fce4949324381a159a03deafa4588": {
      "model_module": "@jupyter-widgets/controls",
      "model_module_version": "2.0.0",
      "model_name": "HTMLMathStyleModel",
      "state": {
       "description_width": "",
       "font_size": null,
       "text_color": null
      }
     },
     "1191ef563c2b40948c6c59f0950c58db": {
      "model_module": "@jupyter-widgets/base",
      "model_module_version": "2.0.0",
      "model_name": "LayoutModel",
      "state": {}
     },
     "154d33bd1e4c4c7f80032e72680fdc69": {
      "model_module": "@jupyter-widgets/controls",
      "model_module_version": "2.0.0",
      "model_name": "BoundedFloatTextModel",
      "state": {
       "description": "Frequancy factor",
       "layout": "IPY_MODEL_e370a2d56ac748bd990ea7b23128c9bf",
       "max": 50,
       "min": 1,
       "step": null,
       "style": "IPY_MODEL_6f907693744a4d1b9715c94ea14edf69",
       "tooltip": "The frequancy factor (1/c).  Must be in the range [1, 100]",
       "value": 10
      }
     },
     "159c296fcb09430495264ed2581dd2b8": {
      "model_module": "@jupyter-widgets/controls",
      "model_module_version": "2.0.0",
      "model_name": "HTMLMathModel",
      "state": {
       "layout": "IPY_MODEL_8981c99b91cf4d10af7f789a65d616df",
       "style": "IPY_MODEL_a111d234fe514d998265a9cbaf6c22db",
       "value": "The frequancy factor (1/c).  Must be in the range [1, 100]"
      }
     },
     "159c6cbb2bbb43e1b92c7dbb8383cabd": {
      "model_module": "@jupyter-widgets/controls",
      "model_module_version": "2.0.0",
      "model_name": "HTMLMathModel",
      "state": {
       "layout": "IPY_MODEL_5684da5b7a6149e9a12886bafb7351d7",
       "style": "IPY_MODEL_4011ce44129c4dd7953e9ab9a2f780c8",
       "value": "The temperature of the reaction (K)."
      }
     },
     "1abc7607d48a4cccada58a5af22f3756": {
      "model_module": "@jupyter-widgets/controls",
      "model_module_version": "2.0.0",
      "model_name": "DescriptionStyleModel",
      "state": {
       "description_width": ""
      }
     },
     "209ec790cd3943cdaebea9bcb288d9c4": {
      "model_module": "@jupyter-widgets/controls",
      "model_module_version": "2.0.0",
      "model_name": "DescriptionStyleModel",
      "state": {
       "description_width": ""
      }
     },
     "2226ebdb07c7424b8dfe9d15125e1243": {
      "model_module": "@jupyter-widgets/controls",
      "model_module_version": "2.0.0",
      "model_name": "CheckboxStyleModel",
      "state": {
       "description_width": "0px"
      }
     },
     "233bf92d05ad4a42b6d9651862fdfa96": {
      "model_module": "@jupyter-widgets/base",
      "model_module_version": "2.0.0",
      "model_name": "LayoutModel",
      "state": {
       "align_items": "center",
       "padding": "0px 5px 0px 5px"
      }
     },
     "246e62fbb8a14e5c8885c8335a85e4d4": {
      "model_module": "@jupyter-widgets/controls",
      "model_module_version": "2.0.0",
      "model_name": "CheckboxStyleModel",
      "state": {
       "description_width": "0px"
      }
     },
     "28f7c6cb261f4a65abbc357980de68a1": {
      "model_module": "@jupyter-widgets/controls",
      "model_module_version": "2.0.0",
      "model_name": "HTMLMathModel",
      "state": {
       "layout": "IPY_MODEL_ae89a88fd8c94e788dba5e252f70fe9e",
       "style": "IPY_MODEL_6ff1e251d048423688c3a4bd1d915cf4",
       "value": "The frequancy factor (1/c).  Must be in the range [1, 100]"
      }
     },
     "2f09943a8383463fa3c35696abe4f98f": {
      "model_module": "@jupyter-widgets/controls",
      "model_module_version": "2.0.0",
      "model_name": "HBoxModel",
      "state": {
       "children": [
        "IPY_MODEL_2fb82a57dcd34342a7a5b6ef8c908ed9",
        "IPY_MODEL_380222abaab5498999b78587e2c82b9e"
       ],
       "layout": "IPY_MODEL_d717572167fb4566b76f66ac9f0c8c44"
      }
     },
     "2fb82a57dcd34342a7a5b6ef8c908ed9": {
      "model_module": "@jupyter-widgets/controls",
      "model_module_version": "2.0.0",
      "model_name": "BoundedFloatTextModel",
      "state": {
       "description": "Time",
       "layout": "IPY_MODEL_9d8ab28c051f4c7999fd6854bb92de10",
       "max": 1000,
       "step": null,
       "style": "IPY_MODEL_76f045d254034082b3ba1d0a8e130d6b",
       "tooltip": "Time of the reaction (s).",
       "value": 1
      }
     },
     "380222abaab5498999b78587e2c82b9e": {
      "model_module": "@jupyter-widgets/controls",
      "model_module_version": "2.0.0",
      "model_name": "HTMLMathModel",
      "state": {
       "layout": "IPY_MODEL_88957fff4c6b4acea98778b676189314",
       "style": "IPY_MODEL_d2773d00f4c7401a9e4b49f08a392458",
       "value": "Time of the reaction (s)."
      }
     },
     "4011ce44129c4dd7953e9ab9a2f780c8": {
      "model_module": "@jupyter-widgets/controls",
      "model_module_version": "2.0.0",
      "model_name": "HTMLMathStyleModel",
      "state": {
       "description_width": "",
       "font_size": null,
       "text_color": null
      }
     },
     "41979aeba71e4f73b0d54899f11bea8a": {
      "model_module": "@jupyter-widgets/base",
      "model_module_version": "2.0.0",
      "model_name": "LayoutModel",
      "state": {}
     },
     "44009607be164bcbb72e49691c3924c7": {
      "model_module": "@jupyter-widgets/base",
      "model_module_version": "2.0.0",
      "model_name": "LayoutModel",
      "state": {
       "align_items": "center",
       "padding": "0px 5px 0px 5px"
      }
     },
     "45e798042b1b4bcbb8c88f9aed6d1587": {
      "model_module": "@jupyter-widgets/controls",
      "model_module_version": "2.0.0",
      "model_name": "CheckboxStyleModel",
      "state": {
       "description_width": "0px"
      }
     },
     "4b0c59f919aa4bfab96a4159b6748693": {
      "model_module": "@jupyter-widgets/base",
      "model_module_version": "2.0.0",
      "model_name": "LayoutModel",
      "state": {
       "width": "350px"
      }
     },
     "4d99a5bee03649ce9b31547fc6392edd": {
      "model_module": "@jupyter-widgets/controls",
      "model_module_version": "2.0.0",
      "model_name": "HBoxModel",
      "state": {
       "children": [
        "IPY_MODEL_154d33bd1e4c4c7f80032e72680fdc69",
        "IPY_MODEL_99f50b21653c4d1a8dcf35071f34e41e",
        "IPY_MODEL_159c296fcb09430495264ed2581dd2b8"
       ],
       "layout": "IPY_MODEL_d7a684b633064ed39eed4d4a28f0b091"
      }
     },
     "4ef5072f260443d989cccaf0438d2c84": {
      "model_module": "@jupyter-widgets/controls",
      "model_module_version": "2.0.0",
      "model_name": "HBoxModel",
      "state": {
       "children": [
        "IPY_MODEL_674b8b14e7ab406e9dece719c4e1d8a8",
        "IPY_MODEL_d6090de2716643caadee39b690f3e737",
        "IPY_MODEL_6d770b2e3cfb430f8774dd6f646f4151"
       ],
       "layout": "IPY_MODEL_ad715bb7406145078379d4bb637da299"
      }
     },
     "5233fe7018ba4156a398c42e8d0de1f9": {
      "model_module": "@jupyter-widgets/controls",
      "model_module_version": "2.0.0",
      "model_name": "DescriptionStyleModel",
      "state": {
       "description_width": "125px"
      }
     },
     "5684da5b7a6149e9a12886bafb7351d7": {
      "model_module": "@jupyter-widgets/base",
      "model_module_version": "2.0.0",
      "model_name": "LayoutModel",
      "state": {
       "margin": "0px 0px 0px 10px",
       "width": "350px"
      }
     },
     "588299a3134e41afac97328984a405a7": {
      "model_module": "@jupyter-widgets/controls",
      "model_module_version": "2.0.0",
      "model_name": "CheckboxStyleModel",
      "state": {
       "description_width": ""
      }
     },
     "58c6407426254e85a0a1eeedbf2cc170": {
      "model_module": "@jupyter-widgets/controls",
      "model_module_version": "2.0.0",
      "model_name": "HTMLMathModel",
      "state": {
       "layout": "IPY_MODEL_64739ceefb594a40880e2aa7cc12ec54",
       "style": "IPY_MODEL_7ae3731822544a27b67c698d26f199b3",
       "value": "Time of the reaction (s)."
      }
     },
     "5bc7adc0aef645e482ab9f3a4e9c7913": {
      "model_module": "@jupyter-widgets/base",
      "model_module_version": "2.0.0",
      "model_name": "LayoutModel",
      "state": {
       "margin": "25px 0px 100px 170px",
       "width": "200px"
      }
     },
     "5f566a2ef6184908aeb0e5df9c26c28d": {
      "model_module": "@jupyter-widgets/controls",
      "model_module_version": "2.0.0",
      "model_name": "BoundedFloatTextModel",
      "state": {
       "description": "Activation energy",
       "layout": "IPY_MODEL_7c8e940ed42649b5b6fc8df5d9b72037",
       "max": 10000,
       "min": 300,
       "step": null,
       "style": "IPY_MODEL_9564f40cad3c40feb6bd349b24f6a19f",
       "tooltip": "The activation energy of the reaction (J/mol).",
       "value": 800
      }
     },
     "645e352442ad410f9ee825e505c86a17": {
      "model_module": "@jupyter-widgets/controls",
      "model_module_version": "2.0.0",
      "model_name": "BoundedFloatTextModel",
      "state": {
       "description": "Temperature",
       "layout": "IPY_MODEL_74d0c19265b848639d77e1dc2a271fe5",
       "max": 1000,
       "min": 100,
       "step": null,
       "style": "IPY_MODEL_d2cd4d7d46ab46cf8ac74c0659bf6944",
       "tooltip": "The temperature of the reaction (K).",
       "value": 200
      }
     },
     "64739ceefb594a40880e2aa7cc12ec54": {
      "model_module": "@jupyter-widgets/base",
      "model_module_version": "2.0.0",
      "model_name": "LayoutModel",
      "state": {
       "margin": "0px 0px 0px 10px",
       "width": "350px"
      }
     },
     "66b37c0ab3574c8e91b6ba00bb92efd8": {
      "model_module": "@jupyter-widgets/controls",
      "model_module_version": "2.0.0",
      "model_name": "ButtonStyleModel",
      "state": {
       "font_family": null,
       "font_size": null,
       "font_style": null,
       "font_variant": null,
       "font_weight": null,
       "text_color": null,
       "text_decoration": null
      }
     },
     "674b8b14e7ab406e9dece719c4e1d8a8": {
      "model_module": "@jupyter-widgets/controls",
      "model_module_version": "2.0.0",
      "model_name": "BoundedFloatTextModel",
      "state": {
       "description": "Activation energy",
       "layout": "IPY_MODEL_da1eb3d761b04c63bcc76f4562a19d5b",
       "max": 10000,
       "min": 300,
       "step": null,
       "style": "IPY_MODEL_bb369a8e39524664bd7057d4d48841f7",
       "tooltip": "The activation energy of the reaction (J/mol).",
       "value": 800
      }
     },
     "697b627b0642441f8f2f578f0e76664c": {
      "model_module": "@jupyter-widgets/controls",
      "model_module_version": "2.0.0",
      "model_name": "HBoxModel",
      "state": {
       "children": [
        "IPY_MODEL_ec0c2f4024f5469fa425421cb58be8d7",
        "IPY_MODEL_f25f279f65f448b29bfb830ce87c4eb4",
        "IPY_MODEL_28f7c6cb261f4a65abbc357980de68a1"
       ],
       "layout": "IPY_MODEL_ba987a643fec4f7c84c46503cccd3c56"
      }
     },
     "6b69ed91b7f1491dbb3b869e038426ed": {
      "model_module": "@jupyter-widgets/base",
      "model_module_version": "2.0.0",
      "model_name": "LayoutModel",
      "state": {
       "width": "350px"
      }
     },
     "6be52e5de3034e97895b6667395b62a0": {
      "model_module": "@jupyter-widgets/base",
      "model_module_version": "2.0.0",
      "model_name": "LayoutModel",
      "state": {
       "margin": "25px 0px 100px 170px",
       "width": "200px"
      }
     },
     "6d770b2e3cfb430f8774dd6f646f4151": {
      "model_module": "@jupyter-widgets/controls",
      "model_module_version": "2.0.0",
      "model_name": "HTMLMathModel",
      "state": {
       "layout": "IPY_MODEL_77f05d5e0d9246bd8fd4850f687c47ab",
       "style": "IPY_MODEL_b67ffb91f4264f5286f061ac85b2392e",
       "value": "The activation energy of the reaction (J/mol)."
      }
     },
     "6f907693744a4d1b9715c94ea14edf69": {
      "model_module": "@jupyter-widgets/controls",
      "model_module_version": "2.0.0",
      "model_name": "DescriptionStyleModel",
      "state": {
       "description_width": "125px"
      }
     },
     "6ff1e251d048423688c3a4bd1d915cf4": {
      "model_module": "@jupyter-widgets/controls",
      "model_module_version": "2.0.0",
      "model_name": "HTMLMathStyleModel",
      "state": {
       "description_width": "",
       "font_size": null,
       "text_color": null
      }
     },
     "714a991b26fb4a61ace36084cff7c297": {
      "model_module": "@jupyter-widgets/controls",
      "model_module_version": "2.0.0",
      "model_name": "HTMLMathStyleModel",
      "state": {
       "description_width": "",
       "font_size": null,
       "text_color": null
      }
     },
     "73bc5596f82a431dbd5073f72f78be6b": {
      "model_module": "@jupyter-widgets/base",
      "model_module_version": "2.0.0",
      "model_name": "LayoutModel",
      "state": {
       "width": "100px"
      }
     },
     "74d0c19265b848639d77e1dc2a271fe5": {
      "model_module": "@jupyter-widgets/base",
      "model_module_version": "2.0.0",
      "model_name": "LayoutModel",
      "state": {
       "width": "350px"
      }
     },
     "76509769c90743de8a0c7362ed72101c": {
      "model_module": "@jupyter-widgets/controls",
      "model_module_version": "2.0.0",
      "model_name": "DescriptionStyleModel",
      "state": {
       "description_width": "125px"
      }
     },
     "76f045d254034082b3ba1d0a8e130d6b": {
      "model_module": "@jupyter-widgets/controls",
      "model_module_version": "2.0.0",
      "model_name": "DescriptionStyleModel",
      "state": {
       "description_width": "125px"
      }
     },
     "778b8fa204ba4380bf66d15a2e8b0c3e": {
      "model_module": "@jupyter-widgets/controls",
      "model_module_version": "2.0.0",
      "model_name": "DescriptionStyleModel",
      "state": {
       "description_width": ""
      }
     },
     "77f05d5e0d9246bd8fd4850f687c47ab": {
      "model_module": "@jupyter-widgets/base",
      "model_module_version": "2.0.0",
      "model_name": "LayoutModel",
      "state": {
       "margin": "0px 0px 0px 10px",
       "width": "350px"
      }
     },
     "77ffbce53b0e4fc785d3d8fb740ee636": {
      "model_module": "@jupyter-widgets/controls",
      "model_module_version": "2.0.0",
      "model_name": "HTMLMathModel",
      "state": {
       "layout": "IPY_MODEL_cbb772539c944c8586ad036245cedcaa",
       "style": "IPY_MODEL_714a991b26fb4a61ace36084cff7c297",
       "value": "The activation energy of the reaction (J/mol)."
      }
     },
     "79eaae16670549be9e685ae10c2e4821": {
      "model_module": "@jupyter-widgets/base",
      "model_module_version": "2.0.0",
      "model_name": "LayoutModel",
      "state": {}
     },
     "7ae3731822544a27b67c698d26f199b3": {
      "model_module": "@jupyter-widgets/controls",
      "model_module_version": "2.0.0",
      "model_name": "HTMLMathStyleModel",
      "state": {
       "description_width": "",
       "font_size": null,
       "text_color": null
      }
     },
     "7c8e940ed42649b5b6fc8df5d9b72037": {
      "model_module": "@jupyter-widgets/base",
      "model_module_version": "2.0.0",
      "model_name": "LayoutModel",
      "state": {
       "width": "350px"
      }
     },
     "84b8cb3c73ee42dcb055420e219deeae": {
      "model_module": "@jupyter-widgets/controls",
      "model_module_version": "2.0.0",
      "model_name": "CheckboxModel",
      "state": {
       "description": "Control",
       "disabled": false,
       "layout": "IPY_MODEL_e999c9b6740146c58148a17384a2efb1",
       "style": "IPY_MODEL_94a0d59f743a42cfb74526b23062ebbb",
       "value": true
      }
     },
     "88213db02bff479684e4be0d3533a4d7": {
      "model_module": "@jupyter-widgets/controls",
      "model_module_version": "2.0.0",
      "model_name": "CheckboxModel",
      "state": {
       "description": "Control",
       "disabled": false,
       "layout": "IPY_MODEL_c776eb0c4da34762b391e833cd459396",
       "style": "IPY_MODEL_246e62fbb8a14e5c8885c8335a85e4d4",
       "value": true
      }
     },
     "883c9a8ecb5a492492bc6945993ce4fa": {
      "model_module": "@jupyter-widgets/controls",
      "model_module_version": "2.0.0",
      "model_name": "ButtonModel",
      "state": {
       "button_style": "success",
       "description": "Run All.",
       "layout": "IPY_MODEL_5bc7adc0aef645e482ab9f3a4e9c7913",
       "style": "IPY_MODEL_66b37c0ab3574c8e91b6ba00bb92efd8",
       "tooltip": "Execute the model start-to-finish with the properties specified above."
      }
     },
     "88957fff4c6b4acea98778b676189314": {
      "model_module": "@jupyter-widgets/base",
      "model_module_version": "2.0.0",
      "model_name": "LayoutModel",
      "state": {
       "margin": "0px 0px 0px 10px",
       "width": "350px"
      }
     },
     "88da8950dbd84c7e8366099b5b934b86": {
      "model_module": "@jupyter-widgets/controls",
      "model_module_version": "2.0.0",
      "model_name": "DescriptionStyleModel",
      "state": {
       "description_width": ""
      }
     },
     "895bd616c3c94d1693bfe3f9e4f7c899": {
      "model_module": "@jupyter-widgets/controls",
      "model_module_version": "2.0.0",
      "model_name": "HBoxModel",
      "state": {
       "children": [
        "IPY_MODEL_09fdebbeff334a3bb115cc91294d212c",
        "IPY_MODEL_84b8cb3c73ee42dcb055420e219deeae",
        "IPY_MODEL_159c6cbb2bbb43e1b92c7dbb8383cabd"
       ],
       "layout": "IPY_MODEL_ce8b93d3d6bc4c04931f1440ec82edd9"
      }
     },
     "8981c99b91cf4d10af7f789a65d616df": {
      "model_module": "@jupyter-widgets/base",
      "model_module_version": "2.0.0",
      "model_name": "LayoutModel",
      "state": {
       "margin": "0px 0px 0px 10px",
       "width": "350px"
      }
     },
     "8985166eaee046f29d4062269d519371": {
      "model_module": "@jupyter-widgets/controls",
      "model_module_version": "2.0.0",
      "model_name": "ButtonModel",
      "state": {
       "button_style": "success",
       "description": "Run All.",
       "layout": "IPY_MODEL_6be52e5de3034e97895b6667395b62a0",
       "style": "IPY_MODEL_a5e5e2b245fe4f29aa5e281bc922aeb7",
       "tooltip": "Execute the model start-to-finish with the properties specified above."
      }
     },
     "8ca465562cb94f04ae586cae7af249f2": {
      "model_module": "@jupyter-widgets/controls",
      "model_module_version": "2.0.0",
      "model_name": "CheckboxStyleModel",
      "state": {
       "description_width": ""
      }
     },
     "8d9dbed46da64b6faf34ad2fdf0bce03": {
      "model_module": "@jupyter-widgets/controls",
      "model_module_version": "2.0.0",
      "model_name": "HBoxModel",
      "state": {
       "children": [
        "IPY_MODEL_645e352442ad410f9ee825e505c86a17",
        "IPY_MODEL_88213db02bff479684e4be0d3533a4d7",
        "IPY_MODEL_bbe214005b8c452681154b1400b0788e"
       ],
       "layout": "IPY_MODEL_44009607be164bcbb72e49691c3924c7"
      }
     },
     "91c46830c60a4419988a3d3e10870f1a": {
      "model_module": "@jupyter-widgets/controls",
      "model_module_version": "2.0.0",
      "model_name": "DescriptionStyleModel",
      "state": {
       "description_width": "125px"
      }
     },
     "94a0d59f743a42cfb74526b23062ebbb": {
      "model_module": "@jupyter-widgets/controls",
      "model_module_version": "2.0.0",
      "model_name": "CheckboxStyleModel",
      "state": {
       "description_width": "0px"
      }
     },
     "9564f40cad3c40feb6bd349b24f6a19f": {
      "model_module": "@jupyter-widgets/controls",
      "model_module_version": "2.0.0",
      "model_name": "DescriptionStyleModel",
      "state": {
       "description_width": "125px"
      }
     },
     "97720605cfce44fca0782d06f2a8dac2": {
      "model_module": "@jupyter-widgets/controls",
      "model_module_version": "2.0.0",
      "model_name": "DescriptionStyleModel",
      "state": {
       "description_width": ""
      }
     },
     "98f9aa0ebd894537b4decb2857c9eab8": {
      "model_module": "@jupyter-widgets/base",
      "model_module_version": "2.0.0",
      "model_name": "LayoutModel",
      "state": {}
     },
     "99f50b21653c4d1a8dcf35071f34e41e": {
      "model_module": "@jupyter-widgets/controls",
      "model_module_version": "2.0.0",
      "model_name": "CheckboxModel",
      "state": {
       "description": "Control",
       "disabled": false,
       "layout": "IPY_MODEL_73bc5596f82a431dbd5073f72f78be6b",
       "style": "IPY_MODEL_45e798042b1b4bcbb8c88f9aed6d1587",
       "value": false
      }
     },
     "9b3753b8f0f24cba8c93e5d052454c60": {
      "model_module": "@jupyter-widgets/base",
      "model_module_version": "2.0.0",
      "model_name": "LayoutModel",
      "state": {}
     },
     "9d8ab28c051f4c7999fd6854bb92de10": {
      "model_module": "@jupyter-widgets/base",
      "model_module_version": "2.0.0",
      "model_name": "LayoutModel",
      "state": {
       "width": "350px"
      }
     },
     "a111d234fe514d998265a9cbaf6c22db": {
      "model_module": "@jupyter-widgets/controls",
      "model_module_version": "2.0.0",
      "model_name": "HTMLMathStyleModel",
      "state": {
       "description_width": "",
       "font_size": null,
       "text_color": null
      }
     },
     "a49d4adc4c89475a8cf25a2cbe683601": {
      "model_module": "@jupyter-widgets/controls",
      "model_module_version": "2.0.0",
      "model_name": "CheckboxStyleModel",
      "state": {
       "description_width": "0px"
      }
     },
     "a5e5e2b245fe4f29aa5e281bc922aeb7": {
      "model_module": "@jupyter-widgets/controls",
      "model_module_version": "2.0.0",
      "model_name": "ButtonStyleModel",
      "state": {
       "font_family": null,
       "font_size": null,
       "font_style": null,
       "font_variant": null,
       "font_weight": null,
       "text_color": null,
       "text_decoration": null
      }
     },
     "a6264ac1c0084d0d9e3bfb150e9a9e0a": {
      "model_module": "@jupyter-widgets/base",
      "model_module_version": "2.0.0",
      "model_name": "LayoutModel",
      "state": {}
     },
     "a62972b7263e4dbbb142b359111d9a2f": {
      "model_module": "@jupyter-widgets/controls",
      "model_module_version": "2.0.0",
      "model_name": "DescriptionStyleModel",
      "state": {
       "description_width": ""
      }
     },
     "a74d38d914964773a157f0203bd3fa58": {
      "model_module": "@jupyter-widgets/base",
      "model_module_version": "2.0.0",
      "model_name": "LayoutModel",
      "state": {}
     },
     "ad715bb7406145078379d4bb637da299": {
      "model_module": "@jupyter-widgets/base",
      "model_module_version": "2.0.0",
      "model_name": "LayoutModel",
      "state": {
       "align_items": "center",
       "padding": "0px 5px 0px 5px"
      }
     },
     "ae89a88fd8c94e788dba5e252f70fe9e": {
      "model_module": "@jupyter-widgets/base",
      "model_module_version": "2.0.0",
      "model_name": "LayoutModel",
      "state": {
       "margin": "0px 0px 0px 10px",
       "width": "350px"
      }
     },
     "b2c4034f3a17460bb0d273a7a16e5dc5": {
      "model_module": "@jupyter-widgets/base",
      "model_module_version": "2.0.0",
      "model_name": "LayoutModel",
      "state": {}
     },
     "b2c5fead83a34f7ea3edc6cb4f1e0fb2": {
      "model_module": "@jupyter-widgets/controls",
      "model_module_version": "2.0.0",
      "model_name": "CheckboxStyleModel",
      "state": {
       "description_width": "0px"
      }
     },
     "b67ffb91f4264f5286f061ac85b2392e": {
      "model_module": "@jupyter-widgets/controls",
      "model_module_version": "2.0.0",
      "model_name": "HTMLMathStyleModel",
      "state": {
       "description_width": "",
       "font_size": null,
       "text_color": null
      }
     },
     "b8a76c0d55aa443e8de2008efa22dea5": {
      "model_module": "@jupyter-widgets/controls",
      "model_module_version": "2.0.0",
      "model_name": "CheckboxStyleModel",
      "state": {
       "description_width": ""
      }
     },
     "b8d325940afd4e67b0fe82fdd531c7d9": {
      "model_module": "@jupyter-widgets/base",
      "model_module_version": "2.0.0",
      "model_name": "LayoutModel",
      "state": {}
     },
     "ba614f2220814bb88b0dd0431e0a1916": {
      "model_module": "@jupyter-widgets/base",
      "model_module_version": "2.0.0",
      "model_name": "LayoutModel",
      "state": {
       "margin": "0px 0px 0px 10px",
       "width": "350px"
      }
     },
     "ba865c4f88ae433ba6005faaffb05d4e": {
      "model_module": "@jupyter-widgets/base",
      "model_module_version": "2.0.0",
      "model_name": "LayoutModel",
      "state": {}
     },
     "ba987a643fec4f7c84c46503cccd3c56": {
      "model_module": "@jupyter-widgets/base",
      "model_module_version": "2.0.0",
      "model_name": "LayoutModel",
      "state": {
       "align_items": "center",
       "padding": "0px 5px 0px 5px"
      }
     },
     "bb369a8e39524664bd7057d4d48841f7": {
      "model_module": "@jupyter-widgets/controls",
      "model_module_version": "2.0.0",
      "model_name": "DescriptionStyleModel",
      "state": {
       "description_width": "125px"
      }
     },
     "bbe214005b8c452681154b1400b0788e": {
      "model_module": "@jupyter-widgets/controls",
      "model_module_version": "2.0.0",
      "model_name": "HTMLMathModel",
      "state": {
       "layout": "IPY_MODEL_ba614f2220814bb88b0dd0431e0a1916",
       "style": "IPY_MODEL_114fce4949324381a159a03deafa4588",
       "value": "The temperature of the reaction (K)."
      }
     },
     "be5ac48c08fb4ba0aa5fbd4e67e85e72": {
      "model_module": "@jupyter-widgets/controls",
      "model_module_version": "2.0.0",
      "model_name": "HBoxModel",
      "state": {
       "children": [
        "IPY_MODEL_dd586955bcb04ce8b055431ee9cbf21c",
        "IPY_MODEL_58c6407426254e85a0a1eeedbf2cc170"
       ],
       "layout": "IPY_MODEL_03f8acf000c1416b82b58f4680f4405d"
      }
     },
     "c1fbdb595df2483783f37ce4467af569": {
      "model_module": "@jupyter-widgets/controls",
      "model_module_version": "2.0.0",
      "model_name": "HBoxModel",
      "state": {
       "children": [
        "IPY_MODEL_5f566a2ef6184908aeb0e5df9c26c28d",
        "IPY_MODEL_ef1d09ebee1045848c8bf5a75fa4881a",
        "IPY_MODEL_77ffbce53b0e4fc785d3d8fb740ee636"
       ],
       "layout": "IPY_MODEL_233bf92d05ad4a42b6d9651862fdfa96"
      }
     },
     "c776eb0c4da34762b391e833cd459396": {
      "model_module": "@jupyter-widgets/base",
      "model_module_version": "2.0.0",
      "model_name": "LayoutModel",
      "state": {
       "width": "100px"
      }
     },
     "c8e7020a5651432d89bde5be8226f28b": {
      "model_module": "@jupyter-widgets/base",
      "model_module_version": "2.0.0",
      "model_name": "LayoutModel",
      "state": {}
     },
     "c8ebbbc743c54703999f0b7412213ca0": {
      "model_module": "@jupyter-widgets/base",
      "model_module_version": "2.0.0",
      "model_name": "LayoutModel",
      "state": {}
     },
     "c8f30ccbf7704b2987a523763f51d25a": {
      "model_module": "@jupyter-widgets/controls",
      "model_module_version": "2.0.0",
      "model_name": "CheckboxStyleModel",
      "state": {
       "description_width": ""
      }
     },
     "cbb772539c944c8586ad036245cedcaa": {
      "model_module": "@jupyter-widgets/base",
      "model_module_version": "2.0.0",
      "model_name": "LayoutModel",
      "state": {
       "margin": "0px 0px 0px 10px",
       "width": "350px"
      }
     },
     "cd29bbf4fd6f4045a8219cf9f235b4f3": {
      "model_module": "@jupyter-widgets/base",
      "model_module_version": "2.0.0",
      "model_name": "LayoutModel",
      "state": {
       "width": "100px"
      }
     },
     "ce8b93d3d6bc4c04931f1440ec82edd9": {
      "model_module": "@jupyter-widgets/base",
      "model_module_version": "2.0.0",
      "model_name": "LayoutModel",
      "state": {
       "align_items": "center",
       "padding": "0px 5px 0px 5px"
      }
     },
     "d02258e788af4f4e99bfb34c681b9298": {
      "model_module": "@jupyter-widgets/controls",
      "model_module_version": "2.0.0",
      "model_name": "DescriptionStyleModel",
      "state": {
       "description_width": ""
      }
     },
     "d2773d00f4c7401a9e4b49f08a392458": {
      "model_module": "@jupyter-widgets/controls",
      "model_module_version": "2.0.0",
      "model_name": "HTMLMathStyleModel",
      "state": {
       "description_width": "",
       "font_size": null,
       "text_color": null
      }
     },
     "d2cd4d7d46ab46cf8ac74c0659bf6944": {
      "model_module": "@jupyter-widgets/controls",
      "model_module_version": "2.0.0",
      "model_name": "DescriptionStyleModel",
      "state": {
       "description_width": "125px"
      }
     },
     "d3fa3079203b4bc08d9d45143aefc628": {
      "model_module": "@jupyter-widgets/base",
      "model_module_version": "2.0.0",
      "model_name": "LayoutModel",
      "state": {
       "width": "350px"
      }
     },
     "d6090de2716643caadee39b690f3e737": {
      "model_module": "@jupyter-widgets/controls",
      "model_module_version": "2.0.0",
      "model_name": "CheckboxModel",
      "state": {
       "description": "Control",
       "disabled": false,
       "layout": "IPY_MODEL_091708029e2740a2bccdccb53358a638",
       "style": "IPY_MODEL_b2c5fead83a34f7ea3edc6cb4f1e0fb2",
       "value": true
      }
     },
     "d717572167fb4566b76f66ac9f0c8c44": {
      "model_module": "@jupyter-widgets/base",
      "model_module_version": "2.0.0",
      "model_name": "LayoutModel",
      "state": {
       "align_items": "center",
       "padding": "0px 5px 0px 5px"
      }
     },
     "d7a684b633064ed39eed4d4a28f0b091": {
      "model_module": "@jupyter-widgets/base",
      "model_module_version": "2.0.0",
      "model_name": "LayoutModel",
      "state": {
       "align_items": "center",
       "padding": "0px 5px 0px 5px"
      }
     },
     "da1eb3d761b04c63bcc76f4562a19d5b": {
      "model_module": "@jupyter-widgets/base",
      "model_module_version": "2.0.0",
      "model_name": "LayoutModel",
      "state": {
       "width": "350px"
      }
     },
     "dd586955bcb04ce8b055431ee9cbf21c": {
      "model_module": "@jupyter-widgets/controls",
      "model_module_version": "2.0.0",
      "model_name": "BoundedFloatTextModel",
      "state": {
       "description": "Time",
       "layout": "IPY_MODEL_6b69ed91b7f1491dbb3b869e038426ed",
       "max": 1000,
       "step": null,
       "style": "IPY_MODEL_91c46830c60a4419988a3d3e10870f1a",
       "tooltip": "Time of the reaction (s).",
       "value": 1
      }
     },
     "e370a2d56ac748bd990ea7b23128c9bf": {
      "model_module": "@jupyter-widgets/base",
      "model_module_version": "2.0.0",
      "model_name": "LayoutModel",
      "state": {
       "width": "350px"
      }
     },
     "e999c9b6740146c58148a17384a2efb1": {
      "model_module": "@jupyter-widgets/base",
      "model_module_version": "2.0.0",
      "model_name": "LayoutModel",
      "state": {
       "width": "100px"
      }
     },
     "ec0c2f4024f5469fa425421cb58be8d7": {
      "model_module": "@jupyter-widgets/controls",
      "model_module_version": "2.0.0",
      "model_name": "BoundedFloatTextModel",
      "state": {
       "description": "Frequancy factor",
       "layout": "IPY_MODEL_d3fa3079203b4bc08d9d45143aefc628",
       "max": 50,
       "min": 1,
       "step": null,
       "style": "IPY_MODEL_76509769c90743de8a0c7362ed72101c",
       "tooltip": "The frequancy factor (1/c).  Must be in the range [1, 100]",
       "value": 10
      }
     },
     "ed7806eb8202417cb1bf811afca0146c": {
      "model_module": "@jupyter-widgets/controls",
      "model_module_version": "2.0.0",
      "model_name": "CheckboxStyleModel",
      "state": {
       "description_width": ""
      }
     },
     "ef1d09ebee1045848c8bf5a75fa4881a": {
      "model_module": "@jupyter-widgets/controls",
      "model_module_version": "2.0.0",
      "model_name": "CheckboxModel",
      "state": {
       "description": "Control",
       "disabled": false,
       "layout": "IPY_MODEL_013c1ca9056146c5b8b104f3ce645267",
       "style": "IPY_MODEL_a49d4adc4c89475a8cf25a2cbe683601",
       "value": true
      }
     },
     "f25f279f65f448b29bfb830ce87c4eb4": {
      "model_module": "@jupyter-widgets/controls",
      "model_module_version": "2.0.0",
      "model_name": "CheckboxModel",
      "state": {
       "description": "Control",
       "disabled": false,
       "layout": "IPY_MODEL_cd29bbf4fd6f4045a8219cf9f235b4f3",
       "style": "IPY_MODEL_2226ebdb07c7424b8dfe9d15125e1243",
       "value": false
      }
     },
     "f399c12f18c04301a16cbe31601ca8a7": {
      "model_module": "@jupyter-widgets/base",
      "model_module_version": "2.0.0",
      "model_name": "LayoutModel",
      "state": {}
     },
     "fff8f334ba254bd4a2e4da52287995b6": {
      "model_module": "@jupyter-widgets/controls",
      "model_module_version": "2.0.0",
      "model_name": "CheckboxStyleModel",
      "state": {
       "description_width": ""
      }
     }
    },
    "version_major": 2,
    "version_minor": 0
   }
  }
 },
 "nbformat": 4,
 "nbformat_minor": 5
}
