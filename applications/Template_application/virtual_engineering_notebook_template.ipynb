{
 "cells": [
  {
   "cell_type": "markdown",
   "id": "d2f02adc",
   "metadata": {},
   "source": [
    "# Building a Basic VE Workflow\n",
    "\n",
    "The first step is to select \"Cell\" > \"Run All\" from the toolbar.  This will initialize all the widgets and allow you to interact with the unit operation options via the GUI controls."
   ]
  },
  {
   "cell_type": "code",
   "execution_count": 1,
   "id": "97091f4a",
   "metadata": {},
   "outputs": [
    {
     "name": "stdout",
     "output_type": "stream",
     "text": [
      "It looks like you're running this notebook on a laptop.\n",
      "Operations requiring HPC resources will be disabled.\n"
     ]
    }
   ],
   "source": [
    "from ipywidgets import *\n",
    "from IPython.display import HTML, clear_output\n",
    "\n",
    "from virteng.WidgetFunctions import WidgetCollection, OptimizationWidget\n",
    "from virteng.OptimizationFunctions import Optimization\n",
    "from virteng.Utilities import get_host_computer\n",
    "from Models_classes import make_models_list\n",
    "#================================================================\n",
    "# See if we're running on HPC or on a laptop\n",
    "hpc_run = get_host_computer()\n",
    "#================================================================"
   ]
  },
  {
   "cell_type": "markdown",
   "id": "1132ecc0",
   "metadata": {},
   "source": [
    "---\n",
    "### 1. Model 1  (Arrhenius equation)\n",
    "\n",
    "Set the options for the Model 1 below."
   ]
  },
  {
   "cell_type": "code",
   "execution_count": 2,
   "id": "5ed9ca03",
   "metadata": {},
   "outputs": [
    {
     "data": {
      "application/vnd.jupyter.widget-view+json": {
       "model_id": "44fa3b5efe9645408683b2d1c6e8fa17",
       "version_major": 2,
       "version_minor": 0
      },
      "text/plain": [
       "HBox(children=(BoundedFloatText(value=10.0, description='Frequancy factor', layout=Layout(width='350px'), max=…"
      ]
     },
     "metadata": {},
     "output_type": "display_data"
    },
    {
     "data": {
      "application/vnd.jupyter.widget-view+json": {
       "model_id": "c4e45169e66d44c18c03e938a7c843b3",
       "version_major": 2,
       "version_minor": 0
      },
      "text/plain": [
       "HBox(children=(BoundedFloatText(value=800.0, description='Activation energy', layout=Layout(width='350px'), ma…"
      ]
     },
     "metadata": {},
     "output_type": "display_data"
    },
    {
     "data": {
      "application/vnd.jupyter.widget-view+json": {
       "model_id": "2c16f1a3012c4d41961650e87796892a",
       "version_major": 2,
       "version_minor": 0
      },
      "text/plain": [
       "HBox(children=(BoundedFloatText(value=200.0, description='Temperature', layout=Layout(width='350px'), max=1000…"
      ]
     },
     "metadata": {},
     "output_type": "display_data"
    }
   ],
   "source": [
    "#================================================================\n",
    "# Create the collection of widgets for model1 options\n",
    "model1_options = WidgetCollection()\n",
    "\n",
    "options = {\n",
    "    'value': 10,\n",
    "    'max': 50,\n",
    "    'min': 1,\n",
    "    'description':'Frequancy factor',\n",
    "    'tooltip':'The frequancy factor (1/c).  Must be in the range [1, 100]'\n",
    "}\n",
    "model1_options.freq_factor = OptimizationWidget('BoundedFloatText', options, controlvalue=False)\n",
    "\n",
    "options = {\n",
    "    'value': 800,\n",
    "    'max': 10000,\n",
    "    'min':300,\n",
    "    'description':'Activation energy',\n",
    "    'tooltip':'The activation energy of the reaction (J/mol).',\n",
    "}\n",
    "model1_options.act_energy = OptimizationWidget('BoundedFloatText', options, controlvalue=True)\n",
    "\n",
    "options = {\n",
    "    'value':200,\n",
    "    'max':1000,\n",
    "    'min':100,\n",
    "    'description':'Temperature',\n",
    "    'tooltip':'The temperature of the reaction (K).'\n",
    "}\n",
    "model1_options.temp = OptimizationWidget('BoundedFloatText', options, controlvalue=True)\n",
    "\n",
    "#================================================================\n",
    "# Display the widgets\n",
    "model1_options.display_all_widgets()\n",
    "#================================================================"
   ]
  },
  {
   "cell_type": "markdown",
   "id": "755788e4",
   "metadata": {},
   "source": [
    "---\n",
    "\n",
    "### 2. Model 2 (concentration equation)\n",
    "\n",
    "Set the options for the model 2.\n"
   ]
  },
  {
   "cell_type": "code",
   "execution_count": 3,
   "id": "06218c2d",
   "metadata": {},
   "outputs": [
    {
     "data": {
      "application/vnd.jupyter.widget-view+json": {
       "model_id": "fb830c04fb104b13b3d412147d5bf7ca",
       "version_major": 2,
       "version_minor": 0
      },
      "text/plain": [
       "HBox(children=(BoundedFloatText(value=1.0, description='Time', layout=Layout(width='350px'), max=1000.0, style…"
      ]
     },
     "metadata": {},
     "output_type": "display_data"
    }
   ],
   "source": [
    "#================================================================\n",
    "# Create the collection of widgets\n",
    "model2_options = WidgetCollection()\n",
    "\n",
    "model2_options.time = widgets.BoundedFloatText(\n",
    "    value = 1.0,\n",
    "    max = 1000.0,\n",
    "    min = 0.0,\n",
    "    description = 'Time',\n",
    "    tooltip = 'Time of the reaction (s).'\n",
    ")\n",
    "\n",
    "#================================================================\n",
    "# Display the widgets\n",
    "model2_options.display_all_widgets()"
   ]
  },
  {
   "cell_type": "markdown",
   "id": "10ef1117",
   "metadata": {},
   "source": [
    "---\n",
    "\n",
    "## Run Model\n",
    "\n",
    "When finished setting options for all unit operations, press the button below to run the complete model.\n"
   ]
  },
  {
   "cell_type": "code",
   "execution_count": 4,
   "id": "c6faffab",
   "metadata": {},
   "outputs": [
    {
     "data": {
      "application/vnd.jupyter.widget-view+json": {
       "model_id": "2533b2bc4f954cab961aa8357c8f4ec2",
       "version_major": 2,
       "version_minor": 0
      },
      "text/plain": [
       "Button(button_style='success', description='Run All.', layout=Layout(margin='25px 0px 100px 170px', width='200…"
      ]
     },
     "metadata": {},
     "output_type": "display_data"
    }
   ],
   "source": [
    "#================================================================\n",
    "run_button = widgets.Button(\n",
    "    description = 'Run All.',\n",
    "    tooltip = 'Execute the model start-to-finish with the properties specified above.',\n",
    "    layout =  {'width': '200px', 'margin': '25px 0px 100px 170px'}, \n",
    "    button_style = 'success'\n",
    ")\n",
    "#================================================================\n",
    "\n",
    "# run_button_output = widgets.Output()\n",
    "display(run_button)\n",
    "\n",
    "#================================================================\n",
    "# Define a function to be executed each time the run button is pressed\n",
    "def run_button_action(b):\n",
    "    clear_output()\n",
    "    display(run_button)\n",
    "    verbose = True\n",
    "    # Initialize models\n",
    "    models_list = make_models_list([model1_options, model2_options], hpc_run)\n",
    "    for model in models_list:\n",
    "        model.run(verbose=verbose)\n",
    "    \n",
    "    print(f'k = {model.ve.model1_out['k']}')\n",
    "    print(f\"Final concentration is {model.ve.model2_out['C']}\")\n",
    "run_button.on_click(run_button_action)\n",
    "#================================================================"
   ]
  },
  {
   "cell_type": "markdown",
   "id": "a9e97234",
   "metadata": {},
   "source": [
    "## Optimization example"
   ]
  },
  {
   "cell_type": "code",
   "execution_count": 5,
   "id": "987f50bb",
   "metadata": {},
   "outputs": [
    {
     "data": {
      "application/vnd.jupyter.widget-view+json": {
       "model_id": "b84291a317b3484195137e10699906f5",
       "version_major": 2,
       "version_minor": 0
      },
      "text/plain": [
       "Dropdown(description='Objective:', options=(('Model2:            C', ('model2_out', 'C')), ('Model1:          …"
      ]
     },
     "metadata": {},
     "output_type": "display_data"
    }
   ],
   "source": [
    "obj_widget = widgets.Dropdown(\n",
    "    options=[('Model2:            C',   ('model2_out', 'C')), \n",
    "             ('Model1:            k',   ('model1_out', 'k'))\n",
    "            ],\n",
    "    value=('model2_out', 'C'),\n",
    "    description='Objective:',\n",
    "    tooltip = 'Specifies the objective to use in optimization.'\n",
    ")\n",
    "\n",
    "display(obj_widget)\n"
   ]
  },
  {
   "cell_type": "code",
   "execution_count": 6,
   "id": "4d79dba8",
   "metadata": {},
   "outputs": [
    {
     "ename": "ModuleNotFoundError",
     "evalue": "No module named 'matplotlib'",
     "output_type": "error",
     "traceback": [
      "\u001b[0;31m---------------------------------------------------------------------------\u001b[0m",
      "\u001b[0;31mModuleNotFoundError\u001b[0m                       Traceback (most recent call last)",
      "Cell \u001b[0;32mIn[6], line 1\u001b[0m\n\u001b[0;32m----> 1\u001b[0m \u001b[38;5;28;01mimport\u001b[39;00m \u001b[38;5;21;01mmatplotlib\u001b[39;00m\u001b[38;5;21;01m.\u001b[39;00m\u001b[38;5;21;01mpyplot\u001b[39;00m \u001b[38;5;28;01mas\u001b[39;00m \u001b[38;5;21;01mplt\u001b[39;00m\n\u001b[1;32m      2\u001b[0m \u001b[38;5;28;01mfrom\u001b[39;00m \u001b[38;5;21;01mmatplotlib\u001b[39;00m\u001b[38;5;21;01m.\u001b[39;00m\u001b[38;5;21;01mcolors\u001b[39;00m \u001b[38;5;28;01mimport\u001b[39;00m LogNorm\n\u001b[1;32m      3\u001b[0m \u001b[38;5;28;01mimport\u001b[39;00m \u001b[38;5;21;01mos\u001b[39;00m\n",
      "\u001b[0;31mModuleNotFoundError\u001b[0m: No module named 'matplotlib'"
     ]
    }
   ],
   "source": [
    "import matplotlib.pyplot as plt\n",
    "from matplotlib.colors import LogNorm\n",
    "import os\n",
    "import numpy as np\n",
    "\n",
    "\n",
    "# Parameter sweep\n",
    "#================================================================\n",
    "sweep_button = widgets.Button(\n",
    "    description = 'Run Sweep.',\n",
    "    tooltip = 'Execute the model start-to-finish with the properties specified above.',\n",
    "    layout =  {'width': '200px', 'margin': '25px 0px 100px 170px'}, \n",
    "    button_style = 'primary'\n",
    ")\n",
    "#================================================================\n",
    "# run_button_output = widgets.Output()\n",
    "display(sweep_button)\n",
    "#================================================================\n",
    "\n",
    "# Define a function to be executed each time the run button is pressed\n",
    "def sweep_button_action(b):\n",
    "    clear_output()\n",
    "    display(sweep_button)\n",
    "    Opt = Optimization(case_folder='./', options_list=[model1_options, model2_options], obj_widjet=obj_widget, hpc_run=hpc_run)\n",
    "    Opt.parameter_grid_sweep(nn=10, results_file='sweep_params.csv')\n",
    "\n",
    "\n",
    "\n",
    "    param_sweep_fn = 'sweep_params.csv'\n",
    "    if os.path.exists(param_sweep_fn):\n",
    "        with open(param_sweep_fn, 'r') as f:\n",
    "            firstline = f.readline().split(',')\n",
    "        sweeps = np.loadtxt(param_sweep_fn, delimiter=',', skiprows=1)\n",
    "        bounds = Opt.var_real_bounds\n",
    "        extent = bounds[0][0], bounds[0][1], bounds[1][0], bounds[1][1]\n",
    "        nn = int(np.sqrt(len(sweeps)))\n",
    "        C = sweeps[:, 3].reshape(nn, nn)\n",
    "        shw = plt.imshow(C.T, extent=extent, aspect='auto', origin='lower')\n",
    "        _cs2 = plt.contour(C.T, levels=np.arange(0, 1, 0.1), extent=extent, origin='lower', colors='blue')\n",
    "        bar = plt.colorbar(shw)\n",
    "        bar.add_lines(_cs2)\n",
    "        bar.set_label(firstline[-1])\n",
    "        plt.xlabel(firstline[1])\n",
    "        plt.ylabel(firstline[2])\n",
    "    \n",
    "sweep_button.on_click(sweep_button_action)\n",
    "#==============================================================="
   ]
  },
  {
   "cell_type": "code",
   "execution_count": null,
   "id": "5d64e2a6",
   "metadata": {},
   "outputs": [
    {
     "data": {
      "application/vnd.jupyter.widget-view+json": {
       "model_id": "f3ac0a5fc6a047b280781c0ecd9aa00a",
       "version_major": 2,
       "version_minor": 0
      },
      "text/plain": [
       "Button(button_style='warning', description='Optimize.', layout=Layout(margin='25px 0px 25px 170px', width='200…"
      ]
     },
     "metadata": {},
     "output_type": "display_data"
    },
    {
     "name": "stdout",
     "output_type": "stream",
     "text": [
      "Objective \"C\" is in model2_out.\n",
      "On each iteration running n=2 models\n",
      "\n",
      "Optimizing Activation energy.\n",
      "Optimizing Temperature.\n",
      "\n",
      "Beginning Optimization\n",
      "objective scaling: 1.0\n",
      "Iter =   1: act_energy = 8.000000000e+02, temp = 2.000000000e+02, Objective = 2.068131354e-03\n",
      "Iter =   2: act_energy = 8.000001445e+02, temp = 2.000000000e+02, Objective = 2.068132465e-03\n",
      "Iter =   3: act_energy = 8.000000000e+02, temp = 2.000000134e+02, Objective = 2.068130941e-03\n",
      "Iter =   4: act_energy = 1.000000000e+04, temp = 1.000000000e+02, Objective = 9.999402073e-01\n",
      "Iter =   5: act_energy = 9.999999855e+03, temp = 1.000000000e+02, Objective = 9.999402072e-01\n",
      "Iter =   6: act_energy = 1.000000000e+04, temp = 1.000000134e+02, Objective = 9.999402072e-01\n",
      " message: Optimization terminated successfully\n",
      " success: True\n",
      "  status: 0\n",
      "     fun: -483.49937035268016\n",
      "       x: [ 1.000e+00  0.000e+00]\n",
      "     nit: 2\n",
      "     jac: [-3.373e-01  3.129e+00]\n",
      "    nfev: 6\n",
      "    njev: 2\n"
     ]
    },
    {
     "data": {
      "image/png": "[encoded data removed]",
      "text/plain": [
       "<Figure size 640x480 with 2 Axes>"
      ]
     },
     "metadata": {},
     "output_type": "display_data"
    }
   ],
   "source": [
    "opt_button = widgets.Button(\n",
    "    description = 'Optimize.',\n",
    "    tooltip = 'Optimize for OUR using the conditions above as an initial guess.',\n",
    "    layout =  {'width': '200px', 'margin': '25px 0px 25px 170px'}, \n",
    "    button_style = 'warning'\n",
    ")\n",
    "#================================================================\n",
    "\n",
    "display(opt_button)\n",
    "\n",
    "#================================================================\n",
    "# Define a function to be executed each time the run button is pressed\n",
    "def opt_button_action(b):\n",
    "    clear_output()\n",
    "    display(opt_button)\n",
    "    \n",
    "    params_filename = 'virteng_params_optimization.yaml'\n",
    "    opt_results_file = 'optimization_results.csv'\n",
    "    \n",
    "    Opt = Optimization(case_folder='./', options_list=[model1_options, model2_options], obj_widjet=obj_widget, hpc_run=hpc_run)\n",
    "    \n",
    "    opt_result = Opt.scipy_minimize(Opt.objective_function, opt_results_file=opt_results_file)\n",
    "    print(opt_result)\n",
    "\n",
    "\n",
    "    param_sweep_fn = 'sweep_params.csv'\n",
    "    if os.path.exists(param_sweep_fn):\n",
    "        with open(param_sweep_fn, 'r') as f:\n",
    "            firstline = f.readline().split(',')\n",
    "        sweeps = np.loadtxt(param_sweep_fn, delimiter=',', skiprows=1)\n",
    "        bounds = Opt.var_real_bounds\n",
    "        extent = bounds[0][0], bounds[0][1], bounds[1][0], bounds[1][1]\n",
    "        nn = int(np.sqrt(len(sweeps)))\n",
    "        C = sweeps[:, 3].reshape(nn, nn)\n",
    "        \n",
    "    opt_results = np.loadtxt('optimization_results.csv', delimiter=',', skiprows=1)\n",
    "    shw = plt.imshow(C.T, extent=extent, aspect='auto', origin='lower')\n",
    "    bar = plt.colorbar(shw)\n",
    "    bar.set_label('OUR')\n",
    "    plt.xlabel(firstline[1])\n",
    "    plt.ylabel(firstline[2])\n",
    "    plt.scatter(opt_results[:, 1], opt_results[:, 2], s=50, c='k', marker='o')\n",
    "    plt.plot(opt_results[:, 1], opt_results[:, 2], color='k')\n",
    "    plt.scatter(opt_results[-1, 1], opt_results[-1, 2], s=50, c='r', marker='o')\n",
    "    \n",
    "opt_button.on_click(opt_button_action)"
   ]
  },
  {
   "cell_type": "markdown",
   "id": "f1b17bcb",
   "metadata": {},
   "source": [
    "---"
   ]
  },
  {
   "cell_type": "code",
   "execution_count": null,
   "id": "130891c9",
   "metadata": {},
   "outputs": [
    {
     "data": {
      "text/html": [
       "<script>\n",
       "code_show=true; \n",
       "function code_toggle() {\n",
       " if (code_show){\n",
       " $('div.input').hide();\n",
       " } else {\n",
       " $('div.input').show();\n",
       " }\n",
       " code_show = !code_show\n",
       "} \n",
       "$( document ).ready(code_toggle);\n",
       "</script>\n",
       "<form action=\"javascript:code_toggle()\"><input type=\"submit\" value=\"Toggle code visibility (hidden by default).\"></form>"
      ],
      "text/plain": [
       "<IPython.core.display.HTML object>"
      ]
     },
     "metadata": {},
     "output_type": "display_data"
    }
   ],
   "source": [
    "a = HTML('''<script>\n",
    "code_show=true; \n",
    "function code_toggle() {\n",
    " if (code_show){\n",
    " $('div.input').hide();\n",
    " } else {\n",
    " $('div.input').show();\n",
    " }\n",
    " code_show = !code_show\n",
    "} \n",
    "$( document ).ready(code_toggle);\n",
    "</script>\n",
    "<form action=\"javascript:code_toggle()\"><input type=\"submit\" \\\n",
    "value=\"Toggle code visibility (hidden by default).\"></form>''')\n",
    "\n",
    "display(a)"
   ]
  }
 ],
 "metadata": {
  "jupytext": {
   "formats": "ipynb,md"
  },
  "kernelspec": {
   "display_name": "Python 3 (ipykernel)",
   "language": "python",
   "name": "python3"
  },
  "language_info": {
   "codemirror_mode": {
    "name": "ipython",
    "version": 3
   },
   "file_extension": ".py",
   "mimetype": "text/x-python",
   "name": "python",
   "nbconvert_exporter": "python",
   "pygments_lexer": "ipython3",
   "version": "3.12.4"
  }
 },
 "nbformat": 4,
 "nbformat_minor": 5
}
