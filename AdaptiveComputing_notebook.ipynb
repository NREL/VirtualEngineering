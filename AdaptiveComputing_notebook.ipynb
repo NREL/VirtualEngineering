{
 "cells": [
  {
   "cell_type": "code",
   "execution_count": 1,
   "id": "774347fc",
   "metadata": {},
   "outputs": [
    {
     "name": "stdout",
     "output_type": "stream",
     "text": [
      "It looks like you're running this notebook on a laptop.\n",
      "Operations requiring HPC resources will be disabled.\n"
     ]
    }
   ],
   "source": [
    "from ipywidgets import *\n",
    "from IPython.display import HTML, clear_output\n",
    "import os\n",
    "import numpy as np\n",
    "import pandas as pd\n",
    "\n",
    "# imports from vebio modules\n",
    "from vebio.WidgetFunctions import WidgetCollection, OptimizationWidget, scv2widget_collection\n",
    "from vebio.RunFunctions import Pretreatment, Feedstock, EnzymaticHydrolysis, Bioreactor\n",
    "from vebio.OptimizationFunctions import Optimization\n",
    "\n",
    "from vebio.Utilities import get_host_computer\n",
    "hpc_run = get_host_computer()"
   ]
  },
  {
   "cell_type": "markdown",
   "id": "c3320a1f",
   "metadata": {},
   "source": [
    "## setup starting widgets for adptive computing "
   ]
  },
  {
   "cell_type": "code",
   "execution_count": 15,
   "id": "7e7e86cb",
   "metadata": {},
   "outputs": [],
   "source": [
    "fs_options = scv2widget_collection(\"feedstock_params.csv\")\n",
    "pt_options = scv2widget_collection(\"pretreatment_params.csv\")\n",
    "eh_options = scv2widget_collection(\"enzymatic_hydrolysis_params.csv\")\n",
    "br_options = scv2widget_collection(\"bioreactor_params.csv\")"
   ]
  },
  {
   "cell_type": "code",
   "execution_count": 13,
   "id": "f499b127",
   "metadata": {},
   "outputs": [],
   "source": [
    "obj_widget = widgets.Dropdown(\n",
    "    options=[('Biorector:            OUR',   ('br_out', 'our'))],value=('br_out', 'our'))"
   ]
  },
  {
   "cell_type": "markdown",
   "id": "5dcbe2f2",
   "metadata": {},
   "source": [
    "## Setup optimization class"
   ]
  },
  {
   "cell_type": "code",
   "execution_count": 14,
   "id": "d73e5656",
   "metadata": {},
   "outputs": [
    {
     "name": "stdout",
     "output_type": "stream",
     "text": [
      "Objective \"our\" is in br_out.\n",
      "On each iteration running n=3 models\n",
      "\n",
      "Initializing Pretreatment Model\n",
      "Initializing Enzymatic Hydrolysis Model\n",
      "Initializing Bioreactor Model\n",
      "Optimizing Acid Loading.\n",
      "Optimizing Enzymatic Load.\n"
     ]
    }
   ],
   "source": [
    "Opt = Optimization(fs_options, pt_options, eh_options, br_options, obj_widget, hpc_run)"
   ]
  },
  {
   "cell_type": "code",
   "execution_count": null,
   "id": "550f1353",
   "metadata": {},
   "outputs": [],
   "source": [
    "def lf_eh_simulation(x):\n",
    "    Opt.EH_model.model_type = 'CFD Surrogate'\n",
    "    return Opt.objective_function(x)\n",
    "\n",
    "def hf_eh_simulation(x):\n",
    "    Opt.EH_model.model_type = 'CFD Simulation'\n",
    "    return Opt.objective_function(x)\n",
    "\n",
    "def lf_br_simulation(x):\n",
    "    Opt.BR_model.model_type = 'CFD Surrogate'\n",
    "    return Opt.objective_function(x)\n",
    "\n",
    "def hf_br_simulation(x):\n",
    "    Opt.BR_model.model_type = 'CFD Simulation'\n",
    "    return Opt.objective_function(x)"
   ]
  },
  {
   "cell_type": "code",
   "execution_count": null,
   "id": "caff1401",
   "metadata": {},
   "outputs": [],
   "source": [
    "# def ve(x_input): \n",
    "\n",
    "#     print('inputs = ' + str(x_input) )\n",
    "\n",
    "#     # update run function\n",
    "    \n",
    "#     ve_params = yaml_to_dict(params_filename)\n",
    "#     #xG0 = ve_params['pretreatment_output']['X_G']\n",
    "#     #xX0 = ve_params['pretreatment_output']['X_X']\n",
    "#     our = ve_params['bioreactor_output']['our']\n",
    "#     #stats = [xG0, xX0] # If this file is read after pretreatment, these are pretreatment outputs and EH inputs (hence the zero)\n",
    "#     #print(stats)\n",
    "#     print('y = ' + str(-our))\n",
    "#     os.chdir(prev_dir)\n",
    "#     #print('Changed working directory back to: '),\n",
    "#     #print(os.getcwd())\n",
    "#     #return stats \n",
    "#     return -our # return negative so that it AC maximizes\n",
    "    \n",
    "# ### test code\n",
    "# if __name__ == \"__main__\":\n",
    "#     ve([ 0.263, 0.4, 0.8, 0.0001, 150, 0.745, 30.0, 0.05 ])\n"
   ]
  }
 ],
 "metadata": {
  "kernelspec": {
   "display_name": "Python 3 (ipykernel)",
   "language": "python",
   "name": "python3"
  },
  "language_info": {
   "codemirror_mode": {
    "name": "ipython",
    "version": 3
   },
   "file_extension": ".py",
   "mimetype": "text/x-python",
   "name": "python",
   "nbconvert_exporter": "python",
   "pygments_lexer": "ipython3",
   "version": "3.10.10"
  }
 },
 "nbformat": 4,
 "nbformat_minor": 5
}
