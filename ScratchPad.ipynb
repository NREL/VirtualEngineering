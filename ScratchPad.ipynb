{
 "cells": [
  {
   "cell_type": "code",
   "execution_count": 38,
   "metadata": {},
   "outputs": [
    {
     "name": "stdout",
     "output_type": "stream",
     "text": [
      "Hello\n",
      "Input Number = 3.141592653589793\n",
      "Double Input Number = 6.283185307179586\n",
      "Script waiting 5 seconds...\n",
      "Script waiting 4 seconds...\n",
      "Script waiting 3 seconds...\n",
      "Script waiting 2 seconds...\n",
      "Script waiting 1 seconds...\n",
      "Script finished!\n",
      "Notebook Finished\n"
     ]
    }
   ],
   "source": [
    "import matplotlib.pyplot as plt\n",
    "import numpy as np\n",
    "\n",
    "a = np.pi\n",
    "\n",
    "!python helloWorld.py \"$a\"\n",
    "\n",
    "print('Notebook Finished')"
   ]
  },
  {
   "cell_type": "code",
   "execution_count": null,
   "metadata": {},
   "outputs": [],
   "source": []
  }
 ],
 "metadata": {
  "kernelspec": {
   "display_name": "Python 3",
   "language": "python",
   "name": "python3"
  },
  "language_info": {
   "codemirror_mode": {
    "name": "ipython",
    "version": 3
   },
   "file_extension": ".py",
   "mimetype": "text/x-python",
   "name": "python",
   "nbconvert_exporter": "python",
   "pygments_lexer": "ipython3",
   "version": "3.7.5"
  }
 },
 "nbformat": 4,
 "nbformat_minor": 2
}
